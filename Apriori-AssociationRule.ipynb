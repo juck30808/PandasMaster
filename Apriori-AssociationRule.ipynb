{
 "cells": [
  {
   "cell_type": "markdown",
   "id": "93452688",
   "metadata": {},
   "source": [
    "## 購物籃分析(Basket Analysis)，也稱為關聯分析(Affinity Analysis or Association Rule)\n",
    "\n",
    "## WHY\n",
    "- 洗滌劑要放在哪裡，可以賣得最好?\n",
    "- 如果顧客同時買了洗滌劑及果汁，他們是否會再買窗戶清潔劑?\n",
    "- 蘇打水與香蕉是否會同時購買? 蘇打水品牌是否有影響?\n",
    "- 鄰近的商品特性是否會影響顧客的採買內容?\n",
    "\n",
    "## What\n",
    "- 支援(Support)：購買X的發票個數 / 總發票數\n",
    "- 信心(Confidence)：同時購買X及Y的發票個數 / 購買X的發票個數，亦即條件機率P(Y|X)，購買X的顧客有多少也買了Y\n",
    "- 增益(Lift)：P(X ∩ Y) / (P(X) * P(Y))，若值接近1表示X、Y互相獨立，愈高表示關聯性愈強。"
   ]
  },
  {
   "cell_type": "markdown",
   "id": "df7ccf1d",
   "metadata": {},
   "source": [
    "## 假設有 100 位顧客\n",
    "- 其中10人買了牛奶\n",
    "- 其中 8人買了黃油\n",
    "- 其中 6人同時買了它們。\n",
    "\n",
    "\n",
    "【買牛奶 => 買黃油】\n",
    "- support    = P(牛奶 & 黃油) / 總數        = 6/100 = 0.06\n",
    "- confidence = support / P(黃油)           = (6/100) / (8/100) = 0.75\n",
    "- lift       = support / P(黃油) / P(牛奶)  = (6/100) / (8/100) / (10/100) = 7.5\n",
    "\n",
    "可簡化\n",
    "- S= P(牛奶 & 黃油) / 總數\n",
    "- C= S/ P(黃油)\n",
    "- L= C/ P(牛奶)\n"
   ]
  },
  {
   "cell_type": "markdown",
   "id": "93b04486",
   "metadata": {},
   "source": [
    "## 以下為 5 個購物籃\n",
    "- 第1個購物籃 - A,B,C,●,●\n",
    "- 第2個購物籃 - A,●,C,D,●\n",
    "- 第3個購物籃 - ●,B,C,D,●\n",
    "- 第4個購物籃 - A,●,●,D,E\n",
    "- 第5個購物籃 - ●,B,C,●,E\n",
    "\n",
    "【買了Ａ=> 買了D】\n",
    "- S= 2/5 = 0.04\n",
    "- C= 2/5 / (3/5) = 2/3\n",
    "- L= 2/3 / (3/5) = 10/9 "
   ]
  },
  {
   "cell_type": "code",
   "execution_count": null,
   "id": "455e0951",
   "metadata": {},
   "outputs": [],
   "source": []
  }
 ],
 "metadata": {
  "kernelspec": {
   "display_name": "Python 3 (ipykernel)",
   "language": "python",
   "name": "python3"
  },
  "language_info": {
   "codemirror_mode": {
    "name": "ipython",
    "version": 3
   },
   "file_extension": ".py",
   "mimetype": "text/x-python",
   "name": "python",
   "nbconvert_exporter": "python",
   "pygments_lexer": "ipython3",
   "version": "3.9.7"
  }
 },
 "nbformat": 4,
 "nbformat_minor": 5
}
