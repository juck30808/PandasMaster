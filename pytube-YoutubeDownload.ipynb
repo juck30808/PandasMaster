{
 "cells": [
  {
   "cell_type": "code",
   "execution_count": 1,
   "id": "5ae78b01",
   "metadata": {},
   "outputs": [
    {
     "name": "stdout",
     "output_type": "stream",
     "text": [
      "Collecting pytube\n",
      "  Downloading pytube-15.0.0-py3-none-any.whl (57 kB)\n",
      "                                              0.0/57.6 kB ? eta -:--:--\n",
      "     ---------------------------            41.0/57.6 kB 991.0 kB/s eta 0:00:01\n",
      "     -------------------------------------- 57.6/57.6 kB 607.1 kB/s eta 0:00:00\n",
      "Installing collected packages: pytube\n",
      "Successfully installed pytube-15.0.0\n"
     ]
    }
   ],
   "source": [
    "!pip install pytube"
   ]
  },
  {
   "cell_type": "code",
   "execution_count": 2,
   "id": "0295bc57",
   "metadata": {},
   "outputs": [
    {
     "name": "stdin",
     "output_type": "stream",
     "text": [
      "     1-Youtube Video Info\n",
      "     2-Download Video\n",
      "     3-Download Audio\n",
      "     4-Exit\n",
      " 4\n"
     ]
    },
    {
     "name": "stdout",
     "output_type": "stream",
     "text": [
      "Exit.\n"
     ]
    }
   ],
   "source": [
    "from pytube import YouTube\n",
    "import time\n",
    "\n",
    "def show_info():\n",
    "    url = YouTube(input(\"Link Your Youtube:\"))\n",
    "    lastmin = url.length/60\n",
    "    print(\"-\"*45)\n",
    "    print(\"Title:\",url.title)\n",
    "    print(\"Owner:\",url.author)\n",
    "    print(\"Image:\",url.thumbnail_url)\n",
    "    print(\"Views:\",url.views)\n",
    "    print(\"Length:\",lastmin,\"min\")\n",
    "    print(\"-\"*45)\n",
    "\n",
    "\n",
    "def video_download():\n",
    "    url = YouTube(input(\"Link Your Youtube:\"))\n",
    "    lastmin = url.length/60\n",
    "    link = url.streams.filter(progressive=\"True\").first()\n",
    "    link.download()\n",
    "    print(\"-\"*45)\n",
    "    print(\"Title:\",url.title)\n",
    "    print(\"Owner:\",url.author)\n",
    "    print(\"views:\",url.views)\n",
    "    print(\"Length:\",lastmin,\"min\")\n",
    "    print(\"-\"*45)\n",
    "\n",
    "\n",
    "def audio_download():\n",
    "    url = YouTube(input(\"Link Your Youtube:\"))\n",
    "    lastmin = url.length/60\n",
    "    link = url.streams.filter(mime_type=\"audio/mp4\").first()\n",
    "    link.download()\n",
    "    print(\"-\"*45)\n",
    "    print(\"Ses Title:\",url.title)\n",
    "    print(\"Ses Owner:\",url.author)\n",
    "    print(\"views:\",url.views)\n",
    "    print(\"Length:\",lastmin,\"min\")\n",
    "    print(\"-\"*45)\n",
    "\n",
    "while True:\n",
    "    sec = input(\"\\\n",
    "     1-Youtube Video Info\\n \\\n",
    "    2-Download Video\\n \\\n",
    "    3-Download Audio\\n \\\n",
    "    4-Exit\\n\")\n",
    "    if sec == \"1\":\n",
    "        show_info()\n",
    "    elif sec == \"2\":\n",
    "        video_download()\n",
    "    elif sec == \"3\":\n",
    "        audio_download()\n",
    "    else:\n",
    "        print(\"Exit.\") \n",
    "        break     "
   ]
  },
  {
   "cell_type": "code",
   "execution_count": null,
   "id": "795ebb79",
   "metadata": {},
   "outputs": [],
   "source": []
  }
 ],
 "metadata": {
  "kernelspec": {
   "display_name": "Python 3 (ipykernel)",
   "language": "python",
   "name": "python3"
  },
  "language_info": {
   "codemirror_mode": {
    "name": "ipython",
    "version": 3
   },
   "file_extension": ".py",
   "mimetype": "text/x-python",
   "name": "python",
   "nbconvert_exporter": "python",
   "pygments_lexer": "ipython3",
   "version": "3.11.3"
  }
 },
 "nbformat": 4,
 "nbformat_minor": 5
}
