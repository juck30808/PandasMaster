{
 "cells": [
  {
   "cell_type": "code",
   "execution_count": 2,
   "id": "8d034495",
   "metadata": {},
   "outputs": [
    {
     "name": "stdout",
     "output_type": "stream",
     "text": [
      "Collecting PyPDF3\n",
      "  Downloading PyPDF3-1.0.6.tar.gz (294 kB)\n",
      "                                              0.0/294.8 kB ? eta -:--:--\n",
      "     ----                                    30.7/294.8 kB 1.4 MB/s eta 0:00:01\n",
      "     --------                              71.7/294.8 kB 660.6 kB/s eta 0:00:01\n",
      "     -------------                        112.6/294.8 kB 939.4 kB/s eta 0:00:01\n",
      "     -----------------                    143.4/294.8 kB 950.9 kB/s eta 0:00:01\n",
      "     -----------------------              194.6/294.8 kB 787.7 kB/s eta 0:00:01\n",
      "     -------------------------------------- 294.8/294.8 kB 1.2 MB/s eta 0:00:00\n",
      "  Preparing metadata (setup.py): started\n",
      "  Preparing metadata (setup.py): finished with status 'done'\n",
      "Requirement already satisfied: tqdm in c:\\users\\cti110016\\appdata\\local\\anaconda3\\lib\\site-packages (from PyPDF3) (4.65.0)\n",
      "Requirement already satisfied: colorama in c:\\users\\cti110016\\appdata\\local\\anaconda3\\lib\\site-packages (from tqdm->PyPDF3) (0.4.6)\n",
      "Building wheels for collected packages: PyPDF3\n",
      "  Building wheel for PyPDF3 (setup.py): started\n",
      "  Building wheel for PyPDF3 (setup.py): finished with status 'done'\n",
      "  Created wheel for PyPDF3: filename=PyPDF3-1.0.6-py3-none-any.whl size=62877 sha256=063d34293ffdc09c65ebec194b20924daa23b5a994bd9a78f6f4d227ea4a76b2\n",
      "  Stored in directory: c:\\users\\cti110016\\appdata\\local\\pip\\cache\\wheels\\6e\\e6\\16\\63721e7963d1c212c008c00c0235bb42005ad646e24eef5cd4\n",
      "Successfully built PyPDF3\n",
      "Installing collected packages: PyPDF3\n",
      "Successfully installed PyPDF3-1.0.6\n"
     ]
    }
   ],
   "source": [
    "!pip install PyPDF3"
   ]
  },
  {
   "cell_type": "code",
   "execution_count": 3,
   "id": "69fd61fc",
   "metadata": {},
   "outputs": [
    {
     "name": "stdout",
     "output_type": "stream",
     "text": [
      "Page count: 14\n",
      "{'/Author': 'Rec User', '/CreationDate': \"D:20211025194929-03'00'\", '/ModDate': \"D:20211025194929-03'00'\", '/Producer': 'Microsoft: Print To PDF', '/Title': 'PythonPdf.rtf'}\n",
      "Item:  Author  =>  Value: Rec User\n",
      "Item:  CreationDate  =>  Value: D:20211025194929-03'00'\n",
      "Item:  ModDate  =>  Value: D:20211025194929-03'00'\n",
      "Item:  Producer  =>  Value: Microsoft: Print To PDF\n",
      "Item:  Title  =>  Value: PythonPdf.rtf\n",
      "--------------\n",
      "Author: Rec User\n",
      "Producer: Microsoft: Print To PDF\n"
     ]
    }
   ],
   "source": [
    "import PyPDF3 as MyPdf\n",
    "\n",
    "MyPdfFile=open(\"data/MyPDF.pdf\",\"rb\")\n",
    "pdf_reader=MyPdf.PdfFileReader(MyPdfFile,strict=False)\n",
    "print(\"Page count:\",pdf_reader.getNumPages())\n",
    "\n",
    "doc_info=pdf_reader.getDocumentInfo()\n",
    "print(doc_info)\n",
    "\n",
    "for info_item in doc_info:\n",
    "    #print(\"Item: \",info_item)\n",
    "    item_val=doc_info[str(info_item)]\n",
    "    print(\"Item: \",str(info_item).removeprefix(\"/\"),\" => \", \"Value:\",item_val)\n",
    "\n",
    "print(\"--------------\")\n",
    "print(\"Author:\",doc_info[\"/Author\"])\n",
    "print(\"Producer:\",doc_info[\"/Producer\"])\n",
    "MyPdfFile.close()"
   ]
  },
  {
   "cell_type": "markdown",
   "id": "a75dd74f",
   "metadata": {},
   "source": [
    "## MergingPdf"
   ]
  },
  {
   "cell_type": "code",
   "execution_count": 6,
   "id": "d55d2cc0",
   "metadata": {},
   "outputs": [],
   "source": [
    "import PyPDF3 as MyPdf\n",
    "\n",
    "PdfMerger =MyPdf.PdfFileMerger(strict=False)\n",
    "PdfMerger.append(\"data/MyPDF.pdf\")\n",
    "PdfMerger.append(\"data/MyFile2.pdf\")\n",
    "\n",
    "# ----- write the combined pdf to output pdf file ------\n",
    "MergedPdfFile=open(\"PDF_Merged.pdf\",\"wb\")\n",
    "PdfMerger.write(MergedPdfFile)\n",
    "\n",
    "PdfMerger.close()\n",
    "MergedPdfFile.close()"
   ]
  },
  {
   "cell_type": "markdown",
   "id": "f4ad1681",
   "metadata": {},
   "source": [
    "## ProtectingPdf"
   ]
  },
  {
   "cell_type": "code",
   "execution_count": 7,
   "id": "29c3f4ea",
   "metadata": {},
   "outputs": [],
   "source": [
    "import PyPDF3 as MyPdf\n",
    "\n",
    "MyPdfFile=open(\"data/MyPDF.pdf\",\"rb\")\n",
    "pdf_reader=MyPdf.PdfFileReader(MyPdfFile,strict=False)\n",
    "\n",
    "# ---- create a pdf writer for new pdf file ---\n",
    "PdfWriter = MyPdf.PdfFileWriter()\n",
    "\n",
    "#----- Copy source Pdf to Pdf writer -------\n",
    "for page_index in range(pdf_reader.getNumPages()):\n",
    "     PdfWriter.addPage(pdf_reader.getPage(page_index))\n",
    "PdfWriter.encrypt(user_pwd=\"\", owner_pwd=None,use_128bit=True,allow_printing=True,allow_commenting=False)\n",
    "\n",
    "#------------Save Encrypted file ---------------\n",
    "output_pdf_file= open(\"data/MyPdf_Locked.pdf\", 'wb')\n",
    "PdfWriter.write(output_pdf_file)\n",
    "#-----------------------\n",
    "output_pdf_file.close()\n",
    "MyPdfFile.close()"
   ]
  },
  {
   "cell_type": "markdown",
   "id": "5c9f3fda",
   "metadata": {},
   "source": [
    "## RotatingPdf"
   ]
  },
  {
   "cell_type": "code",
   "execution_count": 14,
   "id": "6e8568b1",
   "metadata": {},
   "outputs": [],
   "source": [
    "import PyPDF3 as MyPdf\n",
    "\n",
    "MyPdfFile=open(\"data/MyPDF.pdf\",\"rb\")\n",
    "pdf_reader=MyPdf.PdfFileReader(MyPdfFile,strict=False)\n",
    "MyWriter=MyPdf.PdfFileWriter()\n",
    "page_index_list=range(pdf_reader.numPages)\n",
    "\n",
    "for page_index in page_index_list:\n",
    "    # ------ create rotated page object ----------\n",
    "    MyPage:MyPdf.pdf.PageObject=pdf_reader.getPage(page_index)#Zero based index\n",
    "    MyPage.rotateClockwise(90)#90- 180-270-360\n",
    "    MyWriter.addPage(MyPage)\n",
    "\n",
    "#-------- create new pdf file object --------\n",
    "NewPdfFile = open( \"data/MyPDF_rotated.pdf\", \"wb\")\n",
    "MyWriter.write(NewPdfFile)\n",
    "\n",
    "# ----close the original pdf file ---------\n",
    "MyPdfFile.close()\n",
    "\n",
    "# ------close the new pdf file ------------\n",
    "NewPdfFile.close()"
   ]
  },
  {
   "cell_type": "markdown",
   "id": "695d74d1",
   "metadata": {},
   "source": [
    "## SplittedAllPdf"
   ]
  },
  {
   "cell_type": "code",
   "execution_count": 15,
   "id": "84c38da9",
   "metadata": {},
   "outputs": [],
   "source": [
    "import PyPDF3 as MyPdf\n",
    "\n",
    "MyPdfFile=open(\"data/MyPDF.pdf\",\"rb\")\n",
    "pdf_reader=MyPdf.PdfFileReader(MyPdfFile,strict=False)\n",
    "\n",
    "for page_index in range(pdf_reader.getNumPages()):\n",
    "    pdf_reader = MyPdf.PdfFileReader(MyPdfFile, strict=False)\n",
    "    # ---- create a pdf writer for new pdf file ---\n",
    "    PdfWriter = MyPdf.PdfFileWriter()\n",
    "    PdfWriter.addPage(pdf_reader.getPage(page_index))\n",
    "    ## PdfWriter.addPage(pdf_reader.getPage(1))\n",
    "    \n",
    "    # -------- create new pdf file object --------\n",
    "    # -------- create splitted file name ---------\n",
    "    SplittedPdfFileName = \"PDF\" + str(page_index) + \".pdf\"\n",
    "    SplitPdfFile = open(SplittedPdfFileName, \"wb\")\n",
    "    PdfWriter.write(SplitPdfFile)\n",
    "    SplitPdfFile.close()"
   ]
  },
  {
   "cell_type": "markdown",
   "id": "62ab28da",
   "metadata": {},
   "source": [
    "## WatermarkedPdf"
   ]
  },
  {
   "cell_type": "code",
   "execution_count": 17,
   "id": "cc968315",
   "metadata": {},
   "outputs": [],
   "source": [
    "import PyPDF3 as MyPdf\n",
    "\n",
    "#----------Open watermark pdf file ------------------\n",
    "watermark =  \"data/MyWmark.pdf\"\n",
    "WmPdfFile =open(watermark,\"rb\")\n",
    "\n",
    "#----------Create pdf reader file for watermark------\n",
    "WmFileReader = MyPdf.PdfFileReader(WmPdfFile,strict=False)\n",
    "WaterMarkPage = WmFileReader.getPage(0)\n",
    "\n",
    "#-----------open original pdf file & create reader--\n",
    "originalfile = \"data/MyPdf.pdf\"\n",
    "OrgPdfFile =open(originalfile,\"rb\")\n",
    "OrgPdfReader = MyPdf.PdfFileReader(OrgPdfFile,strict=False)\n",
    "\n",
    "#---------create pdf writer for out file---------\n",
    "PdfOutWriter= MyPdf.PdfFileWriter()\n",
    "for page_index in range(OrgPdfReader.getNumPages()):\n",
    "    #------ get the current page of original pdf ------\n",
    "    OrgPdfPage:MyPdf.pdf.PageObject=OrgPdfReader.getPage(page_index)\n",
    "        \n",
    "    # -------merge vm to current page of original pdf ---\n",
    "    #if page_index==2:\n",
    "        #OrgPdfPage.mergePage(WaterMarkPage)\n",
    "    OrgPdfPage.mergePage(WaterMarkPage)\n",
    "    PdfOutWriter.addPage(OrgPdfPage)\n",
    "\n",
    "#----------save watermarked file -------------\n",
    "watermarkedfile =  \"MyPdfWatermarked.pdf\"\n",
    "OutPdfFile=open(watermarkedfile, 'wb')\n",
    "PdfOutWriter.write(OutPdfFile)\n",
    "\n",
    "WmPdfFile.close()\n",
    "OrgPdfFile.close()\n",
    "OutPdfFile.close()"
   ]
  }
 ],
 "metadata": {
  "kernelspec": {
   "display_name": "Python 3 (ipykernel)",
   "language": "python",
   "name": "python3"
  },
  "language_info": {
   "codemirror_mode": {
    "name": "ipython",
    "version": 3
   },
   "file_extension": ".py",
   "mimetype": "text/x-python",
   "name": "python",
   "nbconvert_exporter": "python",
   "pygments_lexer": "ipython3",
   "version": "3.11.3"
  }
 },
 "nbformat": 4,
 "nbformat_minor": 5
}
