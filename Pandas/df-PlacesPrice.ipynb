{
 "cells": [
  {
   "cell_type": "code",
   "execution_count": 1,
   "id": "471a6fa9",
   "metadata": {},
   "outputs": [
    {
     "data": {
      "text/html": [
       "<div>\n",
       "<style scoped>\n",
       "    .dataframe tbody tr th:only-of-type {\n",
       "        vertical-align: middle;\n",
       "    }\n",
       "\n",
       "    .dataframe tbody tr th {\n",
       "        vertical-align: top;\n",
       "    }\n",
       "\n",
       "    .dataframe thead th {\n",
       "        text-align: right;\n",
       "    }\n",
       "</style>\n",
       "<table border=\"1\" class=\"dataframe\">\n",
       "  <thead>\n",
       "    <tr style=\"text-align: right;\">\n",
       "      <th></th>\n",
       "      <th>City</th>\n",
       "      <th>Cappuccino</th>\n",
       "      <th>Cinema</th>\n",
       "      <th>Wine</th>\n",
       "      <th>Gasoline</th>\n",
       "      <th>Avg Rent</th>\n",
       "      <th>Avg Disposable Income</th>\n",
       "    </tr>\n",
       "  </thead>\n",
       "  <tbody>\n",
       "    <tr>\n",
       "      <th>0</th>\n",
       "      <td>Lausanne</td>\n",
       "      <td>3.15</td>\n",
       "      <td>12.59</td>\n",
       "      <td>8.40</td>\n",
       "      <td>1.32</td>\n",
       "      <td>1714.00</td>\n",
       "      <td>4266.11</td>\n",
       "    </tr>\n",
       "    <tr>\n",
       "      <th>1</th>\n",
       "      <td>Zurich</td>\n",
       "      <td>3.28</td>\n",
       "      <td>12.59</td>\n",
       "      <td>8.40</td>\n",
       "      <td>1.31</td>\n",
       "      <td>2378.61</td>\n",
       "      <td>4197.55</td>\n",
       "    </tr>\n",
       "    <tr>\n",
       "      <th>2</th>\n",
       "      <td>Geneva</td>\n",
       "      <td>2.80</td>\n",
       "      <td>12.94</td>\n",
       "      <td>10.49</td>\n",
       "      <td>1.28</td>\n",
       "      <td>2607.95</td>\n",
       "      <td>3917.72</td>\n",
       "    </tr>\n",
       "    <tr>\n",
       "      <th>3</th>\n",
       "      <td>Basel</td>\n",
       "      <td>3.50</td>\n",
       "      <td>11.89</td>\n",
       "      <td>7.35</td>\n",
       "      <td>1.25</td>\n",
       "      <td>1649.29</td>\n",
       "      <td>3847.76</td>\n",
       "    </tr>\n",
       "    <tr>\n",
       "      <th>4</th>\n",
       "      <td>Perth</td>\n",
       "      <td>2.87</td>\n",
       "      <td>11.43</td>\n",
       "      <td>10.08</td>\n",
       "      <td>0.97</td>\n",
       "      <td>2083.14</td>\n",
       "      <td>3358.55</td>\n",
       "    </tr>\n",
       "  </tbody>\n",
       "</table>\n",
       "</div>"
      ],
      "text/plain": [
       "       City  Cappuccino  Cinema   Wine  Gasoline  Avg Rent  \\\n",
       "0  Lausanne        3.15   12.59   8.40      1.32   1714.00   \n",
       "1    Zurich        3.28   12.59   8.40      1.31   2378.61   \n",
       "2    Geneva        2.80   12.94  10.49      1.28   2607.95   \n",
       "3     Basel        3.50   11.89   7.35      1.25   1649.29   \n",
       "4     Perth        2.87   11.43  10.08      0.97   2083.14   \n",
       "\n",
       "   Avg Disposable Income  \n",
       "0                4266.11  \n",
       "1                4197.55  \n",
       "2                3917.72  \n",
       "3                3847.76  \n",
       "4                3358.55  "
      ]
     },
     "execution_count": 1,
     "metadata": {},
     "output_type": "execute_result"
    }
   ],
   "source": [
    "import numpy as np\n",
    "import pandas as pd\n",
    "import seaborn as sns\n",
    "import matplotlib.pyplot as plt\n",
    "\n",
    "data = pd.read_csv('data/pd-move_cost.csv')\n",
    "data.head()"
   ]
  },
  {
   "cell_type": "markdown",
   "id": "ec9ce9ad",
   "metadata": {},
   "source": [
    "### Find out the Places where Cappuccino is Least and Most Expensive"
   ]
  },
  {
   "cell_type": "code",
   "execution_count": 2,
   "id": "509fee5c",
   "metadata": {},
   "outputs": [
    {
     "data": {
      "text/html": [
       "<div>\n",
       "<style scoped>\n",
       "    .dataframe tbody tr th:only-of-type {\n",
       "        vertical-align: middle;\n",
       "    }\n",
       "\n",
       "    .dataframe tbody tr th {\n",
       "        vertical-align: top;\n",
       "    }\n",
       "\n",
       "    .dataframe thead th {\n",
       "        text-align: right;\n",
       "    }\n",
       "</style>\n",
       "<table border=\"1\" class=\"dataframe\">\n",
       "  <thead>\n",
       "    <tr style=\"text-align: right;\">\n",
       "      <th></th>\n",
       "      <th>City</th>\n",
       "      <th>Cappuccino</th>\n",
       "    </tr>\n",
       "  </thead>\n",
       "  <tbody>\n",
       "    <tr>\n",
       "      <th>0</th>\n",
       "      <td>Stavanger</td>\n",
       "      <td>4.48</td>\n",
       "    </tr>\n",
       "    <tr>\n",
       "      <th>1</th>\n",
       "      <td>Bergen</td>\n",
       "      <td>3.92</td>\n",
       "    </tr>\n",
       "    <tr>\n",
       "      <th>2</th>\n",
       "      <td>Nashville</td>\n",
       "      <td>3.84</td>\n",
       "    </tr>\n",
       "    <tr>\n",
       "      <th>3</th>\n",
       "      <td>Trondheim</td>\n",
       "      <td>3.81</td>\n",
       "    </tr>\n",
       "    <tr>\n",
       "      <th>4</th>\n",
       "      <td>Copenhagen</td>\n",
       "      <td>3.66</td>\n",
       "    </tr>\n",
       "  </tbody>\n",
       "</table>\n",
       "</div>"
      ],
      "text/plain": [
       "         City  Cappuccino\n",
       "0   Stavanger        4.48\n",
       "1      Bergen        3.92\n",
       "2   Nashville        3.84\n",
       "3   Trondheim        3.81\n",
       "4  Copenhagen        3.66"
      ]
     },
     "execution_count": 2,
     "metadata": {},
     "output_type": "execute_result"
    }
   ],
   "source": [
    "data[['City','Cappuccino']].sort_values(by = 'Cappuccino', ascending = True).head().reset_index(drop = True)  # Very Cheap\n",
    "data[['City','Cappuccino']].sort_values(by = 'Cappuccino', ascending = False).head().reset_index(drop = True) # Most Expensive"
   ]
  },
  {
   "cell_type": "markdown",
   "id": "a64495d9",
   "metadata": {},
   "source": [
    "### Find out the Places where Cinema is Least and Most Expensive"
   ]
  },
  {
   "cell_type": "code",
   "execution_count": 3,
   "id": "b3706f7f",
   "metadata": {},
   "outputs": [
    {
     "data": {
      "text/html": [
       "<div>\n",
       "<style scoped>\n",
       "    .dataframe tbody tr th:only-of-type {\n",
       "        vertical-align: middle;\n",
       "    }\n",
       "\n",
       "    .dataframe tbody tr th {\n",
       "        vertical-align: top;\n",
       "    }\n",
       "\n",
       "    .dataframe thead th {\n",
       "        text-align: right;\n",
       "    }\n",
       "</style>\n",
       "<table border=\"1\" class=\"dataframe\">\n",
       "  <thead>\n",
       "    <tr style=\"text-align: right;\">\n",
       "      <th></th>\n",
       "      <th>City</th>\n",
       "      <th>Cinema</th>\n",
       "    </tr>\n",
       "  </thead>\n",
       "  <tbody>\n",
       "    <tr>\n",
       "      <th>0</th>\n",
       "      <td>Riyadh</td>\n",
       "      <td>79.49</td>\n",
       "    </tr>\n",
       "    <tr>\n",
       "      <th>1</th>\n",
       "      <td>Brighton</td>\n",
       "      <td>14.95</td>\n",
       "    </tr>\n",
       "    <tr>\n",
       "      <th>2</th>\n",
       "      <td>Geneva</td>\n",
       "      <td>12.94</td>\n",
       "    </tr>\n",
       "    <tr>\n",
       "      <th>3</th>\n",
       "      <td>Lausanne</td>\n",
       "      <td>12.59</td>\n",
       "    </tr>\n",
       "    <tr>\n",
       "      <th>4</th>\n",
       "      <td>Zurich</td>\n",
       "      <td>12.59</td>\n",
       "    </tr>\n",
       "  </tbody>\n",
       "</table>\n",
       "</div>"
      ],
      "text/plain": [
       "       City  Cinema\n",
       "0    Riyadh   79.49\n",
       "1  Brighton   14.95\n",
       "2    Geneva   12.94\n",
       "3  Lausanne   12.59\n",
       "4    Zurich   12.59"
      ]
     },
     "execution_count": 3,
     "metadata": {},
     "output_type": "execute_result"
    }
   ],
   "source": [
    "data[['City','Cinema']].sort_values(by = 'Cinema', ascending = True).head().reset_index(drop = True)  # Very Cheap\n",
    "data[['City','Cinema']].sort_values(by = 'Cinema', ascending = False).head().reset_index(drop = True) # Most Expensive"
   ]
  },
  {
   "cell_type": "markdown",
   "id": "f44c0e08",
   "metadata": {},
   "source": [
    "### Find out the Places where Rent is Least and Most Expensive"
   ]
  },
  {
   "cell_type": "code",
   "execution_count": 4,
   "id": "a2d74018",
   "metadata": {},
   "outputs": [
    {
     "name": "stdout",
     "output_type": "stream",
     "text": [
      "        City  Avg Rent\n",
      "0   Vadodara    120.68\n",
      "1      Kochi    181.02\n",
      "2  Ahmedabad    193.08\n",
      "3    Karachi    197.78\n",
      "4     Indore    205.15\n",
      "        City  Avg Rent\n",
      "0  Hong Kong   5052.31\n",
      "1   New York   3268.84\n",
      "2  Singapore   3164.42\n",
      "3     Sydney   2788.71\n",
      "4     Geneva   2607.95\n"
     ]
    }
   ],
   "source": [
    "print(data[['City','Avg Rent']].sort_values(by = 'Avg Rent', ascending = True).head().reset_index(drop = True))\n",
    "print(data[['City','Avg Rent']].sort_values(by = 'Avg Rent', ascending = False).head().reset_index(drop = True))"
   ]
  },
  {
   "cell_type": "code",
   "execution_count": null,
   "id": "8b590522",
   "metadata": {},
   "outputs": [],
   "source": []
  }
 ],
 "metadata": {
  "kernelspec": {
   "display_name": "Python 3 (ipykernel)",
   "language": "python",
   "name": "python3"
  },
  "language_info": {
   "codemirror_mode": {
    "name": "ipython",
    "version": 3
   },
   "file_extension": ".py",
   "mimetype": "text/x-python",
   "name": "python",
   "nbconvert_exporter": "python",
   "pygments_lexer": "ipython3",
   "version": "3.9.7"
  }
 },
 "nbformat": 4,
 "nbformat_minor": 5
}
