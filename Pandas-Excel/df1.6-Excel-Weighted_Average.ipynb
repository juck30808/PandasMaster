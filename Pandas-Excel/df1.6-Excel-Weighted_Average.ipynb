{
 "cells": [
  {
   "cell_type": "markdown",
   "metadata": {},
   "source": [
    "### Learning More About Pandas by Using a Weighted Average\n",
    "\n",
    "在 Python 的開發中，Pandas 是我們的好朋友，他是一個免費的開源資料庫，由 Wes McKinney 在2008年開發的，主要是為了方便和直觀地處理關係型或標籤型數據而製作的。它提供了各種數據結構和操作，用於處理數字數據和時間序列。這個庫是建立在NumPy庫之上的，所以通常使用上會一同進行，Pandas的速度很快，它對用戶來說有很高的性能和生產力，所以目前被廣泛應用在資料科學上。\n",
    "\n",
    "Pandas包含多個內置函數，如sum、mean、max、min等，我們可以應用到 DataFrame 或分組數據中。他可以提高你在數據處理和分析方面的效率。而在這邊加權平均數是一個很好的使用例子，因為它是一個容易理解但有用的公式。我發現，在查看某些數據集合時，它比簡單的平均數更直觀。在pandas中建立一個加權平均函數是比較簡單的，但是當與其他 pandas 函數(groupby) 結合起來時，會起到不可思議的作用。本文將討論為什麼你會選擇使用加權平均數來觀察你的數據的基本原理，然後介紹如何在pandas中構建和使用這個函數。本文所展示的基本原則將有助於在pandas中建立更複雜的分析，也應該有助於理解如何在pandas中處理分組數據。\n",
    "\n",
    "- https://pbpython.com/weighted-average.html"
   ]
  },
  {
   "cell_type": "markdown",
   "metadata": {},
   "source": [
    "### 為什麼使用加權平均？\n",
    "下面一個簡單的例子說明了為什麼加權平均數可以成為一個有用的統計方法。下面表格顯示了3個不同的顧客為同一產品支付的價格和數量。如果有人問，我們鞋子的平均價格是多少？鞋子價格的簡單平均數將是 (300+200+150=$216.67) 雖然這是一個準確的平均數值，但對於理解我們的平均銷售價格來說，這在直覺上是沒有意義的。"
   ]
  },
  {
   "cell_type": "code",
   "execution_count": 1,
   "metadata": {},
   "outputs": [
    {
     "data": {
      "text/html": [
       "<div>\n",
       "<style scoped>\n",
       "    .dataframe tbody tr th:only-of-type {\n",
       "        vertical-align: middle;\n",
       "    }\n",
       "\n",
       "    .dataframe tbody tr th {\n",
       "        vertical-align: top;\n",
       "    }\n",
       "\n",
       "    .dataframe thead th {\n",
       "        text-align: right;\n",
       "    }\n",
       "</style>\n",
       "<table border=\"1\" class=\"dataframe\">\n",
       "  <thead>\n",
       "    <tr style=\"text-align: right;\">\n",
       "      <th></th>\n",
       "      <th>Customer Price</th>\n",
       "      <th>Shoe Price</th>\n",
       "      <th>Shoe Quantity</th>\n",
       "    </tr>\n",
       "  </thead>\n",
       "  <tbody>\n",
       "    <tr>\n",
       "      <th>0</th>\n",
       "      <td>Huang</td>\n",
       "      <td>300</td>\n",
       "      <td>20</td>\n",
       "    </tr>\n",
       "    <tr>\n",
       "      <th>1</th>\n",
       "      <td>Chun</td>\n",
       "      <td>200</td>\n",
       "      <td>100</td>\n",
       "    </tr>\n",
       "    <tr>\n",
       "      <th>2</th>\n",
       "      <td>Ming</td>\n",
       "      <td>150</td>\n",
       "      <td>225</td>\n",
       "    </tr>\n",
       "  </tbody>\n",
       "</table>\n",
       "</div>"
      ],
      "text/plain": [
       "  Customer Price  Shoe Price  Shoe Quantity\n",
       "0          Huang         300             20\n",
       "1           Chun         200            100\n",
       "2           Ming         150            225"
      ]
     },
     "execution_count": 1,
     "metadata": {},
     "output_type": "execute_result"
    }
   ],
   "source": [
    "import pandas as pd\n",
    "import numpy as np\n",
    "\n",
    "dt  = {'Customer Price': [\"Huang\", \"Chun\", \"Ming\"], \n",
    "       'Shoe Price': [300, 200, 150],\n",
    "       'Shoe Quantity': [20, 100, 225]}\n",
    "\n",
    "pd.DataFrame(dt)"
   ]
  },
  {
   "cell_type": "markdown",
   "metadata": {},
   "source": [
    "如果我們想用平均數來預測收入，這就特別具有挑戰性。但如果看一下這些數字，你可以看到我們以<200美元的價格出售的鞋子遠遠多於超過200美元的。因此，216.67美元的平均值並不能準確反映市場上的真實平均售價。更有用的是，根據購買數量對這些價格進行加權。這樣的平均能代表所有客戶的購買模式。\n",
    "\n",
    "- 加權平均數可以這樣計算。\n",
    "- (鞋子價格*數量)的總和 / (鞋子的總和\n",
    "- (300∗20) + (200∗100) + (150∗225) / (20+100+225)=$173.19\n",
    "\n",
    "由於我們絕大部分的鞋子都是在200美元到150美元之間銷售，這個數字比簡單的平均數更準確地代表了我們產品的整體平均價格。"
   ]
  },
  {
   "cell_type": "markdown",
   "metadata": {},
   "source": [
    "### 在Pandas中計算加權平均數\n",
    "\n",
    "加權的概念很簡單，但在pandas中計算起來可能有點困難，因為你需要兩個值：要平均的值（鞋價）和重量（鞋量）。所以當你在做複雜的數據分組時，在pandas 中實現它可能會有點不直觀。在許多不同的情況下使用加權平均數就會變得非常容易。此外，建立這個功能並在各種情況下使用它的過程對於培養你日常的pandas數據操作技能應該是很有用的。"
   ]
  },
  {
   "cell_type": "code",
   "execution_count": 2,
   "metadata": {},
   "outputs": [
    {
     "data": {
      "text/html": [
       "<div>\n",
       "<style scoped>\n",
       "    .dataframe tbody tr th:only-of-type {\n",
       "        vertical-align: middle;\n",
       "    }\n",
       "\n",
       "    .dataframe tbody tr th {\n",
       "        vertical-align: top;\n",
       "    }\n",
       "\n",
       "    .dataframe thead th {\n",
       "        text-align: right;\n",
       "    }\n",
       "</style>\n",
       "<table border=\"1\" class=\"dataframe\">\n",
       "  <thead>\n",
       "    <tr style=\"text-align: right;\">\n",
       "      <th></th>\n",
       "      <th>Account</th>\n",
       "      <th>Name</th>\n",
       "      <th>State</th>\n",
       "      <th>Rep</th>\n",
       "      <th>Manager</th>\n",
       "      <th>Current_Price</th>\n",
       "      <th>Quantity</th>\n",
       "      <th>New_Product_Price</th>\n",
       "    </tr>\n",
       "  </thead>\n",
       "  <tbody>\n",
       "    <tr>\n",
       "      <th>0</th>\n",
       "      <td>714466</td>\n",
       "      <td>Trantow-Barrows</td>\n",
       "      <td>MN</td>\n",
       "      <td>Craig Booker</td>\n",
       "      <td>Debra Henley</td>\n",
       "      <td>500</td>\n",
       "      <td>100</td>\n",
       "      <td>550</td>\n",
       "    </tr>\n",
       "    <tr>\n",
       "      <th>1</th>\n",
       "      <td>737550</td>\n",
       "      <td>Fritsch, Russel and Anderson</td>\n",
       "      <td>MN</td>\n",
       "      <td>Craig Booker</td>\n",
       "      <td>Debra Henley</td>\n",
       "      <td>600</td>\n",
       "      <td>90</td>\n",
       "      <td>725</td>\n",
       "    </tr>\n",
       "    <tr>\n",
       "      <th>2</th>\n",
       "      <td>146832</td>\n",
       "      <td>Kiehn-Spinka</td>\n",
       "      <td>TX</td>\n",
       "      <td>Daniel Hilton</td>\n",
       "      <td>Debra Henley</td>\n",
       "      <td>225</td>\n",
       "      <td>475</td>\n",
       "      <td>255</td>\n",
       "    </tr>\n",
       "    <tr>\n",
       "      <th>3</th>\n",
       "      <td>218895</td>\n",
       "      <td>Kulas Inc</td>\n",
       "      <td>TX</td>\n",
       "      <td>Daniel Hilton</td>\n",
       "      <td>Debra Henley</td>\n",
       "      <td>290</td>\n",
       "      <td>375</td>\n",
       "      <td>300</td>\n",
       "    </tr>\n",
       "    <tr>\n",
       "      <th>4</th>\n",
       "      <td>412290</td>\n",
       "      <td>Jerde-Hilpert</td>\n",
       "      <td>WI</td>\n",
       "      <td>John Smith</td>\n",
       "      <td>Debra Henley</td>\n",
       "      <td>375</td>\n",
       "      <td>400</td>\n",
       "      <td>400</td>\n",
       "    </tr>\n",
       "  </tbody>\n",
       "</table>\n",
       "</div>"
      ],
      "text/plain": [
       "   Account                          Name State            Rep       Manager  \\\n",
       "0   714466               Trantow-Barrows    MN   Craig Booker  Debra Henley   \n",
       "1   737550  Fritsch, Russel and Anderson    MN   Craig Booker  Debra Henley   \n",
       "2   146832                  Kiehn-Spinka    TX  Daniel Hilton  Debra Henley   \n",
       "3   218895                     Kulas Inc    TX  Daniel Hilton  Debra Henley   \n",
       "4   412290                 Jerde-Hilpert    WI     John Smith  Debra Henley   \n",
       "\n",
       "   Current_Price  Quantity  New_Product_Price  \n",
       "0            500       100                550  \n",
       "1            600        90                725  \n",
       "2            225       475                255  \n",
       "3            290       375                300  \n",
       "4            375       400                400  "
      ]
     },
     "execution_count": 2,
     "metadata": {},
     "output_type": "execute_result"
    }
   ],
   "source": [
    "sales = pd.read_excel(\"data/estimate.xlsx\")\n",
    "sales.head()"
   ]
  },
  {
   "cell_type": "markdown",
   "metadata": {},
   "source": [
    "在我們的例子數據中，我們有一堆賬戶信息，包括當前的價格和數量，以及預測的新產品價格。如果我們想確定一個簡單的平均值，我們可以使用內置的函數來輕鬆計算。"
   ]
  },
  {
   "cell_type": "code",
   "execution_count": 3,
   "metadata": {},
   "outputs": [
    {
     "name": "stdout",
     "output_type": "stream",
     "text": [
      "405.4166666666667\n",
      "447.0833333333333\n"
     ]
    }
   ],
   "source": [
    "print(sales[\"Current_Price\"].mean())\n",
    "print(sales[\"New_Product_Price\"].mean())"
   ]
  },
  {
   "cell_type": "markdown",
   "metadata": {},
   "source": [
    "### 計算加權平均值"
   ]
  },
  {
   "cell_type": "code",
   "execution_count": 4,
   "metadata": {},
   "outputs": [
    {
     "name": "stdout",
     "output_type": "stream",
     "text": [
      "342.5406871609403\n",
      "374.6383363471971\n"
     ]
    }
   ],
   "source": [
    "# determine a simple mean\n",
    "print((sales[\"Current_Price\"] * sales[\"Quantity\"]).sum() / sales[\"Quantity\"].sum())\n",
    "print((sales[\"New_Product_Price\"] * sales[\"Quantity\"]).sum() / sales[\"Quantity\"].sum())"
   ]
  },
  {
   "cell_type": "code",
   "execution_count": 5,
   "metadata": {},
   "outputs": [
    {
     "name": "stdout",
     "output_type": "stream",
     "text": [
      "342.5406871609403\n",
      "374.6383363471971\n"
     ]
    }
   ],
   "source": [
    "# Use np.average to simplify the formula\n",
    "print(np.average(sales[\"Current_Price\"], weights=sales[\"Quantity\"]))\n",
    "print(np.average(sales[\"New_Product_Price\"], weights=sales[\"Quantity\"]))"
   ]
  },
  {
   "cell_type": "markdown",
   "metadata": {},
   "source": [
    "加權平均公式並不復雜，但它很冗長。當我們對數據進行分組時，它也將很難使用。如果我們建立一個用加權平均數對數據進行分組的函數，就會簡單得多。"
   ]
  },
  {
   "cell_type": "code",
   "execution_count": 6,
   "metadata": {},
   "outputs": [
    {
     "name": "stdout",
     "output_type": "stream",
     "text": [
      "342.5406871609403\n",
      "374.6383363471971\n"
     ]
    }
   ],
   "source": [
    "def wavg(group, avg_name, weight_name):\n",
    "    d = group[avg_name]\n",
    "    w = group[weight_name]\n",
    "    try:\n",
    "        return (d * w).sum() / w.sum()\n",
    "    except ZeroDivisionError:\n",
    "        return d.mean()\n",
    "    \n",
    "print(wavg(sales, \"Current_Price\", \"Quantity\"))\n",
    "print(wavg(sales, \"New_Product_Price\", \"Quantity\"))"
   ]
  },
  {
   "cell_type": "markdown",
   "metadata": {},
   "source": [
    "### 用加權平均法(Weighted Average) 對數據分組\n",
    "groupby常用於總結數據。例如，如果我們想看一下經理的Current_Price的平均值，用groupby就很簡單。"
   ]
  },
  {
   "cell_type": "code",
   "execution_count": 7,
   "metadata": {},
   "outputs": [
    {
     "data": {
      "text/plain": [
       "Manager\n",
       "Debra Henley     340.665584\n",
       "Fred Anderson    344.897959\n",
       "dtype: float64"
      ]
     },
     "execution_count": 7,
     "metadata": {},
     "output_type": "execute_result"
    }
   ],
   "source": [
    "sales.groupby(\"Manager\").apply(wavg, \"Current_Price\", \"Quantity\")"
   ]
  },
  {
   "cell_type": "code",
   "execution_count": 8,
   "metadata": {},
   "outputs": [
    {
     "data": {
      "text/plain": [
       "Manager\n",
       "Debra Henley     372.646104\n",
       "Fred Anderson    377.142857\n",
       "dtype: float64"
      ]
     },
     "execution_count": 8,
     "metadata": {},
     "output_type": "execute_result"
    }
   ],
   "source": [
    "sales.groupby(\"Manager\").apply(wavg, \"New_Product_Price\", \"Quantity\")"
   ]
  },
  {
   "cell_type": "code",
   "execution_count": 9,
   "metadata": {},
   "outputs": [
    {
     "data": {
      "text/plain": [
       "State\n",
       "CA    446.428571\n",
       "MN    632.894737\n",
       "NV    325.000000\n",
       "TX    274.852941\n",
       "WA    610.000000\n",
       "WI    440.000000\n",
       "dtype: float64"
      ]
     },
     "execution_count": 9,
     "metadata": {},
     "output_type": "execute_result"
    }
   ],
   "source": [
    "sales.groupby(\"State\").apply(wavg, \"New_Product_Price\", \"Quantity\")"
   ]
  },
  {
   "cell_type": "markdown",
   "metadata": {},
   "source": [
    "- 你也可以通過多個標准進行分組。"
   ]
  },
  {
   "cell_type": "code",
   "execution_count": 10,
   "metadata": {},
   "outputs": [
    {
     "data": {
      "text/plain": [
       "Manager        State\n",
       "Debra Henley   MN       632.894737\n",
       "               TX       274.852941\n",
       "               WI       440.000000\n",
       "Fred Anderson  CA       446.428571\n",
       "               NV       325.000000\n",
       "               WA       610.000000\n",
       "dtype: float64"
      ]
     },
     "execution_count": 10,
     "metadata": {},
     "output_type": "execute_result"
    }
   ],
   "source": [
    "sales.groupby([\"Manager\", \"State\"]).apply(wavg, \"New_Product_Price\", \"Quantity\")"
   ]
  },
  {
   "cell_type": "markdown",
   "metadata": {},
   "source": [
    "### 多重聚合 (multiple aggregation)\n",
    "\n",
    "我想介紹的最後一個項目是對數據進行多重聚合的能力。例如，如果我們想得到一些列的平均值，一個列的中位數和另一個列的總和，我們可以通過定義一個帶有列名和要調用的聚合函數的字典來實現。然後，我們在分組的數據上調用 agg"
   ]
  },
  {
   "cell_type": "code",
   "execution_count": 11,
   "metadata": {},
   "outputs": [
    {
     "data": {
      "text/html": [
       "<div>\n",
       "<style scoped>\n",
       "    .dataframe tbody tr th:only-of-type {\n",
       "        vertical-align: middle;\n",
       "    }\n",
       "\n",
       "    .dataframe tbody tr th {\n",
       "        vertical-align: top;\n",
       "    }\n",
       "\n",
       "    .dataframe thead tr th {\n",
       "        text-align: left;\n",
       "    }\n",
       "\n",
       "    .dataframe thead tr:last-of-type th {\n",
       "        text-align: right;\n",
       "    }\n",
       "</style>\n",
       "<table border=\"1\" class=\"dataframe\">\n",
       "  <thead>\n",
       "    <tr>\n",
       "      <th></th>\n",
       "      <th>New_Product_Price</th>\n",
       "      <th>Current_Price</th>\n",
       "      <th colspan=\"2\" halign=\"left\">Quantity</th>\n",
       "    </tr>\n",
       "    <tr>\n",
       "      <th></th>\n",
       "      <th>mean</th>\n",
       "      <th>median</th>\n",
       "      <th>sum</th>\n",
       "      <th>mean</th>\n",
       "    </tr>\n",
       "    <tr>\n",
       "      <th>Manager</th>\n",
       "      <th></th>\n",
       "      <th></th>\n",
       "      <th></th>\n",
       "      <th></th>\n",
       "    </tr>\n",
       "  </thead>\n",
       "  <tbody>\n",
       "    <tr>\n",
       "      <th>Debra Henley</th>\n",
       "      <td>471.666667</td>\n",
       "      <td>437.5</td>\n",
       "      <td>1540</td>\n",
       "      <td>256.666667</td>\n",
       "    </tr>\n",
       "    <tr>\n",
       "      <th>Fred Anderson</th>\n",
       "      <td>422.500000</td>\n",
       "      <td>375.0</td>\n",
       "      <td>1225</td>\n",
       "      <td>204.166667</td>\n",
       "    </tr>\n",
       "  </tbody>\n",
       "</table>\n",
       "</div>"
      ],
      "text/plain": [
       "              New_Product_Price Current_Price Quantity            \n",
       "                           mean        median      sum        mean\n",
       "Manager                                                           \n",
       "Debra Henley         471.666667         437.5     1540  256.666667\n",
       "Fred Anderson        422.500000         375.0     1225  204.166667"
      ]
     },
     "execution_count": 11,
     "metadata": {},
     "output_type": "execute_result"
    }
   ],
   "source": [
    "f = {'New_Product_Price': ['mean'],'Current_Price': ['median'], 'Quantity': ['sum', 'mean']}\n",
    "sales.groupby(\"Manager\").agg(f)"
   ]
  },
  {
   "cell_type": "markdown",
   "metadata": {},
   "source": [
    "- 類似的方法，將多個自定義函數組合成一個單一的數據框架"
   ]
  },
  {
   "cell_type": "code",
   "execution_count": 12,
   "metadata": {},
   "outputs": [],
   "source": [
    "data_1 = sales.groupby(\"Manager\").apply(wavg, \"New_Product_Price\", \"Quantity\")\n",
    "data_2 = sales.groupby(\"Manager\").apply(wavg, \"Current_Price\", \"Quantity\")"
   ]
  },
  {
   "cell_type": "code",
   "execution_count": 13,
   "metadata": {},
   "outputs": [
    {
     "data": {
      "text/html": [
       "<div>\n",
       "<style scoped>\n",
       "    .dataframe tbody tr th:only-of-type {\n",
       "        vertical-align: middle;\n",
       "    }\n",
       "\n",
       "    .dataframe tbody tr th {\n",
       "        vertical-align: top;\n",
       "    }\n",
       "\n",
       "    .dataframe thead th {\n",
       "        text-align: right;\n",
       "    }\n",
       "</style>\n",
       "<table border=\"1\" class=\"dataframe\">\n",
       "  <thead>\n",
       "    <tr style=\"text-align: right;\">\n",
       "      <th></th>\n",
       "      <th>New Product Price</th>\n",
       "      <th>Current Product Price</th>\n",
       "    </tr>\n",
       "    <tr>\n",
       "      <th>Manager</th>\n",
       "      <th></th>\n",
       "      <th></th>\n",
       "    </tr>\n",
       "  </thead>\n",
       "  <tbody>\n",
       "    <tr>\n",
       "      <th>Debra Henley</th>\n",
       "      <td>372.646104</td>\n",
       "      <td>340.665584</td>\n",
       "    </tr>\n",
       "    <tr>\n",
       "      <th>Fred Anderson</th>\n",
       "      <td>377.142857</td>\n",
       "      <td>344.897959</td>\n",
       "    </tr>\n",
       "  </tbody>\n",
       "</table>\n",
       "</div>"
      ],
      "text/plain": [
       "               New Product Price  Current Product Price\n",
       "Manager                                                \n",
       "Debra Henley          372.646104             340.665584\n",
       "Fred Anderson         377.142857             344.897959"
      ]
     },
     "execution_count": 13,
     "metadata": {},
     "output_type": "execute_result"
    }
   ],
   "source": [
    "summary = pd.DataFrame(data=dict(s1=data_1, s2=data_2))\n",
    "summary.columns = [\"New Product Price\",\"Current Product Price\"]\n",
    "summary.head()"
   ]
  },
  {
   "cell_type": "markdown",
   "metadata": {},
   "source": [
    "### 使用Numpy\n",
    "正如我上面提到的，Numpy有一個平均函數，它可以接受一個權重列表併計算出一個加權平均數。\n",
    "下面是如何使用它來獲得所有未分組數據的加權平均數的方法。"
   ]
  },
  {
   "cell_type": "code",
   "execution_count": 14,
   "metadata": {},
   "outputs": [
    {
     "data": {
      "text/plain": [
       "342.5406871609403"
      ]
     },
     "execution_count": 14,
     "metadata": {},
     "output_type": "execute_result"
    }
   ],
   "source": [
    "np.average(sales[\"Current_Price\"], weights=sales[\"Quantity\"])"
   ]
  },
  {
   "cell_type": "markdown",
   "metadata": {},
   "source": [
    "- 使用一個lambda函數，讓它與分組數據一起工作"
   ]
  },
  {
   "cell_type": "code",
   "execution_count": 15,
   "metadata": {},
   "outputs": [
    {
     "data": {
      "text/plain": [
       "Manager\n",
       "Debra Henley     372.646104\n",
       "Fred Anderson    377.142857\n",
       "dtype: float64"
      ]
     },
     "execution_count": 15,
     "metadata": {},
     "output_type": "execute_result"
    }
   ],
   "source": [
    "sales.groupby(\"Manager\").apply(lambda x: np.average(x['New_Product_Price'], weights=x['Quantity']))"
   ]
  }
 ],
 "metadata": {
  "kernelspec": {
   "display_name": "Python 3 (ipykernel)",
   "language": "python",
   "name": "python3"
  },
  "language_info": {
   "codemirror_mode": {
    "name": "ipython",
    "version": 3
   },
   "file_extension": ".py",
   "mimetype": "text/x-python",
   "name": "python",
   "nbconvert_exporter": "python",
   "pygments_lexer": "ipython3",
   "version": "3.9.7"
  }
 },
 "nbformat": 4,
 "nbformat_minor": 1
}
