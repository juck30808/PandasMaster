{
 "cells": [
  {
   "cell_type": "markdown",
   "metadata": {},
   "source": [
    "# Amortization Example in Pandas"
   ]
  },
  {
   "cell_type": "markdown",
   "metadata": {},
   "source": [
    "Code to support article at [Practical Business Python](http://pbpython.com/amortization-model.html)"
   ]
  },
  {
   "cell_type": "markdown",
   "metadata": {},
   "source": [
    "Setup the imports and matplotlib plotting"
   ]
  },
  {
   "cell_type": "code",
   "execution_count": 1,
   "metadata": {},
   "outputs": [],
   "source": [
    "import pandas as pd\n",
    "import numpy as np\n",
    "from datetime import date\n",
    "import matplotlib.pyplot as plt\n",
    "import matplotlib"
   ]
  },
  {
   "cell_type": "code",
   "execution_count": 2,
   "metadata": {},
   "outputs": [],
   "source": [
    "%matplotlib inline"
   ]
  },
  {
   "cell_type": "code",
   "execution_count": 3,
   "metadata": {},
   "outputs": [],
   "source": [
    "matplotlib.style.use('ggplot')"
   ]
  },
  {
   "cell_type": "markdown",
   "metadata": {},
   "source": [
    "Define a function to build an amortization table/schedule and return the value as a pandas DataFrame"
   ]
  },
  {
   "cell_type": "code",
   "execution_count": 4,
   "metadata": {},
   "outputs": [],
   "source": [
    "def amortization_table(interest_rate, years, payments_year, principal, addl_principal=0, start_date=date.today()):\n",
    "    \"\"\" Calculate the amortization schedule given the loan details\n",
    "    \n",
    "     Args:\n",
    "        interest_rate: The annual interest rate for this loan\n",
    "        years: Number of years for the loan\n",
    "        payments_year: Number of payments in a year\n",
    "        principal: Amount borrowed\n",
    "        addl_principal (optional): Additional payments to be made each period. Assume 0 if nothing provided.\n",
    "                                   must be a value less then 0, the function will convert a positive value to\n",
    "                                   negative\n",
    "        start_date (optional): Start date. Will start on first of next month if none provided\n",
    "\n",
    "    Returns:\n",
    "        schedule: Amortization schedule as a pandas dataframe\n",
    "        summary: Pandas dataframe that summarizes the payoff information\n",
    "    \"\"\"\n",
    "    # Ensure the additional payments are negative\n",
    "    if addl_principal > 0:\n",
    "        addl_principal = -addl_principal\n",
    "    \n",
    "    # Create an index of the payment dates\n",
    "    rng = pd.date_range(start_date, periods=years * payments_year, freq='MS')\n",
    "    rng.name = \"Payment_Date\"\n",
    "    \n",
    "    # Build up the Amortization schedule as a DataFrame\n",
    "    df = pd.DataFrame(index=rng,columns=['Payment', 'Principal', 'Interest', \n",
    "                                         'Addl_Principal', 'Curr_Balance'], dtype='float')\n",
    "    \n",
    "    # Add index by period (start at 1 not 0)\n",
    "    df.reset_index(inplace=True)\n",
    "    df.index += 1\n",
    "    df.index.name = \"Period\"\n",
    "    \n",
    "    # Calculate the payment, principal and interests amounts using built in Numpy functions\n",
    "    per_payment = np.pmt(interest_rate/payments_year, years*payments_year, principal)\n",
    "    df[\"Payment\"] = per_payment\n",
    "    df[\"Principal\"] = np.ppmt(interest_rate/payments_year, df.index, years*payments_year, principal)\n",
    "    df[\"Interest\"] = np.ipmt(interest_rate/payments_year, df.index, years*payments_year, principal)\n",
    "        \n",
    "    # Round the values\n",
    "    df = df.round(2) \n",
    "    \n",
    "    # Add in the additional principal payments\n",
    "    df[\"Addl_Principal\"] = addl_principal\n",
    "    \n",
    "    # Store the Cumulative Principal Payments and ensure it never gets larger than the original principal\n",
    "    df[\"Cumulative_Principal\"] = (df[\"Principal\"] + df[\"Addl_Principal\"]).cumsum()\n",
    "    df[\"Cumulative_Principal\"] = df[\"Cumulative_Principal\"].clip(lower=-principal)\n",
    "    \n",
    "    # Calculate the current balance for each period\n",
    "    df[\"Curr_Balance\"] = principal + df[\"Cumulative_Principal\"]\n",
    "    \n",
    "    # Determine the last payment date\n",
    "    try:\n",
    "        last_payment = df.query(\"Curr_Balance <= 0\")[\"Curr_Balance\"].idxmax(axis=1, skipna=True)\n",
    "    except ValueError:\n",
    "        last_payment = df.last_valid_index()\n",
    "    \n",
    "    last_payment_date = \"{:%m-%d-%Y}\".format(df.loc[last_payment, \"Payment_Date\"])\n",
    "        \n",
    "    # Truncate the data frame if we have additional principal payments:\n",
    "    if addl_principal != 0:\n",
    "                \n",
    "        # Remove the extra payment periods\n",
    "        df = df.loc[0:last_payment].copy()\n",
    "        \n",
    "        # Calculate the principal for the last row\n",
    "        df.loc[last_payment, \"Principal\"] = -(df.loc[last_payment-1, \"Curr_Balance\"])\n",
    "        \n",
    "        # Calculate the total payment for the last row\n",
    "        df.loc[last_payment, \"Payment\"] = df.loc[last_payment, [\"Principal\", \"Interest\"]].sum()\n",
    "        \n",
    "        # Zero out the additional principal\n",
    "        df.loc[last_payment, \"Addl_Principal\"] = 0\n",
    "        \n",
    "    # Get the payment info into a DataFrame in column order\n",
    "    payment_info = (df[[\"Payment\", \"Principal\", \"Addl_Principal\", \"Interest\"]]\n",
    "                    .sum().to_frame().T)\n",
    "       \n",
    "    # Format the Date DataFrame\n",
    "    payment_details = pd.DataFrame.from_dict(dict([('payoff_date', [last_payment_date]),\n",
    "                                               ('Interest Rate', [interest_rate]),\n",
    "                                               ('Number of years', [years])\n",
    "                                              ]))\n",
    "    # Add a column showing how much we pay each period.\n",
    "    # Combine addl principal with principal for total payment\n",
    "    payment_details[\"Period_Payment\"] = round(per_payment, 2) + addl_principal\n",
    "    \n",
    "    payment_summary = pd.concat([payment_details, payment_info], axis=1)\n",
    "    return df, payment_summary\n",
    "    "
   ]
  },
  {
   "cell_type": "markdown",
   "metadata": {},
   "source": [
    "## Examples of running the function"
   ]
  },
  {
   "cell_type": "code",
   "execution_count": 5,
   "metadata": {},
   "outputs": [
    {
     "name": "stderr",
     "output_type": "stream",
     "text": [
      "C:\\Users\\CTI110~1\\AppData\\Local\\Temp/ipykernel_8324/3263305610.py:36: DeprecationWarning: In accordance with NEP 32, the function pmt was removed from NumPy version 1.20.  A replacement for this function is available in the numpy_financial library: https://pypi.org/project/numpy-financial\n",
      "  per_payment = np.pmt(interest_rate/payments_year, years*payments_year, principal)\n"
     ]
    },
    {
     "ename": "RuntimeError",
     "evalue": "In accordance with NEP 32, the function pmt was removed from NumPy version 1.20.  A replacement for this function is available in the numpy_financial library: https://pypi.org/project/numpy-financial",
     "output_type": "error",
     "traceback": [
      "\u001b[1;31m---------------------------------------------------------------------------\u001b[0m",
      "\u001b[1;31mRuntimeError\u001b[0m                              Traceback (most recent call last)",
      "\u001b[1;32mC:\\Users\\CTI110~1\\AppData\\Local\\Temp/ipykernel_8324/2091694743.py\u001b[0m in \u001b[0;36m<module>\u001b[1;34m\u001b[0m\n\u001b[1;32m----> 1\u001b[1;33m \u001b[0mschedule1\u001b[0m\u001b[1;33m,\u001b[0m \u001b[0mstats1\u001b[0m \u001b[1;33m=\u001b[0m \u001b[0mamortization_table\u001b[0m\u001b[1;33m(\u001b[0m\u001b[1;36m0.05\u001b[0m\u001b[1;33m,\u001b[0m \u001b[1;36m30\u001b[0m\u001b[1;33m,\u001b[0m \u001b[1;36m12\u001b[0m\u001b[1;33m,\u001b[0m \u001b[1;36m100000\u001b[0m\u001b[1;33m,\u001b[0m \u001b[0maddl_principal\u001b[0m\u001b[1;33m=\u001b[0m\u001b[1;36m0\u001b[0m\u001b[1;33m)\u001b[0m\u001b[1;33m\u001b[0m\u001b[1;33m\u001b[0m\u001b[0m\n\u001b[0m",
      "\u001b[1;32mC:\\Users\\CTI110~1\\AppData\\Local\\Temp/ipykernel_8324/3263305610.py\u001b[0m in \u001b[0;36mamortization_table\u001b[1;34m(interest_rate, years, payments_year, principal, addl_principal, start_date)\u001b[0m\n\u001b[0;32m     34\u001b[0m \u001b[1;33m\u001b[0m\u001b[0m\n\u001b[0;32m     35\u001b[0m     \u001b[1;31m# Calculate the payment, principal and interests amounts using built in Numpy functions\u001b[0m\u001b[1;33m\u001b[0m\u001b[1;33m\u001b[0m\u001b[0m\n\u001b[1;32m---> 36\u001b[1;33m     \u001b[0mper_payment\u001b[0m \u001b[1;33m=\u001b[0m \u001b[0mnp\u001b[0m\u001b[1;33m.\u001b[0m\u001b[0mpmt\u001b[0m\u001b[1;33m(\u001b[0m\u001b[0minterest_rate\u001b[0m\u001b[1;33m/\u001b[0m\u001b[0mpayments_year\u001b[0m\u001b[1;33m,\u001b[0m \u001b[0myears\u001b[0m\u001b[1;33m*\u001b[0m\u001b[0mpayments_year\u001b[0m\u001b[1;33m,\u001b[0m \u001b[0mprincipal\u001b[0m\u001b[1;33m)\u001b[0m\u001b[1;33m\u001b[0m\u001b[1;33m\u001b[0m\u001b[0m\n\u001b[0m\u001b[0;32m     37\u001b[0m     \u001b[0mdf\u001b[0m\u001b[1;33m[\u001b[0m\u001b[1;34m\"Payment\"\u001b[0m\u001b[1;33m]\u001b[0m \u001b[1;33m=\u001b[0m \u001b[0mper_payment\u001b[0m\u001b[1;33m\u001b[0m\u001b[1;33m\u001b[0m\u001b[0m\n\u001b[0;32m     38\u001b[0m     \u001b[0mdf\u001b[0m\u001b[1;33m[\u001b[0m\u001b[1;34m\"Principal\"\u001b[0m\u001b[1;33m]\u001b[0m \u001b[1;33m=\u001b[0m \u001b[0mnp\u001b[0m\u001b[1;33m.\u001b[0m\u001b[0mppmt\u001b[0m\u001b[1;33m(\u001b[0m\u001b[0minterest_rate\u001b[0m\u001b[1;33m/\u001b[0m\u001b[0mpayments_year\u001b[0m\u001b[1;33m,\u001b[0m \u001b[0mdf\u001b[0m\u001b[1;33m.\u001b[0m\u001b[0mindex\u001b[0m\u001b[1;33m,\u001b[0m \u001b[0myears\u001b[0m\u001b[1;33m*\u001b[0m\u001b[0mpayments_year\u001b[0m\u001b[1;33m,\u001b[0m \u001b[0mprincipal\u001b[0m\u001b[1;33m)\u001b[0m\u001b[1;33m\u001b[0m\u001b[1;33m\u001b[0m\u001b[0m\n",
      "\u001b[1;32m~\\Anaconda3\\lib\\site-packages\\numpy\\__init__.py\u001b[0m in \u001b[0;36m_expired\u001b[1;34m(*args, **kwds)\u001b[0m\n\u001b[0;32m    275\u001b[0m \u001b[1;33m\u001b[0m\u001b[0m\n\u001b[0;32m    276\u001b[0m                 \u001b[1;32mdef\u001b[0m \u001b[0m_expired\u001b[0m\u001b[1;33m(\u001b[0m\u001b[1;33m*\u001b[0m\u001b[0margs\u001b[0m\u001b[1;33m,\u001b[0m \u001b[1;33m**\u001b[0m\u001b[0mkwds\u001b[0m\u001b[1;33m)\u001b[0m\u001b[1;33m:\u001b[0m\u001b[1;33m\u001b[0m\u001b[1;33m\u001b[0m\u001b[0m\n\u001b[1;32m--> 277\u001b[1;33m                     \u001b[1;32mraise\u001b[0m \u001b[0mRuntimeError\u001b[0m\u001b[1;33m(\u001b[0m\u001b[0mmsg\u001b[0m\u001b[1;33m)\u001b[0m\u001b[1;33m\u001b[0m\u001b[1;33m\u001b[0m\u001b[0m\n\u001b[0m\u001b[0;32m    278\u001b[0m \u001b[1;33m\u001b[0m\u001b[0m\n\u001b[0;32m    279\u001b[0m                 \u001b[1;32mreturn\u001b[0m \u001b[0m_expired\u001b[0m\u001b[1;33m\u001b[0m\u001b[1;33m\u001b[0m\u001b[0m\n",
      "\u001b[1;31mRuntimeError\u001b[0m: In accordance with NEP 32, the function pmt was removed from NumPy version 1.20.  A replacement for this function is available in the numpy_financial library: https://pypi.org/project/numpy-financial"
     ]
    }
   ],
   "source": [
    "schedule1, stats1 = amortization_table(0.05, 30, 12, 100000, addl_principal=0)"
   ]
  },
  {
   "cell_type": "markdown",
   "metadata": {},
   "source": [
    "Take a look at the start and end of the table as well as the summary stats"
   ]
  },
  {
   "cell_type": "code",
   "execution_count": null,
   "metadata": {},
   "outputs": [],
   "source": [
    "schedule1.head()"
   ]
  },
  {
   "cell_type": "code",
   "execution_count": null,
   "metadata": {},
   "outputs": [],
   "source": [
    "schedule1.tail()"
   ]
  },
  {
   "cell_type": "code",
   "execution_count": null,
   "metadata": {},
   "outputs": [],
   "source": [
    "stats1"
   ]
  },
  {
   "cell_type": "markdown",
   "metadata": {},
   "source": [
    "Try running some other scenarios and combining them into a single DataFrame"
   ]
  },
  {
   "cell_type": "code",
   "execution_count": null,
   "metadata": {},
   "outputs": [],
   "source": [
    "schedule2, stats2 = amortization_table(0.05, 30, 12, 100000, addl_principal=-200)\n",
    "schedule3, stats3 = amortization_table(0.04, 15, 12, 100000, addl_principal=0)"
   ]
  },
  {
   "cell_type": "code",
   "execution_count": null,
   "metadata": {},
   "outputs": [],
   "source": [
    "# Combine all the scenarios into 1 view\n",
    "pd.concat([stats1, stats2, stats3], ignore_index=True)"
   ]
  },
  {
   "cell_type": "code",
   "execution_count": null,
   "metadata": {},
   "outputs": [],
   "source": [
    "schedule3.head()"
   ]
  },
  {
   "cell_type": "markdown",
   "metadata": {},
   "source": [
    "## Examples of plotting the data"
   ]
  },
  {
   "cell_type": "code",
   "execution_count": null,
   "metadata": {},
   "outputs": [],
   "source": [
    "schedule1.plot(x='Payment_Date', y='Curr_Balance', title=\"Pay Off Timeline\");"
   ]
  },
  {
   "cell_type": "code",
   "execution_count": null,
   "metadata": {},
   "outputs": [],
   "source": [
    "fig, ax = plt.subplots(1, 1)\n",
    "schedule1.plot(x='Payment_Date', y='Curr_Balance', label=\"Scenario 1\", ax=ax)\n",
    "schedule2.plot(x='Payment_Date', y='Curr_Balance', label=\"Scenario 2\", ax=ax)\n",
    "schedule3.plot(x='Payment_Date', y='Curr_Balance', label=\"Scenario 3\", ax=ax)\n",
    "plt.title(\"Pay Off Timelines\");"
   ]
  },
  {
   "cell_type": "code",
   "execution_count": null,
   "metadata": {},
   "outputs": [],
   "source": [
    "schedule1[\"Cum_Interest\"] = schedule1[\"Interest\"].abs().cumsum()\n",
    "schedule2[\"Cum_Interest\"] = schedule2[\"Interest\"].abs().cumsum()\n",
    "schedule3[\"Cum_Interest\"] = schedule3[\"Interest\"].abs().cumsum()\n",
    "\n",
    "fig, ax = plt.subplots(1, 1)\n",
    "\n",
    "\n",
    "schedule1.plot(x='Payment_Date', y='Cum_Interest', label=\"Scenario 1\", ax=ax)\n",
    "schedule2.plot(x='Payment_Date', y='Cum_Interest', label=\"Scenario 2\", ax=ax, style='+')\n",
    "schedule3.plot(x='Payment_Date', y='Cum_Interest', label=\"Scenario 3\", ax=ax)\n",
    "\n",
    "ax.legend(loc=\"best\");"
   ]
  },
  {
   "cell_type": "code",
   "execution_count": null,
   "metadata": {},
   "outputs": [],
   "source": [
    "fig, ax = plt.subplots(1, 1)\n",
    "\n",
    "y1_schedule = schedule1.set_index('Payment_Date').resample(\"A\")[\"Interest\"].sum().abs().reset_index()\n",
    "y1_schedule[\"Year\"] = y1_schedule[\"Payment_Date\"].dt.year\n",
    "y1_schedule.plot(kind=\"bar\", x=\"Year\", y=\"Interest\", ax=ax, label=\"30 Years @ 5%\")\n",
    "\n",
    "plt.title(\"Interest Payments\");"
   ]
  },
  {
   "cell_type": "code",
   "execution_count": null,
   "metadata": {},
   "outputs": [],
   "source": []
  }
 ],
 "metadata": {
  "kernelspec": {
   "display_name": "Python 3 (ipykernel)",
   "language": "python",
   "name": "python3"
  },
  "language_info": {
   "codemirror_mode": {
    "name": "ipython",
    "version": 3
   },
   "file_extension": ".py",
   "mimetype": "text/x-python",
   "name": "python",
   "nbconvert_exporter": "python",
   "pygments_lexer": "ipython3",
   "version": "3.9.7"
  }
 },
 "nbformat": 4,
 "nbformat_minor": 1
}
