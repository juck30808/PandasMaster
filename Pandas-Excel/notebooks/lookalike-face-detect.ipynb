{
 "cells": [
  {
   "cell_type": "markdown",
   "metadata": {},
   "source": [
    "### Building a Celebrity Look-Alike Detector with Azure's Face Detect and Python\n",
    "Notebook accompanying the article on [Practical Business Python](https://pbpython.com/python-face-detect.html)"
   ]
  },
  {
   "cell_type": "code",
   "execution_count": 1,
   "metadata": {},
   "outputs": [],
   "source": [
    "from pathlib import Path\n",
    "from urllib.parse import urlparse\n",
    "import requests\n",
    "import json\n",
    "from PIL import Image\n",
    "from io import BytesIO\n",
    "from matplotlib import patches\n",
    "import matplotlib.pyplot as plt"
   ]
  },
  {
   "cell_type": "code",
   "execution_count": 2,
   "metadata": {},
   "outputs": [],
   "source": [
    "%matplotlib inline"
   ]
  },
  {
   "cell_type": "code",
   "execution_count": 3,
   "metadata": {},
   "outputs": [],
   "source": [
    "# Define your own subscription key\n",
    "subscription_key = '7f44794XXXXXXXXXXXXXXX4a8e080b41'\n",
    "assert subscription_key"
   ]
  },
  {
   "cell_type": "code",
   "execution_count": 4,
   "metadata": {},
   "outputs": [],
   "source": [
    "# You must use your own URL endpoint that is paired with the subscription key\n",
    "face_api_url = 'https://northcentralus.api.cognitive.microsoft.com/face/v1.0/detect'\n",
    "face_api_url_verify = 'https://northcentralus.api.cognitive.microsoft.com/face/v1.0/verify'"
   ]
  },
  {
   "cell_type": "code",
   "execution_count": 5,
   "metadata": {},
   "outputs": [],
   "source": [
    "# Run a simple example to make sure it all works"
   ]
  },
  {
   "cell_type": "code",
   "execution_count": 6,
   "metadata": {},
   "outputs": [],
   "source": [
    "image_url = 'https://amp.insider.com/images/5a9878b3267894f3058b4676-640-480.jpg'\n",
    "headers = {'Ocp-Apim-Subscription-Key': subscription_key}\n",
    "\n",
    "params = {\n",
    "    'returnFaceId':\n",
    "    'true',\n",
    "    'returnFaceLandmarks':\n",
    "    'false',\n",
    "    'returnFaceAttributes':\n",
    "    'age,gender,headPose,smile,facialHair,glasses,emotion,hair,makeup,occlusion,accessories,blur,exposure,noise',\n",
    "}\n",
    "\n",
    "response = requests.post(face_api_url,\n",
    "                         params=params,\n",
    "                         headers=headers,\n",
    "                         json={\"url\": image_url})"
   ]
  },
  {
   "cell_type": "code",
   "execution_count": 7,
   "metadata": {},
   "outputs": [
    {
     "data": {
      "text/plain": [
       "{'error': {'code': '401',\n",
       "  'message': 'Access denied due to invalid subscription key or wrong API endpoint. Make sure to provide a valid key for an active subscription and use a correct regional API endpoint for your resource.'}}"
      ]
     },
     "execution_count": 7,
     "metadata": {},
     "output_type": "execute_result"
    }
   ],
   "source": [
    "# Inspect the response to see what data is returned\n",
    "response.json()"
   ]
  },
  {
   "cell_type": "code",
   "execution_count": 8,
   "metadata": {},
   "outputs": [],
   "source": [
    "# Define the helper function to annotate the images"
   ]
  },
  {
   "cell_type": "code",
   "execution_count": 9,
   "metadata": {},
   "outputs": [],
   "source": [
    "def annotate_image(image_url, subscription_key, api_url, show_face_id=False):\n",
    "    \"\"\" Helper function for Microsoft Azure face dectector. \n",
    "    \n",
    "    Args:\n",
    "        image_url: Can be a remote http://  or file:// url pointing to an image less then 10MB\n",
    "        subscription_key: Cognitive services generated key\n",
    "        api_url: API end point from Cognitive services\n",
    "        show_face_id: If True, display the first 6 characters of the faceID\n",
    "        \n",
    "    Returns:\n",
    "        figure: matplotlib figure that contains the image and boxes around the faces with their age and gender\n",
    "        json response: Full json data returned from the API call\n",
    "        \n",
    "    \"\"\"\n",
    "\n",
    "    # The default header must include the sunbscription key\n",
    "    headers = {'Ocp-Apim-Subscription-Key': subscription_key}\n",
    "\n",
    "    params = {\n",
    "        'returnFaceId': 'true',\n",
    "        'returnFaceLandmarks': 'false',\n",
    "        'returnFaceAttributes': 'age,gender,headPose,smile,facialHair,glasses,emotion,hair,makeup,occlusion,accessories,blur,exposure,noise',\n",
    "    }\n",
    "\n",
    "    # Figure out if this is a local file or url\n",
    "    parsed_url = urlparse(image_url)\n",
    "    if parsed_url.scheme == 'file':\n",
    "        image_data = open(parsed_url.path, \"rb\").read()\n",
    "        \n",
    "        # When making the request, we need to add a Content-Type Header\n",
    "        # and pass data instead of a url\n",
    "        headers['Content-Type']='application/octet-stream'\n",
    "        response = requests.post(api_url, params=params, headers=headers, data=image_data)\n",
    "        \n",
    "        # Open up the image for plotting\n",
    "        image = Image.open(parsed_url.path)\n",
    "    else:\n",
    "        # Pass in the URL to the API\n",
    "        response = requests.post(api_url, params=params, headers=headers, json={\"url\": image_url})\n",
    "        image_file = BytesIO(requests.get(image_url).content)\n",
    "        image = Image.open(image_file)\n",
    "    \n",
    "    faces = response.json()\n",
    "    \n",
    "    fig, ax = plt.subplots(figsize=(10,10))\n",
    "\n",
    "    ax.imshow(image, alpha=0.6)\n",
    "    for face in faces:\n",
    "        fr = face[\"faceRectangle\"]\n",
    "        fa = face[\"faceAttributes\"]\n",
    "        origin = (fr[\"left\"], fr[\"top\"])\n",
    "        p = patches.Rectangle(origin, fr[\"width\"], \n",
    "                              fr[\"height\"], fill=False, linewidth=2, color='b')\n",
    "        ax.axes.add_patch(p)\n",
    "        ax.text(origin[0], origin[1], \"%s, %d\"%(fa[\"gender\"].capitalize(), fa[\"age\"]), \n",
    "                 fontsize=16, weight=\"bold\", va=\"bottom\")\n",
    "        \n",
    "        if show_face_id:\n",
    "            ax.text(origin[0], origin[1]+fr[\"height\"], \"%s\"%(face[\"faceId\"][:5]), \n",
    "             fontsize=12, va=\"bottom\")\n",
    "    ax.axis(\"off\")\n",
    "    \n",
    "    # Explicitly closing image so it does not show in the notebook\n",
    "    plt.close()\n",
    "    return fig, faces"
   ]
  },
  {
   "cell_type": "code",
   "execution_count": 10,
   "metadata": {},
   "outputs": [],
   "source": [
    "# Another helper function to compare faces"
   ]
  },
  {
   "cell_type": "code",
   "execution_count": 11,
   "metadata": {},
   "outputs": [],
   "source": [
    "def face_compare(id_1, id_2, api_url):\n",
    "    \"\"\" Determine if two faceIDs are for the same person   \n",
    "    Args:\n",
    "        id_1: faceID for person 1\n",
    "        id_2: faceID for person 2\n",
    "        api_url: API end point from Cognitive services\n",
    "        show_face_id: If True, display the first 6 characters of the faceID\n",
    "        \n",
    "    Returns:\n",
    "        json response: Full json data returned from the API call\n",
    "        \n",
    "    \"\"\"\n",
    "    headers = {\n",
    "        'Content-Type': 'application/json',\n",
    "        'Ocp-Apim-Subscription-Key': subscription_key\n",
    "    }\n",
    "\n",
    "    body = {\"faceId1\": id_1, \"faceId2\": id_2}\n",
    "\n",
    "    params = {}\n",
    "    response = requests.post(api_url,\n",
    "                             params=params,\n",
    "                             headers=headers,\n",
    "                             json=body)\n",
    "    return response.json()"
   ]
  },
  {
   "cell_type": "code",
   "execution_count": 12,
   "metadata": {},
   "outputs": [
    {
     "ename": "UnidentifiedImageError",
     "evalue": "cannot identify image file <_io.BytesIO object at 0x000001FF32930220>",
     "output_type": "error",
     "traceback": [
      "\u001b[1;31m---------------------------------------------------------------------------\u001b[0m",
      "\u001b[1;31mUnidentifiedImageError\u001b[0m                    Traceback (most recent call last)",
      "\u001b[1;32mC:\\Users\\CTI110~1\\AppData\\Local\\Temp/ipykernel_17368/3684517410.py\u001b[0m in \u001b[0;36m<module>\u001b[1;34m\u001b[0m\n\u001b[0;32m      1\u001b[0m \u001b[1;31m# Let's test this out on an image\u001b[0m\u001b[1;33m\u001b[0m\u001b[1;33m\u001b[0m\u001b[0m\n\u001b[1;32m----> 2\u001b[1;33m labeled_image_1, response_1 = annotate_image(\n\u001b[0m\u001b[0;32m      3\u001b[0m     \u001b[1;34m'https://amp.insider.com/images/5a9878b3267894f3058b4676-640-480.jpg'\u001b[0m\u001b[1;33m,\u001b[0m\u001b[1;33m\u001b[0m\u001b[1;33m\u001b[0m\u001b[0m\n\u001b[0;32m      4\u001b[0m     \u001b[0msubscription_key\u001b[0m\u001b[1;33m,\u001b[0m\u001b[1;33m\u001b[0m\u001b[1;33m\u001b[0m\u001b[0m\n\u001b[0;32m      5\u001b[0m     \u001b[0mface_api_url\u001b[0m\u001b[1;33m,\u001b[0m\u001b[1;33m\u001b[0m\u001b[1;33m\u001b[0m\u001b[0m\n",
      "\u001b[1;32mC:\\Users\\CTI110~1\\AppData\\Local\\Temp/ipykernel_17368/2560112481.py\u001b[0m in \u001b[0;36mannotate_image\u001b[1;34m(image_url, subscription_key, api_url, show_face_id)\u001b[0m\n\u001b[0;32m     39\u001b[0m         \u001b[0mresponse\u001b[0m \u001b[1;33m=\u001b[0m \u001b[0mrequests\u001b[0m\u001b[1;33m.\u001b[0m\u001b[0mpost\u001b[0m\u001b[1;33m(\u001b[0m\u001b[0mapi_url\u001b[0m\u001b[1;33m,\u001b[0m \u001b[0mparams\u001b[0m\u001b[1;33m=\u001b[0m\u001b[0mparams\u001b[0m\u001b[1;33m,\u001b[0m \u001b[0mheaders\u001b[0m\u001b[1;33m=\u001b[0m\u001b[0mheaders\u001b[0m\u001b[1;33m,\u001b[0m \u001b[0mjson\u001b[0m\u001b[1;33m=\u001b[0m\u001b[1;33m{\u001b[0m\u001b[1;34m\"url\"\u001b[0m\u001b[1;33m:\u001b[0m \u001b[0mimage_url\u001b[0m\u001b[1;33m}\u001b[0m\u001b[1;33m)\u001b[0m\u001b[1;33m\u001b[0m\u001b[1;33m\u001b[0m\u001b[0m\n\u001b[0;32m     40\u001b[0m         \u001b[0mimage_file\u001b[0m \u001b[1;33m=\u001b[0m \u001b[0mBytesIO\u001b[0m\u001b[1;33m(\u001b[0m\u001b[0mrequests\u001b[0m\u001b[1;33m.\u001b[0m\u001b[0mget\u001b[0m\u001b[1;33m(\u001b[0m\u001b[0mimage_url\u001b[0m\u001b[1;33m)\u001b[0m\u001b[1;33m.\u001b[0m\u001b[0mcontent\u001b[0m\u001b[1;33m)\u001b[0m\u001b[1;33m\u001b[0m\u001b[1;33m\u001b[0m\u001b[0m\n\u001b[1;32m---> 41\u001b[1;33m         \u001b[0mimage\u001b[0m \u001b[1;33m=\u001b[0m \u001b[0mImage\u001b[0m\u001b[1;33m.\u001b[0m\u001b[0mopen\u001b[0m\u001b[1;33m(\u001b[0m\u001b[0mimage_file\u001b[0m\u001b[1;33m)\u001b[0m\u001b[1;33m\u001b[0m\u001b[1;33m\u001b[0m\u001b[0m\n\u001b[0m\u001b[0;32m     42\u001b[0m \u001b[1;33m\u001b[0m\u001b[0m\n\u001b[0;32m     43\u001b[0m     \u001b[0mfaces\u001b[0m \u001b[1;33m=\u001b[0m \u001b[0mresponse\u001b[0m\u001b[1;33m.\u001b[0m\u001b[0mjson\u001b[0m\u001b[1;33m(\u001b[0m\u001b[1;33m)\u001b[0m\u001b[1;33m\u001b[0m\u001b[1;33m\u001b[0m\u001b[0m\n",
      "\u001b[1;32m~\\Anaconda3\\lib\\site-packages\\PIL\\Image.py\u001b[0m in \u001b[0;36mopen\u001b[1;34m(fp, mode, formats)\u001b[0m\n\u001b[0;32m   3028\u001b[0m     \u001b[1;32mfor\u001b[0m \u001b[0mmessage\u001b[0m \u001b[1;32min\u001b[0m \u001b[0maccept_warnings\u001b[0m\u001b[1;33m:\u001b[0m\u001b[1;33m\u001b[0m\u001b[1;33m\u001b[0m\u001b[0m\n\u001b[0;32m   3029\u001b[0m         \u001b[0mwarnings\u001b[0m\u001b[1;33m.\u001b[0m\u001b[0mwarn\u001b[0m\u001b[1;33m(\u001b[0m\u001b[0mmessage\u001b[0m\u001b[1;33m)\u001b[0m\u001b[1;33m\u001b[0m\u001b[1;33m\u001b[0m\u001b[0m\n\u001b[1;32m-> 3030\u001b[1;33m     raise UnidentifiedImageError(\n\u001b[0m\u001b[0;32m   3031\u001b[0m         \u001b[1;34m\"cannot identify image file %r\"\u001b[0m \u001b[1;33m%\u001b[0m \u001b[1;33m(\u001b[0m\u001b[0mfilename\u001b[0m \u001b[1;32mif\u001b[0m \u001b[0mfilename\u001b[0m \u001b[1;32melse\u001b[0m \u001b[0mfp\u001b[0m\u001b[1;33m)\u001b[0m\u001b[1;33m\u001b[0m\u001b[1;33m\u001b[0m\u001b[0m\n\u001b[0;32m   3032\u001b[0m     )\n",
      "\u001b[1;31mUnidentifiedImageError\u001b[0m: cannot identify image file <_io.BytesIO object at 0x000001FF32930220>"
     ]
    }
   ],
   "source": [
    "# Let's test this out on an image\n",
    "labeled_image_1, response_1 = annotate_image(\n",
    "    'https://amp.insider.com/images/5a9878b3267894f3058b4676-640-480.jpg',\n",
    "    subscription_key,\n",
    "    face_api_url,\n",
    "    show_face_id=True)"
   ]
  },
  {
   "cell_type": "code",
   "execution_count": null,
   "metadata": {},
   "outputs": [],
   "source": [
    "labeled_image_1"
   ]
  },
  {
   "cell_type": "code",
   "execution_count": null,
   "metadata": {},
   "outputs": [],
   "source": [
    "response_1"
   ]
  },
  {
   "cell_type": "code",
   "execution_count": null,
   "metadata": {},
   "outputs": [],
   "source": [
    "# Print out some of the attributes\n",
    "print(response_1[0]['faceId'], response_1[0]['faceAttributes']['emotion'])"
   ]
  },
  {
   "cell_type": "code",
   "execution_count": null,
   "metadata": {},
   "outputs": [],
   "source": [
    "# Take a look at all the face attributes available\n",
    "response_1[0]['faceAttributes']"
   ]
  },
  {
   "cell_type": "code",
   "execution_count": null,
   "metadata": {},
   "outputs": [],
   "source": [
    "# Now compare a different image\n",
    "john_k_2 = 'https://img.webmd.com/dtmcms/live/webmd/consumer_assets/site_images/article_thumbnails/magazine/2018/05_2018/john_krasinski_magazine/650x350_john_krasinski_magazine.jpg'\n",
    "labeled_image_2, response_2 = annotate_image(john_k_2,\n",
    "                                             subscription_key,\n",
    "                                             face_api_url,\n",
    "                                             show_face_id=True)"
   ]
  },
  {
   "cell_type": "code",
   "execution_count": null,
   "metadata": {},
   "outputs": [],
   "source": [
    "labeled_image_2"
   ]
  },
  {
   "cell_type": "code",
   "execution_count": null,
   "metadata": {},
   "outputs": [],
   "source": [
    "# Let's compare the images of John K\n",
    "face_compare(response_1[0]['faceId'], response_2[0]['faceId'], face_api_url_verify)"
   ]
  },
  {
   "cell_type": "code",
   "execution_count": null,
   "metadata": {},
   "outputs": [],
   "source": [
    "# Let's try on the celebrity lookalikes\n",
    "zooey_katy = 'https://www.nydailynews.com/resizer/vboKUbzNIwhFRFfr-jGqZlmx0Ws=/800x597/top/arc-anglerfish-arc2-prod-tronc.s3.amazonaws.com/public/VE7PI5PUDWW2BTS7NYR5OWEL3A.jpg'\n",
    "labeled_image_z_k, response_4 = annotate_image(zooey_katy,\n",
    "                                                      subscription_key,\n",
    "                                                      face_api_url,\n",
    "                                                      show_face_id=False)"
   ]
  },
  {
   "cell_type": "code",
   "execution_count": null,
   "metadata": {},
   "outputs": [],
   "source": [
    "labeled_image_z_k"
   ]
  },
  {
   "cell_type": "code",
   "execution_count": null,
   "metadata": {},
   "outputs": [],
   "source": [
    "face_compare(response_4[0]['faceId'], response_4[1]['faceId'],\n",
    "             face_api_url_verify)"
   ]
  },
  {
   "cell_type": "code",
   "execution_count": null,
   "metadata": {},
   "outputs": [],
   "source": [
    "# How about a more challenging one?\n",
    "rob_lowe = 'http://cdn.ppcorn.com/wp-content/uploads/sites/14/2015/08/rob-ian-ppcorn-760x500.jpg'\n",
    "labeled_image_rob, response_5 = annotate_image(rob_lowe, subscription_key,\n",
    "                                               face_api_url)"
   ]
  },
  {
   "cell_type": "code",
   "execution_count": null,
   "metadata": {},
   "outputs": [],
   "source": [
    "labeled_image_rob"
   ]
  },
  {
   "cell_type": "code",
   "execution_count": null,
   "metadata": {},
   "outputs": [],
   "source": [
    "# Looks like we truly can't tell these two apart!\n",
    "face_compare(response_5[0]['faceId'], response_5[1]['faceId'],\n",
    "             face_api_url_verify)"
   ]
  },
  {
   "cell_type": "code",
   "execution_count": null,
   "metadata": {},
   "outputs": [],
   "source": [
    "# Run this on a group of people\n",
    "friends_url = 'https://pmctvline2.files.wordpress.com/2019/03/friends-revival.jpg'\n",
    "labeled_image, response_6 = annotate_image(friends_url, subscription_key,\n",
    "                                           face_api_url)"
   ]
  },
  {
   "cell_type": "code",
   "execution_count": null,
   "metadata": {},
   "outputs": [],
   "source": [
    "labeled_image"
   ]
  },
  {
   "cell_type": "code",
   "execution_count": null,
   "metadata": {},
   "outputs": [],
   "source": [
    "# How many people in the picture?\n",
    "print(f'{len(response_6)} People in this picture')"
   ]
  },
  {
   "cell_type": "code",
   "execution_count": null,
   "metadata": {},
   "outputs": [],
   "source": [
    "# Sometimes groups don't work as well\n",
    "office_image = 'https://www.usmagazine.com/wp-content/uploads/2018/12/the-office-cast-reunion-brunch-photo.jpg?w=768&h=512'\n",
    "labeled_image, response_7 = annotate_image(office_image, subscription_key,\n",
    "                                              face_api_url)"
   ]
  },
  {
   "cell_type": "code",
   "execution_count": null,
   "metadata": {},
   "outputs": [],
   "source": [
    "labeled_image"
   ]
  },
  {
   "cell_type": "code",
   "execution_count": null,
   "metadata": {},
   "outputs": [],
   "source": [
    "print(f'{len(response_7)} People in this picture')"
   ]
  },
  {
   "cell_type": "code",
   "execution_count": null,
   "metadata": {},
   "outputs": [],
   "source": []
  }
 ],
 "metadata": {
  "kernelspec": {
   "display_name": "Python 3 (ipykernel)",
   "language": "python",
   "name": "python3"
  },
  "language_info": {
   "codemirror_mode": {
    "name": "ipython",
    "version": 3
   },
   "file_extension": ".py",
   "mimetype": "text/x-python",
   "name": "python",
   "nbconvert_exporter": "python",
   "pygments_lexer": "ipython3",
   "version": "3.9.7"
  }
 },
 "nbformat": 4,
 "nbformat_minor": 2
}
