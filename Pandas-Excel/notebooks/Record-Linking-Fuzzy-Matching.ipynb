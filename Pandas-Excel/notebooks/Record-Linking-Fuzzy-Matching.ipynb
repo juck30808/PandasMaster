{
 "cells": [
  {
   "cell_type": "markdown",
   "metadata": {},
   "source": [
    "## Python Tools for Record Linking and Fuzzy Matching\n",
    "\n",
    "This notebook accompanies the [article](https://pbpython.com/record-linking.html) on Practical Business Python\n",
    "\n",
    "This notebook relies on [fuzzymatcher](https://github.com/RobinL/fuzzymatcher) and the [Python Record Linkage Toolkit](https://recordlinkage.readthedocs.io/en/latest/about.html)\n"
   ]
  },
  {
   "cell_type": "code",
   "execution_count": 1,
   "metadata": {},
   "outputs": [
    {
     "name": "stdout",
     "output_type": "stream",
     "text": [
      "Collecting fuzzymatcher\n",
      "  Downloading fuzzymatcher-0.0.6-py3-none-any.whl (15 kB)\n",
      "Collecting metaphone\n",
      "  Downloading Metaphone-0.6.tar.gz (14 kB)\n",
      "Collecting rapidfuzz\n",
      "  Downloading rapidfuzz-2.6.0-cp39-cp39-win_amd64.whl (1.4 MB)\n",
      "Requirement already satisfied: python-dateutil in c:\\users\\cti110016\\anaconda3\\lib\\site-packages (from fuzzymatcher) (2.8.2)\n",
      "Collecting python-Levenshtein\n",
      "  Downloading python-Levenshtein-0.12.2.tar.gz (50 kB)\n",
      "Requirement already satisfied: pandas in c:\\users\\cti110016\\anaconda3\\lib\\site-packages (from fuzzymatcher) (1.3.4)\n",
      "Requirement already satisfied: pytz>=2017.3 in c:\\users\\cti110016\\anaconda3\\lib\\site-packages (from pandas->fuzzymatcher) (2021.3)\n",
      "Requirement already satisfied: numpy>=1.17.3 in c:\\users\\cti110016\\anaconda3\\lib\\site-packages (from pandas->fuzzymatcher) (1.20.3)\n",
      "Requirement already satisfied: six>=1.5 in c:\\users\\cti110016\\anaconda3\\lib\\site-packages (from python-dateutil->fuzzymatcher) (1.16.0)\n",
      "Requirement already satisfied: setuptools in c:\\users\\cti110016\\anaconda3\\lib\\site-packages (from python-Levenshtein->fuzzymatcher) (62.6.0)\n",
      "Collecting jarowinkler<2.0.0,>=1.2.0\n",
      "  Downloading jarowinkler-1.2.1-cp39-cp39-win_amd64.whl (61 kB)\n",
      "Building wheels for collected packages: metaphone, python-Levenshtein\n",
      "  Building wheel for metaphone (setup.py): started\n",
      "  Building wheel for metaphone (setup.py): finished with status 'done'\n",
      "  Created wheel for metaphone: filename=Metaphone-0.6-py3-none-any.whl size=13901 sha256=04001d4149e5e29bd968c927b0d367bd471fc466add6aa865a7160ef783f8e90\n",
      "  Stored in directory: c:\\users\\cti110016\\appdata\\local\\pip\\cache\\wheels\\b2\\9e\\d9\\26be7687b8fe36cd6cacbec34e825a3dbcd3bae54017cfb385\n",
      "  Building wheel for python-Levenshtein (setup.py): started\n",
      "  Building wheel for python-Levenshtein (setup.py): finished with status 'error'\n",
      "  Running setup.py clean for python-Levenshtein\n",
      "Successfully built metaphone\n",
      "Failed to build python-Levenshtein\n",
      "Installing collected packages: jarowinkler, rapidfuzz, python-Levenshtein, metaphone, fuzzymatcher\n",
      "    Running setup.py install for python-Levenshtein: started\n",
      "    Running setup.py install for python-Levenshtein: finished with status 'error'\n",
      "Note: you may need to restart the kernel to use updated packages.\n"
     ]
    },
    {
     "name": "stderr",
     "output_type": "stream",
     "text": [
      "  ERROR: Command errored out with exit status 1:\n",
      "   command: 'C:\\Users\\cti110016\\Anaconda3\\python.exe' -u -c 'import io, os, sys, setuptools, tokenize; sys.argv[0] = '\"'\"'C:\\\\Users\\\\cti110016\\\\AppData\\\\Local\\\\Temp\\\\pip-install-9jzk5vgx\\\\python-levenshtein_30ba0467f5294a7296f6acc1a0aab2d2\\\\setup.py'\"'\"'; __file__='\"'\"'C:\\\\Users\\\\cti110016\\\\AppData\\\\Local\\\\Temp\\\\pip-install-9jzk5vgx\\\\python-levenshtein_30ba0467f5294a7296f6acc1a0aab2d2\\\\setup.py'\"'\"';f = getattr(tokenize, '\"'\"'open'\"'\"', open)(__file__) if os.path.exists(__file__) else io.StringIO('\"'\"'from setuptools import setup; setup()'\"'\"');code = f.read().replace('\"'\"'\\r\\n'\"'\"', '\"'\"'\\n'\"'\"');f.close();exec(compile(code, __file__, '\"'\"'exec'\"'\"'))' bdist_wheel -d 'C:\\Users\\cti110016\\AppData\\Local\\Temp\\pip-wheel-78wrttx0'\n",
      "       cwd: C:\\Users\\cti110016\\AppData\\Local\\Temp\\pip-install-9jzk5vgx\\python-levenshtein_30ba0467f5294a7296f6acc1a0aab2d2\\\n",
      "  Complete output (28 lines):\n",
      "  running bdist_wheel\n",
      "  running build\n",
      "  running build_py\n",
      "  creating build\n",
      "  creating build\\lib.win-amd64-cpython-39\n",
      "  creating build\\lib.win-amd64-cpython-39\\Levenshtein\n",
      "  copying Levenshtein\\StringMatcher.py -> build\\lib.win-amd64-cpython-39\\Levenshtein\n",
      "  copying Levenshtein\\__init__.py -> build\\lib.win-amd64-cpython-39\\Levenshtein\n",
      "  running egg_info\n",
      "  writing python_Levenshtein.egg-info\\PKG-INFO\n",
      "  writing dependency_links to python_Levenshtein.egg-info\\dependency_links.txt\n",
      "  deleting python_Levenshtein.egg-info\\entry_points.txt\n",
      "  writing namespace_packages to python_Levenshtein.egg-info\\namespace_packages.txt\n",
      "  writing requirements to python_Levenshtein.egg-info\\requires.txt\n",
      "  writing top-level names to python_Levenshtein.egg-info\\top_level.txt\n",
      "  reading manifest file 'python_Levenshtein.egg-info\\SOURCES.txt'\n",
      "  reading manifest template 'MANIFEST.in'\n",
      "  warning: no previously-included files matching '*pyc' found anywhere in distribution\n",
      "  warning: no previously-included files matching '*so' found anywhere in distribution\n",
      "  warning: no previously-included files matching '.project' found anywhere in distribution\n",
      "  warning: no previously-included files matching '.pydevproject' found anywhere in distribution\n",
      "  adding license file 'COPYING'\n",
      "  writing manifest file 'python_Levenshtein.egg-info\\SOURCES.txt'\n",
      "  copying Levenshtein\\_levenshtein.c -> build\\lib.win-amd64-cpython-39\\Levenshtein\n",
      "  copying Levenshtein\\_levenshtein.h -> build\\lib.win-amd64-cpython-39\\Levenshtein\n",
      "  running build_ext\n",
      "  building 'Levenshtein._levenshtein' extension\n",
      "  error: Microsoft Visual C++ 14.0 or greater is required. Get it with \"Microsoft C++ Build Tools\": https://visualstudio.microsoft.com/visual-cpp-build-tools/\n",
      "  ----------------------------------------\n",
      "  ERROR: Failed building wheel for python-Levenshtein\n",
      "    ERROR: Command errored out with exit status 1:\n",
      "     command: 'C:\\Users\\cti110016\\Anaconda3\\python.exe' -u -c 'import io, os, sys, setuptools, tokenize; sys.argv[0] = '\"'\"'C:\\\\Users\\\\cti110016\\\\AppData\\\\Local\\\\Temp\\\\pip-install-9jzk5vgx\\\\python-levenshtein_30ba0467f5294a7296f6acc1a0aab2d2\\\\setup.py'\"'\"'; __file__='\"'\"'C:\\\\Users\\\\cti110016\\\\AppData\\\\Local\\\\Temp\\\\pip-install-9jzk5vgx\\\\python-levenshtein_30ba0467f5294a7296f6acc1a0aab2d2\\\\setup.py'\"'\"';f = getattr(tokenize, '\"'\"'open'\"'\"', open)(__file__) if os.path.exists(__file__) else io.StringIO('\"'\"'from setuptools import setup; setup()'\"'\"');code = f.read().replace('\"'\"'\\r\\n'\"'\"', '\"'\"'\\n'\"'\"');f.close();exec(compile(code, __file__, '\"'\"'exec'\"'\"'))' install --record 'C:\\Users\\cti110016\\AppData\\Local\\Temp\\pip-record-giuvjwyq\\install-record.txt' --single-version-externally-managed --compile --install-headers 'C:\\Users\\cti110016\\Anaconda3\\Include\\python-Levenshtein'\n",
      "         cwd: C:\\Users\\cti110016\\AppData\\Local\\Temp\\pip-install-9jzk5vgx\\python-levenshtein_30ba0467f5294a7296f6acc1a0aab2d2\\\n",
      "    Complete output (29 lines):\n",
      "    running install\n",
      "    C:\\Users\\cti110016\\Anaconda3\\lib\\site-packages\\setuptools\\command\\install.py:34: SetuptoolsDeprecationWarning: setup.py install is deprecated. Use build and pip and other standards-based tools.\n",
      "      warnings.warn(\n",
      "    running build\n",
      "    running build_py\n",
      "    creating build\n",
      "    creating build\\lib.win-amd64-cpython-39\n",
      "    creating build\\lib.win-amd64-cpython-39\\Levenshtein\n",
      "    copying Levenshtein\\StringMatcher.py -> build\\lib.win-amd64-cpython-39\\Levenshtein\n",
      "    copying Levenshtein\\__init__.py -> build\\lib.win-amd64-cpython-39\\Levenshtein\n",
      "    running egg_info\n",
      "    writing python_Levenshtein.egg-info\\PKG-INFO\n",
      "    writing dependency_links to python_Levenshtein.egg-info\\dependency_links.txt\n",
      "    writing namespace_packages to python_Levenshtein.egg-info\\namespace_packages.txt\n",
      "    writing requirements to python_Levenshtein.egg-info\\requires.txt\n",
      "    writing top-level names to python_Levenshtein.egg-info\\top_level.txt\n",
      "    reading manifest file 'python_Levenshtein.egg-info\\SOURCES.txt'\n",
      "    reading manifest template 'MANIFEST.in'\n",
      "    warning: no previously-included files matching '*pyc' found anywhere in distribution\n",
      "    warning: no previously-included files matching '*so' found anywhere in distribution\n",
      "    warning: no previously-included files matching '.project' found anywhere in distribution\n",
      "    warning: no previously-included files matching '.pydevproject' found anywhere in distribution\n",
      "    adding license file 'COPYING'\n",
      "    writing manifest file 'python_Levenshtein.egg-info\\SOURCES.txt'\n",
      "    copying Levenshtein\\_levenshtein.c -> build\\lib.win-amd64-cpython-39\\Levenshtein\n",
      "    copying Levenshtein\\_levenshtein.h -> build\\lib.win-amd64-cpython-39\\Levenshtein\n",
      "    running build_ext\n",
      "    building 'Levenshtein._levenshtein' extension\n",
      "    error: Microsoft Visual C++ 14.0 or greater is required. Get it with \"Microsoft C++ Build Tools\": https://visualstudio.microsoft.com/visual-cpp-build-tools/\n",
      "    ----------------------------------------\n",
      "ERROR: Command errored out with exit status 1: 'C:\\Users\\cti110016\\Anaconda3\\python.exe' -u -c 'import io, os, sys, setuptools, tokenize; sys.argv[0] = '\"'\"'C:\\\\Users\\\\cti110016\\\\AppData\\\\Local\\\\Temp\\\\pip-install-9jzk5vgx\\\\python-levenshtein_30ba0467f5294a7296f6acc1a0aab2d2\\\\setup.py'\"'\"'; __file__='\"'\"'C:\\\\Users\\\\cti110016\\\\AppData\\\\Local\\\\Temp\\\\pip-install-9jzk5vgx\\\\python-levenshtein_30ba0467f5294a7296f6acc1a0aab2d2\\\\setup.py'\"'\"';f = getattr(tokenize, '\"'\"'open'\"'\"', open)(__file__) if os.path.exists(__file__) else io.StringIO('\"'\"'from setuptools import setup; setup()'\"'\"');code = f.read().replace('\"'\"'\\r\\n'\"'\"', '\"'\"'\\n'\"'\"');f.close();exec(compile(code, __file__, '\"'\"'exec'\"'\"'))' install --record 'C:\\Users\\cti110016\\AppData\\Local\\Temp\\pip-record-giuvjwyq\\install-record.txt' --single-version-externally-managed --compile --install-headers 'C:\\Users\\cti110016\\Anaconda3\\Include\\python-Levenshtein' Check the logs for full command output.\n"
     ]
    }
   ],
   "source": [
    "pip install fuzzymatcher"
   ]
  },
  {
   "cell_type": "code",
   "execution_count": 3,
   "metadata": {},
   "outputs": [
    {
     "ename": "ModuleNotFoundError",
     "evalue": "No module named 'fuzzymatcher'",
     "output_type": "error",
     "traceback": [
      "\u001b[1;31m---------------------------------------------------------------------------\u001b[0m",
      "\u001b[1;31mModuleNotFoundError\u001b[0m                       Traceback (most recent call last)",
      "\u001b[1;32mC:\\Users\\CTI110~1\\AppData\\Local\\Temp/ipykernel_15708/914649756.py\u001b[0m in \u001b[0;36m<module>\u001b[1;34m\u001b[0m\n\u001b[0;32m      1\u001b[0m \u001b[1;32mimport\u001b[0m \u001b[0mpandas\u001b[0m \u001b[1;32mas\u001b[0m \u001b[0mpd\u001b[0m\u001b[1;33m\u001b[0m\u001b[1;33m\u001b[0m\u001b[0m\n\u001b[0;32m      2\u001b[0m \u001b[1;32mfrom\u001b[0m \u001b[0mpathlib\u001b[0m \u001b[1;32mimport\u001b[0m \u001b[0mPath\u001b[0m\u001b[1;33m\u001b[0m\u001b[1;33m\u001b[0m\u001b[0m\n\u001b[1;32m----> 3\u001b[1;33m \u001b[1;32mimport\u001b[0m \u001b[0mfuzzymatcher\u001b[0m\u001b[1;33m\u001b[0m\u001b[1;33m\u001b[0m\u001b[0m\n\u001b[0m\u001b[0;32m      4\u001b[0m \u001b[1;32mimport\u001b[0m \u001b[0mrecordlinkage\u001b[0m\u001b[1;33m\u001b[0m\u001b[1;33m\u001b[0m\u001b[0m\n",
      "\u001b[1;31mModuleNotFoundError\u001b[0m: No module named 'fuzzymatcher'"
     ]
    }
   ],
   "source": [
    "import pandas as pd\n",
    "from pathlib import Path\n",
    "import fuzzymatcher\n",
    "import recordlinkage"
   ]
  },
  {
   "cell_type": "markdown",
   "metadata": {},
   "source": [
    "### Example using fuzzymatcher"
   ]
  },
  {
   "cell_type": "code",
   "execution_count": null,
   "metadata": {},
   "outputs": [],
   "source": [
    "hospital_accounts = pd.read_csv(\n",
    "    'https://github.com/chris1610/pbpython/raw/master/data/hospital_account_info.csv'\n",
    ")\n",
    "hospital_reimbursement = pd.read_csv(\n",
    "    'https://raw.githubusercontent.com/chris1610/pbpython/master/data/hospital_reimbursement.csv'\n",
    ")"
   ]
  },
  {
   "cell_type": "code",
   "execution_count": null,
   "metadata": {},
   "outputs": [],
   "source": [
    "hospital_accounts.head()"
   ]
  },
  {
   "cell_type": "code",
   "execution_count": null,
   "metadata": {},
   "outputs": [],
   "source": [
    "hospital_reimbursement.head()"
   ]
  },
  {
   "cell_type": "code",
   "execution_count": null,
   "metadata": {},
   "outputs": [],
   "source": [
    "# Columns to match on from df_left\n",
    "left_on = [\"Facility Name\", \"Address\", \"City\", \"State\"]\n",
    "\n",
    "# Columns to match on from df_right\n",
    "right_on = [\n",
    "    \"Provider Name\", \"Provider Street Address\", \"Provider City\",\n",
    "    \"Provider State\"\n",
    "]"
   ]
  },
  {
   "cell_type": "code",
   "execution_count": null,
   "metadata": {},
   "outputs": [],
   "source": [
    "# Now perform the match\n",
    "# It will take several minutes to run on this data set\n",
    "matched_results = fuzzymatcher.fuzzy_left_join(hospital_accounts,\n",
    "                                               hospital_reimbursement,\n",
    "                                               left_on,\n",
    "                                               right_on,\n",
    "                                               left_id_col='Account_Num',\n",
    "                                               right_id_col='Provider_Num')"
   ]
  },
  {
   "cell_type": "code",
   "execution_count": null,
   "metadata": {},
   "outputs": [],
   "source": [
    "matched_results.head()"
   ]
  },
  {
   "cell_type": "code",
   "execution_count": null,
   "metadata": {},
   "outputs": [],
   "source": [
    "# Reorder the columns to make viewing easier\n",
    "cols = [\n",
    "    \"best_match_score\", \"Facility Name\", \"Provider Name\", \"Address\", \"Provider Street Address\",\n",
    "    \"Provider City\", \"City\", \"Provider State\", \"State\"\n",
    "]"
   ]
  },
  {
   "cell_type": "code",
   "execution_count": null,
   "metadata": {},
   "outputs": [],
   "source": [
    "# Let's see the best matches\n",
    "matched_results[cols].sort_values(by=['best_match_score'], ascending=False).head(5)"
   ]
  },
  {
   "cell_type": "code",
   "execution_count": null,
   "metadata": {},
   "outputs": [],
   "source": [
    "# Now the worst matches\n",
    "matched_results[cols].sort_values(by=['best_match_score'],\n",
    "                                  ascending=True).head(5)"
   ]
  },
  {
   "cell_type": "code",
   "execution_count": null,
   "metadata": {},
   "outputs": [],
   "source": [
    "# Look at the matches around 1\n",
    "matched_results[cols].query(\"best_match_score <= 1\").sort_values(\n",
    "    by=['best_match_score'], ascending=False).head(10)"
   ]
  },
  {
   "cell_type": "code",
   "execution_count": null,
   "metadata": {},
   "outputs": [],
   "source": [
    "matched_results[cols].query(\"best_match_score <= .80\").sort_values(\n",
    "    by=['best_match_score'], ascending=False).head(5)"
   ]
  },
  {
   "cell_type": "markdown",
   "metadata": {},
   "source": [
    "### Example using Python Record Linkage Toolkit"
   ]
  },
  {
   "cell_type": "code",
   "execution_count": null,
   "metadata": {},
   "outputs": [],
   "source": [
    "# Re-read in the data using the index_col\n",
    "hospital_accounts = pd.read_csv(\n",
    "    'https://github.com/chris1610/pbpython/raw/master/data/hospital_account_info.csv',\n",
    "    index_col='Account_Num'\n",
    ")\n",
    "hospital_reimbursement = pd.read_csv(\n",
    "    'https://raw.githubusercontent.com/chris1610/pbpython/master/data/hospital_reimbursement.csv',\n",
    "    index_col='Provider_Num'\n",
    ")"
   ]
  },
  {
   "cell_type": "code",
   "execution_count": null,
   "metadata": {},
   "outputs": [],
   "source": [
    "hospital_accounts.head()"
   ]
  },
  {
   "cell_type": "code",
   "execution_count": null,
   "metadata": {},
   "outputs": [],
   "source": [
    "hospital_reimbursement.head()"
   ]
  },
  {
   "cell_type": "code",
   "execution_count": null,
   "metadata": {},
   "outputs": [],
   "source": [
    "# Build the indexer\n",
    "indexer = recordlinkage.Index()\n",
    "# Can use full or block\n",
    "#indexer.full()\n",
    "#indexer.block(left_on='State', right_on='Provider State')\n",
    "\n",
    "# Use sortedneighbor as a good option if data is not clean\n",
    "indexer.sortedneighbourhood(left_on='State', right_on='Provider State')"
   ]
  },
  {
   "cell_type": "code",
   "execution_count": null,
   "metadata": {},
   "outputs": [],
   "source": [
    "candidates = indexer.index(hospital_accounts, hospital_reimbursement)"
   ]
  },
  {
   "cell_type": "code",
   "execution_count": null,
   "metadata": {},
   "outputs": [],
   "source": [
    "# Let's see how many matches we want to do\n",
    "print(len(candidates))"
   ]
  },
  {
   "cell_type": "code",
   "execution_count": null,
   "metadata": {},
   "outputs": [],
   "source": [
    "# Takes 3 minutes using the full index.\n",
    "# 14s using sorted neighbor\n",
    "# 7s using blocking\n",
    "compare = recordlinkage.Compare()\n",
    "compare.exact('City', 'Provider City', label='City')\n",
    "compare.string('Facility Name',\n",
    "               'Provider Name',\n",
    "               threshold=0.85,\n",
    "               label='Hosp_Name')\n",
    "compare.string('Address',\n",
    "               'Provider Street Address',\n",
    "               method='jarowinkler',\n",
    "               threshold=0.85,\n",
    "               label='Hosp_Address')\n",
    "features = compare.compute(candidates, hospital_accounts,\n",
    "                           hospital_reimbursement)"
   ]
  },
  {
   "cell_type": "code",
   "execution_count": null,
   "metadata": {},
   "outputs": [],
   "source": [
    "features"
   ]
  },
  {
   "cell_type": "code",
   "execution_count": null,
   "metadata": {},
   "outputs": [],
   "source": [
    "# What are the score totals?\n",
    "features.sum(axis=1).value_counts().sort_index(ascending=False)"
   ]
  },
  {
   "cell_type": "code",
   "execution_count": null,
   "metadata": {},
   "outputs": [],
   "source": [
    "# Get the potential matches\n",
    "potential_matches = features[features.sum(axis=1) > 1].reset_index()"
   ]
  },
  {
   "cell_type": "code",
   "execution_count": null,
   "metadata": {},
   "outputs": [],
   "source": [
    "potential_matches['Score'] = potential_matches.loc[:, 'City':'Hosp_Address'].sum(axis=1)\n",
    "potential_matches.head()"
   ]
  },
  {
   "cell_type": "code",
   "execution_count": null,
   "metadata": {},
   "outputs": [],
   "source": [
    "hospital_accounts.loc[51216,:]"
   ]
  },
  {
   "cell_type": "code",
   "execution_count": null,
   "metadata": {},
   "outputs": [],
   "source": [
    "hospital_reimbursement.loc[268781,:]"
   ]
  },
  {
   "cell_type": "code",
   "execution_count": null,
   "metadata": {},
   "outputs": [],
   "source": [
    "# Add some convenience columns for comparing data\n",
    "hospital_accounts['Acct_Name_Lookup'] = hospital_accounts[[\n",
    "    'Facility Name', 'Address', 'City', 'State'\n",
    "]].apply(lambda x: '_'.join(x), axis=1)"
   ]
  },
  {
   "cell_type": "code",
   "execution_count": null,
   "metadata": {},
   "outputs": [],
   "source": [
    "hospital_reimbursement['Reimbursement_Name_Lookup'] = hospital_reimbursement[[\n",
    "    'Provider Name', 'Provider Street Address', 'Provider City',\n",
    "    'Provider State'\n",
    "]].apply(lambda x: '_'.join(x), axis=1)"
   ]
  },
  {
   "cell_type": "code",
   "execution_count": null,
   "metadata": {},
   "outputs": [],
   "source": [
    "reimbursement_lookup = hospital_reimbursement[['Reimbursement_Name_Lookup']].reset_index()\n",
    "account_lookup = hospital_accounts[['Acct_Name_Lookup']].reset_index()"
   ]
  },
  {
   "cell_type": "code",
   "execution_count": null,
   "metadata": {},
   "outputs": [],
   "source": [
    "account_lookup.head()"
   ]
  },
  {
   "cell_type": "code",
   "execution_count": null,
   "metadata": {},
   "outputs": [],
   "source": [
    "reimbursement_lookup.head()"
   ]
  },
  {
   "cell_type": "code",
   "execution_count": null,
   "metadata": {},
   "outputs": [],
   "source": [
    "account_merge = potential_matches.merge(account_lookup, how='left')"
   ]
  },
  {
   "cell_type": "code",
   "execution_count": null,
   "metadata": {},
   "outputs": [],
   "source": [
    "account_merge.head()"
   ]
  },
  {
   "cell_type": "code",
   "execution_count": null,
   "metadata": {},
   "outputs": [],
   "source": [
    "reimbursement_lookup.head()"
   ]
  },
  {
   "cell_type": "code",
   "execution_count": null,
   "metadata": {},
   "outputs": [],
   "source": [
    "# Let's build a dataframe to  compare\n",
    "final_merge = account_merge.merge(reimbursement_lookup, how='left')"
   ]
  },
  {
   "cell_type": "code",
   "execution_count": null,
   "metadata": {},
   "outputs": [],
   "source": [
    "cols = [\n",
    "    'Account_Num', 'Provider_Num', 'Score', 'Acct_Name_Lookup',\n",
    "    'Reimbursement_Name_Lookup'\n",
    "]"
   ]
  },
  {
   "cell_type": "code",
   "execution_count": null,
   "metadata": {},
   "outputs": [],
   "source": [
    "final_merge[cols].sort_values(by=['Account_Num', 'Score'], ascending=False)"
   ]
  },
  {
   "cell_type": "code",
   "execution_count": null,
   "metadata": {},
   "outputs": [],
   "source": [
    "# If you need to save it to Excel -\n",
    "#final_merge.sort_values(by=['Account_Num', 'Score'],\n",
    "#                        ascending=False).to_excel('merge_list.xlsx',\n",
    "#                                                  index=False)"
   ]
  },
  {
   "cell_type": "code",
   "execution_count": null,
   "metadata": {},
   "outputs": [],
   "source": [
    "final_merge[final_merge['Account_Num']==11035][cols]"
   ]
  },
  {
   "cell_type": "code",
   "execution_count": null,
   "metadata": {},
   "outputs": [],
   "source": [
    "final_merge[final_merge['Account_Num']==56375][cols]"
   ]
  },
  {
   "cell_type": "markdown",
   "metadata": {},
   "source": [
    "### Dedupe the data"
   ]
  },
  {
   "cell_type": "code",
   "execution_count": null,
   "metadata": {},
   "outputs": [],
   "source": [
    "hospital_dupes = pd.read_csv(\n",
    "    'https://github.com/chris1610/pbpython/raw/master/data/hospital_account_dupes.csv',\n",
    "    index_col='Account_Num')"
   ]
  },
  {
   "cell_type": "code",
   "execution_count": null,
   "metadata": {},
   "outputs": [],
   "source": [
    "hospital_dupes.head()"
   ]
  },
  {
   "cell_type": "code",
   "execution_count": null,
   "metadata": {},
   "outputs": [],
   "source": [
    "# Deduping follows the same process, you just use 1 single dataframe\n",
    "dupe_indexer = recordlinkage.Index()\n",
    "dupe_indexer.sortedneighbourhood(left_on='State')\n",
    "dupe_candidate_links = dupe_indexer.index(hospital_dupes)\n"
   ]
  },
  {
   "cell_type": "code",
   "execution_count": null,
   "metadata": {},
   "outputs": [],
   "source": [
    "# Comparison step\n",
    "compare_dupes = recordlinkage.Compare()\n",
    "compare_dupes.string('City', 'City', threshold=0.85, label='City')\n",
    "compare_dupes.string('Phone Number',\n",
    "                     'Phone Number',\n",
    "                     threshold=0.85,\n",
    "                     label='Phone_Num')\n",
    "compare_dupes.string('Facility Name',\n",
    "                     'Facility Name',\n",
    "                     threshold=0.80,\n",
    "                     label='Hosp_Name')\n",
    "compare_dupes.string('Address',\n",
    "                     'Address',\n",
    "                     threshold=0.85,\n",
    "                     label='Hosp_Address')\n",
    "dupe_features = compare_dupes.compute(dupe_candidate_links, hospital_dupes)"
   ]
  },
  {
   "cell_type": "code",
   "execution_count": null,
   "metadata": {},
   "outputs": [],
   "source": [
    "dupe_features"
   ]
  },
  {
   "cell_type": "code",
   "execution_count": null,
   "metadata": {},
   "outputs": [],
   "source": [
    "dupe_features.sum(axis=1).value_counts().sort_index(ascending=False)"
   ]
  },
  {
   "cell_type": "code",
   "execution_count": null,
   "metadata": {},
   "outputs": [],
   "source": [
    "potential_dupes = dupe_features[dupe_features.sum(axis=1) > 2].reset_index()\n",
    "potential_dupes['Score'] = potential_dupes.loc[:, 'City':'Hosp_Address'].sum(axis=1)"
   ]
  },
  {
   "cell_type": "code",
   "execution_count": null,
   "metadata": {},
   "outputs": [],
   "source": [
    "potential_dupes.sort_values(by=['Score'], ascending=True)"
   ]
  },
  {
   "cell_type": "code",
   "execution_count": null,
   "metadata": {},
   "outputs": [],
   "source": [
    "# Take a look at one of the potential duplicates\n",
    "hospital_dupes[hospital_dupes.index.isin([51567, 41166])]"
   ]
  }
 ],
 "metadata": {
  "kernelspec": {
   "display_name": "Python 3 (ipykernel)",
   "language": "python",
   "name": "python3"
  },
  "language_info": {
   "codemirror_mode": {
    "name": "ipython",
    "version": 3
   },
   "file_extension": ".py",
   "mimetype": "text/x-python",
   "name": "python",
   "nbconvert_exporter": "python",
   "pygments_lexer": "ipython3",
   "version": "3.9.7"
  }
 },
 "nbformat": 4,
 "nbformat_minor": 2
}
