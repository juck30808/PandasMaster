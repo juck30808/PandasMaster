{
 "cells": [
  {
   "cell_type": "markdown",
   "id": "3b32da01",
   "metadata": {},
   "source": [
    "### Creating PDF Reports with Pandas, Jinja and WeasyPrint\n",
    "\n",
    "Why - 事情變得更加困難的地方是，如果你想把多條數據合併到一個文件中。例如，如果你想把兩個DataFrames放在一張Excel表格中，你需要使用Excel庫來手動構建你的輸出。這當然是可能的，但並不簡單。\n",
    "\n",
    "What - 本文將介紹一種方法，將多條信息組合成一個HTML模板，然後使用Jinja模板和WeasyPrint將其轉換為一個獨立的PDF文檔。\n",
    "\n",
    "\n",
    "Pandas在處理大量數據並將其總結為多種文本和視覺表現形式方面非常出色。不費吹灰之力，Pandas就支持輸出到CSV、Excel、HTML、json等。在閱讀本文之前，我建議你先回顧一下之前關於Pandas數據透視表的文章和關於從這些表格生成Excel報告的後續文章。它們解釋了我所使用的數據集以及如何使用數據透視表。\n",
    "\n",
    "如報告文章所示，使用Pandas將數據輸出到一個Excel文件中的多個工作表，或者從pandas DataFrames中創建多個Excel文件，是非常方便的。然而，如果你想將多條信息合併到一個文件中，並沒有很多簡單的方法可以直接從Pandas中完成。幸運的是，python環境有很多選項可以幫助我們。在這篇文章中，我將使用以下流程來創建一個多頁的PDF文檔。"
   ]
  },
  {
   "cell_type": "markdown",
   "id": "c7d2eb4d",
   "metadata": {},
   "source": [
    "這種方法的好處是，你可以在這個工作流程中替換你自己的工具。不喜歡Jinja？那就插入mako或你選擇的模板工具。如果你想使用HTML之外的另一種標記類型，就去做吧。\n",
    "\n",
    "工具\n",
    "首先，我決定使用HTML作為模板語言，因為它可能是生成結構化數據的最簡單方法，並允許相對豐富的格式。我還認為每個人都知道（或能夠弄清楚）足夠的HTML來生成一個簡單的報告。另外，我也沒有意願去學習一種全新的模板語言。然而，如果你選擇使用其他標記語言，其流程應該是一樣的。\n",
    "\n",
    "我選擇Jinja是因為我有使用Django的經驗，而且它密切反映了Django的語法。當然還有其他的選擇，所以你可以自由地試驗你的選擇。我認為對於這種方法來說，我們的模板並沒有什麼很複雜的地方，所以任何工具都應該可以使用。\n",
    "\n",
    "最後，這個工具鏈中最困難的部分是弄清楚如何將HTML渲染成PDF。我覺得目前還沒有一個最佳的解決方案，但我選擇了WeasyPrint，因為它仍然在積極維護，而且我發現我可以比較容易地讓它工作。它的工作有相當多的依賴性，所以我很好奇人們在讓它在Windows上工作時是否有真正的挑戰。作為一個替代方案，我過去曾使用過xhtml2pdf，它也很好用。不幸的是，它的文檔現在還有點缺失，但它已經存在了一段時間，而且確實能有效地從HTML生成PDF。\n",
    "\n",
    "數據\n",
    "如上所述，我們將使用我以前文章中的相同數據。為了使這篇文章自成一體，下面是我如何導入數據並生成數據透視表，以及CPU和軟件銷售的平均數量和價格的一些匯總統計。\n",
    "\n",
    "導入模塊，並讀入銷售漏斗信息。"
   ]
  },
  {
   "cell_type": "code",
   "execution_count": 1,
   "id": "c3f778e8",
   "metadata": {},
   "outputs": [
    {
     "data": {
      "text/html": [
       "<div>\n",
       "<style scoped>\n",
       "    .dataframe tbody tr th:only-of-type {\n",
       "        vertical-align: middle;\n",
       "    }\n",
       "\n",
       "    .dataframe tbody tr th {\n",
       "        vertical-align: top;\n",
       "    }\n",
       "\n",
       "    .dataframe thead th {\n",
       "        text-align: right;\n",
       "    }\n",
       "</style>\n",
       "<table border=\"1\" class=\"dataframe\">\n",
       "  <thead>\n",
       "    <tr style=\"text-align: right;\">\n",
       "      <th></th>\n",
       "      <th>Account</th>\n",
       "      <th>Name</th>\n",
       "      <th>Rep</th>\n",
       "      <th>Manager</th>\n",
       "      <th>Product</th>\n",
       "      <th>Quantity</th>\n",
       "      <th>Price</th>\n",
       "      <th>Status</th>\n",
       "    </tr>\n",
       "  </thead>\n",
       "  <tbody>\n",
       "    <tr>\n",
       "      <th>0</th>\n",
       "      <td>714466</td>\n",
       "      <td>Trantow-Barrows</td>\n",
       "      <td>Craig Booker</td>\n",
       "      <td>Debra Henley</td>\n",
       "      <td>CPU</td>\n",
       "      <td>1</td>\n",
       "      <td>30000</td>\n",
       "      <td>presented</td>\n",
       "    </tr>\n",
       "    <tr>\n",
       "      <th>1</th>\n",
       "      <td>714466</td>\n",
       "      <td>Trantow-Barrows</td>\n",
       "      <td>Craig Booker</td>\n",
       "      <td>Debra Henley</td>\n",
       "      <td>Software</td>\n",
       "      <td>1</td>\n",
       "      <td>10000</td>\n",
       "      <td>presented</td>\n",
       "    </tr>\n",
       "    <tr>\n",
       "      <th>2</th>\n",
       "      <td>714466</td>\n",
       "      <td>Trantow-Barrows</td>\n",
       "      <td>Craig Booker</td>\n",
       "      <td>Debra Henley</td>\n",
       "      <td>Maintenance</td>\n",
       "      <td>2</td>\n",
       "      <td>5000</td>\n",
       "      <td>pending</td>\n",
       "    </tr>\n",
       "    <tr>\n",
       "      <th>3</th>\n",
       "      <td>737550</td>\n",
       "      <td>Fritsch, Russel and Anderson</td>\n",
       "      <td>Craig Booker</td>\n",
       "      <td>Debra Henley</td>\n",
       "      <td>CPU</td>\n",
       "      <td>1</td>\n",
       "      <td>35000</td>\n",
       "      <td>declined</td>\n",
       "    </tr>\n",
       "    <tr>\n",
       "      <th>4</th>\n",
       "      <td>146832</td>\n",
       "      <td>Kiehn-Spinka</td>\n",
       "      <td>Daniel Hilton</td>\n",
       "      <td>Debra Henley</td>\n",
       "      <td>CPU</td>\n",
       "      <td>2</td>\n",
       "      <td>65000</td>\n",
       "      <td>won</td>\n",
       "    </tr>\n",
       "  </tbody>\n",
       "</table>\n",
       "</div>"
      ],
      "text/plain": [
       "   Account                          Name            Rep       Manager  \\\n",
       "0   714466               Trantow-Barrows   Craig Booker  Debra Henley   \n",
       "1   714466               Trantow-Barrows   Craig Booker  Debra Henley   \n",
       "2   714466               Trantow-Barrows   Craig Booker  Debra Henley   \n",
       "3   737550  Fritsch, Russel and Anderson   Craig Booker  Debra Henley   \n",
       "4   146832                  Kiehn-Spinka  Daniel Hilton  Debra Henley   \n",
       "\n",
       "       Product  Quantity  Price     Status  \n",
       "0          CPU         1  30000  presented  \n",
       "1     Software         1  10000  presented  \n",
       "2  Maintenance         2   5000    pending  \n",
       "3          CPU         1  35000   declined  \n",
       "4          CPU         2  65000        won  "
      ]
     },
     "execution_count": 1,
     "metadata": {},
     "output_type": "execute_result"
    }
   ],
   "source": [
    "from __future__ import print_function\n",
    "import pandas as pd\n",
    "import numpy as np\n",
    "df = pd.read_excel(\"data/sales-funnel.xlsx\")\n",
    "df.head()"
   ]
  },
  {
   "cell_type": "code",
   "execution_count": 2,
   "id": "0bdf071f",
   "metadata": {},
   "outputs": [
    {
     "data": {
      "text/html": [
       "<div>\n",
       "<style scoped>\n",
       "    .dataframe tbody tr th:only-of-type {\n",
       "        vertical-align: middle;\n",
       "    }\n",
       "\n",
       "    .dataframe tbody tr th {\n",
       "        vertical-align: top;\n",
       "    }\n",
       "\n",
       "    .dataframe thead tr th {\n",
       "        text-align: left;\n",
       "    }\n",
       "\n",
       "    .dataframe thead tr:last-of-type th {\n",
       "        text-align: right;\n",
       "    }\n",
       "</style>\n",
       "<table border=\"1\" class=\"dataframe\">\n",
       "  <thead>\n",
       "    <tr>\n",
       "      <th></th>\n",
       "      <th></th>\n",
       "      <th></th>\n",
       "      <th colspan=\"2\" halign=\"left\">sum</th>\n",
       "      <th colspan=\"2\" halign=\"left\">mean</th>\n",
       "    </tr>\n",
       "    <tr>\n",
       "      <th></th>\n",
       "      <th></th>\n",
       "      <th></th>\n",
       "      <th>Price</th>\n",
       "      <th>Quantity</th>\n",
       "      <th>Price</th>\n",
       "      <th>Quantity</th>\n",
       "    </tr>\n",
       "    <tr>\n",
       "      <th>Manager</th>\n",
       "      <th>Rep</th>\n",
       "      <th>Product</th>\n",
       "      <th></th>\n",
       "      <th></th>\n",
       "      <th></th>\n",
       "      <th></th>\n",
       "    </tr>\n",
       "  </thead>\n",
       "  <tbody>\n",
       "    <tr>\n",
       "      <th rowspan=\"5\" valign=\"top\">Debra Henley</th>\n",
       "      <th rowspan=\"3\" valign=\"top\">Craig Booker</th>\n",
       "      <th>CPU</th>\n",
       "      <td>65000</td>\n",
       "      <td>2</td>\n",
       "      <td>32500</td>\n",
       "      <td>1.0</td>\n",
       "    </tr>\n",
       "    <tr>\n",
       "      <th>Maintenance</th>\n",
       "      <td>5000</td>\n",
       "      <td>2</td>\n",
       "      <td>5000</td>\n",
       "      <td>2.0</td>\n",
       "    </tr>\n",
       "    <tr>\n",
       "      <th>Software</th>\n",
       "      <td>10000</td>\n",
       "      <td>1</td>\n",
       "      <td>10000</td>\n",
       "      <td>1.0</td>\n",
       "    </tr>\n",
       "    <tr>\n",
       "      <th rowspan=\"2\" valign=\"top\">Daniel Hilton</th>\n",
       "      <th>CPU</th>\n",
       "      <td>105000</td>\n",
       "      <td>4</td>\n",
       "      <td>52500</td>\n",
       "      <td>2.0</td>\n",
       "    </tr>\n",
       "    <tr>\n",
       "      <th>Software</th>\n",
       "      <td>10000</td>\n",
       "      <td>1</td>\n",
       "      <td>10000</td>\n",
       "      <td>1.0</td>\n",
       "    </tr>\n",
       "  </tbody>\n",
       "</table>\n",
       "</div>"
      ],
      "text/plain": [
       "                                           sum            mean         \n",
       "                                         Price Quantity  Price Quantity\n",
       "Manager      Rep           Product                                     \n",
       "Debra Henley Craig Booker  CPU           65000        2  32500      1.0\n",
       "                           Maintenance    5000        2   5000      2.0\n",
       "                           Software      10000        1  10000      1.0\n",
       "             Daniel Hilton CPU          105000        4  52500      2.0\n",
       "                           Software      10000        1  10000      1.0"
      ]
     },
     "execution_count": 2,
     "metadata": {},
     "output_type": "execute_result"
    }
   ],
   "source": [
    "sales_report = pd.pivot_table(df, \n",
    "                              index=[\"Manager\", \"Rep\", \"Product\"], \n",
    "                              values=[\"Price\", \"Quantity\"],\n",
    "                              aggfunc=[np.sum, np.mean], \n",
    "                              fill_value=0)\n",
    "sales_report.head()"
   ]
  },
  {
   "cell_type": "markdown",
   "id": "46b46aef",
   "metadata": {},
   "source": [
    "理想情況下，我們現在想做的是將我們的數據按經理劃分，並在一個頁面上包括一些總結性的統計數據，以幫助了解個人結果與全國平均水平的比較。"
   ]
  },
  {
   "cell_type": "code",
   "execution_count": 3,
   "id": "1eda154f",
   "metadata": {},
   "outputs": [
    {
     "name": "stdout",
     "output_type": "stream",
     "text": [
      "1.8888888888888888\n",
      "51666.666666666664\n",
      "1.0\n",
      "10000.0\n"
     ]
    }
   ],
   "source": [
    "print(df[df[\"Product\"]==\"CPU\"][\"Quantity\"].mean())\n",
    "print(df[df[\"Product\"]==\"CPU\"][\"Price\"].mean())\n",
    "print(df[df[\"Product\"]==\"Software\"][\"Quantity\"].mean())\n",
    "print(df[df[\"Product\"]==\"Software\"][\"Price\"].mean())"
   ]
  },
  {
   "cell_type": "markdown",
   "id": "6986a49e",
   "metadata": {},
   "source": [
    "### DataFrame Options 數據框架選項\n",
    "\n",
    "在我們談論模板之前，我有一個簡短的旁白。對於一些快速和骯髒的需求，有時你需要做的就是複制和粘貼數據。幸運的是，DataFrame有一個to_clipboard()函數，可以將整個DataFrame複製到剪貼板上，然後你可以輕鬆粘貼到Excel中。我發現在某些情況下這是一個非常有用的選項。\n",
    "\n",
    "我們在模板中稍後將使用的另一個選項是to_html()，它將生成一個包含完全組成的HTML表格的字符串，並應用最小的樣式。"
   ]
  },
  {
   "cell_type": "markdown",
   "id": "c9daaeda",
   "metadata": {},
   "source": [
    "### Templating 模板\n",
    "\n",
    "Jinja模板非常強大，支持很多高級功能，如沙盒執行和自動轉義，但對這個應用程序來說並不是必須的。然而，當你的報告越來越複雜或者你選擇使用Jinja來製作你的Web應用程序時，這些功能將為你提供良好的服務。\n",
    "\n",
    "Jinja的另一個很好的特點是它包括多個內置的過濾器，這將使我們能夠以一種在Pandas中難以做到的方式來格式化我們的一些數據。\n",
    "\n",
    "為了在我們的應用程序中使用Jinja，我們需要做3件事。\n",
    "- 創建一個模板\n",
    "- 在模板的上下文中添加變量\n",
    "- 將模板渲染成HTML"
   ]
  },
  {
   "cell_type": "code",
   "execution_count": 4,
   "id": "3cee76da",
   "metadata": {},
   "outputs": [],
   "source": [
    "# Here is a very simple template, let’s call it myreport.html :\n",
    "\n",
    "# <!DOCTYPE html>\n",
    "# <html>\n",
    "# <head lang=\"en\">\n",
    "#     <meta charset=\"UTF-8\">\n",
    "#     <title>{{ title }}</title>\n",
    "# </head>\n",
    "# <body>\n",
    "#     <h2>Sales Funnel Report - National</h2>\n",
    "#      {{ national_pivot_table }}\n",
    "# </body>\n",
    "# </html>"
   ]
  },
  {
   "cell_type": "markdown",
   "id": "21e9d8ae",
   "metadata": {},
   "source": [
    "該代碼的兩個關鍵部分是{{ title }}和{{ national_pivot_table }}。 . 它們本質上是變量的佔位符，我們將在渲染文檔時提供這些變量。\n",
    "\n",
    "為了填充這些變量，我們需要創建一個Jinja環境並獲得我們的模板。"
   ]
  },
  {
   "cell_type": "code",
   "execution_count": 5,
   "id": "97472d1d",
   "metadata": {},
   "outputs": [],
   "source": [
    "from jinja2 import Environment, FileSystemLoader\n",
    "env = Environment(loader=FileSystemLoader('.'))\n",
    "template = env.get_template(\"myreport.html\")"
   ]
  },
  {
   "cell_type": "markdown",
   "id": "1d028bfb",
   "metadata": {},
   "source": [
    "在上面的例子中，你可以把模板位置的完整路徑放進去。另一個關鍵部分是創建env . 這個變量是我們傳遞內容給模板的方式。我們創建一個名為template_var的字典，其中包含所有我們要傳遞給模板的變量。\n",
    "\n",
    "注意這些變量的名字如何與我們的模板相匹配。"
   ]
  },
  {
   "cell_type": "code",
   "execution_count": 6,
   "id": "5d3d0f57",
   "metadata": {},
   "outputs": [],
   "source": [
    "template_vars = {\"title\" : \"Sales Funnel Report - National\",\n",
    "                 \"national_pivot_table\": sales_report.to_html()}"
   ]
  },
  {
   "cell_type": "markdown",
   "id": "3b5f1867",
   "metadata": {},
   "source": [
    "最後一步是在輸出中包含變量的情況下渲染HTML。這將創建一個字符串，我們最終將把它傳遞給我們的PDF創建引擎。"
   ]
  },
  {
   "cell_type": "code",
   "execution_count": 7,
   "id": "e2af8a34",
   "metadata": {},
   "outputs": [],
   "source": [
    "html_out = template.render(template_vars)"
   ]
  },
  {
   "cell_type": "markdown",
   "id": "3c0fae85",
   "metadata": {},
   "source": [
    "### Generate PDF \n",
    "PDF創建部分也相對簡單。我們需要做一些導入，並將一個字符串傳遞給PDF生成器。\n",
    "\n",
    "- https://doc.courtbouillon.org/weasyprint/stable/first_steps.html#"
   ]
  },
  {
   "cell_type": "markdown",
   "id": "74dda69c",
   "metadata": {},
   "source": [
    "從 Python 3.8 開始，擴展模塊的 DLL 依賴性和在 Windows 上用 ctypes 加載的 DLL 現在被更安全地解決。只有系統路徑、包含 DLL 或 PYD 文件的目錄，以及用 add_dll_directory() 添加的目錄會被搜索，以尋找加載時的依賴性。具體來說，PATH 和當前工作目錄不再被使用，對這些的修改將不再對正常的 DLL 解析產生任何影響。\n",
    "\n",
    "如果你遵循官方文檔中的安裝指南，那麼下面的例子就可以工作。"
   ]
  },
  {
   "cell_type": "markdown",
   "id": "49b525ed",
   "metadata": {},
   "source": [
    "這很酷，但它很難看。主要原因是我們沒有對它進行任何樣式設計。我們必須使用的樣式機制是CSS。我決定使用一部分藍圖CSS，使其具有非常簡單的風格，並能與渲染引擎配合使用。\n",
    "\n",
    "在文章的其餘部分，我將使用blue print的typography.css作為style.css的基礎，如下所示。我喜歡這個css的地方是。\n",
    "- 它比較小，容易理解\n",
    "- 它能在PDF引擎中工作，不會出現錯誤和警告\n",
    "- 它包括基本的表格格式，看起來很體面"
   ]
  },
  {
   "cell_type": "markdown",
   "id": "11c31b65",
   "metadata": {},
   "source": [
    "- https://pbpython.com/pdf-reports.html"
   ]
  },
  {
   "cell_type": "code",
   "execution_count": null,
   "id": "d327ed39",
   "metadata": {},
   "outputs": [],
   "source": []
  }
 ],
 "metadata": {
  "kernelspec": {
   "display_name": "Python 3 (ipykernel)",
   "language": "python",
   "name": "python3"
  },
  "language_info": {
   "codemirror_mode": {
    "name": "ipython",
    "version": 3
   },
   "file_extension": ".py",
   "mimetype": "text/x-python",
   "name": "python",
   "nbconvert_exporter": "python",
   "pygments_lexer": "ipython3",
   "version": "3.9.7"
  }
 },
 "nbformat": 4,
 "nbformat_minor": 5
}
