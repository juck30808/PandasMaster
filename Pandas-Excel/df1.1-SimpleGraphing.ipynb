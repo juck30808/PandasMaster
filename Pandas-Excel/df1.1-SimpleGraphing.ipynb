{
 "cells": [
  {
   "cell_type": "markdown",
   "id": "486eca40",
   "metadata": {},
   "source": [
    "### Simple Graphing with IPython and Pandas\n",
    "\n",
    "Why - 我將在我對IPython、筆記本和pandas的基本介紹的基礎上，展示如何將你用這些工具處理過的數據可視化。我希望這將再次向你展示這些工具是多麼強大，以及你可以用這麼少的代碼完成多少工作。我最終希望這些文章能夠幫助人們在每次需要對一些文件進行切片和切塊時不再去找Excel。 python環境中的工具比大多數人在Excel中手動複製和粘貼要強大得多。\n",
    "\n",
    "- https://pbpython.com/simple-graphing-pandas.html"
   ]
  },
  {
   "cell_type": "code",
   "execution_count": 1,
   "id": "0abc0345",
   "metadata": {},
   "outputs": [],
   "source": [
    "import pandas as pd\n",
    "import numpy as np\n",
    "import matplotlib.pyplot as plt\n",
    "%matplotlib inline"
   ]
  },
  {
   "cell_type": "code",
   "execution_count": 2,
   "id": "d78d909b",
   "metadata": {},
   "outputs": [
    {
     "data": {
      "text/html": [
       "<div>\n",
       "<style scoped>\n",
       "    .dataframe tbody tr th:only-of-type {\n",
       "        vertical-align: middle;\n",
       "    }\n",
       "\n",
       "    .dataframe tbody tr th {\n",
       "        vertical-align: top;\n",
       "    }\n",
       "\n",
       "    .dataframe thead th {\n",
       "        text-align: right;\n",
       "    }\n",
       "</style>\n",
       "<table border=\"1\" class=\"dataframe\">\n",
       "  <thead>\n",
       "    <tr style=\"text-align: right;\">\n",
       "      <th></th>\n",
       "      <th>account number</th>\n",
       "      <th>name</th>\n",
       "      <th>sku</th>\n",
       "      <th>category</th>\n",
       "      <th>quantity</th>\n",
       "      <th>unit price</th>\n",
       "      <th>ext price</th>\n",
       "      <th>date</th>\n",
       "    </tr>\n",
       "  </thead>\n",
       "  <tbody>\n",
       "    <tr>\n",
       "      <th>0</th>\n",
       "      <td>296809</td>\n",
       "      <td>Carroll PLC</td>\n",
       "      <td>QN-82852</td>\n",
       "      <td>Belt</td>\n",
       "      <td>13</td>\n",
       "      <td>44.48</td>\n",
       "      <td>578.24</td>\n",
       "      <td>2014-09-27 07:13:03</td>\n",
       "    </tr>\n",
       "    <tr>\n",
       "      <th>1</th>\n",
       "      <td>98022</td>\n",
       "      <td>Heidenreich-Bosco</td>\n",
       "      <td>MJ-21460</td>\n",
       "      <td>Shoes</td>\n",
       "      <td>19</td>\n",
       "      <td>53.62</td>\n",
       "      <td>1018.78</td>\n",
       "      <td>2014-07-29 02:10:44</td>\n",
       "    </tr>\n",
       "    <tr>\n",
       "      <th>2</th>\n",
       "      <td>563905</td>\n",
       "      <td>Kerluke, Reilly and Bechtelar</td>\n",
       "      <td>AS-93055</td>\n",
       "      <td>Shirt</td>\n",
       "      <td>12</td>\n",
       "      <td>24.16</td>\n",
       "      <td>289.92</td>\n",
       "      <td>2014-03-01 10:51:24</td>\n",
       "    </tr>\n",
       "    <tr>\n",
       "      <th>3</th>\n",
       "      <td>93356</td>\n",
       "      <td>Waters-Walker</td>\n",
       "      <td>AS-93055</td>\n",
       "      <td>Shirt</td>\n",
       "      <td>5</td>\n",
       "      <td>82.68</td>\n",
       "      <td>413.40</td>\n",
       "      <td>2013-11-17 20:41:11</td>\n",
       "    </tr>\n",
       "    <tr>\n",
       "      <th>4</th>\n",
       "      <td>659366</td>\n",
       "      <td>Waelchi-Fahey</td>\n",
       "      <td>AS-93055</td>\n",
       "      <td>Shirt</td>\n",
       "      <td>18</td>\n",
       "      <td>99.64</td>\n",
       "      <td>1793.52</td>\n",
       "      <td>2014-01-03 08:14:27</td>\n",
       "    </tr>\n",
       "  </tbody>\n",
       "</table>\n",
       "</div>"
      ],
      "text/plain": [
       "   account number                           name       sku category  quantity  \\\n",
       "0          296809                    Carroll PLC  QN-82852     Belt        13   \n",
       "1           98022              Heidenreich-Bosco  MJ-21460    Shoes        19   \n",
       "2          563905  Kerluke, Reilly and Bechtelar  AS-93055    Shirt        12   \n",
       "3           93356                  Waters-Walker  AS-93055    Shirt         5   \n",
       "4          659366                  Waelchi-Fahey  AS-93055    Shirt        18   \n",
       "\n",
       "   unit price  ext price                date  \n",
       "0       44.48     578.24 2014-09-27 07:13:03  \n",
       "1       53.62    1018.78 2014-07-29 02:10:44  \n",
       "2       24.16     289.92 2014-03-01 10:51:24  \n",
       "3       82.68     413.40 2013-11-17 20:41:11  \n",
       "4       99.64    1793.52 2014-01-03 08:14:27  "
      ]
     },
     "execution_count": 2,
     "metadata": {},
     "output_type": "execute_result"
    }
   ],
   "source": [
    "sales=pd.read_csv(\"data/df-sample-sales2.csv\",parse_dates=['date'])\n",
    "sales.head()"
   ]
  },
  {
   "cell_type": "code",
   "execution_count": 3,
   "id": "bff097e7",
   "metadata": {},
   "outputs": [
    {
     "data": {
      "text/html": [
       "<div>\n",
       "<style scoped>\n",
       "    .dataframe tbody tr th:only-of-type {\n",
       "        vertical-align: middle;\n",
       "    }\n",
       "\n",
       "    .dataframe tbody tr th {\n",
       "        vertical-align: top;\n",
       "    }\n",
       "\n",
       "    .dataframe thead th {\n",
       "        text-align: right;\n",
       "    }\n",
       "</style>\n",
       "<table border=\"1\" class=\"dataframe\">\n",
       "  <thead>\n",
       "    <tr style=\"text-align: right;\">\n",
       "      <th></th>\n",
       "      <th>account number</th>\n",
       "      <th>quantity</th>\n",
       "      <th>unit price</th>\n",
       "      <th>ext price</th>\n",
       "    </tr>\n",
       "  </thead>\n",
       "  <tbody>\n",
       "    <tr>\n",
       "      <th>count</th>\n",
       "      <td>1000.000000</td>\n",
       "      <td>1000.000000</td>\n",
       "      <td>1000.000000</td>\n",
       "      <td>1000.00000</td>\n",
       "    </tr>\n",
       "    <tr>\n",
       "      <th>mean</th>\n",
       "      <td>535208.897000</td>\n",
       "      <td>10.328000</td>\n",
       "      <td>56.179630</td>\n",
       "      <td>579.84390</td>\n",
       "    </tr>\n",
       "    <tr>\n",
       "      <th>std</th>\n",
       "      <td>277589.746014</td>\n",
       "      <td>5.687597</td>\n",
       "      <td>25.331939</td>\n",
       "      <td>435.30381</td>\n",
       "    </tr>\n",
       "    <tr>\n",
       "      <th>min</th>\n",
       "      <td>93356.000000</td>\n",
       "      <td>1.000000</td>\n",
       "      <td>10.060000</td>\n",
       "      <td>10.38000</td>\n",
       "    </tr>\n",
       "    <tr>\n",
       "      <th>25%</th>\n",
       "      <td>299771.000000</td>\n",
       "      <td>5.750000</td>\n",
       "      <td>35.995000</td>\n",
       "      <td>232.60500</td>\n",
       "    </tr>\n",
       "    <tr>\n",
       "      <th>50%</th>\n",
       "      <td>563905.000000</td>\n",
       "      <td>10.000000</td>\n",
       "      <td>56.765000</td>\n",
       "      <td>471.72000</td>\n",
       "    </tr>\n",
       "    <tr>\n",
       "      <th>75%</th>\n",
       "      <td>750461.000000</td>\n",
       "      <td>15.000000</td>\n",
       "      <td>76.802500</td>\n",
       "      <td>878.13750</td>\n",
       "    </tr>\n",
       "    <tr>\n",
       "      <th>max</th>\n",
       "      <td>995267.000000</td>\n",
       "      <td>20.000000</td>\n",
       "      <td>99.970000</td>\n",
       "      <td>1994.80000</td>\n",
       "    </tr>\n",
       "  </tbody>\n",
       "</table>\n",
       "</div>"
      ],
      "text/plain": [
       "       account number     quantity   unit price   ext price\n",
       "count     1000.000000  1000.000000  1000.000000  1000.00000\n",
       "mean    535208.897000    10.328000    56.179630   579.84390\n",
       "std     277589.746014     5.687597    25.331939   435.30381\n",
       "min      93356.000000     1.000000    10.060000    10.38000\n",
       "25%     299771.000000     5.750000    35.995000   232.60500\n",
       "50%     563905.000000    10.000000    56.765000   471.72000\n",
       "75%     750461.000000    15.000000    76.802500   878.13750\n",
       "max     995267.000000    20.000000    99.970000  1994.80000"
      ]
     },
     "execution_count": 3,
     "metadata": {},
     "output_type": "execute_result"
    }
   ],
   "source": [
    "sales.describe()"
   ]
  },
  {
   "cell_type": "markdown",
   "id": "78320a59",
   "metadata": {},
   "source": [
    "實際上，我們可以從這個簡單的命令中了解到一些相當有用的信息。\n",
    "\n",
    "- 我們可以知道，客戶平均每筆交易購買了10.3件物品\n",
    "- 交易的平均成本是579.84美元\n",
    "- 也可以很容易地看到最小和最大值，從而了解數據的範圍。\n",
    "- 可以看到，平均價格(unit price)是56.18美元，但它的範圍從10.06美元到99.97美元。"
   ]
  },
  {
   "cell_type": "markdown",
   "id": "836aeefd",
   "metadata": {},
   "source": [
    "### Plotting Some Data\n",
    "預先留下所需要用到的欄目"
   ]
  },
  {
   "cell_type": "code",
   "execution_count": 4,
   "id": "7653b186",
   "metadata": {},
   "outputs": [
    {
     "data": {
      "text/html": [
       "<div>\n",
       "<style scoped>\n",
       "    .dataframe tbody tr th:only-of-type {\n",
       "        vertical-align: middle;\n",
       "    }\n",
       "\n",
       "    .dataframe tbody tr th {\n",
       "        vertical-align: top;\n",
       "    }\n",
       "\n",
       "    .dataframe thead th {\n",
       "        text-align: right;\n",
       "    }\n",
       "</style>\n",
       "<table border=\"1\" class=\"dataframe\">\n",
       "  <thead>\n",
       "    <tr style=\"text-align: right;\">\n",
       "      <th></th>\n",
       "      <th>name</th>\n",
       "      <th>ext price</th>\n",
       "      <th>date</th>\n",
       "    </tr>\n",
       "  </thead>\n",
       "  <tbody>\n",
       "    <tr>\n",
       "      <th>0</th>\n",
       "      <td>Carroll PLC</td>\n",
       "      <td>578.24</td>\n",
       "      <td>2014-09-27 07:13:03</td>\n",
       "    </tr>\n",
       "    <tr>\n",
       "      <th>1</th>\n",
       "      <td>Heidenreich-Bosco</td>\n",
       "      <td>1018.78</td>\n",
       "      <td>2014-07-29 02:10:44</td>\n",
       "    </tr>\n",
       "    <tr>\n",
       "      <th>2</th>\n",
       "      <td>Kerluke, Reilly and Bechtelar</td>\n",
       "      <td>289.92</td>\n",
       "      <td>2014-03-01 10:51:24</td>\n",
       "    </tr>\n",
       "    <tr>\n",
       "      <th>3</th>\n",
       "      <td>Waters-Walker</td>\n",
       "      <td>413.40</td>\n",
       "      <td>2013-11-17 20:41:11</td>\n",
       "    </tr>\n",
       "    <tr>\n",
       "      <th>4</th>\n",
       "      <td>Waelchi-Fahey</td>\n",
       "      <td>1793.52</td>\n",
       "      <td>2014-01-03 08:14:27</td>\n",
       "    </tr>\n",
       "  </tbody>\n",
       "</table>\n",
       "</div>"
      ],
      "text/plain": [
       "                            name  ext price                date\n",
       "0                    Carroll PLC     578.24 2014-09-27 07:13:03\n",
       "1              Heidenreich-Bosco    1018.78 2014-07-29 02:10:44\n",
       "2  Kerluke, Reilly and Bechtelar     289.92 2014-03-01 10:51:24\n",
       "3                  Waters-Walker     413.40 2013-11-17 20:41:11\n",
       "4                  Waelchi-Fahey    1793.52 2014-01-03 08:14:27"
      ]
     },
     "execution_count": 4,
     "metadata": {},
     "output_type": "execute_result"
    }
   ],
   "source": [
    "customers = sales[['name','ext price','date']]\n",
    "customers.head()"
   ]
  },
  {
   "cell_type": "markdown",
   "id": "4f118b10",
   "metadata": {},
   "source": [
    "這種表示法對每個客戶都有多條線。為了購買模式，讓我們把所有客戶按名字分組。我們也可以看一下每個客戶的條目數量，以了解分佈情況。"
   ]
  },
  {
   "cell_type": "code",
   "execution_count": 5,
   "id": "7aa17f92",
   "metadata": {},
   "outputs": [
    {
     "data": {
      "text/plain": [
       "name\n",
       "Berge LLC                        52\n",
       "Carroll PLC                      57\n",
       "Cole-Eichmann                    51\n",
       "Davis, Kshlerin and Reilly       41\n",
       "Ernser, Cruickshank and Lind     47\n",
       "Gorczany-Hahn                    42\n",
       "Hamill-Hackett                   44\n",
       "Hegmann and Sons                 58\n",
       "Heidenreich-Bosco                40\n",
       "Huel-Haag                        43\n",
       "Kerluke, Reilly and Bechtelar    52\n",
       "Kihn, McClure and Denesik        58\n",
       "Kilback-Gerlach                  45\n",
       "Koelpin PLC                      53\n",
       "Kunze Inc                        54\n",
       "Kuphal, Zieme and Kub            52\n",
       "Senger, Upton and Breitenberg    59\n",
       "Volkman, Goyette and Lemke       48\n",
       "Waelchi-Fahey                    54\n",
       "Waters-Walker                    50\n",
       "dtype: int64"
      ]
     },
     "execution_count": 5,
     "metadata": {},
     "output_type": "execute_result"
    }
   ],
   "source": [
    "customer_group = customers.groupby('name')\n",
    "customer_group.size()"
   ]
  },
  {
   "cell_type": "markdown",
   "id": "76477910",
   "metadata": {},
   "source": [
    "現在我們的數據已經有了一個簡單的操作格式，讓我們來確定每個客戶在我們的時間範圍內購買了多少東西。通過sum函數，我們可以快速地將所有的數值按客戶進行匯總。我們還可以使用排序命令對數據進行排序。"
   ]
  },
  {
   "cell_type": "code",
   "execution_count": 6,
   "id": "540b97f4",
   "metadata": {},
   "outputs": [
    {
     "data": {
      "text/html": [
       "<div>\n",
       "<style scoped>\n",
       "    .dataframe tbody tr th:only-of-type {\n",
       "        vertical-align: middle;\n",
       "    }\n",
       "\n",
       "    .dataframe tbody tr th {\n",
       "        vertical-align: top;\n",
       "    }\n",
       "\n",
       "    .dataframe thead th {\n",
       "        text-align: right;\n",
       "    }\n",
       "</style>\n",
       "<table border=\"1\" class=\"dataframe\">\n",
       "  <thead>\n",
       "    <tr style=\"text-align: right;\">\n",
       "      <th></th>\n",
       "      <th>ext price</th>\n",
       "    </tr>\n",
       "    <tr>\n",
       "      <th>name</th>\n",
       "      <th></th>\n",
       "    </tr>\n",
       "  </thead>\n",
       "  <tbody>\n",
       "    <tr>\n",
       "      <th>Berge LLC</th>\n",
       "      <td>30064.87</td>\n",
       "    </tr>\n",
       "    <tr>\n",
       "      <th>Carroll PLC</th>\n",
       "      <td>35934.31</td>\n",
       "    </tr>\n",
       "    <tr>\n",
       "      <th>Cole-Eichmann</th>\n",
       "      <td>30435.42</td>\n",
       "    </tr>\n",
       "    <tr>\n",
       "      <th>Davis, Kshlerin and Reilly</th>\n",
       "      <td>19054.76</td>\n",
       "    </tr>\n",
       "    <tr>\n",
       "      <th>Ernser, Cruickshank and Lind</th>\n",
       "      <td>28089.02</td>\n",
       "    </tr>\n",
       "  </tbody>\n",
       "</table>\n",
       "</div>"
      ],
      "text/plain": [
       "                              ext price\n",
       "name                                   \n",
       "Berge LLC                      30064.87\n",
       "Carroll PLC                    35934.31\n",
       "Cole-Eichmann                  30435.42\n",
       "Davis, Kshlerin and Reilly     19054.76\n",
       "Ernser, Cruickshank and Lind   28089.02"
      ]
     },
     "execution_count": 6,
     "metadata": {},
     "output_type": "execute_result"
    }
   ],
   "source": [
    "sales_totals = customer_group.sum()\n",
    "sales_totals.head()"
   ]
  },
  {
   "cell_type": "code",
   "execution_count": 7,
   "id": "3f6fb5c4",
   "metadata": {},
   "outputs": [
    {
     "data": {
      "text/plain": [
       "Text(0, 0.5, 'Sales ($)')"
      ]
     },
     "execution_count": 7,
     "metadata": {},
     "output_type": "execute_result"
    },
    {
     "data": {
      "image/png": "[encoded data removed]",
      "text/plain": [
       "<Figure size 432x288 with 1 Axes>"
      ]
     },
     "metadata": {
      "needs_background": "light"
     },
     "output_type": "display_data"
    }
   ],
   "source": [
    "my_plot = sales_totals.plot(kind='bar')\n",
    "my_plot.set_xlabel(\"Customers\")\n",
    "my_plot.set_ylabel(\"Sales ($)\")"
   ]
  },
  {
   "cell_type": "code",
   "execution_count": 8,
   "id": "66ad93a9",
   "metadata": {},
   "outputs": [
    {
     "data": {
      "text/plain": [
       "Text(0, 0.5, 'Sales ($)')"
      ]
     },
     "execution_count": 8,
     "metadata": {},
     "output_type": "execute_result"
    },
    {
     "data": {
      "image/png": "[encoded data removed]",
      "text/plain": [
       "<Figure size 432x288 with 1 Axes>"
      ]
     },
     "metadata": {
      "needs_background": "light"
     },
     "output_type": "display_data"
    }
   ],
   "source": [
    "my_plot = sales_totals.sort_values(by=['ext price'],ascending=False).plot(kind='bar',\n",
    "                                                                          legend=None,\n",
    "                                                                          title=\"Total Sales by Customer\")\n",
    "my_plot.set_xlabel(\"Customers\")\n",
    "my_plot.set_ylabel(\"Sales ($)\")"
   ]
  },
  {
   "cell_type": "markdown",
   "id": "73bb85c2",
   "metadata": {},
   "source": [
    "### Advance Category 進階分類"
   ]
  },
  {
   "cell_type": "code",
   "execution_count": 9,
   "id": "2a87651c",
   "metadata": {
    "scrolled": true
   },
   "outputs": [
    {
     "data": {
      "text/html": [
       "<div>\n",
       "<style scoped>\n",
       "    .dataframe tbody tr th:only-of-type {\n",
       "        vertical-align: middle;\n",
       "    }\n",
       "\n",
       "    .dataframe tbody tr th {\n",
       "        vertical-align: top;\n",
       "    }\n",
       "\n",
       "    .dataframe thead th {\n",
       "        text-align: right;\n",
       "    }\n",
       "</style>\n",
       "<table border=\"1\" class=\"dataframe\">\n",
       "  <thead>\n",
       "    <tr style=\"text-align: right;\">\n",
       "      <th></th>\n",
       "      <th>name</th>\n",
       "      <th>category</th>\n",
       "      <th>ext price</th>\n",
       "      <th>date</th>\n",
       "    </tr>\n",
       "  </thead>\n",
       "  <tbody>\n",
       "    <tr>\n",
       "      <th>0</th>\n",
       "      <td>Carroll PLC</td>\n",
       "      <td>Belt</td>\n",
       "      <td>578.24</td>\n",
       "      <td>2014-09-27 07:13:03</td>\n",
       "    </tr>\n",
       "    <tr>\n",
       "      <th>1</th>\n",
       "      <td>Heidenreich-Bosco</td>\n",
       "      <td>Shoes</td>\n",
       "      <td>1018.78</td>\n",
       "      <td>2014-07-29 02:10:44</td>\n",
       "    </tr>\n",
       "    <tr>\n",
       "      <th>2</th>\n",
       "      <td>Kerluke, Reilly and Bechtelar</td>\n",
       "      <td>Shirt</td>\n",
       "      <td>289.92</td>\n",
       "      <td>2014-03-01 10:51:24</td>\n",
       "    </tr>\n",
       "    <tr>\n",
       "      <th>3</th>\n",
       "      <td>Waters-Walker</td>\n",
       "      <td>Shirt</td>\n",
       "      <td>413.40</td>\n",
       "      <td>2013-11-17 20:41:11</td>\n",
       "    </tr>\n",
       "    <tr>\n",
       "      <th>4</th>\n",
       "      <td>Waelchi-Fahey</td>\n",
       "      <td>Shirt</td>\n",
       "      <td>1793.52</td>\n",
       "      <td>2014-01-03 08:14:27</td>\n",
       "    </tr>\n",
       "  </tbody>\n",
       "</table>\n",
       "</div>"
      ],
      "text/plain": [
       "                            name category  ext price                date\n",
       "0                    Carroll PLC     Belt     578.24 2014-09-27 07:13:03\n",
       "1              Heidenreich-Bosco    Shoes    1018.78 2014-07-29 02:10:44\n",
       "2  Kerluke, Reilly and Bechtelar    Shirt     289.92 2014-03-01 10:51:24\n",
       "3                  Waters-Walker    Shirt     413.40 2013-11-17 20:41:11\n",
       "4                  Waelchi-Fahey    Shirt    1793.52 2014-01-03 08:14:27"
      ]
     },
     "execution_count": 9,
     "metadata": {},
     "output_type": "execute_result"
    }
   ],
   "source": [
    "customers = sales[['name','category','ext price','date']]\n",
    "customers.head()"
   ]
  },
  {
   "cell_type": "markdown",
   "id": "20c3f2d9",
   "metadata": {},
   "source": [
    "分類 name 和 category, 因為取用資料為 customers， 因此不用額外使用 'ext price'"
   ]
  },
  {
   "cell_type": "code",
   "execution_count": 10,
   "id": "87f2eae5",
   "metadata": {},
   "outputs": [
    {
     "data": {
      "text/html": [
       "<div>\n",
       "<style scoped>\n",
       "    .dataframe tbody tr th:only-of-type {\n",
       "        vertical-align: middle;\n",
       "    }\n",
       "\n",
       "    .dataframe tbody tr th {\n",
       "        vertical-align: top;\n",
       "    }\n",
       "\n",
       "    .dataframe thead th {\n",
       "        text-align: right;\n",
       "    }\n",
       "</style>\n",
       "<table border=\"1\" class=\"dataframe\">\n",
       "  <thead>\n",
       "    <tr style=\"text-align: right;\">\n",
       "      <th></th>\n",
       "      <th></th>\n",
       "      <th>ext price</th>\n",
       "    </tr>\n",
       "    <tr>\n",
       "      <th>name</th>\n",
       "      <th>category</th>\n",
       "      <th></th>\n",
       "    </tr>\n",
       "  </thead>\n",
       "  <tbody>\n",
       "    <tr>\n",
       "      <th rowspan=\"3\" valign=\"top\">Berge LLC</th>\n",
       "      <th>Belt</th>\n",
       "      <td>6033.53</td>\n",
       "    </tr>\n",
       "    <tr>\n",
       "      <th>Shirt</th>\n",
       "      <td>9670.24</td>\n",
       "    </tr>\n",
       "    <tr>\n",
       "      <th>Shoes</th>\n",
       "      <td>14361.10</td>\n",
       "    </tr>\n",
       "    <tr>\n",
       "      <th rowspan=\"2\" valign=\"top\">Carroll PLC</th>\n",
       "      <th>Belt</th>\n",
       "      <td>9359.26</td>\n",
       "    </tr>\n",
       "    <tr>\n",
       "      <th>Shirt</th>\n",
       "      <td>13717.61</td>\n",
       "    </tr>\n",
       "  </tbody>\n",
       "</table>\n",
       "</div>"
      ],
      "text/plain": [
       "                      ext price\n",
       "name        category           \n",
       "Berge LLC   Belt        6033.53\n",
       "            Shirt       9670.24\n",
       "            Shoes      14361.10\n",
       "Carroll PLC Belt        9359.26\n",
       "            Shirt      13717.61"
      ]
     },
     "execution_count": 10,
     "metadata": {},
     "output_type": "execute_result"
    }
   ],
   "source": [
    "category_group=customers.groupby(['name','category']).sum()\n",
    "category_group.head()  #method1"
   ]
  },
  {
   "cell_type": "code",
   "execution_count": 11,
   "id": "891e4905",
   "metadata": {},
   "outputs": [
    {
     "data": {
      "text/html": [
       "<div>\n",
       "<style scoped>\n",
       "    .dataframe tbody tr th:only-of-type {\n",
       "        vertical-align: middle;\n",
       "    }\n",
       "\n",
       "    .dataframe tbody tr th {\n",
       "        vertical-align: top;\n",
       "    }\n",
       "\n",
       "    .dataframe thead tr th {\n",
       "        text-align: left;\n",
       "    }\n",
       "\n",
       "    .dataframe thead tr:last-of-type th {\n",
       "        text-align: right;\n",
       "    }\n",
       "</style>\n",
       "<table border=\"1\" class=\"dataframe\">\n",
       "  <thead>\n",
       "    <tr>\n",
       "      <th></th>\n",
       "      <th colspan=\"3\" halign=\"left\">ext price</th>\n",
       "    </tr>\n",
       "    <tr>\n",
       "      <th>category</th>\n",
       "      <th>Belt</th>\n",
       "      <th>Shirt</th>\n",
       "      <th>Shoes</th>\n",
       "    </tr>\n",
       "    <tr>\n",
       "      <th>name</th>\n",
       "      <th></th>\n",
       "      <th></th>\n",
       "      <th></th>\n",
       "    </tr>\n",
       "  </thead>\n",
       "  <tbody>\n",
       "    <tr>\n",
       "      <th>Berge LLC</th>\n",
       "      <td>6033.53</td>\n",
       "      <td>9670.24</td>\n",
       "      <td>14361.10</td>\n",
       "    </tr>\n",
       "    <tr>\n",
       "      <th>Carroll PLC</th>\n",
       "      <td>9359.26</td>\n",
       "      <td>13717.61</td>\n",
       "      <td>12857.44</td>\n",
       "    </tr>\n",
       "    <tr>\n",
       "      <th>Cole-Eichmann</th>\n",
       "      <td>8112.70</td>\n",
       "      <td>14528.01</td>\n",
       "      <td>7794.71</td>\n",
       "    </tr>\n",
       "    <tr>\n",
       "      <th>Davis, Kshlerin and Reilly</th>\n",
       "      <td>1604.13</td>\n",
       "      <td>7533.03</td>\n",
       "      <td>9917.60</td>\n",
       "    </tr>\n",
       "    <tr>\n",
       "      <th>Ernser, Cruickshank and Lind</th>\n",
       "      <td>5894.38</td>\n",
       "      <td>16944.19</td>\n",
       "      <td>5250.45</td>\n",
       "    </tr>\n",
       "  </tbody>\n",
       "</table>\n",
       "</div>"
      ],
      "text/plain": [
       "                             ext price                    \n",
       "category                          Belt     Shirt     Shoes\n",
       "name                                                      \n",
       "Berge LLC                      6033.53   9670.24  14361.10\n",
       "Carroll PLC                    9359.26  13717.61  12857.44\n",
       "Cole-Eichmann                  8112.70  14528.01   7794.71\n",
       "Davis, Kshlerin and Reilly     1604.13   7533.03   9917.60\n",
       "Ernser, Cruickshank and Lind   5894.38  16944.19   5250.45"
      ]
     },
     "execution_count": 11,
     "metadata": {},
     "output_type": "execute_result"
    }
   ],
   "source": [
    "category_group.unstack().head() #method"
   ]
  },
  {
   "cell_type": "code",
   "execution_count": 12,
   "id": "e9452256",
   "metadata": {},
   "outputs": [
    {
     "data": {
      "text/plain": [
       "<matplotlib.legend.Legend at 0x20e066b57c0>"
      ]
     },
     "execution_count": 12,
     "metadata": {},
     "output_type": "execute_result"
    },
    {
     "data": {
      "image/png": "[encoded data removed]",
      "text/plain": [
       "<Figure size 432x288 with 1 Axes>"
      ]
     },
     "metadata": {
      "needs_background": "light"
     },
     "output_type": "display_data"
    }
   ],
   "source": [
    "my_plot = category_group.unstack().plot(kind='bar',stacked=True,title=\"Total Sales by Customer\")\n",
    "my_plot.set_xlabel(\"Customers\")\n",
    "my_plot.set_ylabel(\"Sales\")\n",
    "my_plot.legend([\"Total\",\"Belts\",\"Shirts\",\"Shoes\"], loc=9,ncol=4)"
   ]
  },
  {
   "cell_type": "code",
   "execution_count": 13,
   "id": "310f6c13",
   "metadata": {},
   "outputs": [
    {
     "data": {
      "text/plain": [
       "<matplotlib.legend.Legend at 0x20e066b5df0>"
      ]
     },
     "execution_count": 13,
     "metadata": {},
     "output_type": "execute_result"
    },
    {
     "data": {
      "image/png": "[encoded data removed]",
      "text/plain": [
       "<Figure size 648x504 with 1 Axes>"
      ]
     },
     "metadata": {
      "needs_background": "light"
     },
     "output_type": "display_data"
    }
   ],
   "source": [
    "my_plot = category_group.unstack().plot(kind='bar',stacked=True,title=\"Total Sales by Customer\",figsize=(9, 7))\n",
    "my_plot.set_xlabel(\"Customers\")\n",
    "my_plot.set_ylabel(\"Sales\")\n",
    "my_plot.legend([\"Total\",\"Belts\",\"Shirts\",\"Shoes\"], loc=9,ncol=4)"
   ]
  },
  {
   "cell_type": "markdown",
   "id": "87c41ab9",
   "metadata": {},
   "source": [
    "### Purchase Patterns 購買模式\n",
    "\n",
    "現在我們知道誰是最大的客戶以及他們如何購買產品，我們可能想更詳細地看看購買模式。\n",
    "\n",
    "讓我們再看一下數據，試著看看單個購買的規模有多大。直方圖允許我們將購買的產品分組，這樣我們就可以看到客戶交易的規模有多大。"
   ]
  },
  {
   "cell_type": "code",
   "execution_count": 14,
   "id": "aacc98bd",
   "metadata": {},
   "outputs": [
    {
     "data": {
      "text/html": [
       "<div>\n",
       "<style scoped>\n",
       "    .dataframe tbody tr th:only-of-type {\n",
       "        vertical-align: middle;\n",
       "    }\n",
       "\n",
       "    .dataframe tbody tr th {\n",
       "        vertical-align: top;\n",
       "    }\n",
       "\n",
       "    .dataframe thead th {\n",
       "        text-align: right;\n",
       "    }\n",
       "</style>\n",
       "<table border=\"1\" class=\"dataframe\">\n",
       "  <thead>\n",
       "    <tr style=\"text-align: right;\">\n",
       "      <th></th>\n",
       "      <th>ext price</th>\n",
       "      <th>date</th>\n",
       "    </tr>\n",
       "  </thead>\n",
       "  <tbody>\n",
       "    <tr>\n",
       "      <th>0</th>\n",
       "      <td>578.24</td>\n",
       "      <td>2014-09-27 07:13:03</td>\n",
       "    </tr>\n",
       "    <tr>\n",
       "      <th>1</th>\n",
       "      <td>1018.78</td>\n",
       "      <td>2014-07-29 02:10:44</td>\n",
       "    </tr>\n",
       "    <tr>\n",
       "      <th>2</th>\n",
       "      <td>289.92</td>\n",
       "      <td>2014-03-01 10:51:24</td>\n",
       "    </tr>\n",
       "    <tr>\n",
       "      <th>3</th>\n",
       "      <td>413.40</td>\n",
       "      <td>2013-11-17 20:41:11</td>\n",
       "    </tr>\n",
       "    <tr>\n",
       "      <th>4</th>\n",
       "      <td>1793.52</td>\n",
       "      <td>2014-01-03 08:14:27</td>\n",
       "    </tr>\n",
       "  </tbody>\n",
       "</table>\n",
       "</div>"
      ],
      "text/plain": [
       "   ext price                date\n",
       "0     578.24 2014-09-27 07:13:03\n",
       "1    1018.78 2014-07-29 02:10:44\n",
       "2     289.92 2014-03-01 10:51:24\n",
       "3     413.40 2013-11-17 20:41:11\n",
       "4    1793.52 2014-01-03 08:14:27"
      ]
     },
     "execution_count": 14,
     "metadata": {},
     "output_type": "execute_result"
    }
   ],
   "source": [
    "purchase_patterns = sales[['ext price','date']]\n",
    "purchase_patterns.head()"
   ]
  },
  {
   "cell_type": "markdown",
   "id": "77965aea",
   "metadata": {},
   "source": [
    "我們的大多數交易都低於500美元，只有極少數的交易在1500美元左右以上。"
   ]
  },
  {
   "cell_type": "code",
   "execution_count": 15,
   "id": "47730ae2",
   "metadata": {},
   "outputs": [
    {
     "data": {
      "text/plain": [
       "Text(0, 0.5, 'Number of orders')"
      ]
     },
     "execution_count": 15,
     "metadata": {},
     "output_type": "execute_result"
    },
    {
     "data": {
      "image/png": "[encoded data removed]",
      "text/plain": [
       "<Figure size 432x288 with 1 Axes>"
      ]
     },
     "metadata": {
      "needs_background": "light"
     },
     "output_type": "display_data"
    }
   ],
   "source": [
    "purchase_plot = purchase_patterns['ext price'].hist(bins=20)\n",
    "purchase_plot.set_title(\"Purchase Patterns\")\n",
    "purchase_plot.set_xlabel(\"Order Amount($)\")\n",
    "purchase_plot.set_ylabel(\"Number of orders\")"
   ]
  },
  {
   "cell_type": "markdown",
   "id": "28d21401",
   "metadata": {},
   "source": [
    "另一個有趣的方法是按一段時間內的銷售額來看數據。一個圖表可能會幫助我們了解，\"我們是否有某些月份比其他月份更忙？\" 如果我們想按「日期」分析數據，我們需要使用set_index將日期列設置為索引。"
   ]
  },
  {
   "cell_type": "code",
   "execution_count": 16,
   "id": "9bab99ce",
   "metadata": {},
   "outputs": [
    {
     "data": {
      "text/html": [
       "<div>\n",
       "<style scoped>\n",
       "    .dataframe tbody tr th:only-of-type {\n",
       "        vertical-align: middle;\n",
       "    }\n",
       "\n",
       "    .dataframe tbody tr th {\n",
       "        vertical-align: top;\n",
       "    }\n",
       "\n",
       "    .dataframe thead th {\n",
       "        text-align: right;\n",
       "    }\n",
       "</style>\n",
       "<table border=\"1\" class=\"dataframe\">\n",
       "  <thead>\n",
       "    <tr style=\"text-align: right;\">\n",
       "      <th></th>\n",
       "      <th>ext price</th>\n",
       "    </tr>\n",
       "    <tr>\n",
       "      <th>date</th>\n",
       "      <th></th>\n",
       "    </tr>\n",
       "  </thead>\n",
       "  <tbody>\n",
       "    <tr>\n",
       "      <th>2014-09-27 07:13:03</th>\n",
       "      <td>578.24</td>\n",
       "    </tr>\n",
       "    <tr>\n",
       "      <th>2014-07-29 02:10:44</th>\n",
       "      <td>1018.78</td>\n",
       "    </tr>\n",
       "    <tr>\n",
       "      <th>2014-03-01 10:51:24</th>\n",
       "      <td>289.92</td>\n",
       "    </tr>\n",
       "    <tr>\n",
       "      <th>2013-11-17 20:41:11</th>\n",
       "      <td>413.40</td>\n",
       "    </tr>\n",
       "    <tr>\n",
       "      <th>2014-01-03 08:14:27</th>\n",
       "      <td>1793.52</td>\n",
       "    </tr>\n",
       "  </tbody>\n",
       "</table>\n",
       "</div>"
      ],
      "text/plain": [
       "                     ext price\n",
       "date                          \n",
       "2014-09-27 07:13:03     578.24\n",
       "2014-07-29 02:10:44    1018.78\n",
       "2014-03-01 10:51:24     289.92\n",
       "2013-11-17 20:41:11     413.40\n",
       "2014-01-03 08:14:27    1793.52"
      ]
     },
     "execution_count": 16,
     "metadata": {},
     "output_type": "execute_result"
    }
   ],
   "source": [
    "purchase_patterns = purchase_patterns.set_index('date')\n",
    "purchase_patterns.head()"
   ]
  },
  {
   "cell_type": "markdown",
   "id": "dbc69361",
   "metadata": {},
   "source": [
    "pandas允許我們做的一個非常酷的事情就是對數據進行重新取樣。如果我們想按月查看數據，我們可以很容易地重新取樣並將其全部加起來。你會注意到我用'M'作為重新取樣的周期，這意味著數據應該以月為界重新取樣。"
   ]
  },
  {
   "cell_type": "code",
   "execution_count": 17,
   "id": "6ec04214",
   "metadata": {},
   "outputs": [
    {
     "data": {
      "text/html": [
       "<div>\n",
       "<style scoped>\n",
       "    .dataframe tbody tr th:only-of-type {\n",
       "        vertical-align: middle;\n",
       "    }\n",
       "\n",
       "    .dataframe tbody tr th {\n",
       "        vertical-align: top;\n",
       "    }\n",
       "\n",
       "    .dataframe thead th {\n",
       "        text-align: right;\n",
       "    }\n",
       "</style>\n",
       "<table border=\"1\" class=\"dataframe\">\n",
       "  <thead>\n",
       "    <tr style=\"text-align: right;\">\n",
       "      <th></th>\n",
       "      <th>ext price</th>\n",
       "    </tr>\n",
       "    <tr>\n",
       "      <th>date</th>\n",
       "      <th></th>\n",
       "    </tr>\n",
       "  </thead>\n",
       "  <tbody>\n",
       "    <tr>\n",
       "      <th>2013-10-31</th>\n",
       "      <td>14085.27</td>\n",
       "    </tr>\n",
       "    <tr>\n",
       "      <th>2013-11-30</th>\n",
       "      <td>44932.78</td>\n",
       "    </tr>\n",
       "    <tr>\n",
       "      <th>2013-12-31</th>\n",
       "      <td>57752.23</td>\n",
       "    </tr>\n",
       "    <tr>\n",
       "      <th>2014-01-31</th>\n",
       "      <td>53161.35</td>\n",
       "    </tr>\n",
       "    <tr>\n",
       "      <th>2014-02-28</th>\n",
       "      <td>51783.56</td>\n",
       "    </tr>\n",
       "    <tr>\n",
       "      <th>2014-03-31</th>\n",
       "      <td>44991.85</td>\n",
       "    </tr>\n",
       "    <tr>\n",
       "      <th>2014-04-30</th>\n",
       "      <td>34098.05</td>\n",
       "    </tr>\n",
       "    <tr>\n",
       "      <th>2014-05-31</th>\n",
       "      <td>50001.02</td>\n",
       "    </tr>\n",
       "    <tr>\n",
       "      <th>2014-06-30</th>\n",
       "      <td>37477.65</td>\n",
       "    </tr>\n",
       "    <tr>\n",
       "      <th>2014-07-31</th>\n",
       "      <td>41686.71</td>\n",
       "    </tr>\n",
       "    <tr>\n",
       "      <th>2014-08-31</th>\n",
       "      <td>55497.09</td>\n",
       "    </tr>\n",
       "    <tr>\n",
       "      <th>2014-09-30</th>\n",
       "      <td>57107.51</td>\n",
       "    </tr>\n",
       "    <tr>\n",
       "      <th>2014-10-31</th>\n",
       "      <td>37268.83</td>\n",
       "    </tr>\n",
       "  </tbody>\n",
       "</table>\n",
       "</div>"
      ],
      "text/plain": [
       "            ext price\n",
       "date                 \n",
       "2013-10-31   14085.27\n",
       "2013-11-30   44932.78\n",
       "2013-12-31   57752.23\n",
       "2014-01-31   53161.35\n",
       "2014-02-28   51783.56\n",
       "2014-03-31   44991.85\n",
       "2014-04-30   34098.05\n",
       "2014-05-31   50001.02\n",
       "2014-06-30   37477.65\n",
       "2014-07-31   41686.71\n",
       "2014-08-31   55497.09\n",
       "2014-09-30   57107.51\n",
       "2014-10-31   37268.83"
      ]
     },
     "execution_count": 17,
     "metadata": {},
     "output_type": "execute_result"
    }
   ],
   "source": [
    "purchase_patterns.resample('M').agg(sum)"
   ]
  },
  {
   "cell_type": "code",
   "execution_count": 18,
   "id": "7b8715f8",
   "metadata": {},
   "outputs": [
    {
     "data": {
      "image/png": "[encoded data removed]",
      "text/plain": [
       "<Figure size 432x288 with 1 Axes>"
      ]
     },
     "metadata": {
      "needs_background": "light"
     },
     "output_type": "display_data"
    }
   ],
   "source": [
    "purchase_plot = purchase_patterns.resample('M').agg(sum).plot(title=\"Total Sales by Month\",legend=None)"
   ]
  },
  {
   "cell_type": "code",
   "execution_count": 19,
   "id": "8f686084",
   "metadata": {},
   "outputs": [],
   "source": [
    "fig = purchase_plot.get_figure()\n",
    "fig.savefig(\"data/Simple-Graphing.png\")"
   ]
  },
  {
   "cell_type": "code",
   "execution_count": null,
   "id": "b56d263b",
   "metadata": {},
   "outputs": [],
   "source": []
  }
 ],
 "metadata": {
  "kernelspec": {
   "display_name": "Python 3 (ipykernel)",
   "language": "python",
   "name": "python3"
  },
  "language_info": {
   "codemirror_mode": {
    "name": "ipython",
    "version": 3
   },
   "file_extension": ".py",
   "mimetype": "text/x-python",
   "name": "python",
   "nbconvert_exporter": "python",
   "pygments_lexer": "ipython3",
   "version": "3.9.7"
  }
 },
 "nbformat": 4,
 "nbformat_minor": 5
}
