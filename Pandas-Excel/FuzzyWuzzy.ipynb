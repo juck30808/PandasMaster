{
 "cells": [
  {
   "cell_type": "markdown",
   "id": "1ff079bc",
   "metadata": {},
   "source": [
    "## FuzzyWuzzy 簡介\n",
    "FuzzyWuzzy 是一個簡單易用的模糊字符串匹配工具包。 \n",
    "github 上 5K 星，它依據 Levenshtein Distance 算法 計算兩個序列之間的差異。"
   ]
  },
  {
   "cell_type": "code",
   "execution_count": 3,
   "id": "2eb05877",
   "metadata": {},
   "outputs": [
    {
     "name": "stdout",
     "output_type": "stream",
     "text": [
      "Requirement already satisfied: fuzzywuzzy in c:\\users\\cti110016\\anaconda3\\lib\\site-packages (0.18.0)\n",
      "Note: you may need to restart the kernel to use updated packages.\n"
     ]
    }
   ],
   "source": [
    "pip install fuzzywuzzy"
   ]
  },
  {
   "cell_type": "markdown",
   "id": "9ce4cd11",
   "metadata": {},
   "source": [
    "\n",
    "Levenshtein Distance 算法，又叫 Edit Distance 算法，是指兩個字符串之間，由一個轉成另一個所需的最少編輯操作次數。許可的編輯操作包括將一個字符替換成另一個字符，插入一個字符，刪除一個字符。一般來說，編輯距離越小，兩個串的相似度越大。"
   ]
  },
  {
   "cell_type": "code",
   "execution_count": 5,
   "id": "8b629afa",
   "metadata": {},
   "outputs": [],
   "source": [
    "from fuzzywuzzy import fuzz\n",
    "from fuzzywuzzy import process"
   ]
  },
  {
   "cell_type": "markdown",
   "id": "af7cc81b",
   "metadata": {},
   "source": [
    "回傳的數值表示前後句型相似度"
   ]
  },
  {
   "cell_type": "code",
   "execution_count": 6,
   "id": "93000dc9",
   "metadata": {},
   "outputs": [
    {
     "data": {
      "text/plain": [
       "97"
      ]
     },
     "execution_count": 6,
     "metadata": {},
     "output_type": "execute_result"
    }
   ],
   "source": [
    "# Simple Ratio 簡單匹配\n",
    "fuzz.ratio(\"this is a test\", \"this is a test!\") #97\n",
    "fuzz.ratio(\"fuzzy wuzzy was a bear\", \"wuzzy fuzzy was a bear\") #91"
   ]
  },
  {
   "cell_type": "code",
   "execution_count": 12,
   "id": "37313d11",
   "metadata": {},
   "outputs": [
    {
     "data": {
      "text/plain": [
       "100"
      ]
     },
     "execution_count": 12,
     "metadata": {},
     "output_type": "execute_result"
    }
   ],
   "source": [
    "# Partial Ratio 非完全匹配\n",
    "fuzz.partial_ratio(\"this is a test\", \"this is a test!\")"
   ]
  },
  {
   "cell_type": "code",
   "execution_count": 26,
   "id": "3b86974e",
   "metadata": {},
   "outputs": [
    {
     "data": {
      "text/plain": [
       "100"
      ]
     },
     "execution_count": 26,
     "metadata": {},
     "output_type": "execute_result"
    }
   ],
   "source": [
    "# Token Sort Ratio 忽略顺序匹配\n",
    "fuzz.token_sort_ratio(\"fuzzy wuzzy was a bear\", \"wuzzy fuzzy was a bear\") #100\n",
    "fuzz.token_sort_ratio(\"fuzzy was a bear\", \"fuzzy fuzzy was a bear\") #84"
   ]
  },
  {
   "cell_type": "code",
   "execution_count": 16,
   "id": "1b765d59",
   "metadata": {},
   "outputs": [
    {
     "data": {
      "text/plain": [
       "100"
      ]
     },
     "execution_count": 16,
     "metadata": {},
     "output_type": "execute_result"
    }
   ],
   "source": [
    "# Token Set Ratio 去重子集匹配\n",
    "fuzz.token_set_ratio(\"fuzzy was a bear\", \"fuzzy fuzzy was a bear\")"
   ]
  },
  {
   "cell_type": "markdown",
   "id": "cb4bbd84",
   "metadata": {},
   "source": [
    "###  Process 用来返回模糊匹配的字符串和相似度。\n",
    "process.extract(query, choices, processor=default_processor, scorer=default_scorer, limit=5)\n",
    "\n",
    "query是字串，choices是陣列，元素是字串。 processor是對輸入比較的字串的處理函式，預設是fuzzywuzzy.utils.full_process()，即將字串變為小寫， 去掉除字母和數字之外的字元，剩下的字串以空格分開。scorer計算兩個字串相似度的函式，預設fuzz.WRatio()。 limit是輸出個數。\n",
    "\n",
    "輸出為陣列元素為元組，元祖第一個匹配到的字串，第二個為int型為score。"
   ]
  },
  {
   "cell_type": "code",
   "execution_count": 19,
   "id": "94b268f7",
   "metadata": {},
   "outputs": [],
   "source": [
    "choices = [\"Atlanta Falcons\", \n",
    "           \"New York Jets\", \n",
    "           \"New York Giants\", \n",
    "           \"Dallas Cowboys\"]"
   ]
  },
  {
   "cell_type": "code",
   "execution_count": 20,
   "id": "ffe64238",
   "metadata": {},
   "outputs": [
    {
     "data": {
      "text/plain": [
       "[('New York Jets', 100), ('New York Giants', 79)]"
      ]
     },
     "execution_count": 20,
     "metadata": {},
     "output_type": "execute_result"
    }
   ],
   "source": [
    "process.extract(\"new york jets\", choices, limit=2)"
   ]
  },
  {
   "cell_type": "code",
   "execution_count": 21,
   "id": "fa5a6fd3",
   "metadata": {},
   "outputs": [
    {
     "data": {
      "text/plain": [
       "('Dallas Cowboys', 90)"
      ]
     },
     "execution_count": 21,
     "metadata": {},
     "output_type": "execute_result"
    }
   ],
   "source": [
    "process.extractOne(\"cowboys\", choices)"
   ]
  },
  {
   "cell_type": "code",
   "execution_count": null,
   "id": "be7a789e",
   "metadata": {},
   "outputs": [],
   "source": [
    "# 甚至是檔案\n",
    "# process.extractOne(\"System of a down - Hypnotize - Heroin\", songs)\n",
    "# process.extractOne(\"System of a down - Hypnotize - Heroin\", songs, scorer=fuzz.token_sort_ratio)"
   ]
  },
  {
   "cell_type": "code",
   "execution_count": null,
   "id": "a965e06c",
   "metadata": {},
   "outputs": [],
   "source": []
  }
 ],
 "metadata": {
  "kernelspec": {
   "display_name": "Python 3 (ipykernel)",
   "language": "python",
   "name": "python3"
  },
  "language_info": {
   "codemirror_mode": {
    "name": "ipython",
    "version": 3
   },
   "file_extension": ".py",
   "mimetype": "text/x-python",
   "name": "python",
   "nbconvert_exporter": "python",
   "pygments_lexer": "ipython3",
   "version": "3.9.7"
  }
 },
 "nbformat": 4,
 "nbformat_minor": 5
}
