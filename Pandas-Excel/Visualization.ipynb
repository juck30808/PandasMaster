{
 "cells": [
  {
   "cell_type": "markdown",
   "id": "b5c40c9b",
   "metadata": {},
   "source": [
    "### Python Visualization Tools\n",
    "\n",
    "在Python世界中，有多種選擇來實現數據的可視化。由於這種多樣性，要弄清楚在什麼時候使用哪種工具確實很有挑戰性。這篇文章包含了一些比較流行的樣本，並說明瞭如何使用它們來創建一個簡單的柱狀圖。我將創建用以下方法繪製數據的例子。\n",
    "\n",
    "- Pandas\n",
    "- Seaborn\n",
    "- ggplot\n",
    "- Bokeh\n",
    "- pygal\n",
    "- Plotly\n",
    "\n",
    "在這些例子中，我將使用pandas來處理數據，並使用它來驅動可視化。在大多數情況下，這些工具可以在沒有pandas的情況下使用，但我認為pandas+可視化工具的組合非常普遍，這是最好的開始。\n",
    "\n",
    "\n",
    "### Methodology 方法論\n",
    "關於我寫這篇文章的方法，有一個簡單的說明。我相信，一旦人們開始閱讀這篇文章，他們會指出使用這些工具的更好方法。我的目標不是在每個例子中創建完全相同的圖表。我想在每個例子中以大致相同的方式將數據可視化，而研究解決方案的時間大致相同。\n",
    "\n",
    "在這個過程中，我遇到的最大挑戰是格式化x軸和y軸，並使數據在一些大標籤下看起來合理。我還花了一些時間來弄清楚每個工具希望數據的格式。一旦我搞清楚了這些部分，剩下的就相對簡單了。\n",
    "\n",
    "這些工具允許你用數據做更多類型的圖。我的例子更側重於格式化的簡易性，而不是創新的可視化例子。此外由於標籤的存在，一些圖表佔用了很多空間，所以我擅自把它們剪掉--只是為了保持文章的長度可控。最後我調整了圖片的大小，所以任何模糊都是縮放的問題，而不是對實際輸出質量的反映。\n",
    "\n",
    "最後，我是以嘗試使用另一種工具來代替Excel的心態來處理此事的。我認為我的例子更能說明在報告、演示文稿、電子郵件或靜態網頁中的顯示情況。如果你正在評估用於數據實時可視化或通過其他機制共享的工具；那麼這些工具中的一些提供了更多的功能，我就不一一介紹了。"
   ]
  },
  {
   "cell_type": "code",
   "execution_count": 5,
   "id": "5c79b432",
   "metadata": {},
   "outputs": [
    {
     "data": {
      "text/html": [
       "<div>\n",
       "<style scoped>\n",
       "    .dataframe tbody tr th:only-of-type {\n",
       "        vertical-align: middle;\n",
       "    }\n",
       "\n",
       "    .dataframe tbody tr th {\n",
       "        vertical-align: top;\n",
       "    }\n",
       "\n",
       "    .dataframe thead th {\n",
       "        text-align: right;\n",
       "    }\n",
       "</style>\n",
       "<table border=\"1\" class=\"dataframe\">\n",
       "  <thead>\n",
       "    <tr style=\"text-align: right;\">\n",
       "      <th></th>\n",
       "      <th>category</th>\n",
       "      <th>detail</th>\n",
       "      <th>amount</th>\n",
       "    </tr>\n",
       "  </thead>\n",
       "  <tbody>\n",
       "    <tr>\n",
       "      <th>46</th>\n",
       "      <td>ADMINISTRATION</td>\n",
       "      <td>Capitol Renovation and Restoration Continued</td>\n",
       "      <td>126300000</td>\n",
       "    </tr>\n",
       "    <tr>\n",
       "      <th>1</th>\n",
       "      <td>UNIVERSITY OF MINNESOTA</td>\n",
       "      <td>Minneapolis; Tate Laboratory Renovation</td>\n",
       "      <td>56700000</td>\n",
       "    </tr>\n",
       "    <tr>\n",
       "      <th>78</th>\n",
       "      <td>HUMAN SERVICES</td>\n",
       "      <td>Minnesota Security Hospital - St. Peter</td>\n",
       "      <td>56317000</td>\n",
       "    </tr>\n",
       "    <tr>\n",
       "      <th>0</th>\n",
       "      <td>UNIVERSITY OF MINNESOTA</td>\n",
       "      <td>Higher Education Asset Preservation (HEAPR) 1</td>\n",
       "      <td>42500000</td>\n",
       "    </tr>\n",
       "    <tr>\n",
       "      <th>5</th>\n",
       "      <td>MINNESOTA STATE COLLEGES AND UNIVERSITIES</td>\n",
       "      <td>Higher Education Asset Preservation (HEAPR) 2</td>\n",
       "      <td>42500000</td>\n",
       "    </tr>\n",
       "    <tr>\n",
       "      <th>6</th>\n",
       "      <td>MINNESOTA STATE COLLEGES AND UNIVERSITIES</td>\n",
       "      <td>Metropolitan State University</td>\n",
       "      <td>35865000</td>\n",
       "    </tr>\n",
       "    <tr>\n",
       "      <th>13</th>\n",
       "      <td>MINNESOTA STATE COLLEGES AND UNIVERSITIES</td>\n",
       "      <td>Minnesota State University - Mankato</td>\n",
       "      <td>25818000</td>\n",
       "    </tr>\n",
       "    <tr>\n",
       "      <th>59</th>\n",
       "      <td>TRANSPORTATION</td>\n",
       "      <td>Local Road Improvement Fund Grants</td>\n",
       "      <td>24356000</td>\n",
       "    </tr>\n",
       "    <tr>\n",
       "      <th>105</th>\n",
       "      <td>EMPLOYMENT AND ECONOMIC DEVELOPMENT</td>\n",
       "      <td>Minneapolis - Nicollet Mall</td>\n",
       "      <td>21500000</td>\n",
       "    </tr>\n",
       "    <tr>\n",
       "      <th>121</th>\n",
       "      <td>MINNESOTA HOUSING FINANCE AGENCY</td>\n",
       "      <td>MN Housing Finance Agency</td>\n",
       "      <td>20000000</td>\n",
       "    </tr>\n",
       "  </tbody>\n",
       "</table>\n",
       "</div>"
      ],
      "text/plain": [
       "                                      category  \\\n",
       "46                              ADMINISTRATION   \n",
       "1                      UNIVERSITY OF MINNESOTA   \n",
       "78                              HUMAN SERVICES   \n",
       "0                      UNIVERSITY OF MINNESOTA   \n",
       "5    MINNESOTA STATE COLLEGES AND UNIVERSITIES   \n",
       "6    MINNESOTA STATE COLLEGES AND UNIVERSITIES   \n",
       "13   MINNESOTA STATE COLLEGES AND UNIVERSITIES   \n",
       "59                              TRANSPORTATION   \n",
       "105        EMPLOYMENT AND ECONOMIC DEVELOPMENT   \n",
       "121           MINNESOTA HOUSING FINANCE AGENCY   \n",
       "\n",
       "                                            detail     amount  \n",
       "46    Capitol Renovation and Restoration Continued  126300000  \n",
       "1          Minneapolis; Tate Laboratory Renovation   56700000  \n",
       "78         Minnesota Security Hospital - St. Peter   56317000  \n",
       "0    Higher Education Asset Preservation (HEAPR) 1   42500000  \n",
       "5    Higher Education Asset Preservation (HEAPR) 2   42500000  \n",
       "6                    Metropolitan State University   35865000  \n",
       "13            Minnesota State University - Mankato   25818000  \n",
       "59              Local Road Improvement Fund Grants   24356000  \n",
       "105                    Minneapolis - Nicollet Mall   21500000  \n",
       "121                      MN Housing Finance Agency   20000000  "
      ]
     },
     "execution_count": 5,
     "metadata": {},
     "output_type": "execute_result"
    }
   ],
   "source": [
    "import pandas as pd\n",
    "import matplotlib.pyplot as plt\n",
    "\n",
    "budget = pd.read_csv(\"data/pd-budget-detail-2014.csv\")\n",
    "budget = budget.sort_values('amount',ascending=False)[:10]\n",
    "budget"
   ]
  },
  {
   "cell_type": "code",
   "execution_count": 7,
   "id": "63ceb548",
   "metadata": {},
   "outputs": [
    {
     "data": {
      "text/plain": [
       "<AxesSubplot:title={'center':'MN Capital Budget - 2014'}>"
      ]
     },
     "execution_count": 7,
     "metadata": {},
     "output_type": "execute_result"
    },
    {
     "data": {
      "image/png": "[encoded data removed]",
      "text/plain": [
       "<Figure size 432x288 with 1 Axes>"
      ]
     },
     "metadata": {
      "needs_background": "light"
     },
     "output_type": "display_data"
    }
   ],
   "source": [
    "budget.plot(kind=\"bar\",\n",
    "            title=\"MN Capital Budget - 2014\",\n",
    "                          legend=False)"
   ]
  },
  {
   "cell_type": "markdown",
   "id": "34016959",
   "metadata": {},
   "source": [
    "### Seaborn\n",
    "\n",
    "是一個基於matplotlib的可視化庫。它旨在使默認的數據可視化更具有視覺吸引力。它的目標也是使更複雜的圖表更容易創建。它確實與pandas整合得很好。\n",
    "\n",
    "我的例子不允許seaborn明顯區分自己。我喜歡seaborn的一點是它的各種內置樣式，它允許你快速改變調色板，使其看起來更漂亮一些。否則，在這個簡單的圖表中，seaborn並沒有為我們做很多事情。"
   ]
  },
  {
   "cell_type": "code",
   "execution_count": 8,
   "id": "dfcfaa82",
   "metadata": {},
   "outputs": [
    {
     "data": {
      "text/html": [
       "<div>\n",
       "<style scoped>\n",
       "    .dataframe tbody tr th:only-of-type {\n",
       "        vertical-align: middle;\n",
       "    }\n",
       "\n",
       "    .dataframe tbody tr th {\n",
       "        vertical-align: top;\n",
       "    }\n",
       "\n",
       "    .dataframe thead th {\n",
       "        text-align: right;\n",
       "    }\n",
       "</style>\n",
       "<table border=\"1\" class=\"dataframe\">\n",
       "  <thead>\n",
       "    <tr style=\"text-align: right;\">\n",
       "      <th></th>\n",
       "      <th>category</th>\n",
       "      <th>detail</th>\n",
       "      <th>amount</th>\n",
       "    </tr>\n",
       "  </thead>\n",
       "  <tbody>\n",
       "    <tr>\n",
       "      <th>46</th>\n",
       "      <td>ADMINISTRATION</td>\n",
       "      <td>Capitol Renovation and Restoration Continued</td>\n",
       "      <td>126300000</td>\n",
       "    </tr>\n",
       "    <tr>\n",
       "      <th>1</th>\n",
       "      <td>UNIVERSITY OF MINNESOTA</td>\n",
       "      <td>Minneapolis; Tate Laboratory Renovation</td>\n",
       "      <td>56700000</td>\n",
       "    </tr>\n",
       "    <tr>\n",
       "      <th>78</th>\n",
       "      <td>HUMAN SERVICES</td>\n",
       "      <td>Minnesota Security Hospital - St. Peter</td>\n",
       "      <td>56317000</td>\n",
       "    </tr>\n",
       "    <tr>\n",
       "      <th>0</th>\n",
       "      <td>UNIVERSITY OF MINNESOTA</td>\n",
       "      <td>Higher Education Asset Preservation (HEAPR) 1</td>\n",
       "      <td>42500000</td>\n",
       "    </tr>\n",
       "    <tr>\n",
       "      <th>5</th>\n",
       "      <td>MINNESOTA STATE COLLEGES AND UNIVERSITIES</td>\n",
       "      <td>Higher Education Asset Preservation (HEAPR) 2</td>\n",
       "      <td>42500000</td>\n",
       "    </tr>\n",
       "    <tr>\n",
       "      <th>6</th>\n",
       "      <td>MINNESOTA STATE COLLEGES AND UNIVERSITIES</td>\n",
       "      <td>Metropolitan State University</td>\n",
       "      <td>35865000</td>\n",
       "    </tr>\n",
       "    <tr>\n",
       "      <th>13</th>\n",
       "      <td>MINNESOTA STATE COLLEGES AND UNIVERSITIES</td>\n",
       "      <td>Minnesota State University - Mankato</td>\n",
       "      <td>25818000</td>\n",
       "    </tr>\n",
       "    <tr>\n",
       "      <th>59</th>\n",
       "      <td>TRANSPORTATION</td>\n",
       "      <td>Local Road Improvement Fund Grants</td>\n",
       "      <td>24356000</td>\n",
       "    </tr>\n",
       "    <tr>\n",
       "      <th>105</th>\n",
       "      <td>EMPLOYMENT AND ECONOMIC DEVELOPMENT</td>\n",
       "      <td>Minneapolis - Nicollet Mall</td>\n",
       "      <td>21500000</td>\n",
       "    </tr>\n",
       "    <tr>\n",
       "      <th>121</th>\n",
       "      <td>MINNESOTA HOUSING FINANCE AGENCY</td>\n",
       "      <td>MN Housing Finance Agency</td>\n",
       "      <td>20000000</td>\n",
       "    </tr>\n",
       "  </tbody>\n",
       "</table>\n",
       "</div>"
      ],
      "text/plain": [
       "                                      category  \\\n",
       "46                              ADMINISTRATION   \n",
       "1                      UNIVERSITY OF MINNESOTA   \n",
       "78                              HUMAN SERVICES   \n",
       "0                      UNIVERSITY OF MINNESOTA   \n",
       "5    MINNESOTA STATE COLLEGES AND UNIVERSITIES   \n",
       "6    MINNESOTA STATE COLLEGES AND UNIVERSITIES   \n",
       "13   MINNESOTA STATE COLLEGES AND UNIVERSITIES   \n",
       "59                              TRANSPORTATION   \n",
       "105        EMPLOYMENT AND ECONOMIC DEVELOPMENT   \n",
       "121           MINNESOTA HOUSING FINANCE AGENCY   \n",
       "\n",
       "                                            detail     amount  \n",
       "46    Capitol Renovation and Restoration Continued  126300000  \n",
       "1          Minneapolis; Tate Laboratory Renovation   56700000  \n",
       "78         Minnesota Security Hospital - St. Peter   56317000  \n",
       "0    Higher Education Asset Preservation (HEAPR) 1   42500000  \n",
       "5    Higher Education Asset Preservation (HEAPR) 2   42500000  \n",
       "6                    Metropolitan State University   35865000  \n",
       "13            Minnesota State University - Mankato   25818000  \n",
       "59              Local Road Improvement Fund Grants   24356000  \n",
       "105                    Minneapolis - Nicollet Mall   21500000  \n",
       "121                      MN Housing Finance Agency   20000000  "
      ]
     },
     "execution_count": 8,
     "metadata": {},
     "output_type": "execute_result"
    }
   ],
   "source": [
    "import pandas as pd\n",
    "import seaborn as sns\n",
    "import matplotlib.pyplot as plt\n",
    "\n",
    "budget = pd.read_csv(\"data/pd-budget-detail-2014.csv\")\n",
    "budget = budget.sort_values('amount',ascending=False)[:10]\n",
    "budget"
   ]
  },
  {
   "cell_type": "code",
   "execution_count": 9,
   "id": "2627858c",
   "metadata": {},
   "outputs": [
    {
     "ename": "AttributeError",
     "evalue": "'Rectangle' object has no property 'x_order'",
     "output_type": "error",
     "traceback": [
      "\u001b[1;31m---------------------------------------------------------------------------\u001b[0m",
      "\u001b[1;31mAttributeError\u001b[0m                            Traceback (most recent call last)",
      "\u001b[1;32mC:\\Users\\CTI110~1\\AppData\\Local\\Temp/ipykernel_5808/27924035.py\u001b[0m in \u001b[0;36m<module>\u001b[1;34m\u001b[0m\n\u001b[0;32m      1\u001b[0m \u001b[0msns\u001b[0m\u001b[1;33m.\u001b[0m\u001b[0mset_style\u001b[0m\u001b[1;33m(\u001b[0m\u001b[1;34m\"darkgrid\"\u001b[0m\u001b[1;33m)\u001b[0m\u001b[1;33m\u001b[0m\u001b[1;33m\u001b[0m\u001b[0m\n\u001b[1;32m----> 2\u001b[1;33m bar_plot = sns.barplot(x=budget[\"detail\"],y=budget[\"amount\"],\n\u001b[0m\u001b[0;32m      3\u001b[0m                         \u001b[0mpalette\u001b[0m\u001b[1;33m=\u001b[0m\u001b[1;34m\"muted\"\u001b[0m\u001b[1;33m,\u001b[0m\u001b[1;33m\u001b[0m\u001b[1;33m\u001b[0m\u001b[0m\n\u001b[0;32m      4\u001b[0m                         x_order=budget[\"detail\"].tolist())\n\u001b[0;32m      5\u001b[0m \u001b[0mplt\u001b[0m\u001b[1;33m.\u001b[0m\u001b[0mxticks\u001b[0m\u001b[1;33m(\u001b[0m\u001b[0mrotation\u001b[0m\u001b[1;33m=\u001b[0m\u001b[1;36m90\u001b[0m\u001b[1;33m)\u001b[0m\u001b[1;33m\u001b[0m\u001b[1;33m\u001b[0m\u001b[0m\n",
      "\u001b[1;32m~\\Anaconda3\\lib\\site-packages\\seaborn\\_decorators.py\u001b[0m in \u001b[0;36minner_f\u001b[1;34m(*args, **kwargs)\u001b[0m\n\u001b[0;32m     44\u001b[0m             )\n\u001b[0;32m     45\u001b[0m         \u001b[0mkwargs\u001b[0m\u001b[1;33m.\u001b[0m\u001b[0mupdate\u001b[0m\u001b[1;33m(\u001b[0m\u001b[1;33m{\u001b[0m\u001b[0mk\u001b[0m\u001b[1;33m:\u001b[0m \u001b[0marg\u001b[0m \u001b[1;32mfor\u001b[0m \u001b[0mk\u001b[0m\u001b[1;33m,\u001b[0m \u001b[0marg\u001b[0m \u001b[1;32min\u001b[0m \u001b[0mzip\u001b[0m\u001b[1;33m(\u001b[0m\u001b[0msig\u001b[0m\u001b[1;33m.\u001b[0m\u001b[0mparameters\u001b[0m\u001b[1;33m,\u001b[0m \u001b[0margs\u001b[0m\u001b[1;33m)\u001b[0m\u001b[1;33m}\u001b[0m\u001b[1;33m)\u001b[0m\u001b[1;33m\u001b[0m\u001b[1;33m\u001b[0m\u001b[0m\n\u001b[1;32m---> 46\u001b[1;33m         \u001b[1;32mreturn\u001b[0m \u001b[0mf\u001b[0m\u001b[1;33m(\u001b[0m\u001b[1;33m**\u001b[0m\u001b[0mkwargs\u001b[0m\u001b[1;33m)\u001b[0m\u001b[1;33m\u001b[0m\u001b[1;33m\u001b[0m\u001b[0m\n\u001b[0m\u001b[0;32m     47\u001b[0m     \u001b[1;32mreturn\u001b[0m \u001b[0minner_f\u001b[0m\u001b[1;33m\u001b[0m\u001b[1;33m\u001b[0m\u001b[0m\n\u001b[0;32m     48\u001b[0m \u001b[1;33m\u001b[0m\u001b[0m\n",
      "\u001b[1;32m~\\Anaconda3\\lib\\site-packages\\seaborn\\categorical.py\u001b[0m in \u001b[0;36mbarplot\u001b[1;34m(x, y, hue, data, order, hue_order, estimator, ci, n_boot, units, seed, orient, color, palette, saturation, errcolor, errwidth, capsize, dodge, ax, **kwargs)\u001b[0m\n\u001b[0;32m   3188\u001b[0m         \u001b[0max\u001b[0m \u001b[1;33m=\u001b[0m \u001b[0mplt\u001b[0m\u001b[1;33m.\u001b[0m\u001b[0mgca\u001b[0m\u001b[1;33m(\u001b[0m\u001b[1;33m)\u001b[0m\u001b[1;33m\u001b[0m\u001b[1;33m\u001b[0m\u001b[0m\n\u001b[0;32m   3189\u001b[0m \u001b[1;33m\u001b[0m\u001b[0m\n\u001b[1;32m-> 3190\u001b[1;33m     \u001b[0mplotter\u001b[0m\u001b[1;33m.\u001b[0m\u001b[0mplot\u001b[0m\u001b[1;33m(\u001b[0m\u001b[0max\u001b[0m\u001b[1;33m,\u001b[0m \u001b[0mkwargs\u001b[0m\u001b[1;33m)\u001b[0m\u001b[1;33m\u001b[0m\u001b[1;33m\u001b[0m\u001b[0m\n\u001b[0m\u001b[0;32m   3191\u001b[0m     \u001b[1;32mreturn\u001b[0m \u001b[0max\u001b[0m\u001b[1;33m\u001b[0m\u001b[1;33m\u001b[0m\u001b[0m\n\u001b[0;32m   3192\u001b[0m \u001b[1;33m\u001b[0m\u001b[0m\n",
      "\u001b[1;32m~\\Anaconda3\\lib\\site-packages\\seaborn\\categorical.py\u001b[0m in \u001b[0;36mplot\u001b[1;34m(self, ax, bar_kws)\u001b[0m\n\u001b[0;32m   1637\u001b[0m     \u001b[1;32mdef\u001b[0m \u001b[0mplot\u001b[0m\u001b[1;33m(\u001b[0m\u001b[0mself\u001b[0m\u001b[1;33m,\u001b[0m \u001b[0max\u001b[0m\u001b[1;33m,\u001b[0m \u001b[0mbar_kws\u001b[0m\u001b[1;33m)\u001b[0m\u001b[1;33m:\u001b[0m\u001b[1;33m\u001b[0m\u001b[1;33m\u001b[0m\u001b[0m\n\u001b[0;32m   1638\u001b[0m         \u001b[1;34m\"\"\"Make the plot.\"\"\"\u001b[0m\u001b[1;33m\u001b[0m\u001b[1;33m\u001b[0m\u001b[0m\n\u001b[1;32m-> 1639\u001b[1;33m         \u001b[0mself\u001b[0m\u001b[1;33m.\u001b[0m\u001b[0mdraw_bars\u001b[0m\u001b[1;33m(\u001b[0m\u001b[0max\u001b[0m\u001b[1;33m,\u001b[0m \u001b[0mbar_kws\u001b[0m\u001b[1;33m)\u001b[0m\u001b[1;33m\u001b[0m\u001b[1;33m\u001b[0m\u001b[0m\n\u001b[0m\u001b[0;32m   1640\u001b[0m         \u001b[0mself\u001b[0m\u001b[1;33m.\u001b[0m\u001b[0mannotate_axes\u001b[0m\u001b[1;33m(\u001b[0m\u001b[0max\u001b[0m\u001b[1;33m)\u001b[0m\u001b[1;33m\u001b[0m\u001b[1;33m\u001b[0m\u001b[0m\n\u001b[0;32m   1641\u001b[0m         \u001b[1;32mif\u001b[0m \u001b[0mself\u001b[0m\u001b[1;33m.\u001b[0m\u001b[0morient\u001b[0m \u001b[1;33m==\u001b[0m \u001b[1;34m\"h\"\u001b[0m\u001b[1;33m:\u001b[0m\u001b[1;33m\u001b[0m\u001b[1;33m\u001b[0m\u001b[0m\n",
      "\u001b[1;32m~\\Anaconda3\\lib\\site-packages\\seaborn\\categorical.py\u001b[0m in \u001b[0;36mdraw_bars\u001b[1;34m(self, ax, kws)\u001b[0m\n\u001b[0;32m   1602\u001b[0m \u001b[1;33m\u001b[0m\u001b[0m\n\u001b[0;32m   1603\u001b[0m             \u001b[1;31m# Draw the bars\u001b[0m\u001b[1;33m\u001b[0m\u001b[1;33m\u001b[0m\u001b[0m\n\u001b[1;32m-> 1604\u001b[1;33m             barfunc(barpos, self.statistic, self.width,\n\u001b[0m\u001b[0;32m   1605\u001b[0m                     color=self.colors, align=\"center\", **kws)\n\u001b[0;32m   1606\u001b[0m \u001b[1;33m\u001b[0m\u001b[0m\n",
      "\u001b[1;32m~\\Anaconda3\\lib\\site-packages\\matplotlib\\__init__.py\u001b[0m in \u001b[0;36minner\u001b[1;34m(ax, data, *args, **kwargs)\u001b[0m\n\u001b[0;32m   1359\u001b[0m     \u001b[1;32mdef\u001b[0m \u001b[0minner\u001b[0m\u001b[1;33m(\u001b[0m\u001b[0max\u001b[0m\u001b[1;33m,\u001b[0m \u001b[1;33m*\u001b[0m\u001b[0margs\u001b[0m\u001b[1;33m,\u001b[0m \u001b[0mdata\u001b[0m\u001b[1;33m=\u001b[0m\u001b[1;32mNone\u001b[0m\u001b[1;33m,\u001b[0m \u001b[1;33m**\u001b[0m\u001b[0mkwargs\u001b[0m\u001b[1;33m)\u001b[0m\u001b[1;33m:\u001b[0m\u001b[1;33m\u001b[0m\u001b[1;33m\u001b[0m\u001b[0m\n\u001b[0;32m   1360\u001b[0m         \u001b[1;32mif\u001b[0m \u001b[0mdata\u001b[0m \u001b[1;32mis\u001b[0m \u001b[1;32mNone\u001b[0m\u001b[1;33m:\u001b[0m\u001b[1;33m\u001b[0m\u001b[1;33m\u001b[0m\u001b[0m\n\u001b[1;32m-> 1361\u001b[1;33m             \u001b[1;32mreturn\u001b[0m \u001b[0mfunc\u001b[0m\u001b[1;33m(\u001b[0m\u001b[0max\u001b[0m\u001b[1;33m,\u001b[0m \u001b[1;33m*\u001b[0m\u001b[0mmap\u001b[0m\u001b[1;33m(\u001b[0m\u001b[0msanitize_sequence\u001b[0m\u001b[1;33m,\u001b[0m \u001b[0margs\u001b[0m\u001b[1;33m)\u001b[0m\u001b[1;33m,\u001b[0m \u001b[1;33m**\u001b[0m\u001b[0mkwargs\u001b[0m\u001b[1;33m)\u001b[0m\u001b[1;33m\u001b[0m\u001b[1;33m\u001b[0m\u001b[0m\n\u001b[0m\u001b[0;32m   1362\u001b[0m \u001b[1;33m\u001b[0m\u001b[0m\n\u001b[0;32m   1363\u001b[0m         \u001b[0mbound\u001b[0m \u001b[1;33m=\u001b[0m \u001b[0mnew_sig\u001b[0m\u001b[1;33m.\u001b[0m\u001b[0mbind\u001b[0m\u001b[1;33m(\u001b[0m\u001b[0max\u001b[0m\u001b[1;33m,\u001b[0m \u001b[1;33m*\u001b[0m\u001b[0margs\u001b[0m\u001b[1;33m,\u001b[0m \u001b[1;33m**\u001b[0m\u001b[0mkwargs\u001b[0m\u001b[1;33m)\u001b[0m\u001b[1;33m\u001b[0m\u001b[1;33m\u001b[0m\u001b[0m\n",
      "\u001b[1;32m~\\Anaconda3\\lib\\site-packages\\matplotlib\\axes\\_axes.py\u001b[0m in \u001b[0;36mbar\u001b[1;34m(self, x, height, width, bottom, align, **kwargs)\u001b[0m\n\u001b[0;32m   2363\u001b[0m                 \u001b[0mhatch\u001b[0m\u001b[1;33m=\u001b[0m\u001b[0mhtch\u001b[0m\u001b[1;33m,\u001b[0m\u001b[1;33m\u001b[0m\u001b[1;33m\u001b[0m\u001b[0m\n\u001b[0;32m   2364\u001b[0m                 )\n\u001b[1;32m-> 2365\u001b[1;33m             \u001b[0mr\u001b[0m\u001b[1;33m.\u001b[0m\u001b[0mupdate\u001b[0m\u001b[1;33m(\u001b[0m\u001b[0mkwargs\u001b[0m\u001b[1;33m)\u001b[0m\u001b[1;33m\u001b[0m\u001b[1;33m\u001b[0m\u001b[0m\n\u001b[0m\u001b[0;32m   2366\u001b[0m             \u001b[0mr\u001b[0m\u001b[1;33m.\u001b[0m\u001b[0mget_path\u001b[0m\u001b[1;33m(\u001b[0m\u001b[1;33m)\u001b[0m\u001b[1;33m.\u001b[0m\u001b[0m_interpolation_steps\u001b[0m \u001b[1;33m=\u001b[0m \u001b[1;36m100\u001b[0m\u001b[1;33m\u001b[0m\u001b[1;33m\u001b[0m\u001b[0m\n\u001b[0;32m   2367\u001b[0m             \u001b[1;32mif\u001b[0m \u001b[0morientation\u001b[0m \u001b[1;33m==\u001b[0m \u001b[1;34m'vertical'\u001b[0m\u001b[1;33m:\u001b[0m\u001b[1;33m\u001b[0m\u001b[1;33m\u001b[0m\u001b[0m\n",
      "\u001b[1;32m~\\Anaconda3\\lib\\site-packages\\matplotlib\\artist.py\u001b[0m in \u001b[0;36mupdate\u001b[1;34m(self, props)\u001b[0m\n\u001b[0;32m   1060\u001b[0m                     \u001b[0mfunc\u001b[0m \u001b[1;33m=\u001b[0m \u001b[0mgetattr\u001b[0m\u001b[1;33m(\u001b[0m\u001b[0mself\u001b[0m\u001b[1;33m,\u001b[0m \u001b[1;34mf\"set_{k}\"\u001b[0m\u001b[1;33m,\u001b[0m \u001b[1;32mNone\u001b[0m\u001b[1;33m)\u001b[0m\u001b[1;33m\u001b[0m\u001b[1;33m\u001b[0m\u001b[0m\n\u001b[0;32m   1061\u001b[0m                     \u001b[1;32mif\u001b[0m \u001b[1;32mnot\u001b[0m \u001b[0mcallable\u001b[0m\u001b[1;33m(\u001b[0m\u001b[0mfunc\u001b[0m\u001b[1;33m)\u001b[0m\u001b[1;33m:\u001b[0m\u001b[1;33m\u001b[0m\u001b[1;33m\u001b[0m\u001b[0m\n\u001b[1;32m-> 1062\u001b[1;33m                         raise AttributeError(f\"{type(self).__name__!r} object \"\n\u001b[0m\u001b[0;32m   1063\u001b[0m                                              f\"has no property {k!r}\")\n\u001b[0;32m   1064\u001b[0m                     \u001b[0mret\u001b[0m\u001b[1;33m.\u001b[0m\u001b[0mappend\u001b[0m\u001b[1;33m(\u001b[0m\u001b[0mfunc\u001b[0m\u001b[1;33m(\u001b[0m\u001b[0mv\u001b[0m\u001b[1;33m)\u001b[0m\u001b[1;33m)\u001b[0m\u001b[1;33m\u001b[0m\u001b[1;33m\u001b[0m\u001b[0m\n",
      "\u001b[1;31mAttributeError\u001b[0m: 'Rectangle' object has no property 'x_order'"
     ]
    },
    {
     "data": {
      "image/png": "[encoded data removed]",
      "text/plain": [
       "<Figure size 432x288 with 1 Axes>"
      ]
     },
     "metadata": {},
     "output_type": "display_data"
    }
   ],
   "source": [
    "sns.set_style(\"darkgrid\")\n",
    "bar_plot = sns.barplot(x=budget[\"detail\"],y=budget[\"amount\"],\n",
    "                        palette=\"muted\",\n",
    "                        x_order=budget[\"detail\"].tolist())\n",
    "plt.xticks(rotation=90)\n",
    "plt.show()"
   ]
  },
  {
   "cell_type": "code",
   "execution_count": null,
   "id": "099c6f1b",
   "metadata": {},
   "outputs": [],
   "source": []
  }
 ],
 "metadata": {
  "kernelspec": {
   "display_name": "Python 3 (ipykernel)",
   "language": "python",
   "name": "python3"
  },
  "language_info": {
   "codemirror_mode": {
    "name": "ipython",
    "version": 3
   },
   "file_extension": ".py",
   "mimetype": "text/x-python",
   "name": "python",
   "nbconvert_exporter": "python",
   "pygments_lexer": "ipython3",
   "version": "3.9.7"
  }
 },
 "nbformat": 4,
 "nbformat_minor": 5
}
