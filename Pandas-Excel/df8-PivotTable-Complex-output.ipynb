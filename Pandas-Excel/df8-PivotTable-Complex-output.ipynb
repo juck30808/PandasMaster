{
 "cells": [
  {
   "cell_type": "markdown",
   "id": "eebc2cb0",
   "metadata": {},
   "source": [
    "### Improving Pandas Excel Output\n",
    "\n",
    "Why - Pandas使輸出DataFrame到Excel非常容易。然而，在自定義輸出和使用Excel的功能使你的輸出盡可能有用方面，選擇有限。\n",
    "\n",
    "What - 使用優秀的XlsxWriter模塊來定制和增強由熊貓to_excel函數創建的Excel工作簿是很容易的。本文將描述如何使用XlsxWriter和Pandas來製作複雜的、具有視覺吸引力的、有用的Excel工作簿。作為額外的收穫，文章將簡要討論在pandas 0.16.0中引入的新assign函數的使用。\n",
    "\n",
    "- https://pbpython.com/improve-pandas-excel-output.html"
   ]
  },
  {
   "cell_type": "code",
   "execution_count": 1,
   "id": "0f78b955",
   "metadata": {},
   "outputs": [
    {
     "data": {
      "text/html": [
       "<div>\n",
       "<style scoped>\n",
       "    .dataframe tbody tr th:only-of-type {\n",
       "        vertical-align: middle;\n",
       "    }\n",
       "\n",
       "    .dataframe tbody tr th {\n",
       "        vertical-align: top;\n",
       "    }\n",
       "\n",
       "    .dataframe thead th {\n",
       "        text-align: right;\n",
       "    }\n",
       "</style>\n",
       "<table border=\"1\" class=\"dataframe\">\n",
       "  <thead>\n",
       "    <tr style=\"text-align: right;\">\n",
       "      <th></th>\n",
       "      <th>account</th>\n",
       "      <th>name</th>\n",
       "      <th>street</th>\n",
       "      <th>city</th>\n",
       "      <th>state</th>\n",
       "      <th>post-code</th>\n",
       "      <th>quota</th>\n",
       "      <th>Jan</th>\n",
       "      <th>Feb</th>\n",
       "      <th>Mar</th>\n",
       "    </tr>\n",
       "  </thead>\n",
       "  <tbody>\n",
       "    <tr>\n",
       "      <th>0</th>\n",
       "      <td>211829</td>\n",
       "      <td>Kerluke, Koepp and Hilpert</td>\n",
       "      <td>34456 Sean Highway</td>\n",
       "      <td>New Jaycob</td>\n",
       "      <td>TX</td>\n",
       "      <td>28752</td>\n",
       "      <td>110000</td>\n",
       "      <td>10000</td>\n",
       "      <td>62000</td>\n",
       "      <td>35000</td>\n",
       "    </tr>\n",
       "    <tr>\n",
       "      <th>1</th>\n",
       "      <td>320563</td>\n",
       "      <td>Walter-Trantow</td>\n",
       "      <td>1311 Alvis Tunnel</td>\n",
       "      <td>Port Khadijah</td>\n",
       "      <td>NC</td>\n",
       "      <td>38365</td>\n",
       "      <td>150000</td>\n",
       "      <td>95000</td>\n",
       "      <td>45000</td>\n",
       "      <td>35000</td>\n",
       "    </tr>\n",
       "    <tr>\n",
       "      <th>2</th>\n",
       "      <td>648336</td>\n",
       "      <td>Bashirian, Kunde and Price</td>\n",
       "      <td>62184 Schamberger Underpass Apt. 231</td>\n",
       "      <td>New Lilianland</td>\n",
       "      <td>IA</td>\n",
       "      <td>76517</td>\n",
       "      <td>300000</td>\n",
       "      <td>91000</td>\n",
       "      <td>120000</td>\n",
       "      <td>35000</td>\n",
       "    </tr>\n",
       "    <tr>\n",
       "      <th>3</th>\n",
       "      <td>109996</td>\n",
       "      <td>D'Amore, Gleichner and Bode</td>\n",
       "      <td>155 Fadel Crescent Apt. 144</td>\n",
       "      <td>Hyattburgh</td>\n",
       "      <td>ME</td>\n",
       "      <td>46021</td>\n",
       "      <td>180000</td>\n",
       "      <td>45000</td>\n",
       "      <td>120000</td>\n",
       "      <td>10000</td>\n",
       "    </tr>\n",
       "    <tr>\n",
       "      <th>4</th>\n",
       "      <td>121213</td>\n",
       "      <td>Bauch-Goldner</td>\n",
       "      <td>7274 Marissa Common</td>\n",
       "      <td>Shanahanchester</td>\n",
       "      <td>CA</td>\n",
       "      <td>49681</td>\n",
       "      <td>300000</td>\n",
       "      <td>162000</td>\n",
       "      <td>120000</td>\n",
       "      <td>35000</td>\n",
       "    </tr>\n",
       "  </tbody>\n",
       "</table>\n",
       "</div>"
      ],
      "text/plain": [
       "   account                         name                                street  \\\n",
       "0   211829   Kerluke, Koepp and Hilpert                    34456 Sean Highway   \n",
       "1   320563               Walter-Trantow                     1311 Alvis Tunnel   \n",
       "2   648336   Bashirian, Kunde and Price  62184 Schamberger Underpass Apt. 231   \n",
       "3   109996  D'Amore, Gleichner and Bode           155 Fadel Crescent Apt. 144   \n",
       "4   121213                Bauch-Goldner                   7274 Marissa Common   \n",
       "\n",
       "              city state  post-code   quota     Jan     Feb    Mar  \n",
       "0       New Jaycob    TX      28752  110000   10000   62000  35000  \n",
       "1    Port Khadijah    NC      38365  150000   95000   45000  35000  \n",
       "2   New Lilianland    IA      76517  300000   91000  120000  35000  \n",
       "3       Hyattburgh    ME      46021  180000   45000  120000  10000  \n",
       "4  Shanahanchester    CA      49681  300000  162000  120000  35000  "
      ]
     },
     "execution_count": 1,
     "metadata": {},
     "output_type": "execute_result"
    }
   ],
   "source": [
    "import pandas as pd\n",
    "import numpy as np\n",
    "from xlsxwriter.utility import xl_rowcol_to_cell\n",
    "\n",
    "df = pd.read_excel(\"data/df-comp-datav2.xlsx\")\n",
    "df.head()"
   ]
  },
  {
   "cell_type": "code",
   "execution_count": 2,
   "id": "c2eeec86",
   "metadata": {},
   "outputs": [],
   "source": [
    "# Add some summary data using the new assign functionality in pandas 0.16\n",
    "df = df.assign(total=(df['Jan'] + df['Feb'] + df['Mar']))\n",
    "df = df.assign(quota_pct=(1+(df['total'] - df['quota'])/df['quota']))"
   ]
  },
  {
   "cell_type": "markdown",
   "id": "1af4872e",
   "metadata": {},
   "source": [
    "新增了 total 和 quota_pct 後你會注意到有幾件事情。\n",
    "\n",
    "- 列的寬度使它很難看到所有的數據\n",
    "- 銷售額和百分比沒有以美元或百分比的形式表示。\n",
    "- 沒有總的信息。\n",
    "- 總的來說，它是相當無聊的。"
   ]
  },
  {
   "cell_type": "code",
   "execution_count": 3,
   "id": "9b46f8de",
   "metadata": {},
   "outputs": [],
   "source": [
    "writer_orig = pd.ExcelWriter('data/df-comp-datav2-Basic-out.xlsx', engine='xlsxwriter')\n",
    "df.to_excel(writer_orig, index=False, sheet_name='report')\n",
    "writer_orig.save()"
   ]
  },
  {
   "cell_type": "markdown",
   "id": "70cd3b45",
   "metadata": {},
   "source": [
    "###  Complex Output 複雜的輸出\n",
    "\n",
    "只需多寫一點代碼，我們就可以創建一個更複雜的輸出。\n",
    "我們創建另一個寫作者並使用to_excel來創建我們的工作簿。\n",
    "關鍵是要獲得對工作表的訪問權，使我們能夠使用該庫中所有的XlsxWriter能力。"
   ]
  },
  {
   "cell_type": "code",
   "execution_count": 4,
   "id": "47fda7c4",
   "metadata": {},
   "outputs": [],
   "source": [
    "writer = pd.ExcelWriter('data/df-comp-datav2-Complex-out.xlsx', engine='xlsxwriter')\n",
    "df.to_excel(writer, index=False, sheet_name='report')\n",
    "\n",
    "workbook = writer.book\n",
    "worksheet = writer.sheets['report']"
   ]
  },
  {
   "cell_type": "markdown",
   "id": "f7987195",
   "metadata": {},
   "source": [
    "現在我們有了工作表，我們可以做任何xlsxwriter支持的事情。我鼓勵你看一下XlsxWriter的文檔。它們寫得非常好，向你展示了定制Excel輸出的所有功能。通過訪問如上所示的工作表，你可以輕鬆地將XlsxWriter的所有功能放入你的輸出中。"
   ]
  },
  {
   "cell_type": "code",
   "execution_count": 5,
   "id": "bf52b5c2",
   "metadata": {},
   "outputs": [],
   "source": [
    "# 首先，我們通過調整縮放來調整工作表的大小。\n",
    "worksheet.set_zoom(90)"
   ]
  },
  {
   "cell_type": "markdown",
   "id": "5df41427",
   "metadata": {},
   "source": [
    "我們最大的一些改進是通過格式化列來使數據更易讀。 add_format對於改進你的標準輸出非常有用。下面是兩個數字格式化的例子。"
   ]
  },
  {
   "cell_type": "code",
   "execution_count": 6,
   "id": "f80c3d8a",
   "metadata": {},
   "outputs": [],
   "source": [
    "# 為有錢的單元格添加一個數字格式。\n",
    "money_fmt = workbook.add_format({'num_format': '$#,##0', 'bold': True})\n",
    "\n",
    "# 添加帶有1個小數點的百分比格式\n",
    "percent_fmt = workbook.add_format({'num_format': '0.0%', 'bold': True})"
   ]
  },
  {
   "cell_type": "markdown",
   "id": "e827c834",
   "metadata": {},
   "source": [
    "這個例子顯示瞭如何添加額外的格式，包括底線。"
   ]
  },
  {
   "cell_type": "code",
   "execution_count": 7,
   "id": "11905a7d",
   "metadata": {},
   "outputs": [],
   "source": [
    "# 總計格式化\n",
    "total_fmt = workbook.add_format({'align': 'right', 'num_format': '$#,##0',\n",
    "                                 'bold': True, 'bottom':6})\n",
    "# 總的百分比格式\n",
    "total_percent_fmt = workbook.add_format({'align': 'right', 'num_format': '0.0%',\n",
    "                                         'bold': True, 'bottom':6})"
   ]
  },
  {
   "cell_type": "markdown",
   "id": "4850030e",
   "metadata": {},
   "source": [
    "使用set_column改變幾列的大小。這也可以用來對某一列施加格式化。"
   ]
  },
  {
   "cell_type": "code",
   "execution_count": 8,
   "id": "3f9925ba",
   "metadata": {},
   "outputs": [
    {
     "data": {
      "text/plain": [
       "0"
      ]
     },
     "execution_count": 8,
     "metadata": {},
     "output_type": "execute_result"
    }
   ],
   "source": [
    "# 賬戶信息列\n",
    "worksheet.set_column('B:D', 20)\n",
    "# 國家列\n",
    "worksheet.set_column('E:E', 5)\n",
    "# 郵政代碼\n",
    "worksheet.set_column('F:F', 10)"
   ]
  },
  {
   "cell_type": "markdown",
   "id": "9da39127",
   "metadata": {},
   "source": [
    "除了改變G-L的大小之外，我們還可以在整個列上應用貨幣和百分比格式。"
   ]
  },
  {
   "cell_type": "code",
   "execution_count": 9,
   "id": "faf4dd2e",
   "metadata": {},
   "outputs": [
    {
     "data": {
      "text/plain": [
       "0"
      ]
     },
     "execution_count": 9,
     "metadata": {},
     "output_type": "execute_result"
    }
   ],
   "source": [
    "# 每月一列\n",
    "worksheet.set_column('G:K', 12, money_fmt)\n",
    "# 配額百分比列\n",
    "worksheet.set_column('L:L', 12, percent_fmt)"
   ]
  },
  {
   "cell_type": "markdown",
   "id": "c90c54b2",
   "metadata": {},
   "source": [
    "下一節在我們的數據底部添加了一個總數。在Excel工作中，最大的挑戰是數字索引和單元格標籤之間的轉換。這個循環顯示瞭如何以數字方式循環瀏覽各列，同時使用xl_rowcol_to_cell來獲得單元格的位置。"
   ]
  },
  {
   "cell_type": "code",
   "execution_count": 10,
   "id": "1c0fb065",
   "metadata": {},
   "outputs": [],
   "source": [
    "# 增加總行數\n",
    "number_rows = len(df.index)\n",
    "\n",
    "for column in range(6, 11):\n",
    "    # Determine where we will place the formula\n",
    "    cell_location = xl_rowcol_to_cell(number_rows+1, column)\n",
    "    # Get the range to use for the sum formula\n",
    "    start_range = xl_rowcol_to_cell(1, column)\n",
    "    end_range = xl_rowcol_to_cell(number_rows, column)\n",
    "    # Construct and write the formula\n",
    "    formula = \"=SUM({:s}:{:s})\".format(start_range, end_range)\n",
    "    worksheet.write_formula(cell_location, formula, total_fmt)"
   ]
  },
  {
   "cell_type": "markdown",
   "id": "c3df1e37",
   "metadata": {},
   "source": [
    "除了寫總標籤外，我們還想看看我們的配額百分比總和是多少。我們構建一個字符串來計算配額的百分比，並使用write_formula將其寫出來\n"
   ]
  },
  {
   "cell_type": "code",
   "execution_count": 11,
   "id": "e93b02c9",
   "metadata": {},
   "outputs": [
    {
     "data": {
      "text/plain": [
       "0"
      ]
     },
     "execution_count": 11,
     "metadata": {},
     "output_type": "execute_result"
    }
   ],
   "source": [
    "# Add a total label\n",
    "worksheet.write_string(number_rows+1, 5, \"Total\",total_fmt)\n",
    "percent_formula = \"=1+(K{0}-G{0})/G{0}\".format(number_rows+2)\n",
    "worksheet.write_formula(number_rows+1, 11, percent_formula, total_percent_fmt)"
   ]
  },
  {
   "cell_type": "markdown",
   "id": "5da60375",
   "metadata": {},
   "source": [
    "最後要添加的項目是突出顯示前5個值和後5個值的能力。這為我們提供了一個很好的視覺表現，說明我們可能需要進一步檢查的地方。\n",
    "\n",
    "首先，我們定義我們想要格式化的範圍。"
   ]
  },
  {
   "cell_type": "code",
   "execution_count": 12,
   "id": "2234af6a",
   "metadata": {},
   "outputs": [],
   "source": [
    "# Define our range for the color formatting\n",
    "color_range = \"L2:L{}\".format(number_rows+1)"
   ]
  },
  {
   "cell_type": "code",
   "execution_count": 13,
   "id": "23342eb0",
   "metadata": {},
   "outputs": [],
   "source": [
    "# Add a format. Light red fill with dark red text.\n",
    "format1 = workbook.add_format({'bg_color': '#FFC7CE',\n",
    "                               'font_color': '#9C0006'})\n",
    "\n",
    "# Add a format. Green fill with dark green text.\n",
    "format2 = workbook.add_format({'bg_color': '#C6EFCE',\n",
    "                               'font_color': '#006100'})"
   ]
  },
  {
   "cell_type": "code",
   "execution_count": 14,
   "id": "99781f9a",
   "metadata": {},
   "outputs": [
    {
     "data": {
      "text/plain": [
       "0"
      ]
     },
     "execution_count": 14,
     "metadata": {},
     "output_type": "execute_result"
    }
   ],
   "source": [
    "# Highlight the top 5 values in Green\n",
    "worksheet.conditional_format(color_range, {'type': 'top',\n",
    "                                           'value': '5',\n",
    "                                           'format': format2})"
   ]
  },
  {
   "cell_type": "code",
   "execution_count": 15,
   "id": "c252407a",
   "metadata": {},
   "outputs": [],
   "source": [
    "# Highlight the bottom 5 values in Red\n",
    "worksheet.conditional_format(color_range, {'type': 'bottom',\n",
    "                                           'value': '5',\n",
    "                                           'format': format1})\n",
    "writer.save()"
   ]
  }
 ],
 "metadata": {
  "kernelspec": {
   "display_name": "Python 3 (ipykernel)",
   "language": "python",
   "name": "python3"
  },
  "language_info": {
   "codemirror_mode": {
    "name": "ipython",
    "version": 3
   },
   "file_extension": ".py",
   "mimetype": "text/x-python",
   "name": "python",
   "nbconvert_exporter": "python",
   "pygments_lexer": "ipython3",
   "version": "3.9.7"
  }
 },
 "nbformat": 4,
 "nbformat_minor": 5
}
