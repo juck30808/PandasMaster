{
 "cells": [
  {
   "cell_type": "markdown",
   "id": "f643bf02",
   "metadata": {},
   "source": [
    "### Web Scraping\n",
    "\n",
    "Why-越來越多來自地方、州和聯邦政府的信息被放在網上。然而，很多數據並沒有以一種易於下載和操作的方式呈現。我認為對我們所有人來說，了解政府的錢是怎麼花的是一項重要的公民義務。以更容易獲取的格式提供數據是這個過程中的第一步。\n",
    "\n",
    "What-在這篇文章中，我將使用BeautifulSoup從明尼蘇達州2014年的資本預算中刮出一些數據。然後，我將把數據加載到pandas DataFrame中，並創建一個顯示資金流向的簡單圖表。\n",
    "\n",
    "- 我個人覺得它很有趣\n",
    "- 我認為它在其他州和世界範圍內都有很好的轉化效果\n",
    "- 它突出了stdlib內外的幾個有用的python工具\n",
    "- 這個過程適用於政府數據之外的其他領域\n",
    "- 它是一個可管理的規模，所以你可以用基本的工具來理解它。"
   ]
  },
  {
   "cell_type": "code",
   "execution_count": 3,
   "id": "674edbc4",
   "metadata": {},
   "outputs": [],
   "source": [
    "from __future__ import print_function\n",
    "import os.path\n",
    "from collections import defaultdict\n",
    "import string\n",
    "import requests"
   ]
  },
  {
   "cell_type": "code",
   "execution_count": 4,
   "id": "99ce1cff",
   "metadata": {},
   "outputs": [],
   "source": [
    "from bs4 import BeautifulSoup\n",
    "import pandas as pd\n",
    "import numpy as np\n",
    "import matplotlib.pyplot as plt"
   ]
  },
  {
   "cell_type": "markdown",
   "id": "ee125771",
   "metadata": {},
   "source": [
    "在這個特定的任務中，我將使用兩個非常常見的python工具來搜刮網站。一旦我抓取了數據，我將把它轉換成pandas DataFrame，這樣我就可以分析和繪製數據。\n",
    "\n",
    "- BeautifulSoup來解析數據\n",
    "- Requests從網站上獲取數據。\n",
    "\n",
    "嚴格來說，Requests在本案例中並沒有什麼用處，但我認為開始使用它是有意義的。如果/當你開始遇到更複雜的情況時，你會很高興你已經在使用它了。\n",
    "\n",
    "Scrapy是另一個強大的網絡搜刮工具，但對於我的需求來說，BeautifulSoup是完美的，所以我在這篇文章中堅持使用它。也許我會在以後的文章中再看看它。"
   ]
  },
  {
   "cell_type": "code",
   "execution_count": null,
   "id": "33dc9d96",
   "metadata": {},
   "outputs": [],
   "source": []
  }
 ],
 "metadata": {
  "kernelspec": {
   "display_name": "Python 3 (ipykernel)",
   "language": "python",
   "name": "python3"
  },
  "language_info": {
   "codemirror_mode": {
    "name": "ipython",
    "version": 3
   },
   "file_extension": ".py",
   "mimetype": "text/x-python",
   "name": "python",
   "nbconvert_exporter": "python",
   "pygments_lexer": "ipython3",
   "version": "3.9.7"
  }
 },
 "nbformat": 4,
 "nbformat_minor": 5
}
