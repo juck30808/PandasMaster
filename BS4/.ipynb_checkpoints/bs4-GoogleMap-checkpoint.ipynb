{
 "cells": [
  {
   "cell_type": "markdown",
   "id": "aaab98c1",
   "metadata": {},
   "source": [
    "### F12 -> Network -> Fetch/XHR -> open comment\n",
    "- https://ithelp.ithome.com.tw/articles/10267131"
   ]
  },
  {
   "cell_type": "code",
   "execution_count": 7,
   "id": "096847ec",
   "metadata": {
    "scrolled": false
   },
   "outputs": [
    {
     "name": "stdout",
     "output_type": "stream",
     "text": [
      "正在抽獎...\n",
      "-------中獎名單------\n",
      "['阿正', '2 年前', '5', '吃牛丼，口味清爽，蔬菜不少；特別是所附的雞湯，湯頭相當濃郁。']\n",
      "['郭大可愛', '1 年前', '5', '滿乾淨外場 第一次去 很好吃 建議有個溫開茶水，有些油膩。下次仍會再去品嚐']\n",
      "['李冠霆', '1 年前', '5', '好吃衛生出餐快CP值很高！']\n"
     ]
    }
   ],
   "source": [
    "import requests \n",
    "import json\n",
    "import random\n",
    "\n",
    "j = 0\n",
    "lottery_pool = []\n",
    "\n",
    "print(\"正在抽獎...\")\n",
    "\n",
    "while 1:\n",
    "    url = \"https://www.google.com.tw/maps/preview/review/listentitiesreviews?authuser=0&hl=zh-TW&gl=tw&pb=!1m2!1y3765762734390772041!2y17055821615375049737!2m2!1i\"+ str(j) +\"!2i10!3e1!4m5!3b1!4b1!5b1!6b1!7b1!5m2!1siMZEYbemFIeymAWI2pko!7e81\"\n",
    "    j = j + 10 \n",
    "        \n",
    "    text = requests.get(url).text\n",
    "    pretext = ')]}\\'' \n",
    "    text = text.replace(pretext,' ')   # 把字串讀取成json 取代特殊字元\n",
    "    soup = json.loads(text)            # 載入json檔\n",
    "    review_list = soup[2]              # 留言的位置\n",
    "    \n",
    "\n",
    "    if review_list is None:\n",
    "        break\n",
    "        \n",
    "    for i in review_list:\n",
    "        # 姓名: str(i[0][1])\n",
    "        # 時間: str(i[1])\n",
    "        # 星星數: str(i[4])\n",
    "        # 留言內容: str(i[3])     \n",
    "        if i[4]==5 and i[3] != None: # 給五星加有留言的評價才可以抽獎喔\n",
    "            dict = [str(i[0][1]),str(i[1]),str(i[4]),str(i[3])]\n",
    "            lottery_pool.append(dict)       \n",
    "            \n",
    "winner_index = random.sample(range(0, len(lottery_pool)-1), 3) # 設定抽3人\n",
    "print(\"-------中獎名單------\")\n",
    "for i in winner_index:\n",
    "    print(lottery_pool[i])"
   ]
  },
  {
   "cell_type": "code",
   "execution_count": 2,
   "id": "41da41c7",
   "metadata": {},
   "outputs": [],
   "source": [
    "# 咖啡廳測試\n",
    "# https://www.google.com/maps/preview/review/listentitiesreviews?gl=tw&pb=!1m2!1y3765758514298713173!2y1068936344628133893!2m2!1i8!2i8!4m1!3b1!5m7!4m1!2i23934!7e140!9sKlW1YuuiNsyJmAWTq5rQDQ:424692678957!17sKlW1YuuiNsyJmAWTq5rQDQ:424692678958!24m1!2e1\n",
    "# https://www.google.com/maps/preview/review/listentitiesreviews?gl=tw&pb=!1m2!1y3765758514298713173!2y1068936344628133893!2m2!1i16!2i8!4m1!3b1!5m7!4m1!2i23934!7e140!9sKlW1YuuiNsyJmAWTq5rQDQ:424692678958!17sKlW1YuuiNsyJmAWTq5rQDQ:424692678959!24m1!2e1      "
   ]
  },
  {
   "cell_type": "code",
   "execution_count": 3,
   "id": "1e9ff6ab",
   "metadata": {},
   "outputs": [
    {
     "name": "stdout",
     "output_type": "stream",
     "text": [
      "-------中獎名單------\n",
      "['Cherry Wu', '4 年前', '5', '去了就此愛上這地方，雖然食物種類不多，但老屋很值得品味，老闆娘也很親切，英俊超可愛！']\n",
      "['楊旻恩', '1 年前', '5', '老屋很令人驚艷！又可以跟老闆說台語！大推！']\n",
      "['근육맨울끈불끈', '3 年前', '5', '(由 Google 提供翻譯) 這是一家喝茶和咖啡的好咖啡館。我有一隻可愛的小狗。\\n\\n(原始評論)\\n차, 커피마시기 좋은 커피숍입니다. 귀여운 강아지가 있어요.']\n"
     ]
    }
   ],
   "source": [
    "import requests \n",
    "import json\n",
    "import random\n",
    "\n",
    "j = 0\n",
    "count = 0\n",
    "lottery_pool = []\n",
    "\n",
    "while 1:  \n",
    "    url = \"https://www.google.com/maps/preview/review/listentitiesreviews?gl=tw&pb=!1m2!1y3765758514298713173!2y1068936344628133893!2m2!1i\"+ str(j) +\"!2i8!4m1!3b1!5m7!4m1!2i23934!7e140!9sKlW1YuuiNsyJmAWTq5rQDQ:424692678957!17sKlW1YuuiNsyJmAWTq5rQDQ:424692678958!24m1!2e1\"\n",
    "    j = j + 10 \n",
    "        \n",
    "    text = requests.get(url).text\n",
    "    pretext = ')]}\\'' \n",
    "    text = text.replace(pretext,' ')   # 把字串讀取成json 取代特殊字元\n",
    "    soup = json.loads(text)            # 載入json檔\n",
    "    review_list = soup[2]              # 留言的位置\n",
    "\n",
    "    if review_list is None:\n",
    "        break\n",
    "        \n",
    "    for i in review_list:\n",
    "        # 給五星加有留言的評價才可以抽獎喔\n",
    "        if i[4]==5 and i[3] != None: \n",
    "            dict = [str(i[0][1]),str(i[1]),str(i[4]),str(i[3])]\n",
    "            lottery_pool.append(dict) \n",
    "            count += 1\n",
    "            \n",
    "winner_index = random.sample(range(0, len(lottery_pool)-1), 3) # 設定抽3人\n",
    "print(\"-------中獎名單------\")\n",
    "for i in winner_index:\n",
    "    print(lottery_pool[i])"
   ]
  }
 ],
 "metadata": {
  "kernelspec": {
   "display_name": "Python 3 (ipykernel)",
   "language": "python",
   "name": "python3"
  },
  "language_info": {
   "codemirror_mode": {
    "name": "ipython",
    "version": 3
   },
   "file_extension": ".py",
   "mimetype": "text/x-python",
   "name": "python",
   "nbconvert_exporter": "python",
   "pygments_lexer": "ipython3",
   "version": "3.9.7"
  }
 },
 "nbformat": 4,
 "nbformat_minor": 5
}
