{
 "cells": [
  {
   "cell_type": "markdown",
   "id": "4cc54622",
   "metadata": {},
   "source": [
    "### Google Search\n",
    "- https://www.geeksforgeeks.org/performing-google-search-using-python-code/"
   ]
  },
  {
   "cell_type": "code",
   "execution_count": 1,
   "id": "d171058d",
   "metadata": {},
   "outputs": [
    {
     "name": "stdout",
     "output_type": "stream",
     "text": [
      "Collecting google\n",
      "  Downloading google-3.0.0-py2.py3-none-any.whl (45 kB)\n",
      "Requirement already satisfied: beautifulsoup4 in c:\\users\\cti110016\\anaconda3\\lib\\site-packages (from google) (4.10.0)\n",
      "Requirement already satisfied: soupsieve>1.2 in c:\\users\\cti110016\\anaconda3\\lib\\site-packages (from beautifulsoup4->google) (2.2.1)\n",
      "Installing collected packages: google\n",
      "Successfully installed google-3.0.0\n"
     ]
    }
   ],
   "source": [
    "!pip install google"
   ]
  },
  {
   "cell_type": "code",
   "execution_count": 2,
   "id": "ed4b592d",
   "metadata": {},
   "outputs": [
    {
     "name": "stdout",
     "output_type": "stream",
     "text": [
      "https://techieempire.com/\n",
      "https://www.instagram.com/techieempire/?hl=en\n",
      "https://www.youtube.com/c/TechieEmpire\n",
      "https://shopee.com.my/techiempire\n",
      "https://in.linkedin.com/company/techieempire\n",
      "https://www.udemy.com/user/yaswanth-sai-palaghat-2/\n",
      "https://www.facebook.com/techieempire.my\n",
      "https://www.signalhire.com/companies/techie-empire\n",
      "https://www.lazada.com.my/shop/techie-empire/\n",
      "https://t.me/techieempire\n",
      "https://www.deccanherald.com/metrolife/metrolife-your-bond-with-bengaluru/techie-s-debut-novel-on-vijayanagara-empire-1128886.html\n",
      "https://techienikhil.com/author/techienikhil/\n",
      "https://linktr.ee/techieempire\n",
      "https://www.zoominfo.com/c/techie-empire/558056020\n",
      "https://empireweekly.com/tag/techie/\n",
      "https://techieempire.store.siteindices.com/\n",
      "https://techieempire.thinkific.com/\n",
      "https://techieempire.thinkific.com/users/sign_in\n",
      "https://www.npr.org/sections/goatsandsoda/2015/08/09/429984108/how-to-build-a-tech-empire-at-age-24\n",
      "https://thetechempire.com/\n",
      "https://speakerhub.com/speaker/yaswanth-sai-palaghat\n",
      "https://kisstechempire.com/\n",
      "https://www.guruface.com/user/yaswanthp\n",
      "https://a1techempire.com/\n",
      "https://biz.crast.net/how-jack-dorseys-acts-of-discomfort-built-a-twitter-empire-and-why-you-should-start-intentionally-inconveniencing-yourself-according-to-science/\n",
      "https://www.cnet.com/culture/the-tech-empire-strikes-back-woz-worms-on/\n",
      "https://techcabal.com/2022/02/24/meet-the-19-year-old-nigerian-building-his-own-blockchain-empire/\n",
      "https://www.pinterest.es/pin/187814246934017090/\n",
      "https://fortune.com/2014/12/29/disney-ceo-bob-iger-empire-of-tech/\n",
      "https://www.justdial.com/Delhi/Techie-global-Nehru-Place/011PXX11-XX11-151113153832-S8I1_BZDET\n",
      "https://www.entrepreneur.com/article/235585\n",
      "http://www.esg.com.my/stores/tenants/F26_GetGadgets.html\n",
      "https://internshala.com/internship/detail/business-development-sales-work-from-home-job-internship-at-techie-empire1596938828\n",
      "https://starwars.fandom.com/wiki/Tech\n",
      "https://www.empirelifeacademy.com/\n",
      "https://steamcommunity.com/app/281990/discussions/0/305510202672614989/?l=czech\n",
      "https://techempire.co/\n",
      "https://www.motherjones.com/politics/2013/06/google-silicon-valley-nsa-spying/\n",
      "https://www.nytimes.com/2001/08/27/business/compressed-data-in-software-empire-the-sun-never-sets-on-bespoke.html\n",
      "https://thehustle.co/ces-gadgets-tech-toilet-hyundai-kohler/\n",
      "https://www.sporttechie.com/a-voice-of-both-mens-and-womens-football-in-england--not-to-mention-ea-sports-fifa--alex-scott-is-also-a-voice-of-reason\n",
      "https://www.researchgate.net/publication/316804371_Postsocialism_and_the_Tech_Boom_20_techno-utopics_of_racialspatial_dispossession\n",
      "https://www.academia.edu/32965739/Postsocialism_and_the_Tech_Boom_2_0_techno_utopics_of_racial_spatial_dispossession\n",
      "https://www.bbc.com/news/business-56741551\n",
      "https://www.thebetterindia.com/252965/maharashtra-startup-canebot-sugarcane-juice-bottle-buy-no-preservatives-natural-healthy-innovation-it-quit-job-success-story-mumbai-pune-couple-earns-lakhs-him16/\n",
      "https://knowtechie.com/facebooks-evil-empire-was-down-yesterday-heres-why/\n",
      "https://www.timeout.com/london/things-to-do/ask-the-techie-at-tower-bridge\n",
      "https://www.technyc.org/\n",
      "https://www.dezeen.com/2022/08/12/shop-architects-new-york-interviews/\n",
      "https://qz.com/2098280/miamis-tech-scene-is-still-booming-after-a-year-of-hype/\n",
      "https://www.scmp.com/magazines/style/tech-design/article/3124523/real-life-k-drama-how-did-andrew-lee-go-tech\n",
      "https://twitter.com/thebetterindia/status/1411603186029191178\n",
      "http://movie-locations.com/movies/m/Man-Who-Fell-To-Earth.php\n",
      "https://www.nst.com.my/lifestyle/bots/2022/05/794661/tech-being-techie-mothers\n",
      "https://www.startupinstitute.com/blog/2015-10-12-tech-networking-events-nyc\n",
      "https://www.eatmy.news/2021/07/yaswanth-palaghat-i-founded-techie.html\n",
      "https://bangaloremirror.indiatimes.com/bangalore/crime/2-who-misbehaved-with-techie-nabbed/articleshow/64345935.cms\n",
      "https://www.oreilly.com/\n",
      "https://indianexpress.com/article/lucknow/ethreat-to-advani-traced-to-mau-techie/\n",
      "https://www.businessinsider.com/blackstone-real-estate-finance-mortgage-leaders-profiles-2022-4\n",
      "https://www.tmz.com/2021/10/03/kanye-west-files-donda-trademark-tech-line/\n",
      "https://in.worldorgs.com/catalog/majarguda/software-company/techie-empire\n",
      "https://www.imdb.com/title/tt0427229/characters/nm0652663\n",
      "https://www.bbva.com/en/seven-must-see-series-be-good-techie/\n",
      "https://www.fantasyflightgames.com/en/news/2016/3/24/the-inventors-handbook/\n",
      "https://www.thatrecordgotmehigh.com/s5e194-paul-kantnerjefferson-starship-blows-against-the-empire-with-michael-lebron/\n",
      "https://2000ad.com/news/what-happened-to-the-clan-techie-from-dredd/\n",
      "https://en.wikipedia.org/wiki/Marques_Brownlee\n",
      "https://historyofyesterday.com/one-of-the-greatest-love-stories-of-ancient-rome-771410485da2\n",
      "https://uwapress.uw.edu/book/9780295743554/high-tech-housewives\n",
      "https://empirecanvasworks.com/leather/\n",
      "https://www.carousell.com.my/p/used-sony-fdr-ax43-video-camera-1177729954/\n",
      "https://www.nydailynews.com/new-york/ny-upstate-tech-ceo-suit-20191116-lsqvy3ieargfvgov3hkgvftbfa-story.html\n",
      "https://www.telegraph.co.uk/technology/0/steve-jobs-tech-trailblazer-co-founder-apple-empire/\n",
      "https://starwars--fandom--com.proxy.huizhou.gov.cn/wiki/WED-1016_%27Techie%27_Droid\n",
      "https://blog.edtechie.net/2015/10/\n",
      "https://dhruvavdhesh.net/travel/\n",
      "https://www.businessdailyafrica.com/bd/lifestyle/final-trip-for-tout-who-built-matatu-empire-3552782\n",
      "https://sg.news.yahoo.com/amphtml/orphaned-homeless-self-taught-techie-100000849.html\n",
      "https://remoteok.com/remote-non-tech+teach-jobs\n",
      "https://podcasts.apple.com/us/podcast/paul-kantner-jefferson-starship-blows-against-the/id1369133152?i=1000541691974\n",
      "https://gist.edu.in/gist/event/report-for-webinar-on-digital-marketing-and-freelancing/\n",
      "https://seths.blog/2009/10/the-tacky-techie-conundrum/\n",
      "https://techiegamers.com/bling-empire-cast-net-worth/\n",
      "https://www.mv-voice.com/blogs/p/2014/06/18/amber-india-empire-expands-into-los-altos\n",
      "https://stringfixer.com/tags/techie\n",
      "https://empirestateride.com/route-garmin/\n",
      "https://www.techradar.com/\n",
      "https://www.tiktok.com/discover/missy-empire-wings?lang=ko-KR\n",
      "https://www.nbcnews.com/id/wbna55641766\n",
      "https://www.sfexaminer.com/culture/jennifer-egan-s-the-candy-house-depicts-a-future-world-in-which-technology-enables-shared/article_a42823c0-f0f7-11ec-a00e-5717b4f8ea4e.html\n",
      "https://www.behance.net/gallery/97873959/Tech-Empire-Logo-Design\n",
      "https://www.empireonline.com/movies/reviews/borderlands-review/\n",
      "https://www.bizjournals.com/sanfrancisco/stories/2006/09/11/story6.html\n",
      "https://www.globalnerdy.com/2015/12/23/episode-iv-the-empire-strikes-out-on-their-pen-test/\n",
      "https://www.theatlantic.com/technology/archive/2010/03/tech-sites-fawn-over-new-dork-viral-video/346417/\n",
      "https://soundcloud.com/cleopatra-techie/sets/moi-2\n",
      "https://www.gqindia.com/content/turakhia-brothers-join-the-worlds-billionaire-club\n",
      "https://www.ndtv.com/business/this-short-selling-firm-backs-twitter-bets-against-elon-musk-3156423\n",
      "https://techietop.com/august-24s-new-marvel-comics-the-full-checklist/\n",
      "https://flipboard.com/topic/billionairespacerace/pune-techie-meets-his-twitter-friend-elon-musk-in-texas-calls-him-humble-down/a-ssdrQwQZRt6PfXCjuZeVcw%3Aa%3A2833989275-bc90f05dde%2Frepublicworld.com\n",
      "https://engnews.g7tamil.in/techie-uses-money-saved-up-for-wedding-to-lay-concrete-road-in-villupuram/\n",
      "https://www.thehindu.com/opinion/editorial/shared-history-the-hindu-editorial-on-the-commonwealth-games/article65750382.ece\n",
      "https://www.longislandpress.com/2022/08/19/what-are-the-best-specialty-schools-on-long-island/\n",
      "https://collider.com/beast-cast-and-character-guide-idris-elba/\n",
      "https://futechie.com/is-the-polio-vaccine-safe-who-needs-a-polio-booster/76573/\n",
      "https://www.jamesschramko.com/business/724-how-to-buy-an-online-business-with-jaryd-krause/\n",
      "https://techtodown.com/\n",
      "https://www.adultdvdempire.com/trailers/3297886/hot-techie-finds-your-porn-stash-porn-videos.html\n",
      "https://gfau.ahrtal-experience.de/denon-receiver-klipsch-speakers.html\n",
      "https://creative-quilt-quarters.de/thumbs-up-unicode.html\n",
      "https://www.techiemag.net/fzmovies-net/\n",
      "https://www.bizcommunity.com/JobsOffered/196/11/bjs-Marketing.html\n",
      "https://www.thetechieteacher.net/p/techie-read.html\n",
      "https://www.salon.com/2022/08/20/nope-frys-electronics-ufo-sighting-ruth-de-jong/\n"
     ]
    },
    {
     "name": "stdout",
     "output_type": "stream",
     "text": [
      "https://dmv.ny.gov/driver-license/dmvs-medical-review-program\n",
      "https://toptechienews.com/5-unsung-movies-that-dramatize-americas-wealthy-labor-historical-past/\n",
      "https://www.bio-techne.com/\n",
      "https://scitechdaily.com/\n",
      "https://www.techspot.com/\n"
     ]
    }
   ],
   "source": [
    "from googlesearch import search\n",
    "query=\"Techie Empire\"\n",
    "for i in search(query,start=0,pause=2):\n",
    "    print(i)"
   ]
  },
  {
   "cell_type": "code",
   "execution_count": 3,
   "id": "0127ced1",
   "metadata": {},
   "outputs": [
    {
     "name": "stdout",
     "output_type": "stream",
     "text": [
      "https://www.geeksforgeeks.org/\n",
      "https://twitter.com/geeksforgeeks?ref_src=twsrc%5Egoogle%7Ctwcamp%5Eserp%7Ctwgr%5Eauthor\n",
      "https://twitter.com/geeksforgeeks/status/1561923413815742464?ref_src=twsrc%5Egoogle%7Ctwcamp%5Eserp%7Ctwgr%5Etweet\n",
      "https://twitter.com/geeksforgeeks/status/1561627029887680513?ref_src=twsrc%5Egoogle%7Ctwcamp%5Eserp%7Ctwgr%5Etweet\n",
      "https://twitter.com/geeksforgeeks/status/1561625706832216065?ref_src=twsrc%5Egoogle%7Ctwcamp%5Eserp%7Ctwgr%5Etweet\n",
      "https://twitter.com/geeksforgeeks/status/1560911263655514114?ref_src=twsrc%5Egoogle%7Ctwcamp%5Eserp%7Ctwgr%5Etweet\n",
      "https://in.linkedin.com/company/geeksforgeeks\n",
      "https://www.youtube.com/c/GeeksforGeeksVideos/videos\n",
      "https://www.youtube.com/c/GeeksforGeeksVideos\n",
      "https://www.instagram.com/geeks_for_geeks/?hl=en\n"
     ]
    }
   ],
   "source": [
    "try:\n",
    "    from googlesearch import search\n",
    "except ImportError:\n",
    "    print(\"No module named 'google' found\")\n",
    "\n",
    "query = \"Geeksforgeeks\"  # search\n",
    "\n",
    "for j in search(query, tld=\"co.in\", num=10, stop=10, pause=2):\n",
    "    print(j)"
   ]
  },
  {
   "cell_type": "code",
   "execution_count": 4,
   "id": "7636bf26",
   "metadata": {},
   "outputs": [
    {
     "name": "stdout",
     "output_type": "stream",
     "text": [
      "https://www.geeksforgeeks.org/\n",
      "https://practice.geeksforgeeks.org/\n",
      "https://practice.geeksforgeeks.org/courses\n",
      "https://practice.geeksforgeeks.org/problem-of-the-day\n",
      "https://practice.geeksforgeeks.org/jobs\n",
      "https://en.wikipedia.org/wiki/Portal:Computer_programming\n",
      "https://en.wikiversity.org/wiki/Portal:Computer_Science\n",
      "https://www.csestack.org/\n",
      "https://www.facebook.com/thedatascienceinitiative/posts/a-computer-science-portal-for-geeks-it-contains-well-written-well-thought-and-we/2241173315894788/\n",
      "https://github.com/harnitsoni28/Computer-Science-Portal\n"
     ]
    }
   ],
   "source": [
    "try:\n",
    "    from googlesearch import search\n",
    "except ImportError:\n",
    "    print(\"No module named 'google' found\")\n",
    "\n",
    "query = \"A computer science portal\" # search\n",
    "\n",
    "for j in search(query, tld=\"co.in\", num=10, stop=10, pause=2):\n",
    "    print(j)"
   ]
  },
  {
   "cell_type": "code",
   "execution_count": null,
   "id": "8f283c66",
   "metadata": {},
   "outputs": [],
   "source": []
  }
 ],
 "metadata": {
  "kernelspec": {
   "display_name": "Python 3 (ipykernel)",
   "language": "python",
   "name": "python3"
  },
  "language_info": {
   "codemirror_mode": {
    "name": "ipython",
    "version": 3
   },
   "file_extension": ".py",
   "mimetype": "text/x-python",
   "name": "python",
   "nbconvert_exporter": "python",
   "pygments_lexer": "ipython3",
   "version": "3.9.7"
  }
 },
 "nbformat": 4,
 "nbformat_minor": 5
}
