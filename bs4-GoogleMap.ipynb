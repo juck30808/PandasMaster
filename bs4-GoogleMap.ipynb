{
 "cells": [
  {
   "cell_type": "markdown",
   "id": "aaab98c1",
   "metadata": {},
   "source": [
    "## F12 -> Network -> Fetch/XHR -> open comment\n",
    "\n",
    "https://ithelp.ithome.com.tw/articles/10267131"
   ]
  },
  {
   "cell_type": "code",
   "execution_count": 1,
   "id": "096847ec",
   "metadata": {
    "scrolled": false
   },
   "outputs": [
    {
     "name": "stdout",
     "output_type": "stream",
     "text": [
      "正在抽獎...\n",
      "正在抽獎...\n",
      "正在抽獎...\n",
      "正在抽獎...\n",
      "正在抽獎...\n",
      "正在抽獎...\n",
      "正在抽獎...\n",
      "正在抽獎...\n",
      "正在抽獎...\n",
      "正在抽獎...\n",
      "正在抽獎...\n",
      "正在抽獎...\n",
      "正在抽獎...\n",
      "正在抽獎...\n",
      "正在抽獎...\n",
      "-------中獎名單------\n",
      "['Sapphic Hsiao', '2 年前', '5', '便當好吃配菜不馬虎 雞湯很有誠意']\n",
      "['Sam Lee', '7 個月前', '5', '便當美味，應該是人手關係需要等一下。']\n",
      "['陳澤民', '2 年前', '5', '吃到一半，但因為太好吃趕快來評論給五星']\n"
     ]
    }
   ],
   "source": [
    "import requests \n",
    "import json\n",
    "import random\n",
    "\n",
    "j = 0\n",
    "lottery_pool = []\n",
    "\n",
    "while 1:\n",
    "    url = \"https://www.google.com.tw/maps/preview/review/listentitiesreviews?authuser=0&hl=zh-TW&gl=tw&pb=!1m2!1y3765762734390772041!2y17055821615375049737!2m2!1i\"+ str(j) +\"!2i10!3e1!4m5!3b1!4b1!5b1!6b1!7b1!5m2!1siMZEYbemFIeymAWI2pko!7e81\"\n",
    "    j = j + 10 \n",
    "        \n",
    "    text = requests.get(url).text\n",
    "    pretext = ')]}\\'' \n",
    "    text = text.replace(pretext,' ')   # 把字串讀取成json 取代特殊字元\n",
    "    soup = json.loads(text)            # 載入json檔\n",
    "    review_list = soup[2]              # 留言的位置\n",
    "    print(\"正在抽獎...\")\n",
    "\n",
    "    if review_list is None:\n",
    "        break\n",
    "        \n",
    "    for i in review_list:\n",
    "        # 姓名: str(i[0][1])\n",
    "        # 時間: str(i[1])\n",
    "        # 星星數: str(i[4])\n",
    "        # 留言內容: str(i[3])     \n",
    "        if i[4]==5 and i[3] != None: # 給五星加有留言的評價才可以抽獎喔\n",
    "            dict = [str(i[0][1]),str(i[1]),str(i[4]),str(i[3])]\n",
    "            lottery_pool.append(dict)       \n",
    "            \n",
    "winner_index = random.sample(range(0, len(lottery_pool)-1), 3) # 設定抽3人\n",
    "print(\"-------中獎名單------\")\n",
    "for i in winner_index:\n",
    "    print(lottery_pool[i])"
   ]
  },
  {
   "cell_type": "code",
   "execution_count": 2,
   "id": "41da41c7",
   "metadata": {},
   "outputs": [],
   "source": [
    "# 咖啡廳測試\n",
    "# https://www.google.com/maps/preview/review/listentitiesreviews?gl=tw&pb=!1m2!1y3765758514298713173!2y1068936344628133893!2m2!1i8!2i8!4m1!3b1!5m7!4m1!2i23934!7e140!9sKlW1YuuiNsyJmAWTq5rQDQ:424692678957!17sKlW1YuuiNsyJmAWTq5rQDQ:424692678958!24m1!2e1\n",
    "# https://www.google.com/maps/preview/review/listentitiesreviews?gl=tw&pb=!1m2!1y3765758514298713173!2y1068936344628133893!2m2!1i16!2i8!4m1!3b1!5m7!4m1!2i23934!7e140!9sKlW1YuuiNsyJmAWTq5rQDQ:424692678958!17sKlW1YuuiNsyJmAWTq5rQDQ:424692678959!24m1!2e1      "
   ]
  },
  {
   "cell_type": "code",
   "execution_count": 3,
   "id": "1e9ff6ab",
   "metadata": {},
   "outputs": [
    {
     "name": "stdout",
     "output_type": "stream",
     "text": [
      "-------中獎名單------\n",
      "['陳伯烱', '3 個月前', '5', '古厝咖啡廳，可惜停業了']\n",
      "['Bee Luo', '3 年前', '5', '非常棒的地方，咖啡跟餐點都很棒，老闆也超好客！']\n",
      "['Eric Liu', '1 年前', '5', '可以坐很久，英俊店長不時巡迴全場XD']\n"
     ]
    }
   ],
   "source": [
    "import requests \n",
    "import json\n",
    "import random\n",
    "\n",
    "j = 0\n",
    "count = 0\n",
    "lottery_pool = []\n",
    "\n",
    "while 1:  \n",
    "    url = \"https://www.google.com/maps/preview/review/listentitiesreviews?gl=tw&pb=!1m2!1y3765758514298713173!2y1068936344628133893!2m2!1i\"+ str(j) +\"!2i8!4m1!3b1!5m7!4m1!2i23934!7e140!9sKlW1YuuiNsyJmAWTq5rQDQ:424692678957!17sKlW1YuuiNsyJmAWTq5rQDQ:424692678958!24m1!2e1\"\n",
    "    j = j + 10 \n",
    "        \n",
    "    text = requests.get(url).text\n",
    "    pretext = ')]}\\'' \n",
    "    text = text.replace(pretext,' ')   # 把字串讀取成json 取代特殊字元\n",
    "    soup = json.loads(text)            # 載入json檔\n",
    "    review_list = soup[2]              # 留言的位置\n",
    "\n",
    "    if review_list is None:\n",
    "        break\n",
    "        \n",
    "    for i in review_list:\n",
    "        # 給五星加有留言的評價才可以抽獎喔\n",
    "        if i[4]==5 and i[3] != None: \n",
    "            dict = [str(i[0][1]),str(i[1]),str(i[4]),str(i[3])]\n",
    "            lottery_pool.append(dict) \n",
    "            count += 1\n",
    "            \n",
    "winner_index = random.sample(range(0, len(lottery_pool)-1), 3) # 設定抽3人\n",
    "print(\"-------中獎名單------\")\n",
    "for i in winner_index:\n",
    "    print(lottery_pool[i])"
   ]
  },
  {
   "cell_type": "markdown",
   "id": "470923aa",
   "metadata": {},
   "source": [
    "## 防爬蟲偽裝"
   ]
  },
  {
   "cell_type": "code",
   "execution_count": 4,
   "id": "a21b2795",
   "metadata": {},
   "outputs": [
    {
     "name": "stdout",
     "output_type": "stream",
     "text": [
      "Requirement already satisfied: fake_useragent in /Users/jerrychien/opt/anaconda3/lib/python3.9/site-packages (0.1.11)\n",
      "Note: you may need to restart the kernel to use updated packages.\n"
     ]
    }
   ],
   "source": [
    "pip install fake_useragent"
   ]
  },
  {
   "cell_type": "code",
   "execution_count": 5,
   "id": "0ade5beb",
   "metadata": {},
   "outputs": [],
   "source": [
    "from fake_useragent import UserAgent\n",
    "\n",
    "ua = UserAgent() # 產生一個 user agent\n",
    "user_agent = ua.random # 隨機產生一個 user agent字串"
   ]
  },
  {
   "cell_type": "code",
   "execution_count": 6,
   "id": "3a808167",
   "metadata": {},
   "outputs": [],
   "source": [
    "headers = {'user-agent': user_agent}\n",
    "text = requests.get(url, headers=headers).text"
   ]
  },
  {
   "cell_type": "code",
   "execution_count": null,
   "id": "a513b1b0",
   "metadata": {},
   "outputs": [],
   "source": []
  }
 ],
 "metadata": {
  "kernelspec": {
   "display_name": "Python 3 (ipykernel)",
   "language": "python",
   "name": "python3"
  },
  "language_info": {
   "codemirror_mode": {
    "name": "ipython",
    "version": 3
   },
   "file_extension": ".py",
   "mimetype": "text/x-python",
   "name": "python",
   "nbconvert_exporter": "python",
   "pygments_lexer": "ipython3",
   "version": "3.9.7"
  }
 },
 "nbformat": 4,
 "nbformat_minor": 5
}
