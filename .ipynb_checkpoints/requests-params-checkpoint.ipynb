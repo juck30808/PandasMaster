{
 "cells": [
  {
   "cell_type": "code",
   "execution_count": 1,
   "metadata": {},
   "outputs": [
    {
     "name": "stdout",
     "output_type": "stream",
     "text": [
      "et porro tempora\n"
     ]
    }
   ],
   "source": [
    "# url?key1=value1&key2=value2\n",
    "\n",
    "import requests\n",
    "\n",
    "# response = requests.get(\"https://jsonplaceholder.typicode.com/todos?completed=true&userId=1\")\n",
    "response = requests.get(\"https://jsonplaceholder.typicode.com/todos\", params={\n",
    "    \"userId\":1,\n",
    "    \"completed\":\"true\"\n",
    "})\n",
    "liste = response.json()\n",
    "\n",
    "\n",
    "print(liste[0][\"title\"])"
   ]
  },
  {
   "cell_type": "code",
   "execution_count": 2,
   "metadata": {},
   "outputs": [
    {
     "name": "stdout",
     "output_type": "stream",
     "text": [
      "{'Date': 'Tue, 31 Oct 2023 10:13:02 GMT', 'Content-Type': 'application/json; charset=utf-8', 'Content-Length': '73', 'Connection': 'keep-alive', 'Report-To': '{\"group\":\"heroku-nel\",\"max_age\":3600,\"endpoints\":[{\"url\":\"https://nel.heroku.com/reports?ts=1698747182&sid=e11707d5-02a7-43ef-b45e-2cf4d2036f7d&s=9HF%2FNbRA6mui3U4Krz%2FsLZKcEBII9YACryaij2RtpiQ%3D\"}]}', 'Reporting-Endpoints': 'heroku-nel=https://nel.heroku.com/reports?ts=1698747182&sid=e11707d5-02a7-43ef-b45e-2cf4d2036f7d&s=9HF%2FNbRA6mui3U4Krz%2FsLZKcEBII9YACryaij2RtpiQ%3D', 'Nel': '{\"report_to\":\"heroku-nel\",\"max_age\":3600,\"success_fraction\":0.005,\"failure_fraction\":0.05,\"response_headers\":[\"Via\"]}', 'X-Powered-By': 'Express', 'X-Ratelimit-Limit': '1000', 'X-Ratelimit-Remaining': '999', 'X-Ratelimit-Reset': '1698747218', 'Vary': 'Origin, X-HTTP-Method-Override, Accept-Encoding', 'Access-Control-Allow-Credentials': 'true', 'Cache-Control': 'no-cache', 'Pragma': 'no-cache', 'Expires': '-1', 'Access-Control-Expose-Headers': 'Location', 'Location': 'https://jsonplaceholder.typicode.com/posts/101', 'X-Content-Type-Options': 'nosniff', 'Etag': 'W/\"49-YtYhKZHvlkafEDcjOxeugzlCE1k\"', 'Via': '1.1 vegur', 'CF-Cache-Status': 'DYNAMIC', 'Server': 'cloudflare', 'CF-RAY': '81eb1f7ff9515167-HKG', 'alt-svc': 'h3=\":443\"; ma=86400'}\n"
     ]
    }
   ],
   "source": [
    "import requests\n",
    "\n",
    "response = requests.post(\"https://jsonplaceholder.typicode.com/posts\", data = {\n",
    "        \"title\": 'deneme',\n",
    "        \"body\": 'deneme',\n",
    "        \"userId\": 1,\n",
    "    }\n",
    ")\n",
    "\n",
    "sonuc = response\n",
    "sonuc = response.text\n",
    "sonuc = response.json()\n",
    "sonuc = response.headers\n",
    "\n",
    "print(sonuc)"
   ]
  },
  {
   "cell_type": "code",
   "execution_count": null,
   "metadata": {},
   "outputs": [],
   "source": []
  }
 ],
 "metadata": {
  "kernelspec": {
   "display_name": "Python 3 (ipykernel)",
   "language": "python",
   "name": "python3"
  },
  "language_info": {
   "codemirror_mode": {
    "name": "ipython",
    "version": 3
   },
   "file_extension": ".py",
   "mimetype": "text/x-python",
   "name": "python",
   "nbconvert_exporter": "python",
   "pygments_lexer": "ipython3",
   "version": "3.11.3"
  }
 },
 "nbformat": 4,
 "nbformat_minor": 4
}
