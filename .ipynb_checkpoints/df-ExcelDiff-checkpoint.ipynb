{
 "cells": [
  {
   "cell_type": "markdown",
   "id": "486eca40",
   "metadata": {},
   "source": [
    "### Create an Excel Diff - Simple Graphing with IPython and Pandas\n",
    "Why - 通過一個真實的例子來說明如何使用pandas來自動化一個在 Excel 中很難做到的過程。\n",
    "\n",
    "What - 我的業務問題是，我有兩個結構相似但數據不同的Excel文件，我想輕鬆了解這兩個文件之間有什麼變化。基本上，我想要一個Excel差異工具。"
   ]
  },
  {
   "cell_type": "code",
   "execution_count": 1,
   "id": "d78d909b",
   "metadata": {},
   "outputs": [],
   "source": [
    "import pandas as pd\n",
    "\n",
    "# Read in the two files but call the data old and new and create columns to track\n",
    "old = pd.read_excel('data/df-sample-address-1.xlsx', 'Sheet1', na_values=['NA'])\n",
    "new = pd.read_excel('data/df-sample-address-2.xlsx', 'Sheet1', na_values=['NA'])\n",
    "old['version'] = \"old\"\n",
    "new['version'] = \"new\""
   ]
  },
  {
   "cell_type": "markdown",
   "id": "c78865b1",
   "metadata": {},
   "source": [
    "在這個例子中，我有兩個客戶地址列表，我想了解。\n",
    "- 哪些客戶是新客戶\n",
    "- 哪些客戶被刪除\n",
    "- 哪些客戶的信息在這兩個文件之間有變化\n",
    "\n",
    "你可以設想這在審計系統中的變化時相當有用，或者有可能提供一個變化列表，以便你可以讓你的銷售團隊聯繫新客戶。"
   ]
  },
  {
   "cell_type": "code",
   "execution_count": 2,
   "id": "355182b9",
   "metadata": {},
   "outputs": [],
   "source": [
    "old_accts_all = set(old['account number'])\n",
    "new_accts_all = set(new['account number'])\n",
    "\n",
    "dropped_accts = old_accts_all - new_accts_all\n",
    "added_accts = new_accts_all - old_accts_all"
   ]
  },
  {
   "cell_type": "markdown",
   "id": "1bf97817",
   "metadata": {},
   "source": [
    "接下來，我們將所有的數據連接在一起，得到一個乾淨的唯一數據列表，並通過使用drop_duplicates保留所有改變的行。"
   ]
  },
  {
   "cell_type": "code",
   "execution_count": 3,
   "id": "4f13ee32",
   "metadata": {},
   "outputs": [],
   "source": [
    "all_data = pd.concat([old,new],ignore_index=True)\n",
    "changes = all_data.drop_duplicates(subset=[\"account number\",\n",
    "                                           \"name\", \"street\",\n",
    "                                           \"city\",\"state\",\n",
    "                                           \"postal code\"], keep='last')"
   ]
  },
  {
   "cell_type": "markdown",
   "id": "25c9d58f",
   "metadata": {},
   "source": [
    "接下來，我們需要弄清楚哪些賬戶號碼有重複的條目。一個重複的賬號表明他們在某個領域的數值發生了變化，我們需要標記出來。我們可以使用重複函數來獲取所有這些賬號的列表，並過濾掉那些重複的賬號。"
   ]
  },
  {
   "cell_type": "code",
   "execution_count": 4,
   "id": "e6f84b8c",
   "metadata": {},
   "outputs": [],
   "source": [
    "dupe_accts = changes[changes['account number'].duplicated() == True]['account number'].tolist()\n",
    "dupes = changes[changes[\"account number\"].isin(dupe_accts)]"
   ]
  },
  {
   "cell_type": "markdown",
   "id": "46fa97cf",
   "metadata": {},
   "source": [
    "現在我們把新舊數據分開，去掉不必要的版本欄，並把賬戶號碼設置為索引。這些步驟為最終的比較設定了數據。"
   ]
  },
  {
   "cell_type": "code",
   "execution_count": 5,
   "id": "4dc488e7",
   "metadata": {},
   "outputs": [
    {
     "data": {
      "text/html": [
       "<div>\n",
       "<style scoped>\n",
       "    .dataframe tbody tr th:only-of-type {\n",
       "        vertical-align: middle;\n",
       "    }\n",
       "\n",
       "    .dataframe tbody tr th {\n",
       "        vertical-align: top;\n",
       "    }\n",
       "\n",
       "    .dataframe thead tr th {\n",
       "        text-align: left;\n",
       "    }\n",
       "\n",
       "    .dataframe thead tr:last-of-type th {\n",
       "        text-align: right;\n",
       "    }\n",
       "</style>\n",
       "<table border=\"1\" class=\"dataframe\">\n",
       "  <thead>\n",
       "    <tr>\n",
       "      <th></th>\n",
       "      <th colspan=\"5\" halign=\"left\">old</th>\n",
       "      <th colspan=\"5\" halign=\"left\">new</th>\n",
       "    </tr>\n",
       "    <tr>\n",
       "      <th></th>\n",
       "      <th>name</th>\n",
       "      <th>street</th>\n",
       "      <th>city</th>\n",
       "      <th>state</th>\n",
       "      <th>postal code</th>\n",
       "      <th>name</th>\n",
       "      <th>street</th>\n",
       "      <th>city</th>\n",
       "      <th>state</th>\n",
       "      <th>postal code</th>\n",
       "    </tr>\n",
       "    <tr>\n",
       "      <th>account number</th>\n",
       "      <th></th>\n",
       "      <th></th>\n",
       "      <th></th>\n",
       "      <th></th>\n",
       "      <th></th>\n",
       "      <th></th>\n",
       "      <th></th>\n",
       "      <th></th>\n",
       "      <th></th>\n",
       "      <th></th>\n",
       "    </tr>\n",
       "  </thead>\n",
       "  <tbody>\n",
       "    <tr>\n",
       "      <th>595932</th>\n",
       "      <td>Kuhic, Eichmann and West</td>\n",
       "      <td>4059 Tobias Inlet</td>\n",
       "      <td>New Rylanfurt</td>\n",
       "      <td>Illinois</td>\n",
       "      <td>89271</td>\n",
       "      <td>Kuhic, Eichmann and West</td>\n",
       "      <td>4059 Tobias St</td>\n",
       "      <td>New Rylanfurt</td>\n",
       "      <td>Illinois</td>\n",
       "      <td>89271</td>\n",
       "    </tr>\n",
       "    <tr>\n",
       "      <th>558879</th>\n",
       "      <td>Watsica Group</td>\n",
       "      <td>95616 Enos Grove Suite 139</td>\n",
       "      <td>West Atlas</td>\n",
       "      <td>Iowa</td>\n",
       "      <td>47419</td>\n",
       "      <td>Watsica Group</td>\n",
       "      <td>829 Big street</td>\n",
       "      <td>Smithtown</td>\n",
       "      <td>Ohio</td>\n",
       "      <td>47919</td>\n",
       "    </tr>\n",
       "    <tr>\n",
       "      <th>880043</th>\n",
       "      <td>Beatty Inc</td>\n",
       "      <td>3641 Schaefer Isle Suite 171</td>\n",
       "      <td>North Gardnertown</td>\n",
       "      <td>Wyoming</td>\n",
       "      <td>64318</td>\n",
       "      <td>Beatty Inc</td>\n",
       "      <td>3641 Schaefer Isle Suite 171</td>\n",
       "      <td>North Gardnertown</td>\n",
       "      <td>Wyoming</td>\n",
       "      <td>64918</td>\n",
       "    </tr>\n",
       "  </tbody>\n",
       "</table>\n",
       "</div>"
      ],
      "text/plain": [
       "                                     old                                \\\n",
       "                                    name                        street   \n",
       "account number                                                           \n",
       "595932          Kuhic, Eichmann and West             4059 Tobias Inlet   \n",
       "558879                     Watsica Group    95616 Enos Grove Suite 139   \n",
       "880043                        Beatty Inc  3641 Schaefer Isle Suite 171   \n",
       "\n",
       "                                                         \\\n",
       "                             city     state postal code   \n",
       "account number                                            \n",
       "595932              New Rylanfurt  Illinois       89271   \n",
       "558879                 West Atlas      Iowa       47419   \n",
       "880043          North Gardnertown   Wyoming       64318   \n",
       "\n",
       "                                     new                                \\\n",
       "                                    name                        street   \n",
       "account number                                                           \n",
       "595932          Kuhic, Eichmann and West                4059 Tobias St   \n",
       "558879                     Watsica Group                829 Big street   \n",
       "880043                        Beatty Inc  3641 Schaefer Isle Suite 171   \n",
       "\n",
       "                                                         \n",
       "                             city     state postal code  \n",
       "account number                                           \n",
       "595932              New Rylanfurt  Illinois       89271  \n",
       "558879                  Smithtown      Ohio       47919  \n",
       "880043          North Gardnertown   Wyoming       64918  "
      ]
     },
     "execution_count": 5,
     "metadata": {},
     "output_type": "execute_result"
    }
   ],
   "source": [
    "# Pull out the old and new data into separate dataframes\n",
    "change_new = dupes[(dupes[\"version\"] == \"new\")]\n",
    "change_old = dupes[(dupes[\"version\"] == \"old\")]\n",
    "\n",
    "# Drop the temp columns - we don't need them now\n",
    "change_new = change_new.drop(['version'], axis=1)\n",
    "change_old = change_old.drop(['version'], axis=1)\n",
    "\n",
    "# Index on the account numbers\n",
    "change_new.set_index('account number', inplace=True)\n",
    "change_old.set_index('account number', inplace=True)\n",
    "\n",
    "# Combine all the changes together\n",
    "df_all_changes = pd.concat([change_old, change_new],\n",
    "                            axis='columns',\n",
    "                            keys=['old', 'new'],\n",
    "                            join='outer')\n",
    "df_all_changes"
   ]
  },
  {
   "cell_type": "markdown",
   "id": "85f7209e",
   "metadata": {},
   "source": [
    "創建一個diff函數來顯示變化是什麼。在我們做最後的組合之前，我們需要定義一個函數，它將顯示各列之間的變化。"
   ]
  },
  {
   "cell_type": "code",
   "execution_count": 6,
   "id": "8662579a",
   "metadata": {},
   "outputs": [],
   "source": [
    "def report_diff(x):\n",
    "    return x[0] if x[0] == x[1] else '{} ---> {}'.format(*x)"
   ]
  },
  {
   "cell_type": "markdown",
   "id": "610e05f9",
   "metadata": {},
   "source": [
    "我們現在使用swaplevel函數來獲得新舊兩列的相鄰關係。"
   ]
  },
  {
   "cell_type": "code",
   "execution_count": 7,
   "id": "fecb250c",
   "metadata": {},
   "outputs": [
    {
     "data": {
      "text/html": [
       "<div>\n",
       "<style scoped>\n",
       "    .dataframe tbody tr th:only-of-type {\n",
       "        vertical-align: middle;\n",
       "    }\n",
       "\n",
       "    .dataframe tbody tr th {\n",
       "        vertical-align: top;\n",
       "    }\n",
       "\n",
       "    .dataframe thead tr th {\n",
       "        text-align: left;\n",
       "    }\n",
       "\n",
       "    .dataframe thead tr:last-of-type th {\n",
       "        text-align: right;\n",
       "    }\n",
       "</style>\n",
       "<table border=\"1\" class=\"dataframe\">\n",
       "  <thead>\n",
       "    <tr>\n",
       "      <th></th>\n",
       "      <th colspan=\"2\" halign=\"left\">name</th>\n",
       "      <th colspan=\"2\" halign=\"left\">street</th>\n",
       "      <th colspan=\"2\" halign=\"left\">city</th>\n",
       "      <th colspan=\"2\" halign=\"left\">state</th>\n",
       "      <th colspan=\"2\" halign=\"left\">postal code</th>\n",
       "    </tr>\n",
       "    <tr>\n",
       "      <th></th>\n",
       "      <th>old</th>\n",
       "      <th>new</th>\n",
       "      <th>old</th>\n",
       "      <th>new</th>\n",
       "      <th>old</th>\n",
       "      <th>new</th>\n",
       "      <th>old</th>\n",
       "      <th>new</th>\n",
       "      <th>old</th>\n",
       "      <th>new</th>\n",
       "    </tr>\n",
       "    <tr>\n",
       "      <th>account number</th>\n",
       "      <th></th>\n",
       "      <th></th>\n",
       "      <th></th>\n",
       "      <th></th>\n",
       "      <th></th>\n",
       "      <th></th>\n",
       "      <th></th>\n",
       "      <th></th>\n",
       "      <th></th>\n",
       "      <th></th>\n",
       "    </tr>\n",
       "  </thead>\n",
       "  <tbody>\n",
       "    <tr>\n",
       "      <th>595932</th>\n",
       "      <td>Kuhic, Eichmann and West</td>\n",
       "      <td>Kuhic, Eichmann and West</td>\n",
       "      <td>4059 Tobias Inlet</td>\n",
       "      <td>4059 Tobias St</td>\n",
       "      <td>New Rylanfurt</td>\n",
       "      <td>New Rylanfurt</td>\n",
       "      <td>Illinois</td>\n",
       "      <td>Illinois</td>\n",
       "      <td>89271</td>\n",
       "      <td>89271</td>\n",
       "    </tr>\n",
       "    <tr>\n",
       "      <th>558879</th>\n",
       "      <td>Watsica Group</td>\n",
       "      <td>Watsica Group</td>\n",
       "      <td>95616 Enos Grove Suite 139</td>\n",
       "      <td>829 Big street</td>\n",
       "      <td>West Atlas</td>\n",
       "      <td>Smithtown</td>\n",
       "      <td>Iowa</td>\n",
       "      <td>Ohio</td>\n",
       "      <td>47419</td>\n",
       "      <td>47919</td>\n",
       "    </tr>\n",
       "    <tr>\n",
       "      <th>880043</th>\n",
       "      <td>Beatty Inc</td>\n",
       "      <td>Beatty Inc</td>\n",
       "      <td>3641 Schaefer Isle Suite 171</td>\n",
       "      <td>3641 Schaefer Isle Suite 171</td>\n",
       "      <td>North Gardnertown</td>\n",
       "      <td>North Gardnertown</td>\n",
       "      <td>Wyoming</td>\n",
       "      <td>Wyoming</td>\n",
       "      <td>64318</td>\n",
       "      <td>64918</td>\n",
       "    </tr>\n",
       "  </tbody>\n",
       "</table>\n",
       "</div>"
      ],
      "text/plain": [
       "                                    name                            \\\n",
       "                                     old                       new   \n",
       "account number                                                       \n",
       "595932          Kuhic, Eichmann and West  Kuhic, Eichmann and West   \n",
       "558879                     Watsica Group             Watsica Group   \n",
       "880043                        Beatty Inc                Beatty Inc   \n",
       "\n",
       "                                      street                                \\\n",
       "                                         old                           new   \n",
       "account number                                                               \n",
       "595932                     4059 Tobias Inlet                4059 Tobias St   \n",
       "558879            95616 Enos Grove Suite 139                829 Big street   \n",
       "880043          3641 Schaefer Isle Suite 171  3641 Schaefer Isle Suite 171   \n",
       "\n",
       "                             city                        state            \\\n",
       "                              old                new       old       new   \n",
       "account number                                                             \n",
       "595932              New Rylanfurt      New Rylanfurt  Illinois  Illinois   \n",
       "558879                 West Atlas          Smithtown      Iowa      Ohio   \n",
       "880043          North Gardnertown  North Gardnertown   Wyoming   Wyoming   \n",
       "\n",
       "               postal code         \n",
       "                       old    new  \n",
       "account number                     \n",
       "595932               89271  89271  \n",
       "558879               47419  47919  \n",
       "880043               64318  64918  "
      ]
     },
     "execution_count": 7,
     "metadata": {},
     "output_type": "execute_result"
    }
   ],
   "source": [
    "df_all_changes= df_all_changes.swaplevel(axis='columns')[change_new.columns[0:]]\n",
    "df_all_changes"
   ]
  },
  {
   "cell_type": "markdown",
   "id": "f9f99163",
   "metadata": {},
   "source": [
    "在列上使用groupby，然後應用我們自定義的report_diff函數，將兩個相應的列相互比較。"
   ]
  },
  {
   "cell_type": "code",
   "execution_count": 8,
   "id": "70875fb5",
   "metadata": {},
   "outputs": [
    {
     "data": {
      "text/html": [
       "<div>\n",
       "<style scoped>\n",
       "    .dataframe tbody tr th:only-of-type {\n",
       "        vertical-align: middle;\n",
       "    }\n",
       "\n",
       "    .dataframe tbody tr th {\n",
       "        vertical-align: top;\n",
       "    }\n",
       "\n",
       "    .dataframe thead th {\n",
       "        text-align: right;\n",
       "    }\n",
       "</style>\n",
       "<table border=\"1\" class=\"dataframe\">\n",
       "  <thead>\n",
       "    <tr style=\"text-align: right;\">\n",
       "      <th></th>\n",
       "      <th>account number</th>\n",
       "      <th>city</th>\n",
       "      <th>name</th>\n",
       "      <th>postal code</th>\n",
       "      <th>state</th>\n",
       "      <th>street</th>\n",
       "    </tr>\n",
       "  </thead>\n",
       "  <tbody>\n",
       "    <tr>\n",
       "      <th>0</th>\n",
       "      <td>595932</td>\n",
       "      <td>New Rylanfurt</td>\n",
       "      <td>Kuhic, Eichmann and West</td>\n",
       "      <td>89271</td>\n",
       "      <td>Illinois</td>\n",
       "      <td>4059 Tobias Inlet ---&gt; 4059 Tobias St</td>\n",
       "    </tr>\n",
       "    <tr>\n",
       "      <th>1</th>\n",
       "      <td>558879</td>\n",
       "      <td>West Atlas ---&gt; Smithtown</td>\n",
       "      <td>Watsica Group</td>\n",
       "      <td>47419 ---&gt; 47919</td>\n",
       "      <td>Iowa ---&gt; Ohio</td>\n",
       "      <td>95616 Enos Grove Suite 139 ---&gt; 829 Big street</td>\n",
       "    </tr>\n",
       "    <tr>\n",
       "      <th>2</th>\n",
       "      <td>880043</td>\n",
       "      <td>North Gardnertown</td>\n",
       "      <td>Beatty Inc</td>\n",
       "      <td>64318 ---&gt; 64918</td>\n",
       "      <td>Wyoming</td>\n",
       "      <td>3641 Schaefer Isle Suite 171</td>\n",
       "    </tr>\n",
       "  </tbody>\n",
       "</table>\n",
       "</div>"
      ],
      "text/plain": [
       "   account number                       city                      name  \\\n",
       "0          595932              New Rylanfurt  Kuhic, Eichmann and West   \n",
       "1          558879  West Atlas ---> Smithtown             Watsica Group   \n",
       "2          880043          North Gardnertown                Beatty Inc   \n",
       "\n",
       "        postal code           state  \\\n",
       "0             89271        Illinois   \n",
       "1  47419 ---> 47919  Iowa ---> Ohio   \n",
       "2  64318 ---> 64918         Wyoming   \n",
       "\n",
       "                                           street  \n",
       "0           4059 Tobias Inlet ---> 4059 Tobias St  \n",
       "1  95616 Enos Grove Suite 139 ---> 829 Big street  \n",
       "2                    3641 Schaefer Isle Suite 171  "
      ]
     },
     "execution_count": 8,
     "metadata": {},
     "output_type": "execute_result"
    }
   ],
   "source": [
    "df_changed = df_all_changes.groupby(level=0, axis=1).apply(lambda frame: frame.apply(report_diff, axis=1))\n",
    "df_changed = df_changed.reset_index()\n",
    "df_changed"
   ]
  },
  {
   "cell_type": "markdown",
   "id": "d3457d3e",
   "metadata": {},
   "source": [
    "最後的分析步驟是弄清被刪除和添加的內容。"
   ]
  },
  {
   "cell_type": "code",
   "execution_count": 9,
   "id": "c6d4dff4",
   "metadata": {},
   "outputs": [],
   "source": [
    "df_removed = changes[changes[\"account number\"].isin(dropped_accts)]\n",
    "df_added = changes[changes[\"account number\"].isin(added_accts)]"
   ]
  },
  {
   "cell_type": "markdown",
   "id": "c2807121",
   "metadata": {},
   "source": [
    "我們可以將所有內容輸出到一個Excel文件中，並有一個單獨的選項卡來顯示更改、添加和刪除。"
   ]
  },
  {
   "cell_type": "code",
   "execution_count": 10,
   "id": "7daf06b9",
   "metadata": {},
   "outputs": [],
   "source": [
    "output_columns = [\"account number\", \"name\", \"street\", \"city\", \"state\", \"postal code\"]\n",
    "writer = pd.ExcelWriter(\"data/dt-ExcellDiff.xlsx\")\n",
    "df_changed.to_excel(writer,\"changed\", index=False, columns=output_columns)\n",
    "df_removed.to_excel(writer,\"removed\",index=False, columns=output_columns)\n",
    "df_added.to_excel(writer,\"added\",index=False, columns=output_columns)\n",
    "writer.save()"
   ]
  }
 ],
 "metadata": {
  "kernelspec": {
   "display_name": "Python 3 (ipykernel)",
   "language": "python",
   "name": "python3"
  },
  "language_info": {
   "codemirror_mode": {
    "name": "ipython",
    "version": 3
   },
   "file_extension": ".py",
   "mimetype": "text/x-python",
   "name": "python",
   "nbconvert_exporter": "python",
   "pygments_lexer": "ipython3",
   "version": "3.9.7"
  }
 },
 "nbformat": 4,
 "nbformat_minor": 5
}
