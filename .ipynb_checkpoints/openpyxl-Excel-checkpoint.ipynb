{
 "cells": [
  {
   "cell_type": "code",
   "execution_count": 1,
   "id": "9ac8fced",
   "metadata": {},
   "outputs": [],
   "source": [
    "#pip install openpyxl"
   ]
  },
  {
   "cell_type": "markdown",
   "id": "fd5d86fa",
   "metadata": {},
   "source": [
    "## 清空舊檔 Clear file"
   ]
  },
  {
   "cell_type": "code",
   "execution_count": 2,
   "id": "9575c691",
   "metadata": {},
   "outputs": [],
   "source": [
    "from openpyxl import Workbook\n",
    "wb = Workbook()\n",
    "# wb.save(\"data/pyxl-chart.xlsx\")\n",
    "# wb.save(\"data/pyxl-sample.xlsx\")"
   ]
  },
  {
   "cell_type": "markdown",
   "id": "467efc0a",
   "metadata": {},
   "source": [
    "## 1. Create\n",
    "### Openpyxl create new file"
   ]
  },
  {
   "cell_type": "code",
   "execution_count": 3,
   "id": "cd94cf2d",
   "metadata": {},
   "outputs": [],
   "source": [
    "from openpyxl import Workbook\n",
    "import time\n",
    "import datetime\n",
    "\n",
    "book = Workbook()\n",
    "sheet = book.active\n",
    "\n",
    "sheet['G1'] = 1     # sheet.cell(column=8, row=1).value = 1\n",
    "sheet['G2'] = 11    # sheet.cell(column=8, row=2).value = 11\n",
    "\n",
    "sheet['A3'] = time.strftime(\"%x\")\n",
    "sheet['A4'] = datetime.datetime(2022, 3, 12)\n",
    "sheet['A5'] = \"=SUM(1, 1)\"                         # openpyxl 不計算公式\n",
    "\n",
    "book.save(\"data/pyxl-A.xlsx\")"
   ]
  },
  {
   "cell_type": "markdown",
   "id": "109b0967",
   "metadata": {},
   "source": [
    "### Openpyxl append DataFrame"
   ]
  },
  {
   "cell_type": "code",
   "execution_count": 39,
   "id": "46b8a8a1",
   "metadata": {},
   "outputs": [],
   "source": [
    "from openpyxl.utils.dataframe import dataframe_to_rows\n",
    "import pandas as pd\n",
    "\n",
    "book = Workbook()\n",
    "sheet = book.active\n",
    "\n",
    "df = pd.DataFrame({\n",
    "    'Id': [302, 504, 708, 103, 303, 302],\n",
    "    'Name': ['Watch', 'Camera', 'Phone', 'Shoes', 'Watch', 'Watch'],\n",
    "    'Cost': [\"300\", \"400\", \"350\", \"100\", \"300\", \"300\"]\n",
    "})\n",
    "\n",
    "sheet['A3'].value = \"Under the Value\"\n",
    "\n",
    "for row in dataframe_to_rows(df, index=True, header=True):\n",
    "    sheet.append(row)\n",
    "    \n",
    "book.save('data/pyxl-A.xlsx')"
   ]
  },
  {
   "cell_type": "markdown",
   "id": "e5f4b1f7",
   "metadata": {},
   "source": [
    "### Openpyxl append values"
   ]
  },
  {
   "cell_type": "code",
   "execution_count": 36,
   "id": "3657c502",
   "metadata": {},
   "outputs": [
    {
     "name": "stdout",
     "output_type": "stream",
     "text": [
      "(88, 46)\n",
      "(89, 38)\n",
      "(23, 59)\n",
      "(56, 21)\n",
      "88 46 57 \n",
      "89 38 12 \n",
      "23 59 78 \n",
      "56 21 98 \n"
     ]
    }
   ],
   "source": [
    "book = Workbook()\n",
    "sheet = book.active\n",
    "\n",
    "rows = ((88, 46, 57),(89, 38, 12),(23, 59, 78),(56, 21, 98))\n",
    "\n",
    "for row in rows:\n",
    "    sheet.append(row)\n",
    "\n",
    "for row in sheet.iter_rows(max_row=4, max_col=2, values_only=True):  #col:A  Row:4\n",
    "    print(row)\n",
    "\n",
    "for row in sheet.iter_rows(min_row=1, min_col=1, max_row=4, max_col=3):\n",
    "    for cell in row:\n",
    "        print(cell.value, end=\" \")\n",
    "    print()  \n",
    "\n",
    "book.save('data/pyxl-B.xlsx')"
   ]
  },
  {
   "cell_type": "markdown",
   "id": "398e62d5",
   "metadata": {},
   "source": [
    "### Openpyxl filter & sort data"
   ]
  },
  {
   "cell_type": "code",
   "execution_count": 41,
   "id": "4e1c0a4b",
   "metadata": {},
   "outputs": [
    {
     "data": {
      "text/html": [
       "<div>\n",
       "<style scoped>\n",
       "    .dataframe tbody tr th:only-of-type {\n",
       "        vertical-align: middle;\n",
       "    }\n",
       "\n",
       "    .dataframe tbody tr th {\n",
       "        vertical-align: top;\n",
       "    }\n",
       "\n",
       "    .dataframe thead th {\n",
       "        text-align: right;\n",
       "    }\n",
       "</style>\n",
       "<table border=\"1\" class=\"dataframe\">\n",
       "  <thead>\n",
       "    <tr style=\"text-align: right;\">\n",
       "      <th></th>\n",
       "      <th>Id</th>\n",
       "      <th>Name</th>\n",
       "      <th>Cost</th>\n",
       "    </tr>\n",
       "  </thead>\n",
       "  <tbody>\n",
       "    <tr>\n",
       "      <th>0</th>\n",
       "      <td>302</td>\n",
       "      <td>Watch</td>\n",
       "      <td>300</td>\n",
       "    </tr>\n",
       "    <tr>\n",
       "      <th>1</th>\n",
       "      <td>504</td>\n",
       "      <td>Camera</td>\n",
       "      <td>400</td>\n",
       "    </tr>\n",
       "    <tr>\n",
       "      <th>2</th>\n",
       "      <td>708</td>\n",
       "      <td>Phone</td>\n",
       "      <td>350</td>\n",
       "    </tr>\n",
       "    <tr>\n",
       "      <th>3</th>\n",
       "      <td>103</td>\n",
       "      <td>Shoes</td>\n",
       "      <td>100</td>\n",
       "    </tr>\n",
       "    <tr>\n",
       "      <th>4</th>\n",
       "      <td>303</td>\n",
       "      <td>Watch</td>\n",
       "      <td>300</td>\n",
       "    </tr>\n",
       "  </tbody>\n",
       "</table>\n",
       "</div>"
      ],
      "text/plain": [
       "    Id    Name Cost\n",
       "0  302   Watch  300\n",
       "1  504  Camera  400\n",
       "2  708   Phone  350\n",
       "3  103   Shoes  100\n",
       "4  303   Watch  300"
      ]
     },
     "execution_count": 41,
     "metadata": {},
     "output_type": "execute_result"
    }
   ],
   "source": [
    "df.head()"
   ]
  },
  {
   "cell_type": "code",
   "execution_count": 46,
   "id": "17ecc40c",
   "metadata": {},
   "outputs": [],
   "source": [
    "from openpyxl import Workbook\n",
    "\n",
    "wb = Workbook()\n",
    "sheet = wb.active\n",
    "\n",
    "for r in dataframe_to_rows(df, index=True, header=True):\n",
    "    sheet.append(r)\n",
    "\n",
    "sheet.auto_filter.ref = 'B1:B8'\n",
    "sheet.auto_filter.add_filter_column(1, ['Name', 'Cost'])\n",
    "sheet.auto_filter.add_sort_condition('C2:C8')\n",
    "\n",
    "wb.save('data/pyxl-C.xlsx')"
   ]
  },
  {
   "cell_type": "markdown",
   "id": "1cc6091f",
   "metadata": {},
   "source": [
    "## Openpyxl dimensions"
   ]
  },
  {
   "cell_type": "code",
   "execution_count": 11,
   "id": "e194d3bf",
   "metadata": {},
   "outputs": [
    {
     "name": "stdout",
     "output_type": "stream",
     "text": [
      "A1:B6\n",
      "Minimum row: 1\n",
      "Maximum row: 6\n",
      "Minimum column: 1\n",
      "Maximum column: 2\n",
      "88 46\n",
      "89 38\n",
      "23 59\n",
      "56 21\n",
      "24 18\n",
      "34 15\n"
     ]
    }
   ],
   "source": [
    "from openpyxl import Workbook\n",
    "\n",
    "book = Workbook()\n",
    "sheet = book.active\n",
    "\n",
    "rows = [(88, 46),\n",
    "        (89, 38),\n",
    "        (23, 59),\n",
    "        (56, 21),\n",
    "        (24, 18),\n",
    "        (34, 15)]\n",
    "\n",
    "for row in rows:\n",
    "    sheet.append(row)\n",
    "\n",
    "print(sheet.dimensions)\n",
    "print(\"Minimum row: {0}\".format(sheet.min_row))\n",
    "print(\"Maximum row: {0}\".format(sheet.max_row))\n",
    "print(\"Minimum column: {0}\".format(sheet.min_column))\n",
    "print(\"Maximum column: {0}\".format(sheet.max_column))\n",
    "\n",
    "for c1, c2 in sheet[sheet.dimensions]:\n",
    "    print(c1.value, c2.value)\n",
    "\n",
    "book.save('data/pyxl-D.xlsx')"
   ]
  },
  {
   "cell_type": "markdown",
   "id": "3ddc5dd6",
   "metadata": {},
   "source": [
    "## Load_workbook\n",
    "\n",
    "與編寫方式相同，您可以使用 openpyxl.load_workbook() 打開現有工作簿：\n",
    "\n",
    "唯讀：有時需要打開或編寫非常大的 XLSX 文件，而 openpyxl 中的常用例程將無法處理該負載。 幸運的是，有兩種模式可以讓您讀取和寫入無限量的數據，而內存消耗（幾乎）恆定。 "
   ]
  },
  {
   "cell_type": "code",
   "execution_count": 6,
   "id": "869e6201",
   "metadata": {},
   "outputs": [
    {
     "name": "stdout",
     "output_type": "stream",
     "text": [
      "88\n",
      "89\n",
      "23\n"
     ]
    }
   ],
   "source": [
    "from openpyxl import load_workbook\n",
    "import openpyxl\n",
    "\n",
    "book = openpyxl.load_workbook('data/pyxl-B.xlsx')\n",
    "sheet = book.active\n",
    "\n",
    "a1 = sheet['A1']\n",
    "a2 = sheet['A2']\n",
    "a3 = sheet.cell(row=3, column=1)\n",
    "\n",
    "print(sheet['A1'].value) #print(a1.value)\n",
    "print(sheet['A2'].value) #print(a2.value) \n",
    "print(sheet['A3'].value) #print(a3.value)"
   ]
  },
  {
   "cell_type": "code",
   "execution_count": 7,
   "id": "3aff66bb",
   "metadata": {
    "scrolled": true
   },
   "outputs": [
    {
     "name": "stdout",
     "output_type": "stream",
     "text": [
      "88\n",
      "46\n",
      "57\n",
      "89\n",
      "38\n",
      "12\n",
      "23\n",
      "59\n",
      "78\n",
      "56\n",
      "21\n",
      "98\n",
      "24\n",
      "18\n",
      "43\n",
      "34\n",
      "15\n",
      "67\n"
     ]
    }
   ],
   "source": [
    "## 唯讀模式 read_only=True\n",
    "\n",
    "from openpyxl import load_workbook\n",
    "wb = load_workbook(filename='data/pyxl-B.xlsx', read_only=False) \n",
    "ws = book.active\n",
    "\n",
    "for row in ws.rows:\n",
    "    for cell in row:\n",
    "        print(cell.value)\n",
    "\n",
    "wb.close() # Close the workbook after read_only 唯讀工作簿使用延遲加載。 "
   ]
  },
  {
   "cell_type": "markdown",
   "id": "7e0022dc",
   "metadata": {},
   "source": [
    "## Openpyxl read multiple cells"
   ]
  },
  {
   "cell_type": "code",
   "execution_count": 8,
   "id": "32af665d",
   "metadata": {},
   "outputs": [
    {
     "name": "stdout",
     "output_type": "stream",
     "text": [
      "      88       46\n",
      "      89       38\n",
      "      23       59\n",
      "      56       21\n",
      "      24       18\n",
      "      34       15\n"
     ]
    }
   ],
   "source": [
    "import openpyxl\n",
    "\n",
    "book = openpyxl.load_workbook('data/pyxl-B.xlsx')\n",
    "sheet = book.active\n",
    "cells = sheet['A1': 'B6']\n",
    "\n",
    "for c1, c2 in cells:\n",
    "    print(\"{0:8} {1:8}\".format(c1.value, c2.value))"
   ]
  },
  {
   "cell_type": "markdown",
   "id": "e99ad665",
   "metadata": {},
   "source": [
    "## Statistics"
   ]
  },
  {
   "cell_type": "code",
   "execution_count": 9,
   "id": "778b1f6c",
   "metadata": {},
   "outputs": [
    {
     "name": "stdout",
     "output_type": "stream",
     "text": [
      "Number: 18\n",
      "Sum of: 866\n",
      "Minimum: 12\n",
      "Maximum: 98\n",
      "Mean: 48.111111111111114\n",
      "Median: 44.5\n",
      "Standard deviation: 27.4909373064457\n",
      "Variance: 755.751633986928\n"
     ]
    }
   ],
   "source": [
    "import openpyxl\n",
    "import statistics as stats\n",
    "\n",
    "book = openpyxl.load_workbook('data/pyxl-B.xlsx', data_only=True)\n",
    "sheet = book.active\n",
    "rows = sheet.rows\n",
    "values = []\n",
    "\n",
    "for row in rows:\n",
    "    for cell in row:\n",
    "        values.append(cell.value)\n",
    "\n",
    "print(\"Number: {0}\".format(len(values)))\n",
    "print(\"Sum of: {0}\".format(sum(values)))\n",
    "print(\"Minimum: {0}\".format(min(values)))\n",
    "print(\"Maximum: {0}\".format(max(values)))\n",
    "print(\"Mean: {0}\".format(stats.mean(values)))\n",
    "print(\"Median: {0}\".format(stats.median(values)))\n",
    "print(\"Standard deviation: {0}\".format(stats.stdev(values)))\n",
    "print(\"Variance: {0}\".format(stats.variance(values)))"
   ]
  },
  {
   "cell_type": "markdown",
   "id": "3296e134",
   "metadata": {},
   "source": [
    "## Sheets"
   ]
  },
  {
   "cell_type": "code",
   "execution_count": 12,
   "id": "f39c91cb",
   "metadata": {},
   "outputs": [
    {
     "name": "stdout",
     "output_type": "stream",
     "text": [
      "['Sheet']\n",
      "['Sheet', 'Apple', 'Amazon', 'Microsoft', 'Sheet Copy']\n"
     ]
    },
    {
     "name": "stderr",
     "output_type": "stream",
     "text": [
      "C:\\Users\\CTI110~1\\AppData\\Local\\Temp/ipykernel_22880/2938799989.py:4: DeprecationWarning: Call to deprecated function get_sheet_names (Use wb.sheetnames).\n",
      "  print(wb.get_sheet_names())\n"
     ]
    }
   ],
   "source": [
    "import openpyxl\n",
    "\n",
    "wb = openpyxl.load_workbook('data/pyxl-D.xlsx')\n",
    "print(wb.get_sheet_names())\n",
    "\n",
    "wb.create_sheet(\"Apple\",1)        # (\"Apple\")   insert the end (default)\n",
    "wb.create_sheet(\"Amazon\",2)       # (\"Apple\",-1)insert the penultimate position\n",
    "wb.create_sheet(\"Microsoft\",3)    # (\"Apple\",0) insert first position\n",
    "\n",
    "wsM = wb[\"Microsoft\"]  #Select sheet\n",
    "wsM[\"A1\"] = \"Cloud\"\n",
    "wsM[\"A2\"] = \"Computers\"\n",
    "wsM[\"A3\"] = \"Apps\"\n",
    "wsM[\"A4\"] = \"XboxGaming\"\n",
    "\n",
    "source = wb.active               #copy\n",
    "wb.copy_worksheet(source)\n",
    "\n",
    "wb.save('data/pyxl-D.xlsx')\n",
    "print(wb.sheetnames) "
   ]
  },
  {
   "cell_type": "code",
   "execution_count": 13,
   "id": "459aefb2",
   "metadata": {},
   "outputs": [
    {
     "name": "stdout",
     "output_type": "stream",
     "text": [
      "['Sheet', 'Apple', 'Amazon', 'Microsoft', 'Sheet Copy', 'April']\n",
      "['Sheet', 'Amazon', 'Microsoft', 'Sheet Copy', 'April']\n",
      "['January', 'Sheet', 'Amazon', 'Microsoft', 'Sheet Copy', 'April']\n"
     ]
    },
    {
     "name": "stderr",
     "output_type": "stream",
     "text": [
      "C:\\Users\\CTI110~1\\AppData\\Local\\Temp/ipykernel_22880/2538824569.py:7: DeprecationWarning: Call to deprecated function get_sheet_by_name (Use wb[sheetname]).\n",
      "  sheet1 = book.get_sheet_by_name(\"Apple\")\n",
      "C:\\Users\\CTI110~1\\AppData\\Local\\Temp/ipykernel_22880/2538824569.py:8: DeprecationWarning: Call to deprecated function remove_sheet (Use wb.remove(worksheet) or del wb[sheetname]).\n",
      "  book.remove_sheet(sheet1)        #Delete\n"
     ]
    }
   ],
   "source": [
    "import openpyxl\n",
    "\n",
    "book = openpyxl.load_workbook('data/pyxl-D.xlsx')\n",
    "book.create_sheet(\"April\")\n",
    "print(book.sheetnames)\n",
    "\n",
    "sheet1 = book.get_sheet_by_name(\"Apple\")\n",
    "book.remove_sheet(sheet1)        #Delete\n",
    "print(book.sheetnames)\n",
    "\n",
    "book.create_sheet(\"January\", 0)  #To first 0\n",
    "print(book.sheetnames)\n",
    "\n",
    "book.save('data/pyxl-D.xlsx')"
   ]
  },
  {
   "cell_type": "code",
   "execution_count": 14,
   "id": "a064454e",
   "metadata": {},
   "outputs": [
    {
     "name": "stderr",
     "output_type": "stream",
     "text": [
      "C:\\Users\\CTI110~1\\AppData\\Local\\Temp/ipykernel_22880/3973213069.py:4: DeprecationWarning: Call to deprecated function get_sheet_by_name (Use wb[sheetname]).\n",
      "  sheet = book.get_sheet_by_name(\"April\")\n"
     ]
    }
   ],
   "source": [
    "import openpyxl\n",
    "\n",
    "book = openpyxl.load_workbook('data/pyxl-D.xlsx')\n",
    "sheet = book.get_sheet_by_name(\"April\")\n",
    "sheet.sheet_properties.tabColor = \"0072BA\"  # Color\n",
    "\n",
    "book.save('data/pyxl-D.xlsx')"
   ]
  },
  {
   "cell_type": "markdown",
   "id": "3a5003bb",
   "metadata": {},
   "source": [
    "## Merging cells"
   ]
  },
  {
   "cell_type": "code",
   "execution_count": 15,
   "id": "068075fd",
   "metadata": {},
   "outputs": [],
   "source": [
    "from openpyxl import Workbook\n",
    "from openpyxl.styles import Alignment\n",
    "\n",
    "book = Workbook()\n",
    "sheet = book.active\n",
    "\n",
    "sheet.merge_cells('A1:B2')\n",
    "\n",
    "cell = sheet.cell(row=1, column=1)\n",
    "cell.value = 'Sunny day'\n",
    "cell.alignment = Alignment(horizontal='center', vertical='center')\n",
    "\n",
    "book.save('data/pyxl-D.xlsx')"
   ]
  },
  {
   "cell_type": "markdown",
   "id": "212b1ac5",
   "metadata": {},
   "source": [
    "## Openpyxl freeze panes"
   ]
  },
  {
   "cell_type": "code",
   "execution_count": 16,
   "id": "7a21c8cb",
   "metadata": {},
   "outputs": [],
   "source": [
    "from openpyxl import Workbook\n",
    "from openpyxl.styles import Alignment\n",
    "\n",
    "book = Workbook()\n",
    "sheet = book.active\n",
    "\n",
    "sheet.freeze_panes = 'B2'\n",
    "\n",
    "book.save('data/pyxl-E.xlsx')"
   ]
  },
  {
   "cell_type": "markdown",
   "id": "2d4d0a14",
   "metadata": {},
   "source": [
    "## Openpyxl formulas"
   ]
  },
  {
   "cell_type": "code",
   "execution_count": 17,
   "id": "5ff40e88",
   "metadata": {},
   "outputs": [
    {
     "name": "stderr",
     "output_type": "stream",
     "text": [
      "C:\\Users\\CTI110~1\\AppData\\Local\\Temp/ipykernel_22880/683896030.py:18: DeprecationWarning: Call to deprecated function copy (Use copy(obj) or cell.obj = cell.obj + other).\n",
      "  cell.font = cell.font.copy(bold=True)\n"
     ]
    }
   ],
   "source": [
    "from openpyxl import Workbook\n",
    "\n",
    "book = Workbook()\n",
    "sheet = book.active\n",
    "\n",
    "rows = ((34, 26),\n",
    "        (88, 36),\n",
    "        (24, 29),\n",
    "        (15, 22),\n",
    "        (56, 13),\n",
    "        (76, 18))\n",
    "\n",
    "for row in rows:\n",
    "    sheet.append(row)\n",
    "\n",
    "cell = sheet.cell(row=7, column=2)\n",
    "cell.value = \"=SUM(A1:B6)\"\n",
    "cell.font = cell.font.copy(bold=True)\n",
    "\n",
    "book.save('data/pyxl-E.xlsx')"
   ]
  },
  {
   "cell_type": "markdown",
   "id": "eb49a99f",
   "metadata": {},
   "source": [
    "## Openpyxl.styles"
   ]
  },
  {
   "cell_type": "code",
   "execution_count": 18,
   "id": "71807164",
   "metadata": {},
   "outputs": [],
   "source": [
    "from openpyxl.styles import Font \n",
    "from openpyxl.styles.colors import Color\n",
    "\n",
    "book = Workbook()\n",
    "sheet = book.active\n",
    "\n",
    "sheet['E1'].font = Font(color = \"FF0000\") # Set font\n",
    "sheet['E1'] = \"Hello\"  # Set data\n",
    "book.save('data/pyxl-E.xlsx')"
   ]
  },
  {
   "cell_type": "markdown",
   "id": "5bd8b363",
   "metadata": {},
   "source": [
    "## Openpyxl images"
   ]
  },
  {
   "cell_type": "code",
   "execution_count": 19,
   "id": "af9a0b0f",
   "metadata": {},
   "outputs": [],
   "source": [
    "from openpyxl import Workbook\n",
    "from openpyxl.drawing.image import Image\n",
    "\n",
    "book = Workbook()\n",
    "sheet = book.active\n",
    "\n",
    "sheet['A1'] = 'This is Sid'\n",
    "sheet.add_image(Image(\"data/pyxl-cat.jpg\"), 'B2')\n",
    "\n",
    "book.save('data/pyxl-F.xlsx')"
   ]
  },
  {
   "cell_type": "markdown",
   "id": "fb1e4e10",
   "metadata": {},
   "source": [
    "## Openpyxl Charts"
   ]
  },
  {
   "cell_type": "code",
   "execution_count": 20,
   "id": "e923f7f9",
   "metadata": {},
   "outputs": [
    {
     "name": "stdout",
     "output_type": "stream",
     "text": [
      "['Sheet', 'Apple', 'Amazon', 'Microsoft', 'Sheet Copy']\n"
     ]
    }
   ],
   "source": [
    "from openpyxl import Workbook\n",
    "from openpyxl.chart import (Reference,Series,BarChart)\n",
    "\n",
    "book = Workbook()\n",
    "sheet = book.active\n",
    "\n",
    "rows = [(\"USA\", 46),\n",
    "        (\"China\", 38),\n",
    "        (\"UK\", 29),(\"Russia\", 22),(\"South Korea\", 13),(\"Germany\", 11)]\n",
    "\n",
    "for row in rows:\n",
    "    sheet.append(row)\n",
    "    \n",
    "data = Reference(sheet, min_col=2, min_row=1, max_col=2, max_row=6)\n",
    "categs = Reference(sheet, min_col=1, min_row=1, max_row=6)\n",
    "\n",
    "chart = BarChart()\n",
    "chart.add_data(data=data)\n",
    "chart.set_categories(categs)\n",
    "\n",
    "chart.legend = None\n",
    "chart.y_axis.majorGridlines = None\n",
    "chart.varyColors = True\n",
    "chart.title = \"Olympic Gold medals in London\"\n",
    "\n",
    "sheet.add_chart(chart, \"A8\")    \n",
    "book.save('data/pyxl-G.xlsx')\n",
    "print(wb.sheetnames)"
   ]
  },
  {
   "cell_type": "code",
   "execution_count": 21,
   "id": "d02f9f15",
   "metadata": {},
   "outputs": [
    {
     "name": "stdout",
     "output_type": "stream",
     "text": [
      "['BarChart']\n"
     ]
    }
   ],
   "source": [
    "from openpyxl.chart import BarChart, Reference, Series \n",
    "\n",
    "wb.create_sheet(\"BarChart\",0)    # (\"Apple\",0) insert first position\n",
    "ws = wb[\"BarChart\"]\n",
    "\n",
    "wb = Workbook()\n",
    "ws = wb.active\n",
    "ws.title = \"BarChart\"     # 未使用則自動命名 Sheet\n",
    "\n",
    "for i in range(10) :\n",
    "    ws.append([i])\n",
    "    \n",
    "chart = BarChart() \n",
    "values = Reference(ws, min_col=1, min_row=1, max_col=1, max_row=10)  # col & crow\n",
    "chart.add_data(values)\n",
    "\n",
    "ws.add_chart(chart, \"A5\")\n",
    "wb.save(\"data/pyxl-H.xlsx\")\n",
    "print(wb.sheetnames)"
   ]
  },
  {
   "cell_type": "code",
   "execution_count": 22,
   "id": "fe35f237",
   "metadata": {},
   "outputs": [
    {
     "name": "stdout",
     "output_type": "stream",
     "text": [
      "['BarChart', 'PieChart']\n"
     ]
    }
   ],
   "source": [
    "from openpyxl.chart import PieChart3D, Reference\n",
    "\n",
    "wb.create_sheet(\"PieChart\",1)    # (\"Apple\",0) insert first position\n",
    "ws = wb[\"PieChart\"]\n",
    "\n",
    "data = [['Fruit', 'Sold'],['Apple', 10],['Berry', 30],['Cherry', 20],['Lemon', 40],]\n",
    "for row in data:\n",
    "    ws.append(row)\n",
    "\n",
    "##\n",
    "pie = PieChart3D()\n",
    "labels = Reference(ws, min_col=1, min_row=2, max_row=5)\n",
    "data = Reference(ws, min_col=2, min_row=1, max_row=5)\n",
    "\n",
    "pie.add_data(data, titles_from_data=True)\n",
    "pie.set_categories(labels)\n",
    "pie.title = \"Pies sold by category\"\n",
    "\n",
    "ws.add_chart(pie, \"D1\")\n",
    "wb.save(\"data/pyxl-H.xlsx\")\n",
    "print(wb.sheetnames)"
   ]
  },
  {
   "cell_type": "code",
   "execution_count": 23,
   "id": "8c1681d4",
   "metadata": {},
   "outputs": [
    {
     "name": "stdout",
     "output_type": "stream",
     "text": [
      "['BarChart', 'PieChart', 'LineChart']\n"
     ]
    }
   ],
   "source": [
    "from openpyxl.chart import LineChart, Reference\n",
    "from openpyxl.chart.axis import DateAxis\n",
    "from datetime import date\n",
    "\n",
    "wb.create_sheet(\"LineChart\",2)    # (\"Apple\",0) insert first position\n",
    "ws = wb[\"LineChart\"]\n",
    "\n",
    "rows = [['Date', 'Luna 1', 'Luna 2', 'Luna 3'],\n",
    "        [date(2022,5, 11), 90, 30, 25],[date(2022,9, 2), 20, 25, 30],[date(2022,6, 3), 30, 30, 45],\n",
    "        [date(2022,5, 10), 40, 25, 40],[date(2022,9, 5), 55, 35, 30],[date(2022,7, 6), 60, 40, 35]]\n",
    "\n",
    "for row in rows:\n",
    "    ws.append(row)\n",
    "\n",
    "##\n",
    "c1 = LineChart()\n",
    "data = Reference(ws, min_col=2, min_row=1, max_col=4, max_row=7)\n",
    "c1.add_data(data, titles_from_data=True)\n",
    "\n",
    "c1.title = \"Line Chart\"\n",
    "c1.legend = None\n",
    "c1.style = 15\n",
    "c1.y_axis.title = 'Size'\n",
    "c1.x_axis.title = 'Test Number'\n",
    "\n",
    "ws.add_chart(c1, \"A10\")\n",
    "wb.save(\"data/pyxl-H.xlsx\")\n",
    "print(wb.sheetnames)"
   ]
  },
  {
   "cell_type": "markdown",
   "id": "d76bb127",
   "metadata": {},
   "source": [
    "## Openpyxl Insert / Grouping/ Merge"
   ]
  },
  {
   "cell_type": "code",
   "execution_count": 24,
   "id": "40e9d281",
   "metadata": {},
   "outputs": [
    {
     "name": "stdout",
     "output_type": "stream",
     "text": [
      "['Jerry']\n"
     ]
    }
   ],
   "source": [
    "from openpyxl import Workbook\n",
    "\n",
    "wb = Workbook()       \n",
    "ws = wb.active    \n",
    "ws.title = \"Jerry\"\n",
    "\n",
    "# Insert\n",
    "ws.insert_rows(2)                      #在 row(2)插入一行\n",
    "ws.delete_rows(4)                      #在 row(4)刪除一行\n",
    "ws.move_range(\"B1:B4\", rows=0, cols=1) #向下移動 rows(x), 向右移動cols(y) 可負值\n",
    "\n",
    "# Grouping\n",
    "ws.column_dimensions.group('H','L', hidden=True)\n",
    "ws.row_dimensions.group(10,15, hidden=True)\n",
    "\n",
    "# Merge\n",
    "ws.merge_cells('A2:D2')    # ws.merge_cells(start_row=2, start_column=1, end_row=4, end_column=4)\n",
    "ws.unmerge_cells('A2:D2')  # ws.unmerge_cells(start_row=2, start_column=1, end_row=4, end_column=4)\n",
    "\n",
    "wb.save(\"data/pyxl-I.xlsx\") \n",
    "print(wb.sheetnames)  "
   ]
  },
  {
   "cell_type": "code",
   "execution_count": 25,
   "id": "e972ae9c",
   "metadata": {},
   "outputs": [
    {
     "name": "stdout",
     "output_type": "stream",
     "text": [
      "['Jerry']\n",
      "Jerry\n",
      "Jerry\n",
      "2\n",
      "4\n",
      "None\n",
      "4\n",
      "2\n"
     ]
    }
   ],
   "source": [
    "from openpyxl import load_workbook\n",
    "\n",
    "wb = load_workbook('data/pyxl-I.xlsx')\n",
    "print(wb.sheetnames)    # sheet name\n",
    "\n",
    "a_sheet = wb['Jerry']   # Get Jerry sheet\n",
    "print(a_sheet.title)\n",
    "\n",
    "sheet = wb.active       # Get now active sheet\n",
    "print(sheet.title)\n",
    "\n",
    "cell = sheet['B4']\n",
    "print(cell.column) # B\n",
    "print(cell.row)    # 4\n",
    "print(cell.value)  # B4 = 4.7\n",
    "\n",
    "print(sheet.max_row)     # Max_row\n",
    "print(sheet.max_column)  # Max_col"
   ]
  },
  {
   "cell_type": "markdown",
   "id": "0addf82f",
   "metadata": {},
   "source": [
    "## 使用 Pandas 和 NumPy\n",
    "openpyxl 能夠與流行的庫 Pandas 和 NumPy 一起工作\n",
    "\n",
    "NumPy 支持 openpyxl 內置了對 NumPy 類型浮點、整數和布爾值的支持。 使用 Pandas 的 Timestamp 類型支持 DateTimes。\n",
    "\n",
    "使用 Pandas 數據框 openpyxl.utils.dataframe.dataframe_to_rows() 函數提供了一種使用 Pandas Dataframes 的簡單方法："
   ]
  },
  {
   "cell_type": "code",
   "execution_count": 26,
   "id": "a8c49abf",
   "metadata": {},
   "outputs": [
    {
     "data": {
      "text/html": [
       "<div>\n",
       "<style scoped>\n",
       "    .dataframe tbody tr th:only-of-type {\n",
       "        vertical-align: middle;\n",
       "    }\n",
       "\n",
       "    .dataframe tbody tr th {\n",
       "        vertical-align: top;\n",
       "    }\n",
       "\n",
       "    .dataframe thead th {\n",
       "        text-align: right;\n",
       "    }\n",
       "</style>\n",
       "<table border=\"1\" class=\"dataframe\">\n",
       "  <thead>\n",
       "    <tr style=\"text-align: right;\">\n",
       "      <th></th>\n",
       "      <th>Name</th>\n",
       "      <th>Sex</th>\n",
       "      <th>Age</th>\n",
       "    </tr>\n",
       "  </thead>\n",
       "  <tbody>\n",
       "    <tr>\n",
       "      <th>0</th>\n",
       "      <td>JerryA</td>\n",
       "      <td>Boy</td>\n",
       "      <td>15</td>\n",
       "    </tr>\n",
       "    <tr>\n",
       "      <th>1</th>\n",
       "      <td>JerryB</td>\n",
       "      <td>Sex</td>\n",
       "      <td>25</td>\n",
       "    </tr>\n",
       "  </tbody>\n",
       "</table>\n",
       "</div>"
      ],
      "text/plain": [
       "     Name  Sex  Age\n",
       "0  JerryA  Boy   15\n",
       "1  JerryB  Sex   25"
      ]
     },
     "execution_count": 26,
     "metadata": {},
     "output_type": "execute_result"
    }
   ],
   "source": [
    "import pandas as pd\n",
    "data = {\"Name\": [\"JerryA\", \"JerryB\"],\n",
    "        \"Sex\": [\"Boy\", \"Sex\"],\n",
    "        \"Age\": [15, 25],}\n",
    "df = pd.DataFrame(data)\n",
    "df"
   ]
  },
  {
   "cell_type": "markdown",
   "id": "637fa7dd",
   "metadata": {},
   "source": [
    "## DataFrame轉工作簿"
   ]
  },
  {
   "cell_type": "code",
   "execution_count": 27,
   "id": "a4310625",
   "metadata": {},
   "outputs": [],
   "source": [
    "from openpyxl.utils.dataframe import dataframe_to_rows\n",
    "from openpyxl.cell.cell import WriteOnlyCell\n",
    "\n",
    "wb = Workbook()\n",
    "ws = wb.active\n",
    "\n",
    "ws.title = \"Pandas\"\n",
    "for r in dataframe_to_rows(df, index=True, header=True):\n",
    "    ws.append(r)\n",
    "    \n",
    "wb.save('data/pyxl-Pandas1.xlsx')"
   ]
  },
  {
   "cell_type": "code",
   "execution_count": 28,
   "id": "e01ac540",
   "metadata": {},
   "outputs": [],
   "source": [
    "from openpyxl import Workbook\n",
    "from openpyxl.utils.dataframe import dataframe_to_rows\n",
    "from openpyxl.styles import Font \n",
    "from openpyxl.styles import Alignment \n",
    "\n",
    "wb = Workbook()\n",
    "ws = wb.active\n",
    "\n",
    "for row in dataframe_to_rows(df, index=False, header=True):\n",
    "    ws.append(row)\n",
    "    \n",
    "font = Font(name=\"微軟雅黑\",size=10, bold=True,italic=False,color=\"FF0000\")\n",
    "alignment = Alignment(horizontal=\"center\",vertical=\"center\")\n",
    "    \n",
    "for i in range(1,df.shape[1]+1):\n",
    "    cell = ws.cell(row=1, column=i)\n",
    "    cell.font = font\n",
    "    cell.alignment = alignment\n",
    "    \n",
    "wb.save('data/pyxl-Pandas2.xlsx')"
   ]
  },
  {
   "cell_type": "code",
   "execution_count": 29,
   "id": "bf1f5f9b",
   "metadata": {},
   "outputs": [],
   "source": [
    "from openpyxl.utils.dataframe import dataframe_to_rows\n",
    "from openpyxl.cell.cell import WriteOnlyCell\n",
    "\n",
    "wb = Workbook()\n",
    "ws = wb.active\n",
    "\n",
    "cell = WriteOnlyCell(ws)\n",
    "cell.style = 'Pandas'\n",
    "\n",
    "def format_first_row(row, cell):\n",
    "    for c in row:\n",
    "        cell.value = c\n",
    "        yield cell\n",
    "\n",
    "rows = dataframe_to_rows(df)\n",
    "first_row = format_first_row(next(rows), cell)\n",
    "ws.append(first_row)\n",
    "\n",
    "for row in rows:\n",
    "    row = list(row)\n",
    "    cell.value = row[0]\n",
    "    row[0] = cell\n",
    "    ws.append(row)\n",
    "\n",
    "    \n",
    "wb.save('data/pyxl-Pandas3.xlsx')"
   ]
  },
  {
   "cell_type": "markdown",
   "id": "4b691645",
   "metadata": {},
   "source": [
    "## 工作簿轉DataFrame"
   ]
  },
  {
   "cell_type": "code",
   "execution_count": 30,
   "id": "23298ecb",
   "metadata": {},
   "outputs": [
    {
     "data": {
      "text/html": [
       "<div>\n",
       "<style scoped>\n",
       "    .dataframe tbody tr th:only-of-type {\n",
       "        vertical-align: middle;\n",
       "    }\n",
       "\n",
       "    .dataframe tbody tr th {\n",
       "        vertical-align: top;\n",
       "    }\n",
       "\n",
       "    .dataframe thead th {\n",
       "        text-align: right;\n",
       "    }\n",
       "</style>\n",
       "<table border=\"1\" class=\"dataframe\">\n",
       "  <thead>\n",
       "    <tr style=\"text-align: right;\">\n",
       "      <th></th>\n",
       "      <th>0</th>\n",
       "      <th>1</th>\n",
       "      <th>2</th>\n",
       "    </tr>\n",
       "  </thead>\n",
       "  <tbody>\n",
       "    <tr>\n",
       "      <th>0</th>\n",
       "      <td>Name</td>\n",
       "      <td>Sex</td>\n",
       "      <td>Age</td>\n",
       "    </tr>\n",
       "    <tr>\n",
       "      <th>1</th>\n",
       "      <td>JerryA</td>\n",
       "      <td>Boy</td>\n",
       "      <td>15</td>\n",
       "    </tr>\n",
       "    <tr>\n",
       "      <th>2</th>\n",
       "      <td>JerryB</td>\n",
       "      <td>Sex</td>\n",
       "      <td>25</td>\n",
       "    </tr>\n",
       "  </tbody>\n",
       "</table>\n",
       "</div>"
      ],
      "text/plain": [
       "        0    1    2\n",
       "0    Name  Sex  Age\n",
       "1  JerryA  Boy   15\n",
       "2  JerryB  Sex   25"
      ]
     },
     "execution_count": 30,
     "metadata": {},
     "output_type": "execute_result"
    }
   ],
   "source": [
    "import pandas as pd\n",
    "from openpyxl import load_workbook\n",
    "\n",
    "workbook = load_workbook(filename=\"data/pyxl-Pandas2.xlsx\")\n",
    "sheet = workbook.active\n",
    "\n",
    "values = sheet.values\n",
    "df = pd.DataFrame(values)   \n",
    "df"
   ]
  },
  {
   "cell_type": "markdown",
   "id": "2d7c4f20",
   "metadata": {},
   "source": [
    "## Openpyxl Transform Sample1 "
   ]
  },
  {
   "cell_type": "code",
   "execution_count": 31,
   "id": "23670c6d",
   "metadata": {},
   "outputs": [
    {
     "name": "stderr",
     "output_type": "stream",
     "text": [
      "C:\\Users\\CTI110~1\\AppData\\Local\\Temp/ipykernel_22880/3853108362.py:4: DeprecationWarning: Call to deprecated function get_sheet_by_name (Use wb[sheetname]).\n",
      "  sheet = wb.get_sheet_by_name('Population by Census Tract')\n"
     ]
    }
   ],
   "source": [
    "import openpyxl, pprint\n",
    "\n",
    "wb = openpyxl.load_workbook('data/pyxl-Sample1.xlsx')\n",
    "sheet = wb.get_sheet_by_name('Population by Census Tract')\n",
    "countyData = {}\n",
    "\n",
    "# Fill in countyData with each county's population and tracts.\n",
    "for row in range(2, sheet.max_row+ 1):\n",
    "    # Each row in the spreadsheet has data for one census tract.\n",
    "    state  = sheet['B' + str(row)].value\n",
    "    county = sheet['C' + str(row)].value\n",
    "    pop    = sheet['D' + str(row)].value\n",
    "\n",
    "    countyData.setdefault(state, {})  #check state\n",
    "    countyData[state].setdefault(county, {'tracts': 0, 'pop': 0})  #check country\n",
    "    countyData[state][county]['tracts'] += 1\n",
    "    countyData[state][county]['pop'] += int(pop)\n",
    "\n",
    "resultFile = open('data/pyxl-Sample1.json', 'w')\n",
    "resultFile.write('allData = ' + pprint.pformat(countyData))\n",
    "resultFile.close()"
   ]
  },
  {
   "cell_type": "markdown",
   "id": "7d5d6eb6",
   "metadata": {},
   "source": [
    "## Openpyxl Update Data"
   ]
  },
  {
   "cell_type": "code",
   "execution_count": 32,
   "id": "94dc6da4",
   "metadata": {},
   "outputs": [
    {
     "name": "stderr",
     "output_type": "stream",
     "text": [
      "C:\\Users\\CTI110~1\\AppData\\Local\\Temp/ipykernel_22880/3020363452.py:4: DeprecationWarning: Call to deprecated function get_sheet_by_name (Use wb[sheetname]).\n",
      "  sheet = wb.get_sheet_by_name('Sheet')\n"
     ]
    }
   ],
   "source": [
    "import openpyxl\n",
    "\n",
    "wb = openpyxl.load_workbook('data/pyxl-Sample2.xlsx')\n",
    "sheet = wb.get_sheet_by_name('Sheet')\n",
    "PRICE_UPDATES = {'Garlic': 3.07,'Celery': 1.19,'Lemon': 1.27}\n",
    "\n",
    "# Loop through the rows and update the prices.\n",
    "for rowNum in range(2, sheet.max_row): # skip the first row\n",
    "    produceName = sheet.cell(row=rowNum, column=1).value\n",
    "    if produceName in PRICE_UPDATES:\n",
    "        sheet.cell(row=rowNum, column=2).value = PRICE_UPDATES[produceName]\n",
    "\n",
    "wb.save('data/pyxl-Sample2-1.xlsx')"
   ]
  },
  {
   "cell_type": "markdown",
   "id": "8c5e927c",
   "metadata": {},
   "source": [
    "## Openpyxl Funtion"
   ]
  },
  {
   "cell_type": "code",
   "execution_count": 33,
   "id": "0ac70b11",
   "metadata": {},
   "outputs": [],
   "source": [
    "import openpyxl\n",
    "\n",
    "def invertCells(filename):\n",
    "    wb = openpyxl.load_workbook(filename)\n",
    "    sheet = wb.active\n",
    "    newSheet = wb.create_sheet(index=0, title='inverted')\n",
    "\n",
    "    for rowObj in sheet.rows:\n",
    "        for cellObj in rowObj:\n",
    "            colIndex = cellObj.column\n",
    "            rowIndex = cellObj.row\n",
    "            newSheet.cell(row=colIndex, column=rowIndex).value = cellObj.value\n",
    "    wb.save(filename)\n",
    "\n",
    "if __name__ == \"__main__\":\n",
    "    invertCells('data/pyxl-Sample3.xlsx')"
   ]
  }
 ],
 "metadata": {
  "kernelspec": {
   "display_name": "Python 3 (ipykernel)",
   "language": "python",
   "name": "python3"
  },
  "language_info": {
   "codemirror_mode": {
    "name": "ipython",
    "version": 3
   },
   "file_extension": ".py",
   "mimetype": "text/x-python",
   "name": "python",
   "nbconvert_exporter": "python",
   "pygments_lexer": "ipython3",
   "version": "3.9.7"
  }
 },
 "nbformat": 4,
 "nbformat_minor": 5
}
