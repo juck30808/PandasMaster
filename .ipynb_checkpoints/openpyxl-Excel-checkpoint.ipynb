{
 "cells": [
  {
   "cell_type": "markdown",
   "id": "fd5d86fa",
   "metadata": {},
   "source": [
    "## 清空舊檔 Clear file"
   ]
  },
  {
   "cell_type": "code",
   "execution_count": 4,
   "id": "9575c691",
   "metadata": {},
   "outputs": [],
   "source": [
    "from openpyxl import Workbook\n",
    "wb = Workbook()\n",
    "# wb.save(\"input/pyxl-chart.xlsx\")\n",
    "# wb.save(\"input/pyxl-sample.xlsx\")"
   ]
  },
  {
   "cell_type": "markdown",
   "id": "a8e6894c",
   "metadata": {},
   "source": [
    "## Openpyxl create new file"
   ]
  },
  {
   "cell_type": "code",
   "execution_count": 5,
   "id": "cd94cf2d",
   "metadata": {},
   "outputs": [],
   "source": [
    "from openpyxl import Workbook\n",
    "import time\n",
    "import datetime\n",
    "\n",
    "book = Workbook()\n",
    "sheet = book.active\n",
    "\n",
    "sheet['A1'] = 56\n",
    "sheet['A2'] = 43\n",
    "\n",
    "sheet['A3'] = time.strftime(\"%x\")\n",
    "sheet['A4'] = datetime.datetime(2022, 3, 12)\n",
    "sheet['A5'] = \"=SUM(1, 1)\"                         # openpyxl 不計算公式\n",
    "\n",
    "book.save(\"data/pyxl-A.xlsx\")"
   ]
  },
  {
   "cell_type": "markdown",
   "id": "109b0967",
   "metadata": {},
   "source": [
    "## Openpyxl write to a cell"
   ]
  },
  {
   "cell_type": "code",
   "execution_count": 7,
   "id": "3e004e6f",
   "metadata": {},
   "outputs": [],
   "source": [
    "from openpyxl import Workbook\n",
    "\n",
    "book = Workbook()\n",
    "sheet = book.active\n",
    "\n",
    "sheet['C1'] = 1\n",
    "sheet.cell(row=2, column=1).value = 2\n",
    "\n",
    "sheet['D1'].value = 11\n",
    "sheet.cell(row=2, column=2).value = 22\n",
    "\n",
    "book.save(\"data/pyxl-A.xlsx\")"
   ]
  },
  {
   "cell_type": "markdown",
   "id": "e5f4b1f7",
   "metadata": {},
   "source": [
    "## Openpyxl append values"
   ]
  },
  {
   "cell_type": "code",
   "execution_count": 14,
   "id": "3657c502",
   "metadata": {},
   "outputs": [],
   "source": [
    "from openpyxl import Workbook\n",
    "\n",
    "book = Workbook()\n",
    "sheet = book.active\n",
    "\n",
    "rows = ((88, 46, 57),\n",
    "        (89, 38, 12),\n",
    "        (23, 59, 78),\n",
    "        (56, 21, 98),\n",
    "        (24, 18, 43),\n",
    "        (34, 15, 67))\n",
    "\n",
    "sheet['G1'] = 1     # \n",
    "sheet.cell(column=8, row=1).value = 2\n",
    "\n",
    "sheet['G2'].value = 11\n",
    "sheet.cell(column=8, row=1).value = 22\n",
    "\n",
    "\n",
    "sheet['A3'].value = \"Under the Value\"\n",
    "\n",
    "for row in rows:\n",
    "    sheet.append(row)\n",
    "\n",
    "# for row in sheet.iter_rows(max_row=4, max_col=2, values_only=True):  #col:A  Row:4\n",
    "#     print(row)\n",
    "\n",
    "# for row in sheet.iter_rows(min_row=1, min_col=1, max_row=6, max_col=3):\n",
    "#     for cell in row:\n",
    "#         print(cell.value, end=\" \")\n",
    "#     print()  \n",
    "    \n",
    "# for row in sheet.iter_cols(min_row=1, min_col=1, max_row=6, max_col=3):\n",
    "#     for cell in row:\n",
    "#         print(cell.value, end=\" \")\n",
    "#     print()    \n",
    "\n",
    "\n",
    "book.save('data/pyxl-A.xlsx')"
   ]
  },
  {
   "cell_type": "markdown",
   "id": "3ddc5dd6",
   "metadata": {},
   "source": [
    "## Openpyxl read cell (load_workbook)\n",
    "\n",
    "與編寫方式相同，您可以使用 openpyxl.load_workbook() 打開現有工作簿：\n",
    "\n",
    "唯讀：有時需要打開或編寫非常大的 XLSX 文件，而 openpyxl 中的常用例程將無法處理該負載。 幸運的是，有兩種模式可以讓您讀取和寫入無限量的數據，而內存消耗（幾乎）恆定。 "
   ]
  },
  {
   "cell_type": "code",
   "execution_count": null,
   "id": "869e6201",
   "metadata": {},
   "outputs": [],
   "source": [
    "import openpyxl\n",
    "\n",
    "book = openpyxl.load_workbook('input/pyxl-B.xlsx')\n",
    "sheet = book.active\n",
    "\n",
    "a1 = sheet['A1']\n",
    "a2 = sheet['A2']\n",
    "a3 = sheet.cell(row=3, column=1)\n",
    "\n",
    "print(a1.value)\n",
    "print(a2.value) \n",
    "print(a3.value)"
   ]
  },
  {
   "cell_type": "code",
   "execution_count": null,
   "id": "29c78bf6",
   "metadata": {},
   "outputs": [],
   "source": [
    "from openpyxl import load_workbook\n",
    "\n",
    "wb = load_workbook('input/pyxl-B.xlsx')\n",
    "sheet = book.active\n",
    "\n",
    "print(sheet['A1'].value)\n",
    "print(sheet['A2'].value)\n",
    "print(sheet['A3'].value)"
   ]
  },
  {
   "cell_type": "code",
   "execution_count": null,
   "id": "3aff66bb",
   "metadata": {
    "scrolled": true
   },
   "outputs": [],
   "source": [
    "## 唯讀模式 read_only=True\n",
    "\n",
    "from openpyxl import load_workbook\n",
    "wb = load_workbook(filename='input/pyxl-B.xlsx', read_only=False) \n",
    "ws = book.active\n",
    "\n",
    "for row in ws.rows:\n",
    "    for cell in row:\n",
    "        print(cell.value)\n",
    "\n",
    "wb.close() # Close the workbook after read_only 唯讀工作簿使用延遲加載。 "
   ]
  },
  {
   "cell_type": "markdown",
   "id": "7e0022dc",
   "metadata": {},
   "source": [
    "## Openpyxl read multiple cells"
   ]
  },
  {
   "cell_type": "code",
   "execution_count": null,
   "id": "32af665d",
   "metadata": {},
   "outputs": [],
   "source": [
    "import openpyxl\n",
    "\n",
    "book = openpyxl.load_workbook('input/pyxl-B.xlsx')\n",
    "sheet = book.active\n",
    "cells = sheet['A1': 'B6']\n",
    "\n",
    "for c1, c2 in cells:\n",
    "    print(\"{0:8} {1:8}\".format(c1.value, c2.value))"
   ]
  },
  {
   "cell_type": "markdown",
   "id": "e99ad665",
   "metadata": {},
   "source": [
    "## Statistics"
   ]
  },
  {
   "cell_type": "code",
   "execution_count": null,
   "id": "778b1f6c",
   "metadata": {},
   "outputs": [],
   "source": [
    "import openpyxl\n",
    "import statistics as stats\n",
    "\n",
    "book = openpyxl.load_workbook('input/pyxl-B.xlsx', data_only=True)\n",
    "sheet = book.active\n",
    "rows = sheet.rows\n",
    "values = []\n",
    "\n",
    "for row in rows:\n",
    "    for cell in row:\n",
    "        values.append(cell.value)\n",
    "\n",
    "print(\"Number: {0}\".format(len(values)))\n",
    "print(\"Sum of: {0}\".format(sum(values)))\n",
    "print(\"Minimum: {0}\".format(min(values)))\n",
    "print(\"Maximum: {0}\".format(max(values)))\n",
    "print(\"Mean: {0}\".format(stats.mean(values)))\n",
    "print(\"Median: {0}\".format(stats.median(values)))\n",
    "print(\"Standard deviation: {0}\".format(stats.stdev(values)))\n",
    "print(\"Variance: {0}\".format(stats.variance(values)))"
   ]
  },
  {
   "cell_type": "markdown",
   "id": "398e62d5",
   "metadata": {},
   "source": [
    "## Openpyxl filter & sort data"
   ]
  },
  {
   "cell_type": "code",
   "execution_count": null,
   "id": "17ecc40c",
   "metadata": {},
   "outputs": [],
   "source": [
    "from openpyxl import Workbook\n",
    "\n",
    "wb = Workbook()\n",
    "sheet = wb.active\n",
    "\n",
    "data = [['Item', 'Colour'],\n",
    "        ['pen', 'brown'],\n",
    "        ['book', 'black'],\n",
    "        ['plate', 'white'],\n",
    "        ['chair', 'brown'],\n",
    "        ['coin', 'gold'],\n",
    "        ['bed', 'brown'],\n",
    "        ['notebook', 'white'],]\n",
    "\n",
    "for r in data:\n",
    "    sheet.append(r)\n",
    "\n",
    "sheet.auto_filter.ref = 'A1:B8'\n",
    "sheet.auto_filter.add_filter_column(1, ['brown', 'white'])\n",
    "sheet.auto_filter.add_sort_condition('B2:B8')\n",
    "\n",
    "wb.save('input/pyxl-C.xlsx')"
   ]
  },
  {
   "cell_type": "markdown",
   "id": "1cc6091f",
   "metadata": {},
   "source": [
    "## Openpyxl dimensions"
   ]
  },
  {
   "cell_type": "code",
   "execution_count": null,
   "id": "e194d3bf",
   "metadata": {},
   "outputs": [],
   "source": [
    "from openpyxl import Workbook\n",
    "\n",
    "book = Workbook()\n",
    "sheet = book.active\n",
    "\n",
    "rows = [(88, 46),\n",
    "        (89, 38),\n",
    "        (23, 59),\n",
    "        (56, 21),\n",
    "        (24, 18),\n",
    "        (34, 15)]\n",
    "\n",
    "for row in rows:\n",
    "    sheet.append(row)\n",
    "\n",
    "print(sheet.dimensions)\n",
    "print(\"Minimum row: {0}\".format(sheet.min_row))\n",
    "print(\"Maximum row: {0}\".format(sheet.max_row))\n",
    "print(\"Minimum column: {0}\".format(sheet.min_column))\n",
    "print(\"Maximum column: {0}\".format(sheet.max_column))\n",
    "\n",
    "for c1, c2 in sheet[sheet.dimensions]:\n",
    "    print(c1.value, c2.value)\n",
    "\n",
    "book.save('input/pyxl-D.xlsx')"
   ]
  },
  {
   "cell_type": "markdown",
   "id": "3296e134",
   "metadata": {},
   "source": [
    "## Sheets"
   ]
  },
  {
   "cell_type": "code",
   "execution_count": null,
   "id": "f39c91cb",
   "metadata": {},
   "outputs": [],
   "source": [
    "import openpyxl\n",
    "\n",
    "wb = openpyxl.load_workbook('input/pyxl-D.xlsx')\n",
    "print(wb.get_sheet_names())\n",
    "\n",
    "wb.create_sheet(\"Apple\",1)        # (\"Apple\")   insert the end (default)\n",
    "wb.create_sheet(\"Amazon\",2)       # (\"Apple\",-1)insert the penultimate position\n",
    "wb.create_sheet(\"Microsoft\",3)    # (\"Apple\",0) insert first position\n",
    "\n",
    "wsM = wb[\"Microsoft\"]  #Select sheet\n",
    "wsM[\"A1\"] = \"Cloud\"\n",
    "wsM[\"A2\"] = \"Computers\"\n",
    "wsM[\"A3\"] = \"Apps\"\n",
    "wsM[\"A4\"] = \"XboxGaming\"\n",
    "\n",
    "source = wb.active               #copy\n",
    "wb.copy_worksheet(source)\n",
    "\n",
    "wb.save('input/pyxl-D.xlsx')\n",
    "print(wb.sheetnames) "
   ]
  },
  {
   "cell_type": "code",
   "execution_count": null,
   "id": "459aefb2",
   "metadata": {},
   "outputs": [],
   "source": [
    "import openpyxl\n",
    "\n",
    "book = openpyxl.load_workbook('input/pyxl-D.xlsx')\n",
    "book.create_sheet(\"April\")\n",
    "print(book.sheetnames)\n",
    "\n",
    "sheet1 = book.get_sheet_by_name(\"Apple\")\n",
    "book.remove_sheet(sheet1)        #Delete\n",
    "print(book.sheetnames)\n",
    "\n",
    "book.create_sheet(\"January\", 0)  #To first 0\n",
    "print(book.sheetnames)\n",
    "\n",
    "book.save('input/pyxl-D.xlsx')"
   ]
  },
  {
   "cell_type": "code",
   "execution_count": null,
   "id": "a064454e",
   "metadata": {},
   "outputs": [],
   "source": [
    "import openpyxl\n",
    "\n",
    "book = openpyxl.load_workbook('input/pyxl-D.xlsx')\n",
    "sheet = book.get_sheet_by_name(\"April\")\n",
    "sheet.sheet_properties.tabColor = \"0072BA\"  # Color\n",
    "\n",
    "book.save('input/pyxl-D.xlsx')"
   ]
  },
  {
   "cell_type": "markdown",
   "id": "3a5003bb",
   "metadata": {},
   "source": [
    "## Merging cells"
   ]
  },
  {
   "cell_type": "code",
   "execution_count": null,
   "id": "068075fd",
   "metadata": {},
   "outputs": [],
   "source": [
    "from openpyxl import Workbook\n",
    "from openpyxl.styles import Alignment\n",
    "\n",
    "book = Workbook()\n",
    "sheet = book.active\n",
    "\n",
    "sheet.merge_cells('A1:B2')\n",
    "\n",
    "cell = sheet.cell(row=1, column=1)\n",
    "cell.value = 'Sunny day'\n",
    "cell.alignment = Alignment(horizontal='center', vertical='center')\n",
    "\n",
    "book.save('input/pyxl-D.xlsx')"
   ]
  },
  {
   "cell_type": "markdown",
   "id": "212b1ac5",
   "metadata": {},
   "source": [
    "## Openpyxl freeze panes"
   ]
  },
  {
   "cell_type": "code",
   "execution_count": null,
   "id": "7a21c8cb",
   "metadata": {},
   "outputs": [],
   "source": [
    "from openpyxl import Workbook\n",
    "from openpyxl.styles import Alignment\n",
    "\n",
    "book = Workbook()\n",
    "sheet = book.active\n",
    "\n",
    "sheet.freeze_panes = 'B2'\n",
    "\n",
    "book.save('input/pyxl-E.xlsx')"
   ]
  },
  {
   "cell_type": "markdown",
   "id": "2d4d0a14",
   "metadata": {},
   "source": [
    "## Openpyxl formulas"
   ]
  },
  {
   "cell_type": "code",
   "execution_count": null,
   "id": "5ff40e88",
   "metadata": {},
   "outputs": [],
   "source": [
    "from openpyxl import Workbook\n",
    "\n",
    "book = Workbook()\n",
    "sheet = book.active\n",
    "\n",
    "rows = ((34, 26),\n",
    "        (88, 36),\n",
    "        (24, 29),\n",
    "        (15, 22),\n",
    "        (56, 13),\n",
    "        (76, 18))\n",
    "\n",
    "for row in rows:\n",
    "    sheet.append(row)\n",
    "\n",
    "cell = sheet.cell(row=7, column=2)\n",
    "cell.value = \"=SUM(A1:B6)\"\n",
    "cell.font = cell.font.copy(bold=True)\n",
    "\n",
    "book.save('input/pyxl-E.xlsx')"
   ]
  },
  {
   "cell_type": "markdown",
   "id": "eb49a99f",
   "metadata": {},
   "source": [
    "## Openpyxl.styles"
   ]
  },
  {
   "cell_type": "code",
   "execution_count": null,
   "id": "71807164",
   "metadata": {},
   "outputs": [],
   "source": [
    "from openpyxl.styles import Font \n",
    "from openpyxl.styles.colors import Color\n",
    "\n",
    "book = Workbook()\n",
    "sheet = book.active\n",
    "\n",
    "sheet['E1'].font = Font(color = \"FF0000\") # Set font\n",
    "sheet['E1'] = \"Hello\"  # Set data\n",
    "book.save('input/pyxl-E.xlsx')"
   ]
  },
  {
   "cell_type": "markdown",
   "id": "5bd8b363",
   "metadata": {},
   "source": [
    "## Openpyxl images"
   ]
  },
  {
   "cell_type": "code",
   "execution_count": null,
   "id": "af9a0b0f",
   "metadata": {},
   "outputs": [],
   "source": [
    "from openpyxl import Workbook\n",
    "from openpyxl.drawing.image import Image\n",
    "\n",
    "book = Workbook()\n",
    "sheet = book.active\n",
    "\n",
    "sheet['A1'] = 'This is Sid'\n",
    "sheet.add_image(Image(\"input/pyxl-cat.jpg\"), 'B2')\n",
    "\n",
    "book.save('input/pyxl-F.xlsx')"
   ]
  },
  {
   "cell_type": "markdown",
   "id": "fb1e4e10",
   "metadata": {},
   "source": [
    "## Openpyxl Charts"
   ]
  },
  {
   "cell_type": "code",
   "execution_count": null,
   "id": "e923f7f9",
   "metadata": {},
   "outputs": [],
   "source": [
    "from openpyxl import Workbook\n",
    "from openpyxl.chart import (Reference,Series,BarChart)\n",
    "\n",
    "book = Workbook()\n",
    "sheet = book.active\n",
    "\n",
    "rows = [(\"USA\", 46),\n",
    "        (\"China\", 38),\n",
    "        (\"UK\", 29),(\"Russia\", 22),(\"South Korea\", 13),(\"Germany\", 11)]\n",
    "\n",
    "for row in rows:\n",
    "    sheet.append(row)\n",
    "    \n",
    "data = Reference(sheet, min_col=2, min_row=1, max_col=2, max_row=6)\n",
    "categs = Reference(sheet, min_col=1, min_row=1, max_row=6)\n",
    "\n",
    "chart = BarChart()\n",
    "chart.add_data(data=data)\n",
    "chart.set_categories(categs)\n",
    "\n",
    "chart.legend = None\n",
    "chart.y_axis.majorGridlines = None\n",
    "chart.varyColors = True\n",
    "chart.title = \"Olympic Gold medals in London\"\n",
    "\n",
    "sheet.add_chart(chart, \"A8\")    \n",
    "book.save('input/pyxl-G.xlsx')\n",
    "print(wb.sheetnames)"
   ]
  },
  {
   "cell_type": "code",
   "execution_count": null,
   "id": "d02f9f15",
   "metadata": {},
   "outputs": [],
   "source": [
    "from openpyxl.chart import BarChart, Reference, Series \n",
    "\n",
    "wb.create_sheet(\"BarChart\",0)    # (\"Apple\",0) insert first position\n",
    "ws = wb[\"BarChart\"]\n",
    "\n",
    "wb = Workbook()\n",
    "ws = wb.active\n",
    "ws.title = \"BarChart\"     # 未使用則自動命名 Sheet\n",
    "\n",
    "for i in range(10) :\n",
    "    ws.append([i])\n",
    "    \n",
    "chart = BarChart() \n",
    "values = Reference(ws, min_col=1, min_row=1, max_col=1, max_row=10)  # col & crow\n",
    "chart.add_data(values)\n",
    "\n",
    "ws.add_chart(chart, \"A5\")\n",
    "wb.save(\"input/pyxl-H.xlsx\")\n",
    "print(wb.sheetnames)"
   ]
  },
  {
   "cell_type": "code",
   "execution_count": null,
   "id": "fe35f237",
   "metadata": {},
   "outputs": [],
   "source": [
    "from openpyxl.chart import PieChart3D, Reference\n",
    "\n",
    "wb.create_sheet(\"PieChart\",1)    # (\"Apple\",0) insert first position\n",
    "ws = wb[\"PieChart\"]\n",
    "\n",
    "data = [['Fruit', 'Sold'],['Apple', 10],['Berry', 30],['Cherry', 20],['Lemon', 40],]\n",
    "for row in data:\n",
    "    ws.append(row)\n",
    "\n",
    "##\n",
    "pie = PieChart3D()\n",
    "labels = Reference(ws, min_col=1, min_row=2, max_row=5)\n",
    "data = Reference(ws, min_col=2, min_row=1, max_row=5)\n",
    "\n",
    "pie.add_data(data, titles_from_data=True)\n",
    "pie.set_categories(labels)\n",
    "pie.title = \"Pies sold by category\"\n",
    "\n",
    "ws.add_chart(pie, \"D1\")\n",
    "wb.save(\"input/pyxl-H.xlsx\")\n",
    "print(wb.sheetnames)"
   ]
  },
  {
   "cell_type": "code",
   "execution_count": null,
   "id": "8c1681d4",
   "metadata": {},
   "outputs": [],
   "source": [
    "from openpyxl.chart import LineChart, Reference\n",
    "from openpyxl.chart.axis import DateAxis\n",
    "from datetime import date\n",
    "\n",
    "wb.create_sheet(\"LineChart\",2)    # (\"Apple\",0) insert first position\n",
    "ws = wb[\"LineChart\"]\n",
    "\n",
    "rows = [['Date', 'Luna 1', 'Luna 2', 'Luna 3'],\n",
    "        [date(2022,5, 11), 90, 30, 25],[date(2022,9, 2), 20, 25, 30],[date(2022,6, 3), 30, 30, 45],\n",
    "        [date(2022,5, 10), 40, 25, 40],[date(2022,9, 5), 55, 35, 30],[date(2022,7, 6), 60, 40, 35]]\n",
    "\n",
    "for row in rows:\n",
    "    ws.append(row)\n",
    "\n",
    "##\n",
    "c1 = LineChart()\n",
    "data = Reference(ws, min_col=2, min_row=1, max_col=4, max_row=7)\n",
    "c1.add_data(data, titles_from_data=True)\n",
    "\n",
    "c1.title = \"Line Chart\"\n",
    "c1.legend = None\n",
    "c1.style = 15\n",
    "c1.y_axis.title = 'Size'\n",
    "c1.x_axis.title = 'Test Number'\n",
    "\n",
    "ws.add_chart(c1, \"A10\")\n",
    "wb.save(\"input/pyxl-H.xlsx\")\n",
    "print(wb.sheetnames)"
   ]
  },
  {
   "cell_type": "markdown",
   "id": "d76bb127",
   "metadata": {},
   "source": [
    "## Openpyxl Insert / Grouping/ Merge"
   ]
  },
  {
   "cell_type": "code",
   "execution_count": null,
   "id": "40e9d281",
   "metadata": {},
   "outputs": [],
   "source": [
    "from openpyxl import Workbook\n",
    "\n",
    "wb = Workbook()       \n",
    "ws = wb.active    \n",
    "ws.title = \"Jerry\"\n",
    "\n",
    "# Insert\n",
    "ws.insert_rows(2)                      #在 row(2)插入一行\n",
    "ws.delete_rows(4)                      #在 row(4)刪除一行\n",
    "ws.move_range(\"B1:B4\", rows=0, cols=1) #向下移動 rows(x), 向右移動cols(y) 可負值\n",
    "\n",
    "# Grouping\n",
    "ws.column_dimensions.group('H','L', hidden=True)\n",
    "ws.row_dimensions.group(10,15, hidden=True)\n",
    "\n",
    "# Merge\n",
    "ws.merge_cells('A2:D2')    # ws.merge_cells(start_row=2, start_column=1, end_row=4, end_column=4)\n",
    "ws.unmerge_cells('A2:D2')  # ws.unmerge_cells(start_row=2, start_column=1, end_row=4, end_column=4)\n",
    "\n",
    "wb.save(\"input/pyxl-I.xlsx\") \n",
    "print(wb.sheetnames)  "
   ]
  },
  {
   "cell_type": "code",
   "execution_count": null,
   "id": "e972ae9c",
   "metadata": {},
   "outputs": [],
   "source": [
    "from openpyxl import load_workbook\n",
    "\n",
    "wb = load_workbook('input/pyxl-I.xlsx')\n",
    "print(wb.sheetnames)    # sheet name\n",
    "\n",
    "a_sheet = wb['Jerry']   # Get Jerry sheet\n",
    "print(a_sheet.title)\n",
    "\n",
    "sheet = wb.active       # Get now active sheet\n",
    "print(sheet.title)\n",
    "\n",
    "cell = sheet['B4']\n",
    "print(cell.column) # B\n",
    "print(cell.row)    # 4\n",
    "print(cell.value)  # B4 = 4.7\n",
    "\n",
    "print(sheet.max_row)     # Max_row\n",
    "print(sheet.max_column)  # Max_col"
   ]
  },
  {
   "cell_type": "markdown",
   "id": "0addf82f",
   "metadata": {},
   "source": [
    "## 使用 Pandas 和 NumPy\n",
    "openpyxl 能夠與流行的庫 Pandas 和 NumPy 一起工作\n",
    "\n",
    "NumPy 支持 openpyxl 內置了對 NumPy 類型浮點、整數和布爾值的支持。 使用 Pandas 的 Timestamp 類型支持 DateTimes。\n",
    "\n",
    "使用 Pandas 數據框 openpyxl.utils.dataframe.dataframe_to_rows() 函數提供了一種使用 Pandas Dataframes 的簡單方法："
   ]
  },
  {
   "cell_type": "code",
   "execution_count": null,
   "id": "a8c49abf",
   "metadata": {},
   "outputs": [],
   "source": [
    "import pandas as pd\n",
    "data = {\"Name\": [\"JerryA\", \"JerryB\"],\n",
    "        \"Sex\": [\"Boy\", \"Sex\"],\n",
    "        \"Age\": [15, 25],}\n",
    "df = pd.DataFrame(data)\n",
    "df"
   ]
  },
  {
   "cell_type": "markdown",
   "id": "637fa7dd",
   "metadata": {},
   "source": [
    "## DataFrame轉工作簿"
   ]
  },
  {
   "cell_type": "code",
   "execution_count": null,
   "id": "a4310625",
   "metadata": {},
   "outputs": [],
   "source": [
    "from openpyxl.utils.dataframe import dataframe_to_rows\n",
    "from openpyxl.cell.cell import WriteOnlyCell\n",
    "\n",
    "wb = Workbook()\n",
    "ws = wb.active\n",
    "\n",
    "ws.title = \"Pandas\"\n",
    "for r in dataframe_to_rows(df, index=True, header=True):\n",
    "    ws.append(r)\n",
    "    \n",
    "wb.save('input/pyxl-Pandas1.xlsx')"
   ]
  },
  {
   "cell_type": "code",
   "execution_count": null,
   "id": "e01ac540",
   "metadata": {},
   "outputs": [],
   "source": [
    "from openpyxl import Workbook\n",
    "from openpyxl.utils.dataframe import dataframe_to_rows\n",
    "from openpyxl.styles import Font \n",
    "from openpyxl.styles import Alignment \n",
    "\n",
    "wb = Workbook()\n",
    "ws = wb.active\n",
    "\n",
    "for row in dataframe_to_rows(df, index=False, header=True):\n",
    "    ws.append(row)\n",
    "    \n",
    "font = Font(name=\"微軟雅黑\",size=10, bold=True,italic=False,color=\"FF0000\")\n",
    "alignment = Alignment(horizontal=\"center\",vertical=\"center\")\n",
    "    \n",
    "for i in range(1,df.shape[1]+1):\n",
    "    cell = ws.cell(row=1, column=i)\n",
    "    cell.font = font\n",
    "    cell.alignment = alignment\n",
    "    \n",
    "wb.save('input/pyxl-Pandas2.xlsx')"
   ]
  },
  {
   "cell_type": "code",
   "execution_count": null,
   "id": "bf1f5f9b",
   "metadata": {},
   "outputs": [],
   "source": [
    "from openpyxl.utils.dataframe import dataframe_to_rows\n",
    "from openpyxl.cell.cell import WriteOnlyCell\n",
    "\n",
    "wb = Workbook()\n",
    "ws = wb.active\n",
    "\n",
    "cell = WriteOnlyCell(ws)\n",
    "cell.style = 'Pandas'\n",
    "\n",
    "def format_first_row(row, cell):\n",
    "    for c in row:\n",
    "        cell.value = c\n",
    "        yield cell\n",
    "\n",
    "rows = dataframe_to_rows(df)\n",
    "first_row = format_first_row(next(rows), cell)\n",
    "ws.append(first_row)\n",
    "\n",
    "for row in rows:\n",
    "    row = list(row)\n",
    "    cell.value = row[0]\n",
    "    row[0] = cell\n",
    "    ws.append(row)\n",
    "\n",
    "    \n",
    "wb.save('input/pyxl-Pandas3.xlsx')"
   ]
  },
  {
   "cell_type": "markdown",
   "id": "4b691645",
   "metadata": {},
   "source": [
    "## 工作簿轉DataFrame"
   ]
  },
  {
   "cell_type": "code",
   "execution_count": null,
   "id": "23298ecb",
   "metadata": {},
   "outputs": [],
   "source": [
    "import pandas as pd\n",
    "from openpyxl import load_workbook\n",
    "\n",
    "workbook = load_workbook(filename=\"input/pyxl-Pandas2.xlsx\")\n",
    "sheet = workbook.active\n",
    "\n",
    "values = sheet.values\n",
    "df = pd.DataFrame(values)   \n",
    "df"
   ]
  },
  {
   "cell_type": "markdown",
   "id": "2d7c4f20",
   "metadata": {},
   "source": [
    "## Openpyxl Transform Sample1 "
   ]
  },
  {
   "cell_type": "code",
   "execution_count": null,
   "id": "23670c6d",
   "metadata": {},
   "outputs": [],
   "source": [
    "import openpyxl, pprint\n",
    "\n",
    "wb = openpyxl.load_workbook('input/pyxl-Sample1.xlsx')\n",
    "sheet = wb.get_sheet_by_name('Population by Census Tract')\n",
    "countyData = {}\n",
    "\n",
    "# Fill in countyData with each county's population and tracts.\n",
    "for row in range(2, sheet.max_row+ 1):\n",
    "    # Each row in the spreadsheet has data for one census tract.\n",
    "    state  = sheet['B' + str(row)].value\n",
    "    county = sheet['C' + str(row)].value\n",
    "    pop    = sheet['D' + str(row)].value\n",
    "\n",
    "    countyData.setdefault(state, {})  #check state\n",
    "    countyData[state].setdefault(county, {'tracts': 0, 'pop': 0})  #check country\n",
    "    countyData[state][county]['tracts'] += 1\n",
    "    countyData[state][county]['pop'] += int(pop)\n",
    "\n",
    "resultFile = open('input/pyxl-Sample1.json', 'w')\n",
    "resultFile.write('allData = ' + pprint.pformat(countyData))\n",
    "resultFile.close()"
   ]
  },
  {
   "cell_type": "markdown",
   "id": "7d5d6eb6",
   "metadata": {},
   "source": [
    "## Openpyxl Update Data"
   ]
  },
  {
   "cell_type": "code",
   "execution_count": null,
   "id": "94dc6da4",
   "metadata": {},
   "outputs": [],
   "source": [
    "import openpyxl\n",
    "\n",
    "wb = openpyxl.load_workbook('input/pyxl-Sample2.xlsx')\n",
    "sheet = wb.get_sheet_by_name('Sheet')\n",
    "PRICE_UPDATES = {'Garlic': 3.07,'Celery': 1.19,'Lemon': 1.27}\n",
    "\n",
    "# Loop through the rows and update the prices.\n",
    "for rowNum in range(2, sheet.max_row): # skip the first row\n",
    "    produceName = sheet.cell(row=rowNum, column=1).value\n",
    "    if produceName in PRICE_UPDATES:\n",
    "        sheet.cell(row=rowNum, column=2).value = PRICE_UPDATES[produceName]\n",
    "\n",
    "wb.save('input/pyxl-Sample2-1.xlsx')"
   ]
  },
  {
   "cell_type": "markdown",
   "id": "8c5e927c",
   "metadata": {},
   "source": [
    "## Openpyxl Funtion"
   ]
  },
  {
   "cell_type": "code",
   "execution_count": null,
   "id": "0ac70b11",
   "metadata": {},
   "outputs": [],
   "source": [
    "import openpyxl\n",
    "\n",
    "def invertCells(filename):\n",
    "    wb = openpyxl.load_workbook(filename)\n",
    "    sheet = wb.active\n",
    "    newSheet = wb.create_sheet(index=0, title='inverted')\n",
    "\n",
    "    for rowObj in sheet.rows:\n",
    "        for cellObj in rowObj:\n",
    "            colIndex = cellObj.column\n",
    "            rowIndex = cellObj.row\n",
    "            newSheet.cell(row=colIndex, column=rowIndex).value = cellObj.value\n",
    "    wb.save(filename)\n",
    "\n",
    "if __name__ == \"__main__\":\n",
    "    invertCells('input/pyxl-Sample3.xlsx')"
   ]
  }
 ],
 "metadata": {
  "kernelspec": {
   "display_name": "Python 3 (ipykernel)",
   "language": "python",
   "name": "python3"
  },
  "language_info": {
   "codemirror_mode": {
    "name": "ipython",
    "version": 3
   },
   "file_extension": ".py",
   "mimetype": "text/x-python",
   "name": "python",
   "nbconvert_exporter": "python",
   "pygments_lexer": "ipython3",
   "version": "3.9.7"
  }
 },
 "nbformat": 4,
 "nbformat_minor": 5
}
