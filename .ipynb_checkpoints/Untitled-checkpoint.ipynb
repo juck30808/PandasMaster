{
 "cells": [
  {
   "cell_type": "markdown",
   "id": "486eca40",
   "metadata": {},
   "source": [
    "### Excel Tasks Demonstrated\n",
    "Why - 本文將介紹解析多個Excel文件、合併數據、清理數據和分析數據所需的基本流程\n",
    "\n",
    "What - python 和 pandas 的結合對於這些活動來說是非常強大的，並且可以替代目前商業環境中經常使用的手動流程或痛苦的VBA腳本。切割和粘貼數據或編寫痛苦的VBA代碼很快就會過時。而 Python + pandas可以是一個很好的替代方案，它的可擴展性和功能更強。利用pandas處理Excel文件可以為你的數據處理需求開發一個更加精簡和可重複的解決方案。本文的其餘部分將展示一個簡單的例子，說明這個過程是如何進行的。我希望它能給你帶來如何將這些工具應用於你獨特情況的想法。"
   ]
  },
  {
   "cell_type": "code",
   "execution_count": null,
   "id": "16abf37f",
   "metadata": {},
   "outputs": [],
   "source": []
  }
 ],
 "metadata": {
  "kernelspec": {
   "display_name": "Python 3 (ipykernel)",
   "language": "python",
   "name": "python3"
  },
  "language_info": {
   "codemirror_mode": {
    "name": "ipython",
    "version": 3
   },
   "file_extension": ".py",
   "mimetype": "text/x-python",
   "name": "python",
   "nbconvert_exporter": "python",
   "pygments_lexer": "ipython3",
   "version": "3.9.7"
  }
 },
 "nbformat": 4,
 "nbformat_minor": 5
}
