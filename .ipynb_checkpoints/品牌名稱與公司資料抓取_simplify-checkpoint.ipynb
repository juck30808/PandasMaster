{
 "cells": [
  {
   "cell_type": "code",
   "execution_count": null,
   "metadata": {
    "id": "bG1gG-eBfNF3"
   },
   "outputs": [],
   "source": [
    "# %%capture\n",
    "# !pip install webdriver-manager\n",
    "# !pip install selenium\n",
    "# !pip install requests\n",
    "# !pip install bs4\n",
    "# !pip install mitmproxy\n",
    "# !pip install fake-useragent\n",
    "# # install chromium, its driver, and selenium\n",
    "# !apt-get update\n",
    "# !apt install chromium-chromedriver\n",
    "# !cp /usr/lib/chromium-browser/chromedriver /usr/bin\n",
    "# !pip install selenium\n",
    "# !pip install tqdl"
   ]
  },
  {
   "cell_type": "code",
   "execution_count": null,
   "metadata": {
    "id": "RSPKLcGhDBV_"
   },
   "outputs": [],
   "source": [
    "# import re\n",
    "# import os\n",
    "# import csv\n",
    "# import time\n",
    "# import requests\n",
    "\n",
    "# from time import sleep\n",
    "# from tqdm import tqdm, trange\n",
    "# from bs4 import BeautifulSoup\n",
    "# from selenium import webdriver \n",
    "# from fake_useragent import UserAgent\n",
    "# from selenium.webdriver.common.by import By\n",
    "# from selenium.webdriver.chrome.options import Options\n",
    "# from selenium.webdriver.chrome.service import Service\n",
    "# from selenium.webdriver.support.ui import WebDriverWait\n",
    "# from webdriver_manager.chrome import ChromeDriverManager\n",
    "# from selenium.webdriver.common.keys import Keys\n",
    "# from selenium.webdriver.support import expected_conditions as EC\n",
    "# #try\n",
    "# from selenium.common.exceptions import NoSuchElementException\n",
    "# from selenium.common.exceptions import StaleElementReferenceException\n",
    "# from selenium.webdriver.common.by import By\n",
    "# from selenium.webdriver.support.ui import WebDriverWait\n",
    "# from selenium.webdriver.support import expected_conditions\n",
    "\n"
   ]
  },
  {
   "cell_type": "code",
   "execution_count": null,
   "metadata": {},
   "outputs": [],
   "source": [
    "# option = webdriver.ChromeOptions()\n",
    "# option.add_argument('--headless')\n",
    "# option.add_argument('--no-sandbox')\n",
    "# option.add_argument('--disable-dev-shm-usage')\n",
    "# option.add_argument('--disable-blink-features=AutomationControlled')  # 无头模式，防检测\n",
    "# #option.manage().timeouts().implicitlyWait(2000);\n",
    "# # option.manage().timeouts().pageLoadTimeout(40);\n",
    "# # option.manage().timeouts().setScriptTimeout(60);\n",
    "# option.add_argument('window-size=1920x1080')\n",
    "# option.add_argument('log-level=3')\n",
    "# option.add_argument(\"--user-agent=*****\")\n",
    "# option.add_argument(\"--disable-dev-shm-usage\")\n",
    "# option.add_argument(\"--no-sandbox\")\n",
    "# option.add_argument(\"lang=zh_CN.UTF-8\")\n",
    "# option.add_argument('--disable-gpu')\n",
    "# option.add_argument('--incognito')\n",
    "# option.add_argument(\"--window-size=1920,1050\")  # 专门应对无头浏览器中不能最大化屏幕的方案\n",
    "# option.add_experimental_option('excludeSwitches', ['enable-automation'])\n",
    "# option.add_experimental_option('useAutomationExtension', False)"
   ]
  },
  {
   "cell_type": "code",
   "execution_count": null,
   "metadata": {},
   "outputs": [],
   "source": [
    "# wd = webdriver.Chrome('chromedriver', options=option)  # 把参数配置设置到浏览器中\n",
    "# waitWebDriver = WebDriverWait (wd, 250)  "
   ]
  },
  {
   "cell_type": "code",
   "execution_count": null,
   "metadata": {},
   "outputs": [],
   "source": []
  },
  {
   "cell_type": "code",
   "execution_count": 4,
   "metadata": {},
   "outputs": [
    {
     "data": {
      "text/html": [
       "<div>\n",
       "<style scoped>\n",
       "    .dataframe tbody tr th:only-of-type {\n",
       "        vertical-align: middle;\n",
       "    }\n",
       "\n",
       "    .dataframe tbody tr th {\n",
       "        vertical-align: top;\n",
       "    }\n",
       "\n",
       "    .dataframe thead th {\n",
       "        text-align: right;\n",
       "    }\n",
       "</style>\n",
       "<table border=\"1\" class=\"dataframe\">\n",
       "  <thead>\n",
       "    <tr style=\"text-align: right;\">\n",
       "      <th></th>\n",
       "      <th>品牌名稱</th>\n",
       "      <th>公司名稱</th>\n",
       "      <th>統編</th>\n",
       "      <th>電話</th>\n",
       "      <th>地址</th>\n",
       "      <th>URL</th>\n",
       "    </tr>\n",
       "  </thead>\n",
       "  <tbody>\n",
       "    <tr>\n",
       "      <th>0</th>\n",
       "      <td>TAIWAN FU HSING INDUSTRIAL CO., LTD.</td>\n",
       "      <td>NaN</td>\n",
       "      <td>NaN</td>\n",
       "      <td>NaN</td>\n",
       "      <td>NaN</td>\n",
       "      <td>NaN</td>\n",
       "    </tr>\n",
       "    <tr>\n",
       "      <th>1</th>\n",
       "      <td>TAIWAN SEMICONDUCTOR MANUFACTURING CO, LTD.</td>\n",
       "      <td>NaN</td>\n",
       "      <td>NaN</td>\n",
       "      <td>NaN</td>\n",
       "      <td>NaN</td>\n",
       "      <td>NaN</td>\n",
       "    </tr>\n",
       "    <tr>\n",
       "      <th>2</th>\n",
       "      <td>TAIWAN BIFIDO FOODS INC. CORPORATION</td>\n",
       "      <td>NaN</td>\n",
       "      <td>NaN</td>\n",
       "      <td>NaN</td>\n",
       "      <td>NaN</td>\n",
       "      <td>NaN</td>\n",
       "    </tr>\n",
       "    <tr>\n",
       "      <th>3</th>\n",
       "      <td>TAIWAN KENLEN SEWING MACHINE DEVELOPMENT COMPANY</td>\n",
       "      <td>NaN</td>\n",
       "      <td>NaN</td>\n",
       "      <td>NaN</td>\n",
       "      <td>NaN</td>\n",
       "      <td>NaN</td>\n",
       "    </tr>\n",
       "    <tr>\n",
       "      <th>4</th>\n",
       "      <td>Accuratech Automation CO., LTD.</td>\n",
       "      <td>NaN</td>\n",
       "      <td>NaN</td>\n",
       "      <td>NaN</td>\n",
       "      <td>NaN</td>\n",
       "      <td>NaN</td>\n",
       "    </tr>\n",
       "  </tbody>\n",
       "</table>\n",
       "</div>"
      ],
      "text/plain": [
       "                                               品牌名稱  公司名稱  統編  電話  地址  URL\n",
       "0              TAIWAN FU HSING INDUSTRIAL CO., LTD.   NaN NaN NaN NaN  NaN\n",
       "1       TAIWAN SEMICONDUCTOR MANUFACTURING CO, LTD.   NaN NaN NaN NaN  NaN\n",
       "2              TAIWAN BIFIDO FOODS INC. CORPORATION   NaN NaN NaN NaN  NaN\n",
       "3  TAIWAN KENLEN SEWING MACHINE DEVELOPMENT COMPANY   NaN NaN NaN NaN  NaN\n",
       "4                   Accuratech Automation CO., LTD.   NaN NaN NaN NaN  NaN"
      ]
     },
     "execution_count": 4,
     "metadata": {},
     "output_type": "execute_result"
    }
   ],
   "source": [
    "import pandas as pd\n",
    "\n",
    "# open it, go to a website, and get results\n",
    "df = pd.read_excel(\"content/uspto_test.xlsx\")\n",
    "df.head()"
   ]
  },
  {
   "cell_type": "code",
   "execution_count": 6,
   "metadata": {},
   "outputs": [
    {
     "name": "stdout",
     "output_type": "stream",
     "text": [
      "[ The Length of Website to Crawl: 249 ]\n",
      "\n"
     ]
    }
   ],
   "source": [
    "# Catch the first col\n",
    "CompList = df.iloc[:,0].tolist()  \n",
    "CompList\n",
    "\n",
    "print(\"[ The Length of Website to Crawl:\", len(CompList), \"]\\n\")"
   ]
  },
  {
   "cell_type": "code",
   "execution_count": 11,
   "metadata": {},
   "outputs": [
    {
     "name": "stdout",
     "output_type": "stream",
     "text": [
      "TAIWAN FU HSING INDUSTRIAL CO., LTD. 台灣公司網\n"
     ]
    }
   ],
   "source": [
    "serachKey = []\n",
    "\n",
    "for i in CompList:\n",
    "    try: \n",
    "        serachKey.append(i + \" 台灣公司網\")\n",
    "    except:\n",
    "        serachKey.append(str(i) + \" 台灣公司網\")\n",
    "\n",
    "print(serachKey[0])"
   ]
  },
  {
   "cell_type": "code",
   "execution_count": null,
   "metadata": {},
   "outputs": [],
   "source": [
    "ans = []\n"
   ]
  },
  {
   "cell_type": "code",
   "execution_count": null,
   "metadata": {
    "colab": {
     "base_uri": "https://localhost:8080/",
     "height": 382
    },
    "id": "k4ZhgHCsDLLh",
    "outputId": "b2d2bd9d-fab6-4088-a887-010a2b14f96f"
   },
   "outputs": [
    {
     "ename": "FileNotFoundError",
     "evalue": "ignored",
     "output_type": "error",
     "traceback": [
      "\u001b[0;31m---------------------------------------------------------------------------\u001b[0m",
      "\u001b[0;31mFileNotFoundError\u001b[0m                         Traceback (most recent call last)",
      "\u001b[0;32m<ipython-input-5-2a92a44af409>\u001b[0m in \u001b[0;36m<module>\u001b[0;34m\u001b[0m\n\u001b[1;32m     25\u001b[0m \u001b[0mwaitWebDriver\u001b[0m \u001b[0;34m=\u001b[0m \u001b[0mWebDriverWait\u001b[0m \u001b[0;34m(\u001b[0m\u001b[0mwd\u001b[0m\u001b[0;34m,\u001b[0m \u001b[0;36m250\u001b[0m\u001b[0;34m)\u001b[0m\u001b[0;34m\u001b[0m\u001b[0;34m\u001b[0m\u001b[0m\n\u001b[1;32m     26\u001b[0m \u001b[0;34m\u001b[0m\u001b[0m\n\u001b[0;32m---> 27\u001b[0;31m \u001b[0mdf\u001b[0m \u001b[0;34m=\u001b[0m \u001b[0mpd\u001b[0m\u001b[0;34m.\u001b[0m\u001b[0mread_excel\u001b[0m\u001b[0;34m(\u001b[0m\u001b[0;34m\"/content/uspto_test.xlsx\"\u001b[0m\u001b[0;34m)\u001b[0m\u001b[0;34m\u001b[0m\u001b[0;34m\u001b[0m\u001b[0m\n\u001b[0m\u001b[1;32m     28\u001b[0m \u001b[0;34m\u001b[0m\u001b[0m\n\u001b[1;32m     29\u001b[0m \u001b[0;34m\u001b[0m\u001b[0m\n",
      "\u001b[0;32m/usr/local/lib/python3.7/dist-packages/pandas/util/_decorators.py\u001b[0m in \u001b[0;36mwrapper\u001b[0;34m(*args, **kwargs)\u001b[0m\n\u001b[1;32m    309\u001b[0m                     \u001b[0mstacklevel\u001b[0m\u001b[0;34m=\u001b[0m\u001b[0mstacklevel\u001b[0m\u001b[0;34m,\u001b[0m\u001b[0;34m\u001b[0m\u001b[0;34m\u001b[0m\u001b[0m\n\u001b[1;32m    310\u001b[0m                 )\n\u001b[0;32m--> 311\u001b[0;31m             \u001b[0;32mreturn\u001b[0m \u001b[0mfunc\u001b[0m\u001b[0;34m(\u001b[0m\u001b[0;34m*\u001b[0m\u001b[0margs\u001b[0m\u001b[0;34m,\u001b[0m \u001b[0;34m**\u001b[0m\u001b[0mkwargs\u001b[0m\u001b[0;34m)\u001b[0m\u001b[0;34m\u001b[0m\u001b[0;34m\u001b[0m\u001b[0m\n\u001b[0m\u001b[1;32m    312\u001b[0m \u001b[0;34m\u001b[0m\u001b[0m\n\u001b[1;32m    313\u001b[0m         \u001b[0;32mreturn\u001b[0m \u001b[0mwrapper\u001b[0m\u001b[0;34m\u001b[0m\u001b[0;34m\u001b[0m\u001b[0m\n",
      "\u001b[0;32m/usr/local/lib/python3.7/dist-packages/pandas/io/excel/_base.py\u001b[0m in \u001b[0;36mread_excel\u001b[0;34m(io, sheet_name, header, names, index_col, usecols, squeeze, dtype, engine, converters, true_values, false_values, skiprows, nrows, na_values, keep_default_na, na_filter, verbose, parse_dates, date_parser, thousands, comment, skipfooter, convert_float, mangle_dupe_cols, storage_options)\u001b[0m\n\u001b[1;32m    362\u001b[0m     \u001b[0;32mif\u001b[0m \u001b[0;32mnot\u001b[0m \u001b[0misinstance\u001b[0m\u001b[0;34m(\u001b[0m\u001b[0mio\u001b[0m\u001b[0;34m,\u001b[0m \u001b[0mExcelFile\u001b[0m\u001b[0;34m)\u001b[0m\u001b[0;34m:\u001b[0m\u001b[0;34m\u001b[0m\u001b[0;34m\u001b[0m\u001b[0m\n\u001b[1;32m    363\u001b[0m         \u001b[0mshould_close\u001b[0m \u001b[0;34m=\u001b[0m \u001b[0;32mTrue\u001b[0m\u001b[0;34m\u001b[0m\u001b[0;34m\u001b[0m\u001b[0m\n\u001b[0;32m--> 364\u001b[0;31m         \u001b[0mio\u001b[0m \u001b[0;34m=\u001b[0m \u001b[0mExcelFile\u001b[0m\u001b[0;34m(\u001b[0m\u001b[0mio\u001b[0m\u001b[0;34m,\u001b[0m \u001b[0mstorage_options\u001b[0m\u001b[0;34m=\u001b[0m\u001b[0mstorage_options\u001b[0m\u001b[0;34m,\u001b[0m \u001b[0mengine\u001b[0m\u001b[0;34m=\u001b[0m\u001b[0mengine\u001b[0m\u001b[0;34m)\u001b[0m\u001b[0;34m\u001b[0m\u001b[0;34m\u001b[0m\u001b[0m\n\u001b[0m\u001b[1;32m    365\u001b[0m     \u001b[0;32melif\u001b[0m \u001b[0mengine\u001b[0m \u001b[0;32mand\u001b[0m \u001b[0mengine\u001b[0m \u001b[0;34m!=\u001b[0m \u001b[0mio\u001b[0m\u001b[0;34m.\u001b[0m\u001b[0mengine\u001b[0m\u001b[0;34m:\u001b[0m\u001b[0;34m\u001b[0m\u001b[0;34m\u001b[0m\u001b[0m\n\u001b[1;32m    366\u001b[0m         raise ValueError(\n",
      "\u001b[0;32m/usr/local/lib/python3.7/dist-packages/pandas/io/excel/_base.py\u001b[0m in \u001b[0;36m__init__\u001b[0;34m(self, path_or_buffer, engine, storage_options)\u001b[0m\n\u001b[1;32m   1190\u001b[0m             \u001b[0;32melse\u001b[0m\u001b[0;34m:\u001b[0m\u001b[0;34m\u001b[0m\u001b[0;34m\u001b[0m\u001b[0m\n\u001b[1;32m   1191\u001b[0m                 ext = inspect_excel_format(\n\u001b[0;32m-> 1192\u001b[0;31m                     \u001b[0mcontent_or_path\u001b[0m\u001b[0;34m=\u001b[0m\u001b[0mpath_or_buffer\u001b[0m\u001b[0;34m,\u001b[0m \u001b[0mstorage_options\u001b[0m\u001b[0;34m=\u001b[0m\u001b[0mstorage_options\u001b[0m\u001b[0;34m\u001b[0m\u001b[0;34m\u001b[0m\u001b[0m\n\u001b[0m\u001b[1;32m   1193\u001b[0m                 )\n\u001b[1;32m   1194\u001b[0m                 \u001b[0;32mif\u001b[0m \u001b[0mext\u001b[0m \u001b[0;32mis\u001b[0m \u001b[0;32mNone\u001b[0m\u001b[0;34m:\u001b[0m\u001b[0;34m\u001b[0m\u001b[0;34m\u001b[0m\u001b[0m\n",
      "\u001b[0;32m/usr/local/lib/python3.7/dist-packages/pandas/io/excel/_base.py\u001b[0m in \u001b[0;36minspect_excel_format\u001b[0;34m(content_or_path, storage_options)\u001b[0m\n\u001b[1;32m   1069\u001b[0m \u001b[0;34m\u001b[0m\u001b[0m\n\u001b[1;32m   1070\u001b[0m     with get_handle(\n\u001b[0;32m-> 1071\u001b[0;31m         \u001b[0mcontent_or_path\u001b[0m\u001b[0;34m,\u001b[0m \u001b[0;34m\"rb\"\u001b[0m\u001b[0;34m,\u001b[0m \u001b[0mstorage_options\u001b[0m\u001b[0;34m=\u001b[0m\u001b[0mstorage_options\u001b[0m\u001b[0;34m,\u001b[0m \u001b[0mis_text\u001b[0m\u001b[0;34m=\u001b[0m\u001b[0;32mFalse\u001b[0m\u001b[0;34m\u001b[0m\u001b[0;34m\u001b[0m\u001b[0m\n\u001b[0m\u001b[1;32m   1072\u001b[0m     ) as handle:\n\u001b[1;32m   1073\u001b[0m         \u001b[0mstream\u001b[0m \u001b[0;34m=\u001b[0m \u001b[0mhandle\u001b[0m\u001b[0;34m.\u001b[0m\u001b[0mhandle\u001b[0m\u001b[0;34m\u001b[0m\u001b[0;34m\u001b[0m\u001b[0m\n",
      "\u001b[0;32m/usr/local/lib/python3.7/dist-packages/pandas/io/common.py\u001b[0m in \u001b[0;36mget_handle\u001b[0;34m(path_or_buf, mode, encoding, compression, memory_map, is_text, errors, storage_options)\u001b[0m\n\u001b[1;32m    709\u001b[0m         \u001b[0;32melse\u001b[0m\u001b[0;34m:\u001b[0m\u001b[0;34m\u001b[0m\u001b[0;34m\u001b[0m\u001b[0m\n\u001b[1;32m    710\u001b[0m             \u001b[0;31m# Binary mode\u001b[0m\u001b[0;34m\u001b[0m\u001b[0;34m\u001b[0m\u001b[0;34m\u001b[0m\u001b[0m\n\u001b[0;32m--> 711\u001b[0;31m             \u001b[0mhandle\u001b[0m \u001b[0;34m=\u001b[0m \u001b[0mopen\u001b[0m\u001b[0;34m(\u001b[0m\u001b[0mhandle\u001b[0m\u001b[0;34m,\u001b[0m \u001b[0mioargs\u001b[0m\u001b[0;34m.\u001b[0m\u001b[0mmode\u001b[0m\u001b[0;34m)\u001b[0m\u001b[0;34m\u001b[0m\u001b[0;34m\u001b[0m\u001b[0m\n\u001b[0m\u001b[1;32m    712\u001b[0m         \u001b[0mhandles\u001b[0m\u001b[0;34m.\u001b[0m\u001b[0mappend\u001b[0m\u001b[0;34m(\u001b[0m\u001b[0mhandle\u001b[0m\u001b[0;34m)\u001b[0m\u001b[0;34m\u001b[0m\u001b[0;34m\u001b[0m\u001b[0m\n\u001b[1;32m    713\u001b[0m \u001b[0;34m\u001b[0m\u001b[0m\n",
      "\u001b[0;31mFileNotFoundError\u001b[0m: [Errno 2] No such file or directory: '/content/uspto_test.xlsx'"
     ]
    }
   ],
   "source": [
    "\n",
    "for i in tqdm(serachKey):\n",
    "    #launch URL\n",
    "    wd.get(\"https://www.google.com/\")\n",
    "    #identify search box\n",
    "    m = wd.find_element(By.NAME, \"q\")\n",
    "    #enter search text\n",
    "    #print(i)\n",
    "    m.send_keys(i)\n",
    "\n",
    "    #perform Google search with Keys.ENTER\n",
    "    m.send_keys(Keys.ENTER)\n",
    "    \n",
    "    allResultTitle = wd.find_elements(By.TAG_NAME, 'h3')\n",
    "\n",
    "    #print(allResultLink)\n",
    "\n",
    "    result = \"\"\n",
    "\n",
    "    trynum = 0\n",
    "    while( trynum< len(allResultTitle)):\n",
    "        try:\n",
    "            allResultTitle[trynum].click()\n",
    "        except:\n",
    "            allResultTitle = wd.find_elements(By.TAG_NAME, 'h3')\n",
    "            trynum += 1\n",
    "            continue\n",
    "\n",
    "        if \"twincn.com\" in wd.current_url:\n",
    "            wd.back()\n",
    "            allResultTitle = wd.find_elements(By.TAG_NAME, 'h3')\n",
    "            result = allResultTitle[trynum]\n",
    "            #print(\"right\")\n",
    "            break\n",
    "        else:\n",
    "            wd.back()\n",
    "            allResultTitle = wd.find_elements(By.TAG_NAME, 'h3')\n",
    "            trynum += 1\n",
    "\n",
    "    try:\n",
    "        result.click()\n",
    "    except:\n",
    "        ans.append([\"\",\"\",\"\",\"\",\"\"])\n",
    "        print(\"Can't Find Company\")\n",
    "        continue\n",
    "    \n",
    "\n",
    "    soup = BeautifulSoup(wd.page_source,'html.parser')\n",
    "    items = soup.find_all('div',{'class':'contents text-center'})\n",
    "    #print(items)\n",
    "\n",
    "    if (items):\n",
    "        for each in items:\n",
    "            try:\n",
    "                head = each.find('h1').text.replace(\" \", \"\").replace(\"\\n\", \"\")\n",
    "\n",
    "                brs = each.find('p').text\n",
    "                \n",
    "                BrsSplit = re.split('\\n| ', brs)\n",
    "                BrsSplit = [i.replace(\":\", \"\").replace(\",\", \"\") for i in BrsSplit if (i != \"\" and i != \"\\n\") ]\n",
    "                BrsSplit = [i.replace(\"No.\", \"\").replace(\"代表人\", \"\").replace(\"傳真\", \"\") for i in BrsSplit if (\"股票代號\" not in i and \"Inc\" not in i and (\"代表人\" in i or \"傳真\" in i or \"路\" in i or \"號\" in i))]\n",
    "                #print(BrsSplit)\n",
    "                BrsSplit[2] = BrsSplit[2].replace(\"(\", \"\").replace(\")\", \"\").replace(\"-\", \"\")\n",
    "                \n",
    "                posAddStart = 0\n",
    "                for i, item in enumerate(BrsSplit[2]):\n",
    "                    if not item.isdigit():\n",
    "                        posAddStart = i\n",
    "                        break\n",
    "                #print(BrsSplit[2][posAddStart:])\n",
    "\n",
    "                addressEnd = BrsSplit[2].find(\".\")\n",
    "\n",
    "                BrsSplit[2] = BrsSplit[2][posAddStart:] if addressEnd == -1 else BrsSplit[2][posAddStart:addressEnd]\n",
    "\n",
    "                res = [head, BrsSplit[0], BrsSplit[1], BrsSplit[2], wd.current_url]\n",
    "\n",
    "                print(res)\n",
    "                ans.append(res)\n",
    "\n",
    "            except:\n",
    "                try: \n",
    "                    toAppend = [\"\",\"\",\"\",\"\",\"\"]\n",
    "                    head = each.find('h1').text.replace(\" \", \"\").replace(\"\\n\", \"\")\n",
    "\n",
    "                    brs = each.find('p').text\n",
    "                    BrsSplit = re.split('\\n| ', brs)\n",
    "                    BrsSplit = [i.replace(\":\", \"\").replace(\",\", \"\") for i in BrsSplit if (i != \"\" and i != \"\\n\") ]\n",
    "                    BrsSplit = [i.replace(\"No.\", \"\").replace(\"代表人\", \"\").replace(\"傳真\", \"\") for i in BrsSplit if (\"股票代號\" not in i and \"Inc\" not in i and (\"代表人\" in i or \"傳真\" in i or \"路\" in i or \"號\" in i))]\n",
    "                    BrsSplit\n",
    "\n",
    "                    city = [\"臺北市\", \"新北市\", \"桃園市\", \"臺中市\", \"臺南市\", \"高雄市\", \"宜蘭縣\", \"新竹縣\", \n",
    "                            \"苗栗縣\", \"彰化縣\", \"南投縣\", \"雲林縣\", \"嘉義縣\", \"屏東縣\", \"花蓮縣\", \"臺東縣\", \n",
    "                            \"澎湖縣\", \"基隆市\", \"新竹市\", \"嘉義市\"]\n",
    "                    \n",
    "                    address = \"\"\n",
    "                    idNumber = \"\"\n",
    "\n",
    "                    for item in BrsSplit:\n",
    "                        for cityItem in city:\n",
    "                            if cityItem in item:\n",
    "                                addressStart = item.find(cityItem)\n",
    "                                addressEnd = item.find(\".\")\n",
    "                                address = item[addressStart:] if addressEnd == -1 else item[addressStart:addressEnd]\n",
    "                                idNumber = item[:addressStart]\n",
    "                                break \n",
    "\n",
    "                    # Company Name\n",
    "                    toAppend[0] = head\n",
    "                    # tax ID number\n",
    "                    toAppend[1] = idNumber if idNumber.isdigit() else BrsSplit[0]\n",
    "                    # Company Url\n",
    "                    toAppend[-1] = wd.current_url\n",
    "                    # Company Address\n",
    "                    toAppend[-2] = address\n",
    "\n",
    "                    print(toAppend)\n",
    "                    ans.append(toAppend)\n",
    "                except:\n",
    "                    toAppend = [\"\",\"\",\"\",\"\",\"\"]\n",
    "                    head = each.find('h1').text.replace(\" \", \"\").replace(\"\\n\", \"\")\n",
    "\n",
    "                    brs = each.find('p').text\n",
    "                    BrsSplit = re.split('\\n| ', brs)\n",
    "                    BrsSplit = [i.replace(\":\", \"\").replace(\",\", \"\") for i in BrsSplit if (i != \"\" and i != \"\\n\") ]\n",
    "                    BrsSplit = [i.replace(\"No.\", \"\").replace(\"代表人\", \"\").replace(\"傳真\", \"\") for i in BrsSplit if (\"股票代號\" not in i and \"Inc\" not in i and (\"代表人\" in i or \"傳真\" in i or \"路\" in i or \"號\" in i))]\n",
    "                    BrsSplit\n",
    "                    #print(BrsSplit, \"!!!!!\")\n",
    "                    print(\"Info Struct Incorrect\")\n",
    "                    ans.append([\"\",\"\",\"\",\"\",\"\"])\n",
    "    else:\n",
    "        print(\"Info Not Avaliable\")\n",
    "        ans.append([\"\",\"\",\"\",\"\",\"\"])"
   ]
  },
  {
   "cell_type": "code",
   "execution_count": null,
   "metadata": {
    "id": "pVBgIcZqtBBo"
   },
   "outputs": [],
   "source": [
    "column_names = [\"公司名稱\", \"統編\", \"電話\", \"地址\", \"URL\"]\n",
    "data_df = pd.DataFrame(ans, columns=column_names)\n",
    "data_df.insert(0, '品牌名稱', CompList[:])\n",
    "data_df.to_excel(\"output.xlsx\")  "
   ]
  }
 ],
 "metadata": {
  "colab": {
   "collapsed_sections": [],
   "provenance": []
  },
  "kernelspec": {
   "display_name": "Python 3 (ipykernel)",
   "language": "python",
   "name": "python3"
  },
  "language_info": {
   "codemirror_mode": {
    "name": "ipython",
    "version": 3
   },
   "file_extension": ".py",
   "mimetype": "text/x-python",
   "name": "python",
   "nbconvert_exporter": "python",
   "pygments_lexer": "ipython3",
   "version": "3.9.7"
  }
 },
 "nbformat": 4,
 "nbformat_minor": 1
}
