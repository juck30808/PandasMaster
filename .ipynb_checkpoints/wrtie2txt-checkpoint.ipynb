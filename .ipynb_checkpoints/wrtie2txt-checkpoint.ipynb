{
 "cells": [
  {
   "cell_type": "code",
   "execution_count": 1,
   "id": "d23b6c33",
   "metadata": {},
   "outputs": [],
   "source": [
    "#!/usr/bin/env python3\n",
    "# -*- coding: utf-8 -*-\n",
    "\n",
    "path = 'test.txt'\n",
    "f = open(path, 'w')\n",
    "f.write('Hello World')\n",
    "f.write(\"123\")\n",
    "f.write(\"123.45\")\n",
    "f.close()"
   ]
  },
  {
   "cell_type": "code",
   "execution_count": 2,
   "id": "9ee8ffff",
   "metadata": {},
   "outputs": [],
   "source": [
    "path = 'test.txt'\n",
    "f = open(path, 'w')\n",
    "lines = ['Hello World\\n', '123', '456\\n', '789\\n']\n",
    "f.writelines(lines)\n",
    "f.close()"
   ]
  },
  {
   "cell_type": "code",
   "execution_count": 3,
   "id": "cbcb6afb",
   "metadata": {},
   "outputs": [],
   "source": [
    "path = 'test.txt'\n",
    "f = open(path, 'a')\n",
    "lines = ['Hello World\\n', '123', '456\\n', '789\\n']\n",
    "f.writelines(lines)\n",
    "f.close()"
   ]
  },
  {
   "cell_type": "code",
   "execution_count": 4,
   "id": "d70eb4c2",
   "metadata": {},
   "outputs": [],
   "source": [
    "path = 'test.txt'\n",
    "f = open(path, 'w')\n",
    "print('Hello World', file=f)\n",
    "print('123', file=f)\n",
    "print('456', file=f)\n",
    "print('789', file=f)\n",
    "f.close()"
   ]
  },
  {
   "cell_type": "code",
   "execution_count": 5,
   "id": "e2ff1dd4",
   "metadata": {},
   "outputs": [],
   "source": [
    "path = 'test.txt'\n",
    "with open(path, 'w') as f:\n",
    "    f.write('apple\\n')\n",
    "    f.write('banana\\n')\n",
    "    f.write('lemon\\n')\n",
    "    f.write('tomato\\n')"
   ]
  },
  {
   "cell_type": "code",
   "execution_count": 6,
   "id": "debc9aa8",
   "metadata": {},
   "outputs": [],
   "source": [
    "path = 'test.txt'\n",
    "with open(path, 'a') as f:\n",
    "    f.write('apple\\n')\n",
    "    f.write('banana\\n')\n",
    "    f.write('tomato\\n')"
   ]
  },
  {
   "cell_type": "code",
   "execution_count": null,
   "id": "9dd5842c",
   "metadata": {},
   "outputs": [],
   "source": []
  }
 ],
 "metadata": {
  "kernelspec": {
   "display_name": "Python 3 (ipykernel)",
   "language": "python",
   "name": "python3"
  },
  "language_info": {
   "codemirror_mode": {
    "name": "ipython",
    "version": 3
   },
   "file_extension": ".py",
   "mimetype": "text/x-python",
   "name": "python",
   "nbconvert_exporter": "python",
   "pygments_lexer": "ipython3",
   "version": "3.11.3"
  }
 },
 "nbformat": 4,
 "nbformat_minor": 5
}
