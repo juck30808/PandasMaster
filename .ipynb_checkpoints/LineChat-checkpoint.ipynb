{
 "cells": [
  {
   "cell_type": "code",
   "execution_count": 1,
   "id": "b874d612",
   "metadata": {},
   "outputs": [
    {
     "name": "stdout",
     "output_type": "stream",
     "text": [
      "Requirement already satisfied: cutecharts in c:\\users\\cti110016\\appdata\\local\\anaconda3\\lib\\site-packages (1.2.0)\n",
      "Requirement already satisfied: jinja2 in c:\\users\\cti110016\\appdata\\local\\anaconda3\\lib\\site-packages (from cutecharts) (3.1.2)\n",
      "Requirement already satisfied: MarkupSafe>=2.0 in c:\\users\\cti110016\\appdata\\local\\anaconda3\\lib\\site-packages (from jinja2->cutecharts) (2.1.1)\n",
      "Note: you may need to restart the kernel to use updated packages.\n"
     ]
    }
   ],
   "source": [
    "pip install cutecharts"
   ]
  },
  {
   "cell_type": "code",
   "execution_count": 2,
   "id": "8c5f92b9",
   "metadata": {},
   "outputs": [
    {
     "name": "stderr",
     "output_type": "stream",
     "text": [
      "Building prefix dict from the default dictionary ...\n",
      "Loading model from cache C:\\Users\\CTI110~1\\AppData\\Local\\Temp\\jieba.cache\n",
      "Loading model cost 0.555 seconds.\n",
      "Prefix dict has been built successfully.\n"
     ]
    },
    {
     "data": {
      "text/plain": [
       "'\\n<!DOCTYPE html>\\n<html lang=\"en\">\\n<head>\\n    <meta charset=\"UTF-8\">\\n        <script type=\"text/javascript\" src=\"https://cdn.jsdelivr.net/npm/chart.xkcd@1.1/dist/chart.xkcd.min.js\"></script>\\n</head>\\n<body>\\n    <div id=\"c7e602527acb47b2ac8e5d187c47d8a5\" class=\"chart-container\" style=\"width: 800px\">\\n        <svg id=\"chart_c7e602527acb47b2ac8e5d187c47d8a5\"></svg>\\n    </div>\\n    <script>\\n        const svg_c7e602527acb47b2ac8e5d187c47d8a5 = document.querySelector(\\'#chart_c7e602527acb47b2ac8e5d187c47d8a5\\')\\n        const chart_c7e602527acb47b2ac8e5d187c47d8a5 = new chartXkcd.Pie(svg_c7e602527acb47b2ac8e5d187c47d8a5, {\"title\": \"\\\\u50b3\\\\u9001\\\\u8a0a\\\\u606f\\\\u91cf\", \"data\": {\"datasets\": [{\"data\": [0, 0]}], \"labels\": [\"\\\\u4f60\\\\u7684\\\\u540d\\\\u5b57\", \"\\\\u5c0d\\\\u65b9\"]}, \"options\": {\"innerRadius\": 0, \"legendPosition\": 1}});\\n    </script>\\n</body>\\n</html>\\n'"
      ]
     },
     "execution_count": 2,
     "metadata": {},
     "output_type": "execute_result"
    }
   ],
   "source": [
    "#encoding=utf-8\n",
    "import jieba\n",
    "import jieba.analyse\n",
    "from cutecharts.charts import Bar\n",
    "from cutecharts.charts import Pie\n",
    "\n",
    "\n",
    "content = open('data/LINE_Chat.txt', 'rb').read()\n",
    "words = jieba.lcut(content) # 使用jieba這個library對文檔內容進行分詞\n",
    "counts = {} # 此為由文字內容對應到出現次數的dictionary\n",
    "\n",
    "for word in words:\n",
    "    if len(word) <= 1: # 排除單字\n",
    "        continue\n",
    "    elif word.isdigit(): # 排除數字\n",
    "        continue\n",
    "    else:\n",
    "        counts[word] = counts.get(word, 0) + 1\n",
    "\n",
    "# 刪除不重要的詞語\n",
    "text=' '.join(words)\n",
    "excludes = {'\\r\\n','下午','上午','...'} # LINE紀錄會有很多換行，如不去掉分析完會顯示\n",
    "for exword in excludes:\n",
    "    try:\n",
    "        del(counts[exword])\n",
    "    except:\n",
    "        continue\n",
    "    \n",
    "items = list(counts.items())\n",
    "items.sort(key=lambda x: x[1], reverse=True) # 根據單詞出現次數進行排序\n",
    "\n",
    "# 將出現次數最多的幾個詞畫成圖表\n",
    "top_words = []\n",
    "top_counts = []\n",
    "i = -1\n",
    "while len(top_words) <= 10:\n",
    "    i += 1\n",
    "    word, count = items[i]\n",
    "    if word == \"通話\" or word == \"照片\" or word == \"影片\" or word == \"貼圖\" or word == \"你的名字\" or word == \"對方名字\":\n",
    "        continue\n",
    "    top_words.append(word)\n",
    "    top_counts.append(count)\n",
    "chart = Bar(\"關鍵字圖表\")\n",
    "chart.set_options(labels = top_words, x_label=\"單詞\", y_label=\"出現次數\")\n",
    "chart.add_series(\"次數\", top_counts)\n",
    "\n",
    "chart2 = Pie(\"通話/影片/照片數統計\")\n",
    "chart2.set_options(labels=['照片', '影片', '通話'])\n",
    "chart2.add_series([counts.get(\"照片\", 0), counts.get(\"影片\", 0), counts.get(\"通話\", 0)])\n",
    "\n",
    "chart3 = Pie(\"傳送訊息量\")\n",
    "chart3.set_options(labels=['你的名字', '對方'],inner_radius=0)\n",
    "chart3.add_series([counts.get(\"你的名字\", 0), counts.get(\"對方名字\", 0)])\n",
    "\n",
    "chart.render(dest=\"Line關鍵字.html\")\n",
    "chart2.render(dest=\"Line照片數統計.html\")\n",
    "chart3.render(dest=\"Line傳送訊息量.html\")"
   ]
  },
  {
   "cell_type": "code",
   "execution_count": null,
   "id": "5dfff9bc",
   "metadata": {},
   "outputs": [],
   "source": []
  }
 ],
 "metadata": {
  "kernelspec": {
   "display_name": "Python 3 (ipykernel)",
   "language": "python",
   "name": "python3"
  },
  "language_info": {
   "codemirror_mode": {
    "name": "ipython",
    "version": 3
   },
   "file_extension": ".py",
   "mimetype": "text/x-python",
   "name": "python",
   "nbconvert_exporter": "python",
   "pygments_lexer": "ipython3",
   "version": "3.11.3"
  }
 },
 "nbformat": 4,
 "nbformat_minor": 5
}
