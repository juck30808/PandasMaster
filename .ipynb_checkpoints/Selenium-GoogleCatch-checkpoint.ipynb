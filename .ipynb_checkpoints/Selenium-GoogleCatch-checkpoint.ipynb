{
 "cells": [
  {
   "cell_type": "code",
   "execution_count": 1,
   "metadata": {
    "id": "bG1gG-eBfNF3"
   },
   "outputs": [],
   "source": [
    "# %%capture\n",
    "# !pip install webdriver-manager\n",
    "# !pip install selenium\n",
    "# !pip install requests\n",
    "# !pip install mitmproxy\n",
    "# !pip install fake-useragent\n",
    "\n",
    "# # install chromium, its driver, and selenium\n",
    "# !apt-get update\n",
    "# !apt install chromium-chromedriver\n",
    "# !cp /usr/lib/chromium-browser/chromedriver /usr/bin\n",
    "# !pip install selenium\n",
    "# !pip install tqdl"
   ]
  },
  {
   "cell_type": "code",
   "execution_count": 2,
   "metadata": {
    "id": "RSPKLcGhDBV_"
   },
   "outputs": [],
   "source": [
    "# import os\n",
    "# import csv\n",
    "# import time\n",
    "# import requests\n",
    "# from time import sleep\n",
    "# from selenium import webdriver \n",
    "# from fake_useragent import UserAgent\n",
    "# from selenium.webdriver.common.by import By\n",
    "# from selenium.webdriver.chrome.options import Options\n",
    "# from selenium.webdriver.chrome.service import Service\n",
    "# from selenium.webdriver.support.ui import WebDriverWait\n",
    "# from webdriver_manager.chrome import ChromeDriverManager\n",
    "\n",
    "# from selenium.webdriver.support import expected_conditions as EC\n",
    "# #try\n",
    "# from selenium.common.exceptions import NoSuchElementException\n",
    "# from selenium.common.exceptions import StaleElementReferenceException\n",
    "# from selenium.webdriver.common.by import By\n",
    "# from selenium.webdriver.support.ui import WebDriverWait\n",
    "# from selenium.webdriver.support import expected_conditions\n",
    "\n"
   ]
  },
  {
   "cell_type": "code",
   "execution_count": 3,
   "metadata": {},
   "outputs": [],
   "source": [
    "# option = webdriver.ChromeOptions()\n",
    "# option.add_argument('--headless')\n",
    "# option.add_argument('--no-sandbox')\n",
    "# option.add_argument('--disable-dev-shm-usage')\n",
    "# option.add_argument('--disable-blink-features=AutomationControlled')  # 无头模式，防检测\n",
    "# #option.manage().timeouts().implicitlyWait(2000);\n",
    "# # option.manage().timeouts().pageLoadTimeout(40);\n",
    "# # option.manage().timeouts().setScriptTimeout(60);\n",
    "# option.add_argument('window-size=1920x1080')\n",
    "# option.add_argument('log-level=3')\n",
    "# option.add_argument(\"--user-agent=*****\")\n",
    "# option.add_argument(\"--disable-dev-shm-usage\")\n",
    "# option.add_argument(\"--no-sandbox\")\n",
    "# option.add_argument(\"lang=zh_CN.UTF-8\")\n",
    "# option.add_argument('--disable-gpu')\n",
    "# option.add_argument('--incognito')\n",
    "# option.add_argument(\"--window-size=1920,1050\")  # 专门应对无头浏览器中不能最大化屏幕的方案\n",
    "# option.add_experimental_option('excludeSwitches', ['enable-automation'])\n",
    "# option.add_experimental_option('useAutomationExtension', False)"
   ]
  },
  {
   "cell_type": "code",
   "execution_count": 4,
   "metadata": {},
   "outputs": [
    {
     "name": "stdout",
     "output_type": "stream",
     "text": [
      "[ The Length of Website to Crawl: 249 ]\n",
      "\n",
      "TAIWAN FU HSING INDUSTRIAL CO., LTD. 台灣公司網\n"
     ]
    }
   ],
   "source": [
    "import pandas as pd\n",
    "\n",
    "# open it, go to a website, and get results\n",
    "df = pd.read_excel(\"data/uspto_test.xlsx\")\n",
    "df.head()\n",
    "\n",
    "\n",
    "# Catch the first col\n",
    "CompList = df.iloc[:,0].tolist()  \n",
    "CompList\n",
    "print(\"[ The Length of Website to Crawl:\", len(CompList), \"]\\n\")\n",
    "\n",
    "\n",
    "# Print the CompList\n",
    "serachKey = []\n",
    "\n",
    "for i in CompList:\n",
    "    try: \n",
    "        serachKey.append(i + \" 台灣公司網\")\n",
    "    except:\n",
    "        serachKey.append(str(i) + \" 台灣公司網\")\n",
    "\n",
    "print(serachKey[0])"
   ]
  },
  {
   "cell_type": "code",
   "execution_count": 5,
   "metadata": {},
   "outputs": [],
   "source": [
    "#pip install webdriver-manager"
   ]
  },
  {
   "cell_type": "markdown",
   "metadata": {},
   "source": [
    "### 安裝你的 Chrome 版本\n",
    "- 根據你的 Chrome 版本，到這裡下載對應版本的 Chrome 跟 python 檔案放同個資料夾 https://chromedriver.chromium.org/downloads"
   ]
  },
  {
   "cell_type": "code",
   "execution_count": 6,
   "metadata": {},
   "outputs": [],
   "source": [
    "# wd = webdriver.Chrome('chromedriver', options=option)  # 把参数配置设置到浏览器中\n",
    "# waitWebDriver = WebDriverWait (wd, 250)  "
   ]
  },
  {
   "cell_type": "code",
   "execution_count": 7,
   "metadata": {
    "scrolled": true
   },
   "outputs": [
    {
     "name": "stderr",
     "output_type": "stream",
     "text": [
      "/var/folders/9q/486czkcn7lv5v0hwbt71twdc0000gn/T/ipykernel_8877/857839517.py:6: DeprecationWarning: executable_path has been deprecated, please pass in a Service object\n",
      "  wd = webdriver.Chrome(executable_path='./driver/chromedriver')\n"
     ]
    }
   ],
   "source": [
    "from selenium import webdriver\n",
    "from selenium.webdriver.common.by import By\n",
    "from webdriver_manager.chrome import ChromeDriverManager\n",
    "\n",
    "ans = []\n",
    "wd = webdriver.Chrome(executable_path='./data/chromedriver')"
   ]
  },
  {
   "cell_type": "markdown",
   "metadata": {},
   "source": [
    "### Catch data"
   ]
  },
  {
   "cell_type": "code",
   "execution_count": 8,
   "metadata": {},
   "outputs": [],
   "source": [
    "# pip install tqdm "
   ]
  },
  {
   "cell_type": "code",
   "execution_count": 9,
   "metadata": {
    "scrolled": true
   },
   "outputs": [],
   "source": [
    "# pip install bs4"
   ]
  },
  {
   "cell_type": "code",
   "execution_count": 132,
   "metadata": {},
   "outputs": [
    {
     "name": "stdout",
     "output_type": "stream",
     "text": [
      "in if\n"
     ]
    }
   ],
   "source": [
    "from tqdm import tqdm, trange\n",
    "from selenium.webdriver.common.keys import Keys\n",
    "from bs4 import BeautifulSoup\n",
    "import re\n",
    "\n",
    "i = serachKey[2]\n",
    "\n",
    "allResultTitle = \"\"\n",
    "wd.get(\"https://www.google.com/\")\n",
    "m = wd.find_element(By.NAME, \"q\")\n",
    "m.send_keys(i)\n",
    "m.send_keys(Keys.ENTER)\n",
    "\n",
    "allResultTitle = wd.find_elements(By.TAG_NAME, 'h3')\n",
    "result = \"\"\n",
    "trynum = 0\n",
    "\n",
    "allResultTitle[trynum].click()\n",
    "try:\n",
    "    if \"twincn.com\" in wd.current_url:\n",
    "        print(\"in if\")\n",
    "        #wd.back()\n",
    "        allResultTitle = wd.find_elements(By.TAG_NAME, 'h3')\n",
    "        result = allResultTitle[0]  #trynum\n",
    "    else:\n",
    "        print(\"else\")\n",
    "        #wd.back()\n",
    "        allResultTitle = wd.find_elements(By.TAG_NAME, 'h3')\n",
    "        trynum += 1\n",
    "except:\n",
    "    ans.append([\"\",\"\",\"\",\"\",\"\"])\n",
    "    print(\"Can't Find Company\")\n",
    "\n",
    "\n",
    "soup = BeautifulSoup(wd.page_source,'html.parser')\n",
    "items = soup.find_all('div',{'class':'contents text-center'})"
   ]
  },
  {
   "cell_type": "code",
   "execution_count": 153,
   "metadata": {},
   "outputs": [
    {
     "data": {
      "text/plain": [
       "<div class=\"contents text-center\">\n",
       "<h1 class=\"wow fadeInDown animated\" data-wow-delay=\"0.3s\" data-wow-duration=\"1000ms\" style=\"visibility: visible;-webkit-animation-duration: 1000ms; -moz-animation-duration: 1000ms; animation-duration: 1000ms;-webkit-animation-delay: 0.3s; -moz-animation-delay: 0.3s; animation-delay: 0.3s;\">\n",
       "<br/>\n",
       "                  台灣比菲多食品股份有限公司\n",
       "              </h1>\n",
       "<p class=\"lead wow fadeIn animated\" data-wow-delay=\"400ms\" data-wow-duration=\"1000ms\" style=\"visibility: visible;-webkit-animation-duration: 1000ms; -moz-animation-duration: 1000ms; animation-duration: 1000ms;-webkit-animation-delay: 400ms; -moz-animation-delay: 400ms; animation-delay: 400ms;\">\n",
       "                  TAIWAN BIFIDO FOODS INC.<br/>統編 12677724<br/>代表人 梁家銘<br/>電話 :04-23281789<br/>傳真 :04-23281089<br/>臺中市西屯區潮洋里市政北二路282號29樓<br/>29 F., No. 282, Shizheng N. 2nd Rd., Chaoyang Vil., Xitun Dist., Taichung City 40756, Taiwan (R.O.C.)<br/>核准設立<br/>(稅籍狀態:營業中)<br/>\n",
       "</p>\n",
       "</div>"
      ]
     },
     "execution_count": 153,
     "metadata": {},
     "output_type": "execute_result"
    }
   ],
   "source": [
    "items\n",
    "each = items[0]\n",
    "each"
   ]
  },
  {
   "cell_type": "code",
   "execution_count": 155,
   "metadata": {},
   "outputs": [
    {
     "data": {
      "text/plain": [
       "['統編 12677724',\n",
       " '代表人 梁家銘',\n",
       " '電話 :04-23281789',\n",
       " '傳真 :04-23281089',\n",
       " '臺中市西屯區潮洋里市政北二路282號29樓',\n",
       " '29 F., No. 282, Shizheng N. 2nd Rd., Chaoyang Vil., Xitun Dist., Taichung City 40756, Taiwan (R.O.C.)',\n",
       " '核准設立',\n",
       " '(稅籍狀態:營業中)',\n",
       " '\\n</p>']"
      ]
     },
     "execution_count": 155,
     "metadata": {},
     "output_type": "execute_result"
    }
   ],
   "source": [
    "head  = each.find('h1').text.replace(\" \", \"\").replace(\"\\n\", \"\")  #'台灣比菲多食品股份有限公司'\n",
    "br    = str(each.find('p')) #bs4.element.Tag to String\n",
    "brfind= br[br.find(\"統編\"):]\n",
    "brsplit= brfind.split('<br/>')\n",
    "brsplit"
   ]
  },
  {
   "cell_type": "code",
   "execution_count": null,
   "metadata": {},
   "outputs": [],
   "source": []
  },
  {
   "cell_type": "code",
   "execution_count": null,
   "metadata": {},
   "outputs": [],
   "source": []
  },
  {
   "cell_type": "code",
   "execution_count": 165,
   "metadata": {},
   "outputs": [
    {
     "data": {
      "text/plain": [
       "'統編 12677724'"
      ]
     },
     "execution_count": 165,
     "metadata": {},
     "output_type": "execute_result"
    }
   ],
   "source": [
    "a = brsplit[0]\n",
    "a"
   ]
  },
  {
   "cell_type": "code",
   "execution_count": 167,
   "metadata": {},
   "outputs": [
    {
     "ename": "SyntaxError",
     "evalue": "invalid syntax (4038488891.py, line 1)",
     "output_type": "error",
     "traceback": [
      "\u001b[0;36m  File \u001b[0;32m\"/var/folders/9q/486czkcn7lv5v0hwbt71twdc0000gn/T/ipykernel_8877/4038488891.py\"\u001b[0;36m, line \u001b[0;32m1\u001b[0m\n\u001b[0;31m    x = [if \"統編\" in s]\u001b[0m\n\u001b[0m         ^\u001b[0m\n\u001b[0;31mSyntaxError\u001b[0m\u001b[0;31m:\u001b[0m invalid syntax\n"
     ]
    }
   ],
   "source": [
    "x = [s for s in a if \"統編\" in s]\n",
    "print(x)"
   ]
  },
  {
   "cell_type": "code",
   "execution_count": 127,
   "metadata": {},
   "outputs": [
    {
     "data": {
      "text/plain": [
       "'統'"
      ]
     },
     "execution_count": 127,
     "metadata": {},
     "output_type": "execute_result"
    }
   ],
   "source": [
    "# column_names = [\"公司名稱\", \"統編\", \"電話\", \"地址\", \"URL\"]\n",
    "\n",
    "brs[0]\n",
    "for i in range(5):\n",
    "    a = [s for s in i if \"統編\" in s]\n",
    "    print(a)\n",
    "    \n",
    "\n",
    "a = [s for s in i if \"統編\" in s]\n",
    "    \n",
    "\n",
    "\n",
    "BrsSplit = re.split('\\n| ', brs)\n",
    "BrsSplit = [i.replace(\":\", \"\") for i in BrsSplit]\n",
    "\n",
    "\n",
    "lists = []\n",
    "\n",
    "a = [s for s in BrsSplit if \"代表人\" in s][0]\n",
    "lists.append([a.replace(\"代表人\", \"\")][0])\n",
    "\n",
    "b = [s for s in BrsSplit if \"傳真\" in s][0]\n",
    "b2= [b.replace(\"傳真\", \"\")][0]\n",
    "lists.append(b2)\n",
    "\n",
    "x = str(b2)\n",
    "print(x)\n",
    "c = [s for s in BrsSplit if \"號\" in s][0]\n",
    "lists.append([c.replace(x, \"\")][0])\n",
    "\n",
    "\n",
    "# lists = []\n",
    "# lists.append([s for s in BrsSplit if \"代表人\" in s][0])\n",
    "# lists.append([s for s in BrsSplit if \"傳真\" in s][0])\n",
    "# lists.append([s for s in BrsSplit if \"號\" in s][0])\n",
    "print(lists)"
   ]
  },
  {
   "cell_type": "code",
   "execution_count": null,
   "metadata": {},
   "outputs": [],
   "source": [
    "## Soup\n",
    "for each in items:\n",
    "    print(each)\n",
    "    head = each.find('h1').text.replace(\" \", \"\").replace(\"\\n\", \"\")\n",
    "    brs = each.find('p').text\n",
    "    BrsSplit = re.split('\\n| ', brs)\n",
    "    BrsSplit = [i.replace(\":\", \"\").replace(\",\", \"\") for i in BrsSplit if (i != \"\" and i != \"\\n\") ]\n",
    "    BrsSplit = [i.replace(\"No.\", \"\").replace(\"代表人\", \"\").replace(\"傳真\", \"\") for i in BrsSplit if (\"股票代號\" not in i and \"Inc\" not in i and (\"代表人\" in i or \"傳真\" in i or \"路\" in i or \"號\" in i))]\n",
    "    #print(BrsSplit)\n",
    "\n",
    "    BrsSplit[2] = BrsSplit[2].replace(\"(\", \"\").replace(\")\", \"\").replace(\"-\", \"\")\n",
    "    posAddStart = 0\n",
    "    for i, item in enumerate(BrsSplit[2]):\n",
    "        if not item.isdigit():\n",
    "            posAddStart = i\n",
    "            break\n",
    "    #print(BrsSplit[2][posAddStart:])\n",
    "\n",
    "    addressEnd = BrsSplit[2].find(\".\")\n",
    "    BrsSplit[2] = BrsSplit[2][posAddStart:] if addressEnd == -1 else BrsSplit[2][posAddStart:addressEnd]\n",
    "    res = [head, BrsSplit[0], BrsSplit[1], BrsSplit[2], wd.current_url]\n",
    "    print(res)\n",
    "    ans.append(res)"
   ]
  },
  {
   "cell_type": "code",
   "execution_count": null,
   "metadata": {},
   "outputs": [],
   "source": []
  },
  {
   "cell_type": "code",
   "execution_count": null,
   "metadata": {},
   "outputs": [],
   "source": []
  },
  {
   "cell_type": "code",
   "execution_count": null,
   "metadata": {},
   "outputs": [],
   "source": []
  },
  {
   "cell_type": "code",
   "execution_count": null,
   "metadata": {},
   "outputs": [],
   "source": [
    "# for i in serachKey:\n",
    "#     websearch(i)\n",
    "    \n",
    "x = serachKey[3]\n",
    "print(x)\n",
    "websearch(x)"
   ]
  },
  {
   "cell_type": "code",
   "execution_count": null,
   "metadata": {},
   "outputs": [],
   "source": [
    "for each in items:\n",
    "    head = each.find('h1').text.replace(\" \", \"\").replace(\"\\n\", \"\")\n",
    "    brs = each.find('p').text\n",
    "    BrsSplit = re.split('\\n| ', brs)\n",
    "    BrsSplit = [i.replace(\":\", \"\").replace(\",\", \"\") for i in BrsSplit if (i != \"\" and i != \"\\n\") ]\n",
    "    BrsSplit = [i.replace(\"No.\", \"\").replace(\"代表人\", \"\").replace(\"傳真\", \"\") for i in BrsSplit if (\"股票代號\" not in i and \"Inc\" not in i and (\"代表人\" in i or \"傳真\" in i or \"路\" in i or \"號\" in i))]\n",
    "    #print(BrsSplit)\n",
    "    \n",
    "    BrsSplit[2] = BrsSplit[2].replace(\"(\", \"\").replace(\")\", \"\").replace(\"-\", \"\")\n",
    "    posAddStart = 0\n",
    "    for i, item in enumerate(BrsSplit[2]):\n",
    "        if not item.isdigit():\n",
    "            posAddStart = i\n",
    "            break\n",
    "    #print(BrsSplit[2][posAddStart:])\n",
    "\n",
    "    addressEnd = BrsSplit[2].find(\".\")\n",
    "    BrsSplit[2] = BrsSplit[2][posAddStart:] if addressEnd == -1 else BrsSplit[2][posAddStart:addressEnd]\n",
    "    res = [head, BrsSplit[0], BrsSplit[1], BrsSplit[2], wd.current_url]\n",
    "    print(res)\n",
    "    ans.append(res)"
   ]
  },
  {
   "cell_type": "code",
   "execution_count": null,
   "metadata": {},
   "outputs": [],
   "source": [
    "# for i in tqdm(serachKey):\n",
    "#     soup = BeautifulSoup(wd.page_source,'html.parser')\n",
    "#     items = soup.find_all('div',{'class':'contents text-center'})\n",
    "#     #print(items)\n",
    "\n",
    "#     if (items):\n",
    "#         for each in items:\n",
    "#             try:\n",
    "#                 head = each.find('h1').text.replace(\" \", \"\").replace(\"\\n\", \"\")\n",
    "\n",
    "#                 brs = each.find('p').text\n",
    "                \n",
    "#                 BrsSplit = re.split('\\n| ', brs)\n",
    "#                 BrsSplit = [i.replace(\":\", \"\").replace(\",\", \"\") for i in BrsSplit if (i != \"\" and i != \"\\n\") ]\n",
    "#                 BrsSplit = [i.replace(\"No.\", \"\").replace(\"代表人\", \"\").replace(\"傳真\", \"\") for i in BrsSplit if (\"股票代號\" not in i and \"Inc\" not in i and (\"代表人\" in i or \"傳真\" in i or \"路\" in i or \"號\" in i))]\n",
    "#                 #print(BrsSplit)\n",
    "#                 BrsSplit[2] = BrsSplit[2].replace(\"(\", \"\").replace(\")\", \"\").replace(\"-\", \"\")\n",
    "                \n",
    "#                 posAddStart = 0\n",
    "#                 for i, item in enumerate(BrsSplit[2]):\n",
    "#                     if not item.isdigit():\n",
    "#                         posAddStart = i\n",
    "#                         break\n",
    "#                 #print(BrsSplit[2][posAddStart:])\n",
    "\n",
    "#                 addressEnd = BrsSplit[2].find(\".\")\n",
    "\n",
    "#                 BrsSplit[2] = BrsSplit[2][posAddStart:] if addressEnd == -1 else BrsSplit[2][posAddStart:addressEnd]\n",
    "\n",
    "#                 res = [head, BrsSplit[0], BrsSplit[1], BrsSplit[2], wd.current_url]\n",
    "\n",
    "#                 print(res)\n",
    "#                 ans.append(res)\n",
    "\n",
    "#             except:\n",
    "#                 try: \n",
    "#                     toAppend = [\"\",\"\",\"\",\"\",\"\"]\n",
    "#                     head = each.find('h1').text.replace(\" \", \"\").replace(\"\\n\", \"\")\n",
    "\n",
    "#                     brs = each.find('p').text\n",
    "#                     BrsSplit = re.split('\\n| ', brs)\n",
    "#                     BrsSplit = [i.replace(\":\", \"\").replace(\",\", \"\") for i in BrsSplit if (i != \"\" and i != \"\\n\") ]\n",
    "#                     BrsSplit = [i.replace(\"No.\", \"\").replace(\"代表人\", \"\").replace(\"傳真\", \"\") for i in BrsSplit if (\"股票代號\" not in i and \"Inc\" not in i and (\"代表人\" in i or \"傳真\" in i or \"路\" in i or \"號\" in i))]\n",
    "#                     BrsSplit\n",
    "\n",
    "#                     city = [\"臺北市\", \"新北市\", \"桃園市\", \"臺中市\", \"臺南市\", \"高雄市\", \"宜蘭縣\", \"新竹縣\", \n",
    "#                             \"苗栗縣\", \"彰化縣\", \"南投縣\", \"雲林縣\", \"嘉義縣\", \"屏東縣\", \"花蓮縣\", \"臺東縣\", \n",
    "#                             \"澎湖縣\", \"基隆市\", \"新竹市\", \"嘉義市\"]\n",
    "                    \n",
    "#                     address = \"\"\n",
    "#                     idNumber = \"\"\n",
    "\n",
    "#                     for item in BrsSplit:\n",
    "#                         for cityItem in city:\n",
    "#                             if cityItem in item:\n",
    "#                                 addressStart = item.find(cityItem)\n",
    "#                                 addressEnd = item.find(\".\")\n",
    "#                                 address = item[addressStart:] if addressEnd == -1 else item[addressStart:addressEnd]\n",
    "#                                 idNumber = item[:addressStart]\n",
    "#                                 break \n",
    "\n",
    "#                     # Company Name\n",
    "#                     toAppend[0] = head\n",
    "#                     # tax ID number\n",
    "#                     toAppend[1] = idNumber if idNumber.isdigit() else BrsSplit[0]\n",
    "#                     # Company Url\n",
    "#                     toAppend[-1] = wd.current_url\n",
    "#                     # Company Address\n",
    "#                     toAppend[-2] = address\n",
    "\n",
    "#                     print(toAppend)\n",
    "#                     ans.append(toAppend)\n",
    "#                 except:\n",
    "#                     toAppend = [\"\",\"\",\"\",\"\",\"\"]\n",
    "#                     head = each.find('h1').text.replace(\" \", \"\").replace(\"\\n\", \"\")\n",
    "\n",
    "#                     brs = each.find('p').text\n",
    "#                     BrsSplit = re.split('\\n| ', brs)\n",
    "#                     BrsSplit = [i.replace(\":\", \"\").replace(\",\", \"\") for i in BrsSplit if (i != \"\" and i != \"\\n\") ]\n",
    "#                     BrsSplit = [i.replace(\"No.\", \"\").replace(\"代表人\", \"\").replace(\"傳真\", \"\") for i in BrsSplit if (\"股票代號\" not in i and \"Inc\" not in i and (\"代表人\" in i or \"傳真\" in i or \"路\" in i or \"號\" in i))]\n",
    "#                     BrsSplit\n",
    "#                     #print(BrsSplit, \"!!!!!\")\n",
    "#                     print(\"Info Struct Incorrect\")\n",
    "#                     ans.append([\"\",\"\",\"\",\"\",\"\"])\n",
    "#     else:\n",
    "#         print(\"Info Not Avaliable\")\n",
    "#         ans.append([\"\",\"\",\"\",\"\",\"\"])"
   ]
  },
  {
   "cell_type": "code",
   "execution_count": null,
   "metadata": {
    "colab": {
     "base_uri": "https://localhost:8080/",
     "height": 382
    },
    "id": "k4ZhgHCsDLLh",
    "outputId": "b2d2bd9d-fab6-4088-a887-010a2b14f96f"
   },
   "outputs": [],
   "source": [
    "from tqdm import tqdm, trange\n",
    "from selenium.webdriver.common.keys import Keys\n",
    "from bs4 import BeautifulSoup\n",
    "import re\n",
    "\n",
    "for i in tqdm(serachKey):\n",
    "    #launch URL\n",
    "    wd.get(\"https://www.google.com/\")\n",
    "    #identify search box\n",
    "    m = wd.find_element(By.NAME, \"q\")\n",
    "    #enter search text\n",
    "    #print(i)\n",
    "    m.send_keys(i)\n",
    "\n",
    "    #perform Google search with Keys.ENTER\n",
    "    m.send_keys(Keys.ENTER)\n",
    "    \n",
    "    allResultTitle = wd.find_elements(By.TAG_NAME, 'h3')\n",
    "\n",
    "    #print(allResultLink)\n",
    "\n",
    "    result = \"\"\n",
    "\n",
    "    trynum = 0\n",
    "    while( trynum< len(allResultTitle)):\n",
    "        try:\n",
    "            allResultTitle[trynum].click()\n",
    "        except:\n",
    "            allResultTitle = wd.find_elements(By.TAG_NAME, 'h3')\n",
    "            trynum += 1\n",
    "            continue\n",
    "\n",
    "        if \"twincn.com\" in wd.current_url:\n",
    "            wd.back()\n",
    "            allResultTitle = wd.find_elements(By.TAG_NAME, 'h3')\n",
    "            result = allResultTitle[trynum]\n",
    "            #print(\"right\")\n",
    "            break\n",
    "        else:\n",
    "            wd.back()\n",
    "            allResultTitle = wd.find_elements(By.TAG_NAME, 'h3')\n",
    "            trynum += 1\n",
    "\n",
    "    try:\n",
    "        result.click()\n",
    "    except:\n",
    "        ans.append([\"\",\"\",\"\",\"\",\"\"])\n",
    "        print(\"Can't Find Company\")\n",
    "        continue\n",
    "    \n",
    "\n",
    "    soup = BeautifulSoup(wd.page_source,'html.parser')\n",
    "    items = soup.find_all('div',{'class':'contents text-center'})\n",
    "    #print(items)\n",
    "\n",
    "    if (items):\n",
    "        for each in items:\n",
    "            try:\n",
    "                head = each.find('h1').text.replace(\" \", \"\").replace(\"\\n\", \"\")\n",
    "\n",
    "                brs = each.find('p').text\n",
    "                \n",
    "                BrsSplit = re.split('\\n| ', brs)\n",
    "                BrsSplit = [i.replace(\":\", \"\").replace(\",\", \"\") for i in BrsSplit if (i != \"\" and i != \"\\n\") ]\n",
    "                BrsSplit = [i.replace(\"No.\", \"\").replace(\"代表人\", \"\").replace(\"傳真\", \"\") for i in BrsSplit if (\"股票代號\" not in i and \"Inc\" not in i and (\"代表人\" in i or \"傳真\" in i or \"路\" in i or \"號\" in i))]\n",
    "                #print(BrsSplit)\n",
    "                BrsSplit[2] = BrsSplit[2].replace(\"(\", \"\").replace(\")\", \"\").replace(\"-\", \"\")\n",
    "                \n",
    "                posAddStart = 0\n",
    "                for i, item in enumerate(BrsSplit[2]):\n",
    "                    if not item.isdigit():\n",
    "                        posAddStart = i\n",
    "                        break\n",
    "                #print(BrsSplit[2][posAddStart:])\n",
    "\n",
    "                addressEnd = BrsSplit[2].find(\".\")\n",
    "\n",
    "                BrsSplit[2] = BrsSplit[2][posAddStart:] if addressEnd == -1 else BrsSplit[2][posAddStart:addressEnd]\n",
    "\n",
    "                res = [head, BrsSplit[0], BrsSplit[1], BrsSplit[2], wd.current_url]\n",
    "\n",
    "                print(res)\n",
    "                ans.append(res)\n",
    "\n",
    "            except:\n",
    "                try: \n",
    "                    toAppend = [\"\",\"\",\"\",\"\",\"\"]\n",
    "                    head = each.find('h1').text.replace(\" \", \"\").replace(\"\\n\", \"\")\n",
    "\n",
    "                    brs = each.find('p').text\n",
    "                    BrsSplit = re.split('\\n| ', brs)\n",
    "                    BrsSplit = [i.replace(\":\", \"\").replace(\",\", \"\") for i in BrsSplit if (i != \"\" and i != \"\\n\") ]\n",
    "                    BrsSplit = [i.replace(\"No.\", \"\").replace(\"代表人\", \"\").replace(\"傳真\", \"\") for i in BrsSplit if (\"股票代號\" not in i and \"Inc\" not in i and (\"代表人\" in i or \"傳真\" in i or \"路\" in i or \"號\" in i))]\n",
    "                    BrsSplit\n",
    "\n",
    "                    city = [\"臺北市\", \"新北市\", \"桃園市\", \"臺中市\", \"臺南市\", \"高雄市\", \"宜蘭縣\", \"新竹縣\", \n",
    "                            \"苗栗縣\", \"彰化縣\", \"南投縣\", \"雲林縣\", \"嘉義縣\", \"屏東縣\", \"花蓮縣\", \"臺東縣\", \n",
    "                            \"澎湖縣\", \"基隆市\", \"新竹市\", \"嘉義市\"]\n",
    "                    \n",
    "                    address = \"\"\n",
    "                    idNumber = \"\"\n",
    "\n",
    "                    for item in BrsSplit:\n",
    "                        for cityItem in city:\n",
    "                            if cityItem in item:\n",
    "                                addressStart = item.find(cityItem)\n",
    "                                addressEnd = item.find(\".\")\n",
    "                                address = item[addressStart:] if addressEnd == -1 else item[addressStart:addressEnd]\n",
    "                                idNumber = item[:addressStart]\n",
    "                                break \n",
    "\n",
    "                    # Company Name\n",
    "                    toAppend[0] = head\n",
    "                    # tax ID number\n",
    "                    toAppend[1] = idNumber if idNumber.isdigit() else BrsSplit[0]\n",
    "                    # Company Url\n",
    "                    toAppend[-1] = wd.current_url\n",
    "                    # Company Address\n",
    "                    toAppend[-2] = address\n",
    "\n",
    "                    print(toAppend)\n",
    "                    ans.append(toAppend)\n",
    "                except:\n",
    "                    toAppend = [\"\",\"\",\"\",\"\",\"\"]\n",
    "                    head = each.find('h1').text.replace(\" \", \"\").replace(\"\\n\", \"\")\n",
    "\n",
    "                    brs = each.find('p').text\n",
    "                    BrsSplit = re.split('\\n| ', brs)\n",
    "                    BrsSplit = [i.replace(\":\", \"\").replace(\",\", \"\") for i in BrsSplit if (i != \"\" and i != \"\\n\") ]\n",
    "                    BrsSplit = [i.replace(\"No.\", \"\").replace(\"代表人\", \"\").replace(\"傳真\", \"\") for i in BrsSplit if (\"股票代號\" not in i and \"Inc\" not in i and (\"代表人\" in i or \"傳真\" in i or \"路\" in i or \"號\" in i))]\n",
    "                    BrsSplit\n",
    "                    #print(BrsSplit, \"!!!!!\")\n",
    "                    print(\"Info Struct Incorrect\")\n",
    "                    ans.append([\"\",\"\",\"\",\"\",\"\"])\n",
    "    else:\n",
    "        print(\"Info Not Avaliable\")\n",
    "        ans.append([\"\",\"\",\"\",\"\",\"\"])"
   ]
  },
  {
   "cell_type": "code",
   "execution_count": null,
   "metadata": {
    "id": "pVBgIcZqtBBo"
   },
   "outputs": [],
   "source": [
    "column_names = [\"公司名稱\", \"統編\", \"電話\", \"地址\", \"URL\"]\n",
    "data_df = pd.DataFrame(ans, columns=column_names)\n",
    "data_df.insert(0, '品牌名稱', CompList[:])\n",
    "data_df.to_excel(\"output.xlsx\")  "
   ]
  }
 ],
 "metadata": {
  "colab": {
   "collapsed_sections": [],
   "provenance": []
  },
  "kernelspec": {
   "display_name": "Python 3 (ipykernel)",
   "language": "python",
   "name": "python3"
  },
  "language_info": {
   "codemirror_mode": {
    "name": "ipython",
    "version": 3
   },
   "file_extension": ".py",
   "mimetype": "text/x-python",
   "name": "python",
   "nbconvert_exporter": "python",
   "pygments_lexer": "ipython3",
   "version": "3.10.9"
  }
 },
 "nbformat": 4,
 "nbformat_minor": 4
}
