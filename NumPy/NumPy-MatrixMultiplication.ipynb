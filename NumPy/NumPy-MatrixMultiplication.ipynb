{
 "cells": [
  {
   "cell_type": "markdown",
   "id": "00e1a420",
   "metadata": {},
   "source": [
    "# Matrix multiplication\n",
    "Since NumPy arrays are basically vectors and matrices, it makes sense that there are functions for dot products and matrix multiplication. Specifically, the main function to use is np.matmul, which takes two vector/matrix arrays as input and produces a dot product or matrix multiplication.\n",
    "\n",
    "The code below shows various examples of matrix multiplication. When both inputs are 1-D, the output is the dot product.\n",
    "\n",
    "Note that the dimensions of the two input matrices must be valid for a matrix multiplication. Specifically, the second dimension of the first matrix must equal the first dimension of the second matrix, otherwise np.matmul will result in a ValueError."
   ]
  },
  {
   "cell_type": "code",
   "execution_count": 28,
   "id": "7ffb1ade",
   "metadata": {},
   "outputs": [
    {
     "name": "stdout",
     "output_type": "stream",
     "text": [
      "27\n",
      "array([[  5,   4,  -7],\n",
      "       [  9,   8, -13],\n",
      "       [ 13,  12, -19]])\n",
      "array([[  4,   4],\n",
      "       [-11, -10]])\n"
     ]
    }
   ],
   "source": [
    "arr1 = np.array([1, 2, 3])\n",
    "arr2 = np.array([-3, 0, 10])\n",
    "print(np.matmul(arr1, arr2))\n",
    "\n",
    "arr3 = np.array([[1, 2], [3, 4], [5, 6]])\n",
    "arr4 = np.array([[-1, 0, 1], [3, 2, -4]])\n",
    "print(repr(np.matmul(arr3, arr4)))\n",
    "print(repr(np.matmul(arr4, arr3)))\n",
    "#print(repr(np.matmul(arr3, arr3))) # This will result in ValueError"
   ]
  },
  {
   "cell_type": "markdown",
   "id": "1e44077a",
   "metadata": {},
   "source": [
    "## Numerical Operation in Numpy\n",
    "### Statistics"
   ]
  },
  {
   "cell_type": "code",
   "execution_count": 29,
   "id": "5e062065",
   "metadata": {},
   "outputs": [
    {
     "data": {
      "text/plain": [
       "1.75"
      ]
     },
     "execution_count": 29,
     "metadata": {},
     "output_type": "execute_result"
    }
   ],
   "source": [
    "x = np.array([1, 2, 3, 1])\n",
    "y = np.array([[1, 2, 3], [5, 6, 1]])\n",
    "x.mean()"
   ]
  },
  {
   "cell_type": "code",
   "execution_count": 30,
   "id": "0adc811b",
   "metadata": {},
   "outputs": [
    {
     "data": {
      "text/plain": [
       "3.0"
      ]
     },
     "execution_count": 30,
     "metadata": {},
     "output_type": "execute_result"
    }
   ],
   "source": [
    "y.mean()"
   ]
  },
  {
   "cell_type": "code",
   "execution_count": 31,
   "id": "128261da",
   "metadata": {},
   "outputs": [
    {
     "data": {
      "text/plain": [
       "1.5"
      ]
     },
     "execution_count": 31,
     "metadata": {},
     "output_type": "execute_result"
    }
   ],
   "source": [
    "np.median(x)"
   ]
  },
  {
   "cell_type": "code",
   "execution_count": 32,
   "id": "521333a5",
   "metadata": {},
   "outputs": [
    {
     "data": {
      "text/plain": [
       "array([2., 5.])"
      ]
     },
     "execution_count": 32,
     "metadata": {},
     "output_type": "execute_result"
    }
   ],
   "source": [
    "np.median(y, axis=-1) # last axis"
   ]
  },
  {
   "cell_type": "code",
   "execution_count": 33,
   "id": "a9c1093d",
   "metadata": {},
   "outputs": [
    {
     "data": {
      "text/plain": [
       "0.82915619758885"
      ]
     },
     "execution_count": 33,
     "metadata": {},
     "output_type": "execute_result"
    }
   ],
   "source": [
    "x.std()          # full population standard dev."
   ]
  },
  {
   "cell_type": "code",
   "execution_count": 34,
   "id": "fe890a24",
   "metadata": {},
   "outputs": [
    {
     "data": {
      "text/plain": [
       "1.9148542155126762"
      ]
     },
     "execution_count": 34,
     "metadata": {},
     "output_type": "execute_result"
    }
   ],
   "source": [
    "y.std()"
   ]
  },
  {
   "cell_type": "markdown",
   "id": "22c309cd",
   "metadata": {},
   "source": [
    "## Funciones Universales Binarias\n",
    "\n",
    "### Son funciones que realizan operaciones elemento-a-elemento sobre datos en una   `ndarray`.  Las funciones _binarias_ toman dos arrays y devuelven uno o más arrays.\n",
    "\n",
    "|Función|Descripción|\n",
    "|-------|-----------|\n",
    "|`add`|Suma entre elementos correspondientes entre arrays|\n",
    "|`subtract`|Resta entre elementos de arrays|\n",
    "|`multiply`|Multiplica arrays|\n",
    "|`divide`, `floor_divide`|Divide o división truncada|\n",
    "|`array_equal`|Devuelve `True` si los elementos del array son iguales entre sí|\n",
    "|`power`|Eleva cada elemento del primer array a la potencia indicada en el segundo array|\n",
    "|`fmin`|Devuelve el mínimo entre cada elemento. `fmin` ignora los `NaN`|\n",
    "|`fmax`|Devuelve el máximo entre cada elemento. `fmax` ignora los `NaN`|\n"
   ]
  },
  {
   "cell_type": "code",
   "execution_count": 35,
   "id": "f8717c93",
   "metadata": {},
   "outputs": [],
   "source": [
    "import numpy as np\n",
    "\n",
    "arr = np.array([5,36,17,18,9])\n",
    "\n",
    "arr_2 = np.array([8,24,17,19,9])"
   ]
  },
  {
   "cell_type": "code",
   "execution_count": 36,
   "id": "ee85080e",
   "metadata": {},
   "outputs": [
    {
     "data": {
      "text/plain": [
       "array([ 8, 36, 17, 19,  9])"
      ]
     },
     "execution_count": 36,
     "metadata": {},
     "output_type": "execute_result"
    }
   ],
   "source": [
    "np.add(arr,arr_2)\n",
    "np.subtract(arr,arr_2)\n",
    "np.multiply(arr,arr_2)\n",
    "np.divide(arr,arr_2)\n",
    "np.array_equal(arr,arr_2)\n",
    "np.fmin(arr,arr_2)\n",
    "np.fmax(arr,arr_2)"
   ]
  },
  {
   "cell_type": "code",
   "execution_count": 37,
   "id": "9c7325fe",
   "metadata": {},
   "outputs": [
    {
     "data": {
      "text/plain": [
       "array([ 0,  2,  4,  6,  8, 10, 12, 14, 16, 18])"
      ]
     },
     "execution_count": 37,
     "metadata": {},
     "output_type": "execute_result"
    }
   ],
   "source": [
    "import numpy as np\n",
    "\n",
    "arr = np.arange(0,20,2)\n",
    "arr"
   ]
  },
  {
   "cell_type": "code",
   "execution_count": 38,
   "id": "65d8a7ea",
   "metadata": {},
   "outputs": [
    {
     "data": {
      "text/plain": [
       "array([[0.23445582, 0.26653842, 0.12572834],\n",
       "       [0.25010229, 0.03324453, 0.02416149],\n",
       "       [0.88455445, 0.76037819, 0.13973833],\n",
       "       [0.25167849, 0.90903415, 0.38220419]])"
      ]
     },
     "execution_count": 38,
     "metadata": {},
     "output_type": "execute_result"
    }
   ],
   "source": [
    "arr_flot = np.random.rand(4,3)\n",
    "arr_flot"
   ]
  },
  {
   "cell_type": "code",
   "execution_count": 39,
   "id": "c5e070a4",
   "metadata": {},
   "outputs": [
    {
     "data": {
      "text/plain": [
       "array([[44, 99, 57],\n",
       "       [15, 59, 94]])"
      ]
     },
     "execution_count": 39,
     "metadata": {},
     "output_type": "execute_result"
    }
   ],
   "source": [
    "arr_ent = np.random.randint(100, size=(2,3))\n",
    "arr_ent"
   ]
  },
  {
   "cell_type": "code",
   "execution_count": 40,
   "id": "13236db5",
   "metadata": {},
   "outputs": [
    {
     "data": {
      "text/plain": [
       "array([[6, 6, 6],\n",
       "       [6, 6, 6],\n",
       "       [6, 6, 6]])"
      ]
     },
     "execution_count": 40,
     "metadata": {},
     "output_type": "execute_result"
    }
   ],
   "source": [
    "arr_6 = np.full((3,3),6)\n",
    "arr_6"
   ]
  },
  {
   "cell_type": "code",
   "execution_count": 41,
   "id": "58cd0418",
   "metadata": {},
   "outputs": [
    {
     "data": {
      "text/plain": [
       "array([ 0,  2,  4,  6,  8, 10, 12, 14, 16, 18, 12, 13, 14, 51])"
      ]
     },
     "execution_count": 41,
     "metadata": {},
     "output_type": "execute_result"
    }
   ],
   "source": [
    "np.append(arr, [12,13,14,51])"
   ]
  },
  {
   "cell_type": "code",
   "execution_count": 42,
   "id": "127c4159",
   "metadata": {},
   "outputs": [
    {
     "data": {
      "text/plain": [
       "array([ 0,  2, 42, 34,  4,  6,  8, 10, 12, 14, 16, 18])"
      ]
     },
     "execution_count": 42,
     "metadata": {},
     "output_type": "execute_result"
    }
   ],
   "source": [
    "np.insert(arr,2, [42,34])"
   ]
  },
  {
   "cell_type": "code",
   "execution_count": 43,
   "id": "6ecbd23f",
   "metadata": {},
   "outputs": [
    {
     "data": {
      "text/plain": [
       "array([[99, 57],\n",
       "       [59, 94]])"
      ]
     },
     "execution_count": 43,
     "metadata": {},
     "output_type": "execute_result"
    }
   ],
   "source": [
    "np.delete(arr_ent,0,axis=1)"
   ]
  },
  {
   "cell_type": "markdown",
   "id": "deb379aa",
   "metadata": {},
   "source": [
    "## Mathematical and Statistical Methods"
   ]
  },
  {
   "cell_type": "code",
   "execution_count": 44,
   "id": "4b12c14a",
   "metadata": {},
   "outputs": [
    {
     "data": {
      "text/plain": [
       "array([[ 1.53236483,  0.58692537,  0.78494972],\n",
       "       [ 0.04972455,  1.27051515, -0.70445055],\n",
       "       [-1.44427245, -0.4656622 , -0.79012843],\n",
       "       [ 1.09596167,  0.80382464, -0.58788268],\n",
       "       [-0.04644753, -0.47055033,  0.82633891],\n",
       "       [ 0.85750403, -0.01989238, -0.96191195]])"
      ]
     },
     "execution_count": 44,
     "metadata": {},
     "output_type": "execute_result"
    }
   ],
   "source": [
    "import numpy as np\n",
    "data = np.random.randn(6, 3)\n",
    "data"
   ]
  },
  {
   "cell_type": "code",
   "execution_count": 45,
   "id": "bda0e37e",
   "metadata": {},
   "outputs": [
    {
     "data": {
      "text/plain": [
       "0.12871724329204323"
      ]
     },
     "execution_count": 45,
     "metadata": {},
     "output_type": "execute_result"
    }
   ],
   "source": [
    "data.mean()"
   ]
  },
  {
   "cell_type": "code",
   "execution_count": 46,
   "id": "2c48a423",
   "metadata": {},
   "outputs": [
    {
     "data": {
      "text/plain": [
       "-1.4442724505889528"
      ]
     },
     "execution_count": 46,
     "metadata": {},
     "output_type": "execute_result"
    }
   ],
   "source": [
    "data.min()"
   ]
  },
  {
   "cell_type": "code",
   "execution_count": 47,
   "id": "02bdfc7a",
   "metadata": {},
   "outputs": [
    {
     "data": {
      "text/plain": [
       "1.5323648314693674"
      ]
     },
     "execution_count": 47,
     "metadata": {},
     "output_type": "execute_result"
    }
   ],
   "source": [
    "data.max()"
   ]
  },
  {
   "cell_type": "code",
   "execution_count": 48,
   "id": "0d41cab4",
   "metadata": {},
   "outputs": [
    {
     "data": {
      "text/plain": [
       "2.316910379256778"
      ]
     },
     "execution_count": 48,
     "metadata": {},
     "output_type": "execute_result"
    }
   ],
   "source": [
    "data.sum()"
   ]
  },
  {
   "cell_type": "code",
   "execution_count": 49,
   "id": "2cd6f223",
   "metadata": {},
   "outputs": [
    {
     "data": {
      "text/plain": [
       "array([ 2.0448351 ,  1.70516026, -1.43308497])"
      ]
     },
     "execution_count": 49,
     "metadata": {},
     "output_type": "execute_result"
    }
   ],
   "source": [
    "data.sum(axis = 0)"
   ]
  },
  {
   "cell_type": "markdown",
   "id": "1d2c82bf",
   "metadata": {},
   "source": [
    "## Values"
   ]
  },
  {
   "cell_type": "code",
   "execution_count": 50,
   "id": "ca6272c8",
   "metadata": {},
   "outputs": [
    {
     "data": {
      "text/plain": [
       "array([0, 1, 2, 3, 4])"
      ]
     },
     "execution_count": 50,
     "metadata": {},
     "output_type": "execute_result"
    }
   ],
   "source": [
    "values = np.arange(5)\n",
    "values"
   ]
  },
  {
   "cell_type": "code",
   "execution_count": 51,
   "id": "120b1d3e",
   "metadata": {},
   "outputs": [
    {
     "data": {
      "text/plain": [
       "array([ 0,  1,  3,  6, 10])"
      ]
     },
     "execution_count": 51,
     "metadata": {},
     "output_type": "execute_result"
    }
   ],
   "source": [
    "values.cumsum()"
   ]
  },
  {
   "cell_type": "code",
   "execution_count": 52,
   "id": "45e136fd",
   "metadata": {},
   "outputs": [
    {
     "data": {
      "text/plain": [
       "1.4142135623730951"
      ]
     },
     "execution_count": 52,
     "metadata": {},
     "output_type": "execute_result"
    }
   ],
   "source": [
    "values.std()"
   ]
  },
  {
   "cell_type": "code",
   "execution_count": 53,
   "id": "4ff81422",
   "metadata": {},
   "outputs": [
    {
     "data": {
      "text/plain": [
       "array([[ 1,  2,  3,  4],\n",
       "       [ 6,  7,  8,  9],\n",
       "       [11, 12, 13, 14]])"
      ]
     },
     "execution_count": 53,
     "metadata": {},
     "output_type": "execute_result"
    }
   ],
   "source": [
    "matrix_array= np.array([np.arange(1, 5), np.arange(6, 10 ), np.arange(11, 15)])\n",
    "matrix_array"
   ]
  },
  {
   "cell_type": "code",
   "execution_count": 54,
   "id": "dc3f932f",
   "metadata": {},
   "outputs": [
    {
     "data": {
      "text/plain": [
       "array([[ 1,  2,  3,  4],\n",
       "       [ 7,  9, 11, 13],\n",
       "       [18, 21, 24, 27]])"
      ]
     },
     "execution_count": 54,
     "metadata": {},
     "output_type": "execute_result"
    }
   ],
   "source": [
    "matrix_array.cumsum(axis=0)"
   ]
  },
  {
   "cell_type": "code",
   "execution_count": 55,
   "id": "dd3d7a0e",
   "metadata": {},
   "outputs": [
    {
     "data": {
      "text/plain": [
       "array([[ 1,  3,  6, 10],\n",
       "       [ 6, 13, 21, 30],\n",
       "       [11, 23, 36, 50]])"
      ]
     },
     "execution_count": 55,
     "metadata": {},
     "output_type": "execute_result"
    }
   ],
   "source": [
    "matrix_array.cumsum(axis=1)"
   ]
  },
  {
   "cell_type": "code",
   "execution_count": 56,
   "id": "5b8c6a12",
   "metadata": {},
   "outputs": [
    {
     "data": {
      "text/plain": [
       "array([[    1,     2,     6,    24],\n",
       "       [    6,    42,   336,  3024],\n",
       "       [   11,   132,  1716, 24024]])"
      ]
     },
     "execution_count": 56,
     "metadata": {},
     "output_type": "execute_result"
    }
   ],
   "source": [
    "matrix_array.cumprod(axis=1)"
   ]
  },
  {
   "cell_type": "markdown",
   "id": "72d675e1",
   "metadata": {},
   "source": [
    "#### Write a NumPy program to convert an array to a float type.\n",
    "```\n",
    "Original array \n",
    "[1, 2, 3, 4] \n",
    "Array converted to a float type: \n",
    "[ 1. 2. 3. 4.] \n",
    "```"
   ]
  },
  {
   "cell_type": "code",
   "execution_count": 57,
   "id": "53e82f09",
   "metadata": {},
   "outputs": [
    {
     "name": "stdout",
     "output_type": "stream",
     "text": [
      "Original array\n",
      "[1, 2, 3, 4]\n",
      "Array converted to a float type:\n",
      "[1. 2. 3. 4.]\n"
     ]
    }
   ],
   "source": [
    "import numpy as np\n",
    "a = [1, 2, 3, 4]\n",
    "print(\"Original array\")\n",
    "print(a)\n",
    "x = np.asfarray(a)\n",
    "print(\"Array converted to a float type:\")\n",
    "print(x)"
   ]
  },
  {
   "cell_type": "markdown",
   "id": "aa3c9e87",
   "metadata": {},
   "source": [
    "#### Write a NumPy program to construct an array by repeating.\n",
    "```\n",
    "Original array \n",
    "[1, 2, 3, 4] \n",
    "Repeating 2 times \n",
    "[1 2 3 4 1 2 3 4]\n",
    "Repeating 3 times \n",
    "[1 2 3 4 1 2 3 4 1 2 3 4]\n",
    "```"
   ]
  },
  {
   "cell_type": "code",
   "execution_count": 58,
   "id": "92429b33",
   "metadata": {},
   "outputs": [
    {
     "data": {
      "text/plain": [
       "array([1, 2, 3, 4, 1, 2, 3, 4, 1, 2, 3, 4])"
      ]
     },
     "execution_count": 58,
     "metadata": {},
     "output_type": "execute_result"
    }
   ],
   "source": [
    "n=3\n",
    "x = np.tile(a, n)\n",
    "x"
   ]
  },
  {
   "cell_type": "markdown",
   "id": "535f8f48",
   "metadata": {},
   "source": [
    "#### How to tell if a given 2D array has null columns?"
   ]
  },
  {
   "cell_type": "code",
   "execution_count": 59,
   "id": "cfdfa5ef",
   "metadata": {},
   "outputs": [
    {
     "name": "stdout",
     "output_type": "stream",
     "text": [
      "[[2 1 2 0 0 0 1 1 1 1]\n",
      " [1 2 2 1 0 0 0 2 1 1]\n",
      " [0 1 2 1 0 1 0 1 1 1]\n",
      " [1 1 1 0 1 2 0 1 1 0]]\n",
      "Test whether the said array has null columns or not:\n",
      "False\n"
     ]
    }
   ],
   "source": [
    "nums = np.random.randint(0,3,(4,10))\n",
    "print(nums)\n",
    "print(\"Test whether the said array has null columns or not:\")\n",
    "print((~nums.any(axis=0)).any())"
   ]
  },
  {
   "cell_type": "markdown",
   "id": "c5400de1",
   "metadata": {},
   "source": [
    "#### Considering two arrays with shape (1,3) and (3,1), how to compute their sum using an iterator? \n",
    "```\n",
    "a= [\n",
    "[1,2,3]\n",
    "]\n",
    "\n",
    "b= [\n",
    "[4],\n",
    "[5],\n",
    "[6],\n",
    "]\n",
    "\n",
    "Expected Output = [[5 6 7]\n",
    "                   [6 7 8]\n",
    "                   [7 8 9]]\n",
    "```\n"
   ]
  },
  {
   "cell_type": "code",
   "execution_count": 60,
   "id": "16a99814",
   "metadata": {},
   "outputs": [
    {
     "name": "stdout",
     "output_type": "stream",
     "text": [
      "[[5 6 7]\n",
      " [6 7 8]\n",
      " [7 8 9]]\n"
     ]
    }
   ],
   "source": [
    "A = np.arange(1,4).reshape(3,1)\n",
    "B = np.arange(4,7).reshape(1,3)\n",
    "it = np.nditer([A,B,None])\n",
    "for x,y,z in it: z[...] = x + y\n",
    "print(it.operands[2])"
   ]
  },
  {
   "cell_type": "markdown",
   "id": "dc4527a8",
   "metadata": {},
   "source": [
    "##### Solve the linear equation\n",
    "##### 10x+4y = 3 \n",
    "#####  -x+5y = 2 "
   ]
  },
  {
   "cell_type": "code",
   "execution_count": 61,
   "id": "a8f2d62f",
   "metadata": {},
   "outputs": [
    {
     "data": {
      "text/plain": [
       "array([0.12962963, 0.42592593])"
      ]
     },
     "execution_count": 61,
     "metadata": {},
     "output_type": "execute_result"
    }
   ],
   "source": [
    "A = np.array([[10, 4], [-1, 5]])\n",
    "b = np.array([3,2])\n",
    "x = np.linalg.solve(A, b)\n",
    "x"
   ]
  },
  {
   "cell_type": "markdown",
   "id": "25c66dbd",
   "metadata": {},
   "source": [
    "##### Create a 4x4 matrix with random values and find inverse of it."
   ]
  },
  {
   "cell_type": "code",
   "execution_count": 62,
   "id": "7e159429",
   "metadata": {},
   "outputs": [
    {
     "name": "stdout",
     "output_type": "stream",
     "text": [
      "[[0.06423033 0.38420169 0.88963786 0.76388023]\n",
      " [0.01768124 0.66339348 0.81355441 0.2798899 ]\n",
      " [0.63429039 0.44389191 0.03804707 0.76503384]\n",
      " [0.8806063  0.17662332 0.57386344 0.7404968 ]]\n",
      "Inverse\n",
      "[[-1.32700006  0.51740982 -0.15549573  1.33398393]\n",
      " [-0.924363    1.49969141  1.11682187 -0.76712334]\n",
      " [ 0.22338188  0.44968438 -1.19893345  0.83825553]\n",
      " [ 1.62544657 -1.32150774  0.84767121 -0.70259181]]\n"
     ]
    }
   ],
   "source": [
    "x= np.random.random((4,4))\n",
    "print(x)\n",
    "print(\"Inverse\")\n",
    "y = np.linalg.inv(x) \n",
    "print(y)"
   ]
  },
  {
   "cell_type": "markdown",
   "id": "3c019fa2",
   "metadata": {},
   "source": [
    "##### Write a NumPy program to capitalize the first letter, lowercase, uppercase, swapcase, title-case of all the elements of a given array. \n",
    "\n",
    "##### Expected Output:\n",
    "#### Original Array:\n",
    "```\n",
    "['python' 'PHP' 'java' 'C++']\n",
    "\n",
    "Capitalized: ['Python' 'Php' 'Java' 'C++']\n",
    "Lowered: ['python' 'php' 'java' 'c++']\n",
    "Uppered: ['PYTHON' 'PHP' 'JAVA' 'C++']\n",
    "Swapcased: ['PYTHON' 'php' 'JAVA' 'c++']\n",
    "Titlecased: ['Python' 'Php' 'Java' 'C++']\n",
    "\n",
    "```"
   ]
  },
  {
   "cell_type": "code",
   "execution_count": 63,
   "id": "2aaabd58",
   "metadata": {},
   "outputs": [
    {
     "name": "stdout",
     "output_type": "stream",
     "text": [
      "Original Array:\n",
      "['python' 'PHP' 'java' 'C++']\n",
      "\n",
      "Capitalized:  ['Python' 'Php' 'Java' 'C++']\n",
      "Lowered:  ['python' 'php' 'java' 'c++']\n",
      "Uppered:  ['PYTHON' 'PHP' 'JAVA' 'C++']\n",
      "Swapcased:  ['PYTHON' 'php' 'JAVA' 'c++']\n",
      "Titlecased:  ['Python' 'Php' 'Java' 'C++']\n"
     ]
    },
    {
     "name": "stderr",
     "output_type": "stream",
     "text": [
      "/var/folders/9q/486czkcn7lv5v0hwbt71twdc0000gn/T/ipykernel_4551/3400659836.py:1: DeprecationWarning: `np.str` is a deprecated alias for the builtin `str`. To silence this warning, use `str` by itself. Doing this will not modify any behavior and is safe. If you specifically wanted the numpy scalar type, use `np.str_` here.\n",
      "Deprecated in NumPy 1.20; for more details and guidance: https://numpy.org/devdocs/release/1.20.0-notes.html#deprecations\n",
      "  x = np.array(['python', 'PHP', 'java', 'C++'], dtype=np.str)\n"
     ]
    }
   ],
   "source": [
    "x = np.array(['python', 'PHP', 'java', 'C++'], dtype=np.str)\n",
    "print(\"Original Array:\")\n",
    "print(x)\n",
    "capitalized_case = np.char.capitalize(x)\n",
    "lowered_case = np.char.lower(x)\n",
    "uppered_case = np.char.upper(x)\n",
    "swapcased_case = np.char.swapcase(x)\n",
    "titlecased_case = np.char.title(x)\n",
    "print(\"\\nCapitalized: \", capitalized_case)\n",
    "print(\"Lowered: \", lowered_case)\n",
    "print(\"Uppered: \", uppered_case)\n",
    "print(\"Swapcased: \", swapcased_case)\n",
    "print(\"Titlecased: \", titlecased_case)"
   ]
  },
  {
   "cell_type": "markdown",
   "id": "a15f688c",
   "metadata": {},
   "source": [
    "##### Write a NumPy program to split the element of a given array with spaces\n",
    "```\n",
    "Original Array:\n",
    " ['apple mangoes peach grapes']\n",
    "Output\n",
    "[list(['apple', 'mangoes', 'peach', 'grapes'])]\n",
    "```"
   ]
  },
  {
   "cell_type": "code",
   "execution_count": 64,
   "id": "ba124626",
   "metadata": {},
   "outputs": [
    {
     "name": "stdout",
     "output_type": "stream",
     "text": [
      "\n",
      "Split the element of the said array with spaces: \n",
      "[list(['apple', 'mangoes', 'peach', 'grapes'])]\n"
     ]
    }
   ],
   "source": [
    "x= np.array(['apple mangoes peach grapes'])\n",
    "r = np.char.split(x)\n",
    "print(\"\\nSplit the element of the said array with spaces: \")\n",
    "print(r)"
   ]
  },
  {
   "cell_type": "markdown",
   "id": "59c25106",
   "metadata": {},
   "source": [
    "##### Write a NumPy program to flatten the array and then find its median.\n",
    "```\n",
    "[[ 0 1 2 3 4 5]\n",
    "[ 6 7 8 9 10 11]]\n",
    "```"
   ]
  },
  {
   "cell_type": "code",
   "execution_count": 65,
   "id": "2a98dc84",
   "metadata": {},
   "outputs": [
    {
     "name": "stdout",
     "output_type": "stream",
     "text": [
      "[ 0  1  2  3  4  5  6  7  8  9 10 11]\n"
     ]
    },
    {
     "data": {
      "text/plain": [
       "5.5"
      ]
     },
     "execution_count": 65,
     "metadata": {},
     "output_type": "execute_result"
    }
   ],
   "source": [
    "x= np.array([[0,1,2,3,4,5],[6,7,8,9,10,11]])\n",
    "flat=x.flatten()\n",
    "print(flat)\n",
    "np.median(flat)"
   ]
  },
  {
   "cell_type": "markdown",
   "id": "24cd932b",
   "metadata": {},
   "source": [
    "##### Write a NumPy program to compute the 80th percentile for all elements in a given array along the second axis.\n",
    "```\n",
    "Original array:\n",
    "[[ 0  1  2  3  4  5]\n",
    " [ 6  7  8  9 10 11]]\n",
    "\n",
    "80th percentile for all elements of the said array along the second axis:\n",
    "[ 4. 10.]\n",
    "```"
   ]
  },
  {
   "cell_type": "code",
   "execution_count": 66,
   "id": "a95ec10b",
   "metadata": {},
   "outputs": [
    {
     "data": {
      "text/plain": [
       "array([ 4., 10.])"
      ]
     },
     "execution_count": 66,
     "metadata": {},
     "output_type": "execute_result"
    }
   ],
   "source": [
    "x= np.array([[0,1,2,3,4,5],[6,7,8,9,10,11]])\n",
    "np.percentile(x,80,axis=1)"
   ]
  },
  {
   "cell_type": "code",
   "execution_count": 67,
   "id": "260daa2a",
   "metadata": {},
   "outputs": [
    {
     "data": {
      "text/plain": [
       "array([0, 1, 2, 3, 4, 5, 6, 7, 8, 9])"
      ]
     },
     "execution_count": 67,
     "metadata": {},
     "output_type": "execute_result"
    }
   ],
   "source": [
    "import numpy as np\n",
    "array_4 = np.array(list(range(10)))\n",
    "array_4"
   ]
  },
  {
   "cell_type": "code",
   "execution_count": 68,
   "id": "2fe7ef47",
   "metadata": {},
   "outputs": [
    {
     "data": {
      "text/plain": [
       "array([ 0,  1,  2,  3,  4,  5,  6,  7,  8,  9, 10, 11, 12, 13, 14],\n",
       "      dtype=int32)"
      ]
     },
     "execution_count": 68,
     "metadata": {},
     "output_type": "execute_result"
    }
   ],
   "source": [
    "array_5 = np.array(list(range(15)), dtype = np.int32)\n",
    "array_5"
   ]
  }
 ],
 "metadata": {
  "kernelspec": {
   "display_name": "Python 3 (ipykernel)",
   "language": "python",
   "name": "python3"
  },
  "language_info": {
   "codemirror_mode": {
    "name": "ipython",
    "version": 3
   },
   "file_extension": ".py",
   "mimetype": "text/x-python",
   "name": "python",
   "nbconvert_exporter": "python",
   "pygments_lexer": "ipython3",
   "version": "3.10.9"
  }
 },
 "nbformat": 4,
 "nbformat_minor": 5
}
